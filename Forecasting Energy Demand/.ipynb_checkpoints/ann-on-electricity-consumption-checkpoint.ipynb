{
 "cells": [
  {
   "cell_type": "code",
   "execution_count": 2,
   "metadata": {
    "_cell_guid": "f7a4189f-ef08-461a-a868-c28f5253c8e3",
    "_uuid": "f5de3e8c5fdf8ce1469d437b500cb1f259ce2d38"
   },
   "outputs": [],
   "source": [
    "# This Python 3 environment comes with many helpful analytics libraries installed\n",
    "# It is defined by the kaggle/python docker image: https://github.com/kaggle/docker-python\n",
    "# For example, here's several helpful packages to load in \n",
    "\n",
    "import numpy as np # linear algebra\n",
    "import pandas as pd # data processing, CSV file I/O (e.g. pd.read_csv)\n",
    "\n",
    "# Input data files are available in the \"../input/\" directory.\n",
    "# For example, running this (by clicking run or pressing Shift+Enter) will list the files in the input directory\n",
    "\n",
    "# from subprocess import check_output\n",
    "# print(check_output([\"ls\", \"../input\"]).decode(\"utf8\"))\n",
    "\n",
    "# Any results you write to the current directory are saved as output."
   ]
  },
  {
   "cell_type": "markdown",
   "metadata": {},
   "source": [
    "**My Functions**"
   ]
  },
  {
   "cell_type": "code",
   "execution_count": 3,
   "metadata": {},
   "outputs": [],
   "source": [
    "def datetounix(df):\n",
    "    # Initialising unixtime list\n",
    "    unixtime = []\n",
    "    \n",
    "    # Running a loop to convert Date to seconds\n",
    "    for date in df['datetime']:\n",
    "        unixtime.append(time.mktime(date.timetuple()))\n",
    "    \n",
    "    # Replacing Date with unixtime list\n",
    "    df['datetime'] = unixtime\n",
    "    return(df)"
   ]
  },
  {
   "cell_type": "markdown",
   "metadata": {},
   "source": [
    "**Import Libraries**"
   ]
  },
  {
   "cell_type": "code",
   "execution_count": 5,
   "metadata": {},
   "outputs": [
    {
     "ename": "ModuleNotFoundError",
     "evalue": "No module named 'keras'",
     "output_type": "error",
     "traceback": [
      "\u001b[0;31m---------------------------------------------------------------------------\u001b[0m",
      "\u001b[0;31mModuleNotFoundError\u001b[0m                       Traceback (most recent call last)",
      "\u001b[0;32m<ipython-input-5-3cbd0cdcb089>\u001b[0m in \u001b[0;36m<module>\u001b[0;34m\u001b[0m\n\u001b[1;32m      9\u001b[0m \u001b[0;32mimport\u001b[0m \u001b[0moperator\u001b[0m\u001b[0;34m\u001b[0m\u001b[0;34m\u001b[0m\u001b[0m\n\u001b[1;32m     10\u001b[0m \u001b[0;32mfrom\u001b[0m \u001b[0msklearn\u001b[0m\u001b[0;34m.\u001b[0m\u001b[0mpreprocessing\u001b[0m \u001b[0;32mimport\u001b[0m \u001b[0mStandardScaler\u001b[0m\u001b[0;34m\u001b[0m\u001b[0;34m\u001b[0m\u001b[0m\n\u001b[0;32m---> 11\u001b[0;31m \u001b[0;32mimport\u001b[0m \u001b[0mkeras\u001b[0m\u001b[0;34m\u001b[0m\u001b[0;34m\u001b[0m\u001b[0m\n\u001b[0m\u001b[1;32m     12\u001b[0m \u001b[0;32mfrom\u001b[0m \u001b[0mkeras\u001b[0m\u001b[0;34m.\u001b[0m\u001b[0mmodels\u001b[0m \u001b[0;32mimport\u001b[0m \u001b[0mSequential\u001b[0m\u001b[0;34m\u001b[0m\u001b[0;34m\u001b[0m\u001b[0m\n\u001b[1;32m     13\u001b[0m \u001b[0;32mfrom\u001b[0m \u001b[0mkeras\u001b[0m\u001b[0;34m.\u001b[0m\u001b[0mlayers\u001b[0m \u001b[0;32mimport\u001b[0m \u001b[0mDense\u001b[0m\u001b[0;34m\u001b[0m\u001b[0;34m\u001b[0m\u001b[0m\n",
      "\u001b[0;31mModuleNotFoundError\u001b[0m: No module named 'keras'"
     ]
    }
   ],
   "source": [
    "# import libs\n",
    "import os\n",
    "import pandas as pd\n",
    "import numpy as np\n",
    "import matplotlib.pyplot as plt\n",
    "from datetime import datetime\n",
    "import time\n",
    "from sklearn.ensemble import ExtraTreesClassifier\n",
    "import operator\n",
    "from sklearn.preprocessing import StandardScaler\n",
    "import keras\n",
    "from keras.models import Sequential\n",
    "from keras.layers import Dense\n",
    "\n",
    "\n",
    "# read train dataframe\n",
    "# file_path = os.path.join(os.path.abspath(''), 'train.csv')\n",
    "df_train = pd.read_csv(\"train.csv\", encoding='ISO-8859-1', engine='c')\n",
    "\n",
    "# read test dataframe\n",
    "# file_path = os.path.join(os.path.abspath(''), 'test.csv')\n",
    "df_test = pd.read_csv(\"test.csv\", encoding='ISO-8859-1', engine='c')\n",
    "df_train.info()"
   ]
  },
  {
   "cell_type": "markdown",
   "metadata": {},
   "source": [
    "**Data Cleaning**\n",
    "\n",
    "Uploading and cleaning of data."
   ]
  },
  {
   "cell_type": "code",
   "execution_count": 4,
   "metadata": {},
   "outputs": [
    {
     "name": "stdout",
     "output_type": "stream",
     "text": [
      "<class 'pandas.core.frame.DataFrame'>\n",
      "RangeIndex: 8568 entries, 0 to 8567\n",
      "Data columns (total 7 columns):\n",
      "ID             8568 non-null int64\n",
      "datetime       8568 non-null datetime64[ns]\n",
      "temperature    8568 non-null float64\n",
      "var1           8568 non-null float64\n",
      "pressure       8568 non-null float64\n",
      "windspeed      8568 non-null float64\n",
      "var2           8568 non-null object\n",
      "dtypes: datetime64[ns](1), float64(4), int64(1), object(1)\n",
      "memory usage: 468.6+ KB\n"
     ]
    }
   ],
   "source": [
    "# Converting to datetime\n",
    "df_train['datetime'] = pd.to_datetime(df_train['datetime'])\n",
    "df_test['datetime'] = pd.to_datetime(df_test['datetime'])\n",
    "df_test.info()"
   ]
  },
  {
   "cell_type": "code",
   "execution_count": 5,
   "metadata": {
    "collapsed": true
   },
   "outputs": [],
   "source": [
    "# Creating features from DateTime for train data\n",
    "\n",
    "df_test['Weekday'] = [datetime.weekday(date) for date in df_test.datetime]\n",
    "df_test['Year'] = [date.year for date in df_test.datetime]\n",
    "df_test['Month'] = [date.month for date in df_test.datetime]\n",
    "df_test['Day'] = [date.day for date in df_test.datetime]\n",
    "df_test['Time'] = [((date.hour*60+(date.minute))*60)+date.second for date in df_test.datetime]\n",
    "df_test['Week'] = [date.week for date in df_test.datetime]\n",
    "df_test['Quarter'] = [date.quarter for date in df_test.datetime]\n",
    "\n",
    "# Creating features from DateTime for test data\n",
    "\n",
    "df_train['Weekday'] = [datetime.weekday(date) for date in df_train.datetime]\n",
    "df_train['Year'] = [date.year for date in df_train.datetime]\n",
    "df_train['Month'] = [date.month for date in df_train.datetime]\n",
    "df_train['Day'] = [date.day for date in df_train.datetime]\n",
    "df_train['Time'] = [((date.hour*60+(date.minute))*60)+date.second for date in df_train.datetime]\n",
    "df_train['Week'] = [date.week for date in df_train.datetime]\n",
    "df_train['Quarter'] = [date.quarter for date in df_train.datetime]"
   ]
  },
  {
   "cell_type": "markdown",
   "metadata": {},
   "source": [
    "**Data Preparation**"
   ]
  },
  {
   "cell_type": "code",
   "execution_count": 6,
   "metadata": {
    "collapsed": true
   },
   "outputs": [],
   "source": [
    "# Create Dummy Variables for Train set\n",
    "df_train.loc[df_train.var2 == 'A', 'var2A'] = 1\n",
    "df_train.loc[df_train.var2 == 'B', 'var2B'] = 1\n",
    "\n",
    "df_train['var2A'].fillna(0, inplace=True)\n",
    "df_train['var2B'].fillna(0, inplace=True)\n",
    "\n",
    "df_train.drop(['var2'], axis=1, inplace=True)\n",
    "\n",
    "# Create Dummy Variables for Test set\n",
    "df_test.loc[df_test.var2 == 'A', 'var2A'] = 1\n",
    "df_test.loc[df_test.var2 == 'B', 'var2B'] = 1\n",
    "\n",
    "df_test['var2A'].fillna(0, inplace=True)\n",
    "df_test['var2B'].fillna(0, inplace=True)\n",
    "\n",
    "df_test.drop(['var2'], axis=1, inplace=True)\n",
    "\n",
    "# Creating X_test\n",
    "X_test = datetounix(df_test).drop(['ID'], axis=1).values\n",
    "\n",
    "# Remove target column from the df\n",
    "df_train_features = df_train.drop(['electricity_consumption', 'ID'], axis=1)\n",
    "\n",
    "# Convet timestamp to seconds\n",
    "df_train_features = datetounix(df_train_features)\n",
    "\n",
    "# store features in X array\n",
    "X = df_train_features.values\n",
    "y = df_train['electricity_consumption'].values"
   ]
  },
  {
   "cell_type": "markdown",
   "metadata": {},
   "source": [
    "**Visualisation of features**"
   ]
  },
  {
   "cell_type": "code",
   "execution_count": 7,
   "metadata": {},
   "outputs": [
    {
     "name": "stdout",
     "output_type": "stream",
     "text": [
      "Feature ranking:\n",
      "feature 0 : datetime (0.146346)\n",
      "feature 4 : windspeed (0.143115)\n",
      "feature 9 : Time (0.137190)\n",
      "feature 3 : pressure (0.131343)\n",
      "feature 2 : var1 (0.125100)\n",
      "feature 1 : temperature (0.123927)\n",
      "feature 8 : Day (0.065961)\n",
      "feature 5 : Weekday (0.059611)\n",
      "feature 10 : Week (0.033042)\n",
      "feature 6 : Year (0.016492)\n",
      "feature 7 : Month (0.010959)\n",
      "feature 12 : var2A (0.003817)\n",
      "feature 11 : Quarter (0.002616)\n",
      "feature 13 : var2B (0.000480)\n"
     ]
    },
    {
     "data": {
      "image/png": "[encoded data removed]",
      "text/plain": [
       "<matplotlib.figure.Figure at 0x7f32ae1fb358>"
      ]
     },
     "metadata": {},
     "output_type": "display_data"
    }
   ],
   "source": [
    "# create an instance for tree feature selection\n",
    "tree_clf = ExtraTreesClassifier()\n",
    "\n",
    "# fit the model\n",
    "tree_clf.fit(X, y)\n",
    "\n",
    "# Preparing variables\n",
    "importances = tree_clf.feature_importances_\n",
    "feature_names = df_train_features.columns.tolist()\n",
    "\n",
    "feature_imp_dict = dict(zip(feature_names, importances))\n",
    "sorted_features = sorted(feature_imp_dict.items(), key=operator.itemgetter(1), reverse=True)\n",
    "\n",
    "indices = np.argsort(importances)[::-1]\n",
    "\n",
    "# Print the feature ranking\n",
    "print(\"Feature ranking:\")\n",
    "\n",
    "for f in range(X.shape[1]):\n",
    "    print(\"feature %d : %s (%f)\" % (indices[f], sorted_features[f][0], sorted_features[f][1]))\n",
    "\n",
    "# Plot the feature importances of the forest\n",
    "plt.figure(0)\n",
    "plt.title(\"Feature importances\")\n",
    "plt.bar(range(X.shape[1]), importances[indices],\n",
    "       color=\"r\", align=\"center\")\n",
    "plt.xticks(range(X.shape[1]), indices)\n",
    "plt.xlim([-1, X.shape[1]])\n",
    "plt.show()"
   ]
  },
  {
   "cell_type": "code",
   "execution_count": 8,
   "metadata": {},
   "outputs": [
    {
     "data": {
      "text/plain": [
       "array([ 0.03465347,  0.02970297,  0.04207921, ...,  0.03217822,\n",
       "        0.02970297,  0.02970297])"
      ]
     },
     "execution_count": 8,
     "metadata": {},
     "output_type": "execute_result"
    }
   ],
   "source": [
    "############ Data Scaling ###################\n",
    "sc = StandardScaler()\n",
    "X = sc.fit_transform(X)\n",
    "X_test = sc.transform(X_test)\n",
    "\n",
    "y_norm = (y - min(y))/(max(y) - min(y))\n",
    "y_norm"
   ]
  },
  {
   "cell_type": "markdown",
   "metadata": {},
   "source": [
    "**Implementing ANN**"
   ]
  },
  {
   "cell_type": "code",
   "execution_count": 9,
   "metadata": {},
   "outputs": [
    {
     "name": "stdout",
     "output_type": "stream",
     "text": [
      "Epoch 1/100\n",
      "26496/26496 [==============================] - 4s 159us/step - loss: 0.0142 - mean_absolute_error: 0.0762\n",
      "Epoch 2/100\n",
      "26496/26496 [==============================] - 4s 155us/step - loss: 0.0048 - mean_absolute_error: 0.0492\n",
      "Epoch 3/100\n",
      "26496/26496 [==============================] - 4s 158us/step - loss: 0.0046 - mean_absolute_error: 0.0481\n",
      "Epoch 4/100\n",
      "26496/26496 [==============================] - 4s 157us/step - loss: 0.0045 - mean_absolute_error: 0.0472\n",
      "Epoch 5/100\n",
      "26496/26496 [==============================] - 4s 157us/step - loss: 0.0044 - mean_absolute_error: 0.0465\n",
      "Epoch 6/100\n",
      "26496/26496 [==============================] - 4s 156us/step - loss: 0.0043 - mean_absolute_error: 0.0459\n",
      "Epoch 7/100\n",
      "26496/26496 [==============================] - 4s 156us/step - loss: 0.0042 - mean_absolute_error: 0.0455\n",
      "Epoch 8/100\n",
      "26496/26496 [==============================] - 4s 154us/step - loss: 0.0042 - mean_absolute_error: 0.0452\n",
      "Epoch 9/100\n",
      "26496/26496 [==============================] - 4s 155us/step - loss: 0.0041 - mean_absolute_error: 0.0451\n",
      "Epoch 10/100\n",
      "26496/26496 [==============================] - 4s 155us/step - loss: 0.0041 - mean_absolute_error: 0.0450\n",
      "Epoch 11/100\n",
      "26496/26496 [==============================] - 4s 158us/step - loss: 0.0041 - mean_absolute_error: 0.0449\n",
      "Epoch 12/100\n",
      "26496/26496 [==============================] - 4s 154us/step - loss: 0.0041 - mean_absolute_error: 0.0448\n",
      "Epoch 13/100\n",
      "26496/26496 [==============================] - 4s 154us/step - loss: 0.0041 - mean_absolute_error: 0.0447\n",
      "Epoch 14/100\n",
      "26496/26496 [==============================] - 4s 153us/step - loss: 0.0041 - mean_absolute_error: 0.0448\n",
      "Epoch 15/100\n",
      "26496/26496 [==============================] - 4s 153us/step - loss: 0.0041 - mean_absolute_error: 0.0447\n",
      "Epoch 16/100\n",
      "26496/26496 [==============================] - 4s 156us/step - loss: 0.0041 - mean_absolute_error: 0.0446\n",
      "Epoch 17/100\n",
      "26496/26496 [==============================] - 4s 154us/step - loss: 0.0041 - mean_absolute_error: 0.0445\n",
      "Epoch 18/100\n",
      "26496/26496 [==============================] - 4s 153us/step - loss: 0.0041 - mean_absolute_error: 0.0445\n",
      "Epoch 19/100\n",
      "26496/26496 [==============================] - 4s 155us/step - loss: 0.0040 - mean_absolute_error: 0.0444\n",
      "Epoch 20/100\n",
      "26496/26496 [==============================] - 4s 157us/step - loss: 0.0040 - mean_absolute_error: 0.0443\n",
      "Epoch 21/100\n",
      "26496/26496 [==============================] - 4s 155us/step - loss: 0.0040 - mean_absolute_error: 0.0443\n",
      "Epoch 22/100\n",
      "26496/26496 [==============================] - 4s 157us/step - loss: 0.0040 - mean_absolute_error: 0.0443\n",
      "Epoch 23/100\n",
      "26496/26496 [==============================] - 4s 155us/step - loss: 0.0040 - mean_absolute_error: 0.0442\n",
      "Epoch 24/100\n",
      "26496/26496 [==============================] - 4s 157us/step - loss: 0.0040 - mean_absolute_error: 0.0442\n",
      "Epoch 25/100\n",
      "26496/26496 [==============================] - 4s 155us/step - loss: 0.0040 - mean_absolute_error: 0.0441\n",
      "Epoch 26/100\n",
      "26496/26496 [==============================] - 4s 156us/step - loss: 0.0040 - mean_absolute_error: 0.0441\n",
      "Epoch 27/100\n",
      "26496/26496 [==============================] - 4s 156us/step - loss: 0.0040 - mean_absolute_error: 0.0441\n",
      "Epoch 28/100\n",
      "26496/26496 [==============================] - 4s 157us/step - loss: 0.0040 - mean_absolute_error: 0.0440\n",
      "Epoch 29/100\n",
      "26496/26496 [==============================] - 4s 155us/step - loss: 0.0040 - mean_absolute_error: 0.0440\n",
      "Epoch 30/100\n",
      "26496/26496 [==============================] - 4s 158us/step - loss: 0.0040 - mean_absolute_error: 0.0441\n",
      "Epoch 31/100\n",
      "26496/26496 [==============================] - 4s 156us/step - loss: 0.0040 - mean_absolute_error: 0.0440\n",
      "Epoch 32/100\n",
      "26496/26496 [==============================] - 4s 155us/step - loss: 0.0039 - mean_absolute_error: 0.0439\n",
      "Epoch 33/100\n",
      "26496/26496 [==============================] - 4s 155us/step - loss: 0.0039 - mean_absolute_error: 0.0439\n",
      "Epoch 34/100\n",
      "26496/26496 [==============================] - 4s 152us/step - loss: 0.0039 - mean_absolute_error: 0.0438\n",
      "Epoch 35/100\n",
      "26496/26496 [==============================] - 4s 156us/step - loss: 0.0039 - mean_absolute_error: 0.0439\n",
      "Epoch 36/100\n",
      "26496/26496 [==============================] - 4s 154us/step - loss: 0.0039 - mean_absolute_error: 0.0438\n",
      "Epoch 37/100\n",
      "26496/26496 [==============================] - 4s 155us/step - loss: 0.0039 - mean_absolute_error: 0.0439\n",
      "Epoch 38/100\n",
      "26496/26496 [==============================] - 4s 155us/step - loss: 0.0039 - mean_absolute_error: 0.0438\n",
      "Epoch 39/100\n",
      "26496/26496 [==============================] - 4s 156us/step - loss: 0.0039 - mean_absolute_error: 0.0437\n",
      "Epoch 40/100\n",
      "26496/26496 [==============================] - 4s 156us/step - loss: 0.0039 - mean_absolute_error: 0.0438\n",
      "Epoch 41/100\n",
      "26496/26496 [==============================] - 4s 152us/step - loss: 0.0039 - mean_absolute_error: 0.0437\n",
      "Epoch 42/100\n",
      "26496/26496 [==============================] - 4s 154us/step - loss: 0.0039 - mean_absolute_error: 0.0436\n",
      "Epoch 43/100\n",
      "26496/26496 [==============================] - 4s 155us/step - loss: 0.0039 - mean_absolute_error: 0.0436\n",
      "Epoch 44/100\n",
      "26496/26496 [==============================] - 4s 156us/step - loss: 0.0039 - mean_absolute_error: 0.0436\n",
      "Epoch 45/100\n",
      "26496/26496 [==============================] - 4s 153us/step - loss: 0.0039 - mean_absolute_error: 0.0435\n",
      "Epoch 46/100\n",
      "26496/26496 [==============================] - 4s 154us/step - loss: 0.0039 - mean_absolute_error: 0.0436\n",
      "Epoch 47/100\n",
      "26496/26496 [==============================] - 4s 153us/step - loss: 0.0039 - mean_absolute_error: 0.0436\n",
      "Epoch 48/100\n",
      "26496/26496 [==============================] - 4s 155us/step - loss: 0.0039 - mean_absolute_error: 0.0435\n",
      "Epoch 49/100\n",
      "26496/26496 [==============================] - 4s 154us/step - loss: 0.0039 - mean_absolute_error: 0.0435\n",
      "Epoch 50/100\n",
      "26496/26496 [==============================] - 4s 153us/step - loss: 0.0039 - mean_absolute_error: 0.0435\n",
      "Epoch 51/100\n",
      "26496/26496 [==============================] - 4s 155us/step - loss: 0.0039 - mean_absolute_error: 0.0435\n",
      "Epoch 52/100\n",
      "26496/26496 [==============================] - 4s 156us/step - loss: 0.0039 - mean_absolute_error: 0.0435\n",
      "Epoch 53/100\n",
      "26496/26496 [==============================] - 4s 153us/step - loss: 0.0039 - mean_absolute_error: 0.0436\n",
      "Epoch 54/100\n",
      "26496/26496 [==============================] - 4s 155us/step - loss: 0.0039 - mean_absolute_error: 0.0435\n",
      "Epoch 55/100\n",
      "26496/26496 [==============================] - 4s 155us/step - loss: 0.0039 - mean_absolute_error: 0.0435\n",
      "Epoch 56/100\n",
      "26496/26496 [==============================] - 4s 156us/step - loss: 0.0039 - mean_absolute_error: 0.0435\n",
      "Epoch 57/100\n",
      "26496/26496 [==============================] - 4s 157us/step - loss: 0.0039 - mean_absolute_error: 0.0435\n",
      "Epoch 58/100\n",
      "26496/26496 [==============================] - 4s 157us/step - loss: 0.0039 - mean_absolute_error: 0.0435\n",
      "Epoch 59/100\n",
      "26496/26496 [==============================] - 4s 159us/step - loss: 0.0039 - mean_absolute_error: 0.0435\n",
      "Epoch 60/100\n",
      "26496/26496 [==============================] - 4s 154us/step - loss: 0.0039 - mean_absolute_error: 0.0435\n",
      "Epoch 61/100\n",
      "26496/26496 [==============================] - 4s 158us/step - loss: 0.0039 - mean_absolute_error: 0.0434\n",
      "Epoch 62/100\n",
      "26496/26496 [==============================] - 4s 157us/step - loss: 0.0039 - mean_absolute_error: 0.0435\n",
      "Epoch 63/100\n",
      "26496/26496 [==============================] - 4s 154us/step - loss: 0.0039 - mean_absolute_error: 0.0435\n",
      "Epoch 64/100\n",
      "26496/26496 [==============================] - 4s 156us/step - loss: 0.0039 - mean_absolute_error: 0.0434\n",
      "Epoch 65/100\n",
      "26496/26496 [==============================] - 4s 157us/step - loss: 0.0039 - mean_absolute_error: 0.0435\n",
      "Epoch 66/100\n",
      "26496/26496 [==============================] - 4s 158us/step - loss: 0.0039 - mean_absolute_error: 0.0434\n",
      "Epoch 67/100\n",
      "26496/26496 [==============================] - 4s 158us/step - loss: 0.0038 - mean_absolute_error: 0.0434\n",
      "Epoch 68/100\n",
      "26496/26496 [==============================] - 5s 182us/step - loss: 0.0039 - mean_absolute_error: 0.0434\n",
      "Epoch 69/100\n",
      "26496/26496 [==============================] - 5s 182us/step - loss: 0.0038 - mean_absolute_error: 0.0434\n",
      "Epoch 70/100\n",
      "26496/26496 [==============================] - 5s 179us/step - loss: 0.0038 - mean_absolute_error: 0.0434\n",
      "Epoch 71/100\n",
      "26496/26496 [==============================] - 5s 180us/step - loss: 0.0038 - mean_absolute_error: 0.0434\n",
      "Epoch 72/100\n",
      "16350/26496 [=================>............] - ETA: 1s - loss: 0.0039 - mean_absolute_error: 0.0438"
     ]
    }
   ],
   "source": [
    "# Initialising the ANN\n",
    "classifier = Sequential()\n",
    "\n",
    "# Adding the input layer and the first hidden layer\n",
    "classifier.add(Dense(units = 10, kernel_initializer = 'uniform', activation = 'relu', input_dim = 14))\n",
    "\n",
    "# Adding the second hidden layer\n",
    "classifier.add(Dense(units = 5, kernel_initializer = 'uniform', activation = 'relu'))\n",
    "\n",
    "# Adding the output layer\n",
    "classifier.add(Dense(units = 1, kernel_initializer = 'uniform', activation = 'sigmoid'))\n",
    "\n",
    "# Compiling the ANN\n",
    "classifier.compile(optimizer = 'adam', loss = 'mean_squared_error', metrics = ['mae'])\n",
    "\n",
    "# Fitting the ANN to the training set\n",
    "classifier.fit(X, y_norm, batch_size = 10, epochs = 100)\n",
    "\n",
    "# Part 3 - Making the predictions and evaluating the model\n",
    "\n",
    "# Predicting the Test set results\n",
    "y_pred = classifier.predict(X_test)\n",
    "y_pred = (y_pred * (max(y) - min(y))) + min(y)\n",
    "\n",
    "predictions = [int(elem) for elem in y_pred]\n",
    "\n",
    "df_solution = pd.DataFrame()\n",
    "df_solution['ID'] = df_test.ID\n",
    "\n",
    "# Prepare Solution dataframe\n",
    "df_solution['electricity_consumption'] = predictions\n",
    "df_solution['electricity_consumption'].unique()\n",
    "\n",
    "df_solution"
   ]
  }
 ],
 "metadata": {
  "kernelspec": {
   "display_name": "venv",
   "language": "python",
   "name": "venv"
  },
  "language_info": {
   "codemirror_mode": {
    "name": "ipython",
    "version": 3
   },
   "file_extension": ".py",
   "mimetype": "text/x-python",
   "name": "python",
   "nbconvert_exporter": "python",
   "pygments_lexer": "ipython3",
   "version": "3.7.3"
  }
 },
 "nbformat": 4,
 "nbformat_minor": 1
}
