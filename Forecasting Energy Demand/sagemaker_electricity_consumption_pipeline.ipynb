{
 "cells": [
  {
   "cell_type": "markdown",
   "metadata": {},
   "source": [
    "**Librarys**"
   ]
  },
  {
   "cell_type": "code",
   "execution_count": 105,
   "metadata": {},
   "outputs": [],
   "source": [
    "import os\n",
    "import sys\n",
    "\n",
    "import pandas as pd\n",
    "import numpy as np\n",
    "import matplotlib.pyplot as plt\n",
    "import plotly.express as px\n",
    "import seaborn as sns\n",
    "# from pandas_profiling import ProfileReport\n",
    "from typing import List\n",
    "from dateutil.relativedelta import relativedelta\n",
    "\n",
    "from sklearn.model_selection import train_test_split, TimeSeriesSplit, GridSearchCV\n",
    "\n",
    "# Amazon SDK library\n",
    "import boto3    # doc - https://boto3.amazonaws.com/v1/documentation/api/latest/index.html\n",
    "import sagemaker\n",
    "from sagemaker.serializers import CSVSerializer\n",
    "from sagemaker import get_execution_role \n",
    "# Need s3fs to backgroud pandas IO engine\n",
    "import s3fs\n",
    "\n",
    "# import shap"
   ]
  },
  {
   "cell_type": "code",
   "execution_count": 106,
   "metadata": {},
   "outputs": [],
   "source": [
    "# import sys\n",
    "\n",
    "# !{sys.executable} -m pip install -qU awscli boto3 \"sagemaker>=1.71.0,<2.0.0\"\n",
    "# !{sys.executable} -m pip install sagemaker-experiments"
   ]
  },
  {
   "cell_type": "code",
   "execution_count": 112,
   "metadata": {},
   "outputs": [],
   "source": [
    "# upgrade for not error\n",
    "if pd.__version__ != '1.3.1':\n",
    "    print(pd.__version__)\n",
    "    !pip3 install pandas --upgrade\n",
    "if sns.__version__ != '0.11.1':\n",
    "    print(sns.__version__)\n",
    "    !pip3 install seaborn --upgrade\n",
    "if sagemaker.__version__ != '2.50.0':\n",
    "    print(sagemaker.__version__)\n",
    "    !pip install --upgrade sagemaker\n",
    "# restart notebook to reset"
   ]
  },
  {
   "cell_type": "markdown",
   "metadata": {},
   "source": [
    "**Functions**"
   ]
  },
  {
   "cell_type": "code",
   "execution_count": 113,
   "metadata": {},
   "outputs": [],
   "source": [
    "def date_features(train):\n",
    "    # Features Temporais:\n",
    "\n",
    "    # Hora - hour\n",
    "    # Dia da semana, dia do mes, dia do ano - isocalenda()[\"day\"], day, dayofwear\n",
    "    # Semana do Ano - isocalendar()[\"week\"]\n",
    "    # Mes - month\n",
    "    # Juncao de Mes, sazonalidade 4 meses - quarter\n",
    "    # Ano - year\n",
    "\n",
    "    train[\"hour\"] = train.index.hour\n",
    "    train[\"dow\"]= train.index.isocalendar()['day'].astype(\"int64\")\n",
    "    train[\"dom\"] = train.index.day\n",
    "    # train[\"doy\"] = train.index.dayofyear\n",
    "    train[\"woy\"] = train.index.isocalendar()['week'].astype(\"int64\")\n",
    "    train[\"month\"] = train.index.month\n",
    "    train[\"quarter\"] = train.index.quarter\n",
    "    train[\"year\"] = train.index.isocalendar()['year'].astype(\"int64\")\n",
    "\n",
    "    train[\"date\"] = train.index\n",
    "    \n",
    "    return train\n",
    "\n",
    "def remove_outliers(train):\n",
    "    \n",
    "    # Filter outliers\n",
    "\n",
    "    # Q3 = np.quantile(train[\"electricity_consumption\"], 0.75)\n",
    "    # Q1 = np.quantile(train[\"electricity_consumption\"], 0.25)\n",
    "    # IQR = Q3 - Q1\n",
    "\n",
    "    # train = train[train[\"electricity_consumption\"] < (Q3 + 1.5* IQR)].copy()\n",
    "    # train = train[train[\"electricity_consumption\"] > (Q1 + 1.5* IQR)].copy()\n",
    "\n",
    "    size_bef = train.shape[0]\n",
    "    train = train[train[\"electricity_consumption\"] < train.electricity_consumption.quantile(0.98)].copy()\n",
    "    size_aft = train.shape[0]\n",
    "    print(f\"take out  {size_bef- size_aft} outliers\")\n",
    "    \n",
    "    return train\n",
    "\n",
    "def shift_cols(df, cols_2lag: List[str], lags: int):\n",
    "    # Realiza o shift (lag) de uma coluna passada no numero de lags\n",
    "    df = df.sort_index()\n",
    "    lags = np.arange(1, lags+1).tolist()\n",
    "    for column in cols_2lag:\n",
    "        for lag in lags:\n",
    "            df[f\"{column}_lag_{lag}\"] = df[column].shift(lag)\n",
    "    return df\n",
    "\n",
    "\n",
    "def ma_cols(df, cols_2ma: List[str], mas: int):\n",
    "    # Realiza o shift (lag) de uma coluna passada no numero de lags\n",
    "    df = df.sort_index()\n",
    "    mas = np.arange(1, mas+1).tolist()\n",
    "    for column in cols_2ma:\n",
    "        for ma in mas:\n",
    "            df[f\"{column}_ma_{ma}\"] = df[column].rolling(ma).mean()\n",
    "    return df\n",
    "\n",
    "def select_features(train, forbiden=[], cat_remove=False):\n",
    "    if cat_remove:\n",
    "        for col in train.select_dtypes(include=['object', 'category', 'datetime']).columns:\n",
    "            train = train.drop(columns=col)\n",
    "    \n",
    "    for col in forbiden:\n",
    "        train = train.drop(columns=col, errors='ignore')\n",
    "    \n",
    "    return train\n",
    "\n",
    "def mean_absolute_percentage_error(y_true, y_pred, decimals=2):\n",
    "    # Calcula o MAPE\n",
    "    y_true, y_pred = np.array(y_true), np.array(y_pred)\n",
    "    mape = np.mean(np.abs((y_true - y_pred) / y_true)) * 100\n",
    "    mape = round(mape, decimals)\n",
    "    print(mape)\n",
    "    return mape\n",
    "\n",
    "\n",
    "def grid_search(model, grid, X_train, y_train):\n",
    "    # grid search for hiperparamns\n",
    "    grid_search_result = model.grid_search(grid, \n",
    "                                           X=X_train, \n",
    "                                           y=y_train, \n",
    "                                           plot=True)\n",
    "    return grid_search_result\n",
    "\n",
    "\n",
    "def grid_search_tscv(model, X_train, y_train, grid, tscv, scoring='neg_mean_absolute_percentage_error'):\n",
    "    # Grid Search in time series:\n",
    "    # https://www.kaggle.com/kashnitsky/correct-time-aware-cross-validation-scheme\n",
    "    tscv = TimeSeriesSplit(n_splits=10)\n",
    "\n",
    "    clf = GridSearchCV(model, grid, cv=tscv, return_train_score=False, scoring=scoring)\n",
    "    clf.fit(X_train, y_train)\n",
    "        \n",
    "    return clf.best_score_, clf.best_params_\n",
    "\n",
    "def plot_predict(X_valid, y_valid, predict_val, name_model, return_dataframe=False, hist=False, structure_plot_cols=[]):    \n",
    "    predict_df = pd.DataFrame(y_valid)\n",
    "    predict_df[\"predict\"] = predict_val\n",
    "    predict_df[\"datetime\"] = predict_df.index\n",
    "\n",
    "    predict_df.columns = [\"Demanda Real\", \"Demanda Projetada\", \"Date\"]\n",
    "    \n",
    "\n",
    "    fig = px.line(\n",
    "        predict_df,\n",
    "        x='Date',\n",
    "        y=[\"Demanda Real\", \"Demanda Projetada\"],\n",
    "        title=f\"Demanda Horária de Energia (MW) [{predict_df.Date.dt.year.min()} - {predict_df.Date.dt.year.max()}] - Modelagem {name_model}\"\n",
    "    )\n",
    "\n",
    "    fig.update_layout(yaxis_title=\"Demanda Elétrica (MW)\", xaxis_title=\"Data e Hora (yyyy/mm/dd hh:MM)\")\n",
    "    fig.update_traces(line=dict(width=1))\n",
    "    \n",
    "    fig.write_html(\"file.html\")\n",
    "    \n",
    "    fig.show()\n",
    "    \n",
    "    if hist:\n",
    "        predict_df[\"Erro Percent\"] = 100*((predict_df[\"Demanda Real\"] - predict_df[\"Demanda Projetada\"])/predict_df[\"Demanda Real\"])\n",
    "        fig = px.histogram(predict_df, x=\"Erro Percent\")\n",
    "        fig.show()\n",
    "    \n",
    "    if structure_plot_cols:\n",
    "        for col in structure_plot_cols:\n",
    "                X_valid['electricity_consumption'] = y_valid\n",
    "                X_valid['predict_val'] = predict_val\n",
    "                print(col)\n",
    "                _ = X_valid.groupby([col])[['electricity_consumption', 'predict_val']].median().reset_index()\n",
    "                fig = px.line(\n",
    "                    _,\n",
    "                    x=col,\n",
    "                    y=[\"electricity_consumption\", \"predict_val\"],\n",
    "                )\n",
    "                fig.show()\n",
    "    \n",
    "    \n",
    "    if return_dataframe:\n",
    "        return predict_df\n",
    "    \n",
    "\n",
    "def plot_shap(model, X_train):\n",
    "    # Shap -documentation:https://shap.readthedocs.io/en/latest/example_notebooks/tabular_examples/tree_based_models/Census%20income%20classification%20with%20LightGBM.html\n",
    "    explainer = shap.TreeExplainer(model)\n",
    "    shap_values = explainer.shap_values(X_train)\n",
    "    shap.summary_plot(shap_values, X_train)"
   ]
  },
  {
   "cell_type": "markdown",
   "metadata": {},
   "source": [
    "## Business Understand\n",
    "\n",
    "Referencias:\n",
    "\n",
    "1- EAD - [e.g. link](https://www.kaggle.com/pmarcelino/comprehensive-data-exploration-with-python)\n",
    "\n",
    "CRISP-DM esolhido no lugar do SEMMA e do KDD\n",
    "\n",
    "Problema:\n",
    "\n",
    "- Entender o comportamento de consumo de energia Elétrica e as relações intrinsecas nos dados que permitem a projeção\n",
    "  do consumo de carga para horizontes futuros, a partir do entendimento dos padrões escondidos na modelagem\n",
    "\n",
    "Dataset:\n",
    "\n",
    "- Dataset de consumo horiario de energia\n",
    "\n",
    "## **Data Understand**\n",
    "\n",
    "O entendimento dos dados esta baseado nos seguintes passos:\n",
    "\n",
    "1. **Understand the problem**. We'll look at each variable and do a philosophical analysis about their meaning and importance for this problem.\n",
    "2. **Univariable study**. We'll just focus on the dependent variable ('SalePrice') and try to know a little bit more about it.\n",
    "3. **Multivariate study**. We'll try to understand how the dependent variable and independent variables relate.\n",
    "4. **Basic cleaning**. We'll clean the dataset and handle the missing data, outliers and categorical variables.\n",
    "5. **Test assumptions**. We'll check if our data meets the assumptions required by most multivariate techniques.\n",
    "\n",
    "Por ser um problema de série temporal temos como **Features**:\n",
    "\n",
    "- **Comportamento Sazonal** (influencia de grupo ou de tempo) + **Compartamento Externo**"
   ]
  },
  {
   "cell_type": "markdown",
   "metadata": {},
   "source": [
    "## Data cleaning\n",
    "\n",
    "Checks:\n",
    "\n",
    "- Tipo de Dados\n",
    "- Valores Nulos Faltantes\n",
    "- Repetidos\n",
    "- Valores Zero/ Discrepantes"
   ]
  },
  {
   "cell_type": "code",
   "execution_count": 114,
   "metadata": {},
   "outputs": [
    {
     "data": {
      "text/html": [
       "<div>\n",
       "<style scoped>\n",
       "    .dataframe tbody tr th:only-of-type {\n",
       "        vertical-align: middle;\n",
       "    }\n",
       "\n",
       "    .dataframe tbody tr th {\n",
       "        vertical-align: top;\n",
       "    }\n",
       "\n",
       "    .dataframe thead th {\n",
       "        text-align: right;\n",
       "    }\n",
       "</style>\n",
       "<table border=\"1\" class=\"dataframe\">\n",
       "  <thead>\n",
       "    <tr style=\"text-align: right;\">\n",
       "      <th></th>\n",
       "      <th>ID</th>\n",
       "      <th>datetime</th>\n",
       "      <th>temperature</th>\n",
       "      <th>var1</th>\n",
       "      <th>pressure</th>\n",
       "      <th>windspeed</th>\n",
       "      <th>var2</th>\n",
       "      <th>electricity_consumption</th>\n",
       "    </tr>\n",
       "  </thead>\n",
       "  <tbody>\n",
       "    <tr>\n",
       "      <th>0</th>\n",
       "      <td>0</td>\n",
       "      <td>2013-07-01 00:00:00</td>\n",
       "      <td>-11.4</td>\n",
       "      <td>-17.1</td>\n",
       "      <td>1003.0</td>\n",
       "      <td>571.910</td>\n",
       "      <td>A</td>\n",
       "      <td>216.0</td>\n",
       "    </tr>\n",
       "    <tr>\n",
       "      <th>1</th>\n",
       "      <td>1</td>\n",
       "      <td>2013-07-01 01:00:00</td>\n",
       "      <td>-12.1</td>\n",
       "      <td>-19.3</td>\n",
       "      <td>996.0</td>\n",
       "      <td>575.040</td>\n",
       "      <td>A</td>\n",
       "      <td>210.0</td>\n",
       "    </tr>\n",
       "    <tr>\n",
       "      <th>2</th>\n",
       "      <td>2</td>\n",
       "      <td>2013-07-01 02:00:00</td>\n",
       "      <td>-12.9</td>\n",
       "      <td>-20.0</td>\n",
       "      <td>1000.0</td>\n",
       "      <td>578.435</td>\n",
       "      <td>A</td>\n",
       "      <td>225.0</td>\n",
       "    </tr>\n",
       "    <tr>\n",
       "      <th>3</th>\n",
       "      <td>3</td>\n",
       "      <td>2013-07-01 03:00:00</td>\n",
       "      <td>-11.4</td>\n",
       "      <td>-17.1</td>\n",
       "      <td>995.0</td>\n",
       "      <td>582.580</td>\n",
       "      <td>A</td>\n",
       "      <td>216.0</td>\n",
       "    </tr>\n",
       "    <tr>\n",
       "      <th>4</th>\n",
       "      <td>4</td>\n",
       "      <td>2013-07-01 04:00:00</td>\n",
       "      <td>-11.4</td>\n",
       "      <td>-19.3</td>\n",
       "      <td>1005.0</td>\n",
       "      <td>586.600</td>\n",
       "      <td>A</td>\n",
       "      <td>222.0</td>\n",
       "    </tr>\n",
       "  </tbody>\n",
       "</table>\n",
       "</div>"
      ],
      "text/plain": [
       "   ID             datetime  temperature  var1  pressure  windspeed var2  \\\n",
       "0   0  2013-07-01 00:00:00        -11.4 -17.1    1003.0    571.910    A   \n",
       "1   1  2013-07-01 01:00:00        -12.1 -19.3     996.0    575.040    A   \n",
       "2   2  2013-07-01 02:00:00        -12.9 -20.0    1000.0    578.435    A   \n",
       "3   3  2013-07-01 03:00:00        -11.4 -17.1     995.0    582.580    A   \n",
       "4   4  2013-07-01 04:00:00        -11.4 -19.3    1005.0    586.600    A   \n",
       "\n",
       "   electricity_consumption  \n",
       "0                    216.0  \n",
       "1                    210.0  \n",
       "2                    225.0  \n",
       "3                    216.0  \n",
       "4                    222.0  "
      ]
     },
     "execution_count": 114,
     "metadata": {},
     "output_type": "execute_result"
    }
   ],
   "source": [
    "# Leitura dos dados\n",
    "df = pd.read_csv(\"electricity_consumption.csv\")\n",
    "# test = pd.read_csv(\"test.csv\")\n",
    "# ProfileReport(train)\n",
    "df.head()"
   ]
  },
  {
   "cell_type": "code",
   "execution_count": 115,
   "metadata": {},
   "outputs": [
    {
     "name": "stdout",
     "output_type": "stream",
     "text": [
      "<class 'pandas.core.frame.DataFrame'>\n",
      "RangeIndex: 26496 entries, 0 to 26495\n",
      "Data columns (total 8 columns):\n",
      " #   Column                   Non-Null Count  Dtype  \n",
      "---  ------                   --------------  -----  \n",
      " 0   ID                       26496 non-null  int64  \n",
      " 1   datetime                 26496 non-null  object \n",
      " 2   temperature              26496 non-null  float64\n",
      " 3   var1                     26496 non-null  float64\n",
      " 4   pressure                 26496 non-null  float64\n",
      " 5   windspeed                26496 non-null  float64\n",
      " 6   var2                     26496 non-null  object \n",
      " 7   electricity_consumption  26496 non-null  float64\n",
      "dtypes: float64(5), int64(1), object(2)\n",
      "memory usage: 1.6+ MB\n"
     ]
    }
   ],
   "source": [
    "df.info()"
   ]
  },
  {
   "cell_type": "markdown",
   "metadata": {},
   "source": [
    "Preprocess"
   ]
  },
  {
   "cell_type": "code",
   "execution_count": 116,
   "metadata": {
    "scrolled": true
   },
   "outputs": [],
   "source": [
    "# Converting to datetime\n",
    "df[\"datetime\"] = pd.to_datetime(df.datetime)\n",
    "# test[\"datetime\"] = pd.to_datetime(test.datetime)\n",
    "\n",
    "# Index\n",
    "df.set_index(\"datetime\", inplace=True)\n",
    "# test.set_index(\"datetime\", inplace=True)\n",
    "\n",
    "# Check dates completeness\n",
    "\n",
    "# print(train.index.freq)\n",
    "# date_range = pd.date_range(train.index.min(), train.index.max(), freq=\"H\")\n",
    "# print(date_range.difference(train.index))\n",
    "# print(date_range.difference(train.index).shape)"
   ]
  },
  {
   "cell_type": "markdown",
   "metadata": {},
   "source": [
    "Features"
   ]
  },
  {
   "cell_type": "code",
   "execution_count": 117,
   "metadata": {},
   "outputs": [
    {
     "name": "stdout",
     "output_type": "stream",
     "text": [
      "take out  530 outliers\n"
     ]
    }
   ],
   "source": [
    "COLS_2LAG = [\"temperature\", \"var1\", \"windspeed\"]\n",
    "COLS_2MA = [\"temperature\", \"var1\", \"windspeed\"]\n",
    "# Limite de lags 4 para melhor explicabilidade do modelo\n",
    "LAGS = 4\n",
    "# Limite de lags 4 para melhor explicabilidade do modelo\n",
    "MAS = 4\n",
    "\n",
    "# Features Temporais:\n",
    "df = date_features(df)\n",
    "\n",
    "# Lag features\n",
    "df = shift_cols(df, COLS_2LAG, lags=LAGS)\n",
    "\n",
    "# Ma features\n",
    "df = ma_cols(df, COLS_2MA, mas=MAS)\n",
    "\n",
    "# Fourier Features\n",
    "# Implement\n",
    "\n",
    "# Filter outliers\n",
    "df  = remove_outliers(df)\n",
    "\n",
    "# Transforma cdados categoricos. Isso ajuda no tratamento de alguns modelos e otimiza o processamento\n",
    "for c in df.dtypes[df.dtypes == 'object'].index: \n",
    "    df[c] = df[c].astype('category')"
   ]
  },
  {
   "cell_type": "markdown",
   "metadata": {},
   "source": [
    "## xgboost sagemaker"
   ]
  },
  {
   "cell_type": "markdown",
   "metadata": {},
   "source": [
    "**Preparing Data Place**"
   ]
  },
  {
   "cell_type": "code",
   "execution_count": 118,
   "metadata": {},
   "outputs": [],
   "source": [
    "df = select_features(df, forbiden=['ID'], cat_remove=True)\n",
    "features = df.columns\n",
    "\n",
    "train, test = train_test_split(df, test_size=0.2, random_state=1)\n",
    "\n",
    "X_train =  train.drop(columns=\"electricity_consumption\")\n",
    "X_test = test.drop(columns=\"electricity_consumption\")\n",
    "y_train = train[\"electricity_consumption\"]\n",
    "y_test = test[\"electricity_consumption\"]\n",
    "\n",
    "train = pd.concat([y_train, X_train], axis=1)\n",
    "test = pd.concat([y_test, X_test], axis=1)"
   ]
  },
  {
   "cell_type": "code",
   "execution_count": 119,
   "metadata": {},
   "outputs": [
    {
     "name": "stdout",
     "output_type": "stream",
     "text": [
      "Bucket alreary created with this name.\n"
     ]
    }
   ],
   "source": [
    "sess = boto3.session.Session()\n",
    "sm = sess.client(service_name='sagemaker')\n",
    "s3 = sess.client(service_name='s3')\n",
    "sts = sess.client(service_name='sts')\n",
    "\n",
    "account_id = sts.get_caller_identity()['Account']\n",
    "bucket = \"sagemaker-studio-{}-{}\".format(sess.region_name, account_id)\n",
    "prefix = 'xgboost-elet-demand'\n",
    "\n",
    "try: \n",
    "    s3.create_bucket(\n",
    "        Bucket=bucket, CreateBucketConfiguration={'LocationConstraint': sess.region_name}\n",
    "    )\n",
    "except Exception as e:\n",
    "    print(\"Bucket alreary created with this name.\")\n",
    "    \n",
    "# Saving data in S3 bucket. IO with the sagemaker API\n",
    "# THE WAY THAT WORK\n",
    "role = get_execution_role() \n",
    "\n",
    "train_key = 'train.csv'\n",
    "valid_key = 'test.csv'\n",
    "train_uri = 's3://{}/{}/{}'.format(bucket, prefix, train_key)\n",
    "valid_uri = 's3://{}/{}/{}'.format(bucket, prefix, valid_key)\n",
    "\n",
    "train.to_csv(train_uri, index=False)\n",
    "test.to_csv(valid_uri, index=False)\n",
    "\n",
    "# train = pd.read_csv(data_location)\n",
    "# train.head()\n",
    "    \n",
    "# 1\n",
    "# Not working for the credentials user.\n",
    "# Also need s3fs==0.4.2\n",
    "# ! pip install s3fs==0.4.2\n",
    "# train.to_excel(os.path.join(\"s3://\", bucket, \"test.xlsx\"),  storage_options={\"anon\": True})\n",
    "\n",
    "# 2\n",
    "# Upload a file from path to bucket\n",
    "# s3 = boto3.resource('s3')\n",
    "# s3.meta.client.upload_file('train.parquet', bucket, 'train.parquet')\n",
    "\n",
    "# 3\n",
    "# Another method to save is save the file on local sagemaker path, then upload objetct on bucket\n",
    "# Can be used alternativily upload_fileobj()\n",
    "# file_name = \"mydata.csv\" \n",
    "# df.to_csv(file_name)\n",
    "\n",
    "# s3 = boto3.resource('s3')\n",
    "# s3.meta.client.upload_file(file_name, 'YOUR_S3_BUCKET_NAME', 'DESIRED_S3_OBJECT_NAME')"
   ]
  },
  {
   "cell_type": "markdown",
   "metadata": {},
   "source": [
    "**Modeling**"
   ]
  },
  {
   "cell_type": "code",
   "execution_count": 120,
   "metadata": {},
   "outputs": [
    {
     "data": {
      "text/plain": [
       "<matplotlib.axes._subplots.AxesSubplot at 0x7f35a3493ad0>"
      ]
     },
     "execution_count": 120,
     "metadata": {},
     "output_type": "execute_result"
    },
    {
     "data": {
      "image/png": "[encoded data removed]",
      "text/plain": [
       "<Figure size 864x576 with 1 Axes>"
      ]
     },
     "metadata": {
      "needs_background": "light"
     },
     "output_type": "display_data"
    }
   ],
   "source": [
    "plt.figure(figsize=(12,8))\n",
    "corr = train.corr()['electricity_consumption'].reset_index().rename(columns={'index': 'features', 'electricity_consumption': 'correlation'})\n",
    "sns.barplot(data=corr, x='correlation', y='features', orient='h')"
   ]
  },
  {
   "cell_type": "markdown",
   "metadata": {},
   "source": [
    "Baseline - Modelo de medias"
   ]
  },
  {
   "cell_type": "code",
   "execution_count": 121,
   "metadata": {},
   "outputs": [
    {
     "name": "stdout",
     "output_type": "stream",
     "text": [
      "24.97\n"
     ]
    },
    {
     "data": {
      "text/plain": [
       "24.97"
      ]
     },
     "execution_count": 121,
     "metadata": {},
     "output_type": "execute_result"
    }
   ],
   "source": [
    "size=len(y_train)\n",
    "metric = y_train.mean()\n",
    "y_predict = np.array([metric]*size)\n",
    "\n",
    "mean_absolute_percentage_error(y_train, y_predict)\n",
    "\n",
    "# if PLOT_PREDICTION:\n",
    "#      plot_predict(X_valid, y_valid, predict, \"LGBM\", hist=True, structure_plot_cols=['hour', 'dom', 'dow', 'year'])\n",
    "#     plot_predict(X, y, y_predict, \"Mean\")"
   ]
  },
  {
   "cell_type": "markdown",
   "metadata": {},
   "source": [
    "---\n",
    "## Train\n",
    "\n",
    "Let's move on to training. We'll training a class of models known as gradient boosted decision trees on the data that we just uploaded using the XGBoost library. \n",
    "\n",
    "Because we're using XGBoost, we'll first need to specify the locations of the XGBoost algorithm containers."
   ]
  },
  {
   "cell_type": "code",
   "execution_count": 122,
   "metadata": {},
   "outputs": [
    {
     "name": "stderr",
     "output_type": "stream",
     "text": [
      "INFO:sagemaker.image_uris:Same images used for training and inference. Defaulting to image scope: inference.\n",
      "INFO:sagemaker.image_uris:Defaulting to only available Python version: py3\n",
      "INFO:sagemaker.image_uris:Defaulting to only supported image scope: cpu.\n"
     ]
    }
   ],
   "source": [
    "container = sagemaker.image_uris.retrieve(\"xgboost\", boto3.Session().region_name, version=\"1.0-1\")"
   ]
  },
  {
   "cell_type": "markdown",
   "metadata": {},
   "source": [
    "Then, because we're training with the CSV file format, we'll create `s3_input`s that our training function can use as a pointer to the files in S3."
   ]
  },
  {
   "cell_type": "code",
   "execution_count": 123,
   "metadata": {},
   "outputs": [],
   "source": [
    "s3_input_train = sagemaker.TrainingInput(\n",
    "    s3_data=\"s3://{}/{}/train\".format(bucket, prefix), content_type=\"csv\"\n",
    ")\n",
    "s3_input_validation = sagemaker.TrainingInput(\n",
    "    s3_data=\"s3://{}/{}/test\".format(bucket, prefix), content_type=\"csv\"\n",
    ")"
   ]
  },
  {
   "cell_type": "markdown",
   "metadata": {},
   "source": [
    "### Amazon SageMaker Experiments\n",
    "\n",
    "Amazon SageMaker Experiments allows us to keep track of model training; organize related models together; and log model configuration, parameters, and metrics so we can reproduce and iterate on previously trained models and compare models. We'll create a single experiment to keep track of the different approaches to training the model that we'll try.\n",
    "\n",
    "Each approach or block of training code we run will be an experiment trial. Later, we'll compare different trials in Studio.\n",
    "\n",
    "Let's create the experiment"
   ]
  },
  {
   "cell_type": "code",
   "execution_count": 124,
   "metadata": {},
   "outputs": [],
   "source": [
    "from datetime import datetime\n",
    "from smexperiments.experiment import Experiment\n",
    "from smexperiments.trial import Trial"
   ]
  },
  {
   "cell_type": "code",
   "execution_count": 125,
   "metadata": {},
   "outputs": [],
   "source": [
    "role = get_execution_role()\n",
    "sess = sagemaker.session.Session()\n",
    "\n",
    "create_date = datetime.now().strftime(\"%Y-%m-%d-%H-%M-%S\")\n",
    "\n",
    "elet_demand_experiment = Experiment.create(\n",
    "    experiment_name=\"elet-demand-prediction-xgboost-{}\".format(create_date),\n",
    "    description=\"Using xgboost to predict eletricity demand\",\n",
    "    tags=[{'Key': 'demo-experiment', 'Value': 'demo1'}]\n",
    ")"
   ]
  },
  {
   "cell_type": "code",
   "execution_count": 126,
   "metadata": {},
   "outputs": [],
   "source": [
    "hyperparams = {\n",
    "    \"max_depth\": 5,\n",
    "#     \"subsample\": 0.8,\n",
    "    \"num_round\": 600,\n",
    "#     \"eta\": 0.2,\n",
    "#     \"gamma\": 4,\n",
    "#     \"min_child_weight\": 6,\n",
    "    \"silent\": 0,\n",
    "    \"objective\": 'reg:squarederror',\n",
    "}"
   ]
  },
  {
   "cell_type": "markdown",
   "metadata": {},
   "source": [
    "By setting wait=True, the fit method displays progress logs and waits until training is complete."
   ]
  },
  {
   "cell_type": "code",
   "execution_count": 127,
   "metadata": {},
   "outputs": [
    {
     "data": {
      "text/plain": [
       "'elet-demand-prediction-xgboost-2021-07-31-19-06-26'"
      ]
     },
     "execution_count": 127,
     "metadata": {},
     "output_type": "execute_result"
    }
   ],
   "source": [
    "elet_demand_experiment.experiment_name"
   ]
  },
  {
   "cell_type": "code",
   "execution_count": 128,
   "metadata": {},
   "outputs": [
    {
     "name": "stderr",
     "output_type": "stream",
     "text": [
      "INFO:sagemaker.image_uris:Defaulting to the only supported framework/algorithm version: latest.\n",
      "INFO:sagemaker.image_uris:Ignoring unnecessary instance type: None.\n",
      "INFO:sagemaker:Creating training-job with name: demo-xgboost-customer-churn-2021-07-31-19-06-29-687\n"
     ]
    },
    {
     "name": "stdout",
     "output_type": "stream",
     "text": [
      "2021-07-31 19:06:29 Starting - Starting the training job."
     ]
    },
    {
     "ename": "KeyboardInterrupt",
     "evalue": "",
     "output_type": "error",
     "traceback": [
      "\u001b[0;31m---------------------------------------------------------------------------\u001b[0m",
      "\u001b[0;31mKeyboardInterrupt\u001b[0m                         Traceback (most recent call last)",
      "\u001b[0;32m<ipython-input-128-7f36b824ee71>\u001b[0m in \u001b[0;36m<module>\u001b[0;34m\u001b[0m\n\u001b[1;32m     25\u001b[0m         \u001b[0;34m\"TrialComponentDisplayName\"\u001b[0m\u001b[0;34m:\u001b[0m \u001b[0;34m\"Training\"\u001b[0m\u001b[0;34m,\u001b[0m\u001b[0;34m\u001b[0m\u001b[0;34m\u001b[0m\u001b[0m\n\u001b[1;32m     26\u001b[0m     },\n\u001b[0;32m---> 27\u001b[0;31m     \u001b[0mwait\u001b[0m\u001b[0;34m=\u001b[0m\u001b[0;32mTrue\u001b[0m\u001b[0;34m,\u001b[0m\u001b[0;34m\u001b[0m\u001b[0;34m\u001b[0m\u001b[0m\n\u001b[0m\u001b[1;32m     28\u001b[0m )\n",
      "\u001b[0;32m/opt/conda/lib/python3.7/site-packages/sagemaker/estimator.py\u001b[0m in \u001b[0;36mfit\u001b[0;34m(self, inputs, wait, logs, job_name, experiment_config)\u001b[0m\n\u001b[1;32m    681\u001b[0m         \u001b[0mself\u001b[0m\u001b[0;34m.\u001b[0m\u001b[0mjobs\u001b[0m\u001b[0;34m.\u001b[0m\u001b[0mappend\u001b[0m\u001b[0;34m(\u001b[0m\u001b[0mself\u001b[0m\u001b[0;34m.\u001b[0m\u001b[0mlatest_training_job\u001b[0m\u001b[0;34m)\u001b[0m\u001b[0;34m\u001b[0m\u001b[0;34m\u001b[0m\u001b[0m\n\u001b[1;32m    682\u001b[0m         \u001b[0;32mif\u001b[0m \u001b[0mwait\u001b[0m\u001b[0;34m:\u001b[0m\u001b[0;34m\u001b[0m\u001b[0;34m\u001b[0m\u001b[0m\n\u001b[0;32m--> 683\u001b[0;31m             \u001b[0mself\u001b[0m\u001b[0;34m.\u001b[0m\u001b[0mlatest_training_job\u001b[0m\u001b[0;34m.\u001b[0m\u001b[0mwait\u001b[0m\u001b[0;34m(\u001b[0m\u001b[0mlogs\u001b[0m\u001b[0;34m=\u001b[0m\u001b[0mlogs\u001b[0m\u001b[0;34m)\u001b[0m\u001b[0;34m\u001b[0m\u001b[0;34m\u001b[0m\u001b[0m\n\u001b[0m\u001b[1;32m    684\u001b[0m \u001b[0;34m\u001b[0m\u001b[0m\n\u001b[1;32m    685\u001b[0m     \u001b[0;32mdef\u001b[0m \u001b[0m_compilation_job_name\u001b[0m\u001b[0;34m(\u001b[0m\u001b[0mself\u001b[0m\u001b[0;34m)\u001b[0m\u001b[0;34m:\u001b[0m\u001b[0;34m\u001b[0m\u001b[0;34m\u001b[0m\u001b[0m\n",
      "\u001b[0;32m/opt/conda/lib/python3.7/site-packages/sagemaker/estimator.py\u001b[0m in \u001b[0;36mwait\u001b[0;34m(self, logs)\u001b[0m\n\u001b[1;32m   1626\u001b[0m         \u001b[0;31m# If logs are requested, call logs_for_jobs.\u001b[0m\u001b[0;34m\u001b[0m\u001b[0;34m\u001b[0m\u001b[0;34m\u001b[0m\u001b[0m\n\u001b[1;32m   1627\u001b[0m         \u001b[0;32mif\u001b[0m \u001b[0mlogs\u001b[0m \u001b[0;34m!=\u001b[0m \u001b[0;34m\"None\"\u001b[0m\u001b[0;34m:\u001b[0m\u001b[0;34m\u001b[0m\u001b[0;34m\u001b[0m\u001b[0m\n\u001b[0;32m-> 1628\u001b[0;31m             \u001b[0mself\u001b[0m\u001b[0;34m.\u001b[0m\u001b[0msagemaker_session\u001b[0m\u001b[0;34m.\u001b[0m\u001b[0mlogs_for_job\u001b[0m\u001b[0;34m(\u001b[0m\u001b[0mself\u001b[0m\u001b[0;34m.\u001b[0m\u001b[0mjob_name\u001b[0m\u001b[0;34m,\u001b[0m \u001b[0mwait\u001b[0m\u001b[0;34m=\u001b[0m\u001b[0;32mTrue\u001b[0m\u001b[0;34m,\u001b[0m \u001b[0mlog_type\u001b[0m\u001b[0;34m=\u001b[0m\u001b[0mlogs\u001b[0m\u001b[0;34m)\u001b[0m\u001b[0;34m\u001b[0m\u001b[0;34m\u001b[0m\u001b[0m\n\u001b[0m\u001b[1;32m   1629\u001b[0m         \u001b[0;32melse\u001b[0m\u001b[0;34m:\u001b[0m\u001b[0;34m\u001b[0m\u001b[0;34m\u001b[0m\u001b[0m\n\u001b[1;32m   1630\u001b[0m             \u001b[0mself\u001b[0m\u001b[0;34m.\u001b[0m\u001b[0msagemaker_session\u001b[0m\u001b[0;34m.\u001b[0m\u001b[0mwait_for_job\u001b[0m\u001b[0;34m(\u001b[0m\u001b[0mself\u001b[0m\u001b[0;34m.\u001b[0m\u001b[0mjob_name\u001b[0m\u001b[0;34m)\u001b[0m\u001b[0;34m\u001b[0m\u001b[0;34m\u001b[0m\u001b[0m\n",
      "\u001b[0;32m/opt/conda/lib/python3.7/site-packages/sagemaker/session.py\u001b[0m in \u001b[0;36mlogs_for_job\u001b[0;34m(self, job_name, wait, poll, log_type)\u001b[0m\n\u001b[1;32m   3608\u001b[0m                 \u001b[0;32mbreak\u001b[0m\u001b[0;34m\u001b[0m\u001b[0;34m\u001b[0m\u001b[0m\n\u001b[1;32m   3609\u001b[0m \u001b[0;34m\u001b[0m\u001b[0m\n\u001b[0;32m-> 3610\u001b[0;31m             \u001b[0mtime\u001b[0m\u001b[0;34m.\u001b[0m\u001b[0msleep\u001b[0m\u001b[0;34m(\u001b[0m\u001b[0mpoll\u001b[0m\u001b[0;34m)\u001b[0m\u001b[0;34m\u001b[0m\u001b[0;34m\u001b[0m\u001b[0m\n\u001b[0m\u001b[1;32m   3611\u001b[0m \u001b[0;34m\u001b[0m\u001b[0m\n\u001b[1;32m   3612\u001b[0m             \u001b[0;32mif\u001b[0m \u001b[0mstate\u001b[0m \u001b[0;34m==\u001b[0m \u001b[0mLogState\u001b[0m\u001b[0;34m.\u001b[0m\u001b[0mJOB_COMPLETE\u001b[0m\u001b[0;34m:\u001b[0m\u001b[0;34m\u001b[0m\u001b[0;34m\u001b[0m\u001b[0m\n",
      "\u001b[0;31mKeyboardInterrupt\u001b[0m: "
     ]
    }
   ],
   "source": [
    "role = get_execution_role()\n",
    "\n",
    "trial = Trial.create(\n",
    "    trial_name=\"algorithm-mode-trial-{}\".format(datetime.now().strftime(\"%Y-%m-%d-%H-%M-%S\")),\n",
    "    experiment_name=elet_demand_experiment.experiment_name,\n",
    "    sagemaker_boto_client=boto3.client(\"sagemaker\"),\n",
    ")\n",
    "\n",
    "xgb = sagemaker.estimator.Estimator(\n",
    "    image_uri=container,\n",
    "    role=role,\n",
    "    hyperparameters=hyperparams,\n",
    "    instance_count=1,\n",
    "    instance_type=\"ml.m4.xlarge\",\n",
    "    output_path=\"s3://{}/{}/output\".format(bucket, prefix),\n",
    "    base_job_name=\"demo-xgboost-customer-churn\",\n",
    "    sagemaker_session=sess,\n",
    ")\n",
    "\n",
    "xgb.fit(\n",
    "    {\"train\": s3_input_train, \"validation\": s3_input_validation},\n",
    "    experiment_config={\n",
    "        \"ExperimentName\": elet_demand_experiment.experiment_name,\n",
    "        \"TrialName\": trial.trial_name,\n",
    "        \"TrialComponentDisplayName\": \"Training\",\n",
    "    },\n",
    "    wait=True,\n",
    ")"
   ]
  },
  {
   "cell_type": "markdown",
   "metadata": {},
   "source": [
    "![image](https://media.geeksforgeeks.org/wp-content/uploads/20200622171741/RMSE1.jpg)"
   ]
  },
  {
   "cell_type": "markdown",
   "metadata": {},
   "source": [
    "## Debugger\n",
    "\n",
    "You can create a debugger to the train job performance"
   ]
  },
  {
   "cell_type": "code",
   "execution_count": 129,
   "metadata": {},
   "outputs": [],
   "source": [
    "import sagemaker\n",
    "from sagemaker.xgboost.estimator import XGBoost\n",
    "from sagemaker.debugger import ProfilerConfig, DebuggerHookConfig, Rule, ProfilerRule, rule_configs, CollectionConfig"
   ]
  },
  {
   "cell_type": "code",
   "execution_count": 131,
   "metadata": {},
   "outputs": [],
   "source": [
    "debug_rules = [\n",
    "        Rule.sagemaker(rule_configs.loss_not_decreasing()),\n",
    "        Rule.sagemaker(rule_configs.overtraining()),\n",
    "        Rule.sagemaker(rule_configs.overfit()),\n",
    "]"
   ]
  },
  {
   "cell_type": "code",
   "execution_count": 137,
   "metadata": {},
   "outputs": [
    {
     "name": "stderr",
     "output_type": "stream",
     "text": [
      "INFO:sagemaker.image_uris:Defaulting to the only supported framework/algorithm version: latest.\n",
      "INFO:sagemaker.image_uris:Ignoring unnecessary instance type: None.\n",
      "INFO:sagemaker:Creating training-job with name: demo-xgboost-customer-churn-2021-07-31-20-04-33-568\n"
     ]
    }
   ],
   "source": [
    "xgb_deugger = sagemaker.estimator.Estimator(\n",
    "    image_uri=container,\n",
    "    role=role,\n",
    "    hyperparameters=hyperparams,\n",
    "    instance_count=1,\n",
    "    instance_type=\"ml.m4.xlarge\",\n",
    "    output_path=\"s3://{}/{}/output\".format(bucket, prefix),\n",
    "    base_job_name=\"demo-xgboost-customer-churn\",\n",
    "    sagemaker_session=sess,\n",
    "    \n",
    "#     debugger_hook_config = DebuggerHookConfig(\n",
    "#         s3_output_path=\"s3://{}/{}/output\".format(bucket, prefix),\n",
    "#         collection_configs=[\n",
    "#             {}\n",
    "#         ]\n",
    "#     ),\n",
    "    rules=debug_rules\n",
    ")\n",
    "\n",
    "xgb_deugger.fit(\n",
    "    {'train': s3_input_train, 'validation':s3_input_validation},\n",
    "    wait=False\n",
    ")"
   ]
  },
  {
   "cell_type": "code",
   "execution_count": 170,
   "metadata": {},
   "outputs": [
    {
     "data": {
      "text/plain": [
       "'s3://sagemaker-studio-us-east-2-416795873519/xgboost-elet-demand/outputdemo-xgboost-customer-churn-2021-07-31-20-04-33-568/rule-output'"
      ]
     },
     "execution_count": 170,
     "metadata": {},
     "output_type": "execute_result"
    }
   ],
   "source": [
    "xgb_deugger.output_path + xgb_deugger.latest_training_job.job_name + \"/rule-output\""
   ]
  },
  {
   "cell_type": "code",
   "execution_count": 168,
   "metadata": {},
   "outputs": [
    {
     "data": {
      "text/plain": [
       "'s3://sagemaker-studio-us-east-2-416795873519/xgboost-elet-demand/output'"
      ]
     },
     "execution_count": 168,
     "metadata": {},
     "output_type": "execute_result"
    }
   ],
   "source": [
    "xgb_deugger.output_path"
   ]
  },
  {
   "cell_type": "code",
   "execution_count": 159,
   "metadata": {},
   "outputs": [
    {
     "data": {
      "text/plain": [
       "[{'RuleConfigurationName': 'LossNotDecreasing',\n",
       "  'RuleEvaluationJobArn': 'arn:aws:sagemaker:us-east-2:416795873519:processing-job/demo-xgboost-customer-chur-lossnotdecreasing-f1f0f220',\n",
       "  'RuleEvaluationStatus': 'NoIssuesFound',\n",
       "  'LastModifiedTime': datetime.datetime(2021, 7, 31, 20, 13, 2, 557000, tzinfo=tzlocal())},\n",
       " {'RuleConfigurationName': 'Overtraining',\n",
       "  'RuleEvaluationJobArn': 'arn:aws:sagemaker:us-east-2:416795873519:processing-job/demo-xgboost-customer-chur-overtraining-10622d87',\n",
       "  'RuleEvaluationStatus': 'NoIssuesFound',\n",
       "  'LastModifiedTime': datetime.datetime(2021, 7, 31, 20, 13, 2, 557000, tzinfo=tzlocal())},\n",
       " {'RuleConfigurationName': 'Overfit',\n",
       "  'RuleEvaluationJobArn': 'arn:aws:sagemaker:us-east-2:416795873519:processing-job/demo-xgboost-customer-chur-overfit-6b01f79e',\n",
       "  'RuleEvaluationStatus': 'NoIssuesFound',\n",
       "  'LastModifiedTime': datetime.datetime(2021, 7, 31, 20, 13, 2, 557000, tzinfo=tzlocal())},\n",
       " {'RuleConfigurationName': 'ProfilerReport-1627761873',\n",
       "  'RuleEvaluationJobArn': 'arn:aws:sagemaker:us-east-2:416795873519:processing-job/demo-xgboost-customer-chur-profilerreport-1627761873-b7dc0efe',\n",
       "  'RuleEvaluationStatus': 'NoIssuesFound',\n",
       "  'LastModifiedTime': datetime.datetime(2021, 7, 31, 20, 9, 28, 841000, tzinfo=tzlocal())}]"
      ]
     },
     "execution_count": 159,
     "metadata": {},
     "output_type": "execute_result"
    }
   ],
   "source": [
    "xgb_deugger.latest_training_job.rule_job_summary()"
   ]
  },
  {
   "cell_type": "code",
   "execution_count": 160,
   "metadata": {},
   "outputs": [],
   "source": [
    "profiler_report_name = [\n",
    "    rule[\"RuleConfigurationName\"]\n",
    "    for rule in xgb_deugger.latest_training_job.rule_job_summary()\n",
    "    if \"Profiler\" in rule[\"RuleConfigurationName\"]\n",
    "][0]\n",
    "\n",
    "xgb_profile_job_name = [\n",
    "    rule[\"RuleEvaluationJobArn\"].split(\"/\")[-1]\n",
    "    for rule in xgb_deugger.latest_training_job.rule_job_summary()\n",
    "    if profiler_report_name in rule[\"RuleConfigurationName\"]\n",
    "][0]"
   ]
  },
  {
   "cell_type": "code",
   "execution_count": 162,
   "metadata": {},
   "outputs": [],
   "source": [
    "base_output_path = os.path.dirname(xgb_deugger.latest_job_debugger_artifacts_path())\n",
    "rule_output_path = os.path.join(base_output_path, \"rule-output/\")\n",
    "xgb_report_path = os.path.join(rule_output_path, \"CreateXgboostReport\")\n",
    "profile_report_path = os.path.join(rule_output_path, profiler_report_name)"
   ]
  },
  {
   "cell_type": "code",
   "execution_count": 171,
   "metadata": {},
   "outputs": [],
   "source": [
    "# while True:\n",
    "\n",
    "#     xgb_job_info = sess.sagemaker_client.describe_processing_job(\n",
    "#         ProcessingJobName=xgb_profile_job_name\n",
    "#     )\n",
    "\n",
    "#     if xgb_job_info[\"ProcessingJobStatus\"] == \"Completed\":\n",
    "#         break\n",
    "#     else:\n",
    "#         print(f\"Job Status: {xgb_job_info['ProcessingJobStatus']}\")\n",
    "#         time.sleep(30)\n",
    "\n",
    "# s3.download(xgb_report_path, \"reports/xgb/\", recursive=True)\n",
    "# s3.download(profile_report_path, \"reports/profiler/\", recursive=True)\n",
    "# display(\n",
    "#     \"Click link below to view the profiler report whcih will help you identify hardware bottlenecks.\",\n",
    "#     FileLink(\"reports/profiler/profiler-output/profiler-report.html\"),\n",
    "# )\n",
    "# display(\n",
    "#     \"Click link below to view the XGBoost Training reports which will help you imporve your model\",\n",
    "#     FileLink(\"reports/xgb/xgboost_report.html\"),\n",
    "# )"
   ]
  },
  {
   "cell_type": "markdown",
   "metadata": {},
   "source": [
    "## Deploy Model\n",
    "\n",
    "To get predictions, deploy your model to Amazon EC2 using Amazon SageMaker."
   ]
  },
  {
   "cell_type": "markdown",
   "metadata": {},
   "source": [
    "Detete any endpoint"
   ]
  },
  {
   "cell_type": "code",
   "execution_count": 255,
   "metadata": {},
   "outputs": [],
   "source": [
    "# sess.delete_endpoint('demo-xgboost-customer-churn-2021-07-29-20-27-35-431')"
   ]
  },
  {
   "cell_type": "code",
   "execution_count": 256,
   "metadata": {},
   "outputs": [
    {
     "name": "stderr",
     "output_type": "stream",
     "text": [
      "INFO:sagemaker:Creating model with name: demo-xgboost-customer-churn-2021-07-30-16-26-22-426\n",
      "INFO:sagemaker:Creating endpoint with name demo-xgboost-customer-churn-2021-07-30-16-26-22-426\n"
     ]
    },
    {
     "name": "stdout",
     "output_type": "stream",
     "text": [
      "-------------------!"
     ]
    }
   ],
   "source": [
    "xgb_predictor=xgb.deploy(\n",
    "    initial_instance_count=1,\n",
    "    instance_type='ml.t2.medium',\n",
    "    serializer=CSVSerializer()\n",
    ")"
   ]
  },
  {
   "cell_type": "markdown",
   "metadata": {},
   "source": [
    "## Evaluate the model"
   ]
  },
  {
   "cell_type": "code",
   "execution_count": null,
   "metadata": {},
   "outputs": [],
   "source": [
    "xgb_predictor.endpoint_name"
   ]
  },
  {
   "cell_type": "code",
   "execution_count": 281,
   "metadata": {},
   "outputs": [],
   "source": [
    "def predict(x_valid, predictions=None):\n",
    "    x_valid = x_valid.reset_index(drop=True).values\n",
    "    rows = np.array_split(x_valid, x_valid.shape[0])\n",
    "\n",
    "    for row in rows:\n",
    "        \n",
    "        predict = xgb_predictor.predict(row).decode('utf-8')\n",
    "        \n",
    "        try:\n",
    "            predictions.append(predict)\n",
    "        except Exception as e:\n",
    "            predictions = []\n",
    "            predictions.append(predict)\n",
    "\n",
    "    return predictions"
   ]
  },
  {
   "cell_type": "code",
   "execution_count": 283,
   "metadata": {},
   "outputs": [],
   "source": [
    "predictions = predict(x_valid)"
   ]
  },
  {
   "cell_type": "code",
   "execution_count": 294,
   "metadata": {},
   "outputs": [
    {
     "data": {
      "text/plain": [
       "array([223.19117737, 264.55111694, 241.02713013, ..., 230.91708374,\n",
       "       346.574646  , 429.21896362])"
      ]
     },
     "execution_count": 294,
     "metadata": {},
     "output_type": "execute_result"
    }
   ],
   "source": [
    "np.array(predictions).astype('float')"
   ]
  },
  {
   "cell_type": "code",
   "execution_count": 295,
   "metadata": {},
   "outputs": [],
   "source": [
    "f_predictions = np.array(predictions).astype('float')"
   ]
  },
  {
   "cell_type": "code",
   "execution_count": 309,
   "metadata": {},
   "outputs": [],
   "source": [
    "predict_df = pd.concat([y_valid.reset_index(drop=True), pd.Series(f_predictions)], axis=1)\n"
   ]
  },
  {
   "cell_type": "code",
   "execution_count": 310,
   "metadata": {},
   "outputs": [
    {
     "data": {
      "text/html": [
       "<div>\n",
       "<style scoped>\n",
       "    .dataframe tbody tr th:only-of-type {\n",
       "        vertical-align: middle;\n",
       "    }\n",
       "\n",
       "    .dataframe tbody tr th {\n",
       "        vertical-align: top;\n",
       "    }\n",
       "\n",
       "    .dataframe thead th {\n",
       "        text-align: right;\n",
       "    }\n",
       "</style>\n",
       "<table border=\"1\" class=\"dataframe\">\n",
       "  <thead>\n",
       "    <tr style=\"text-align: right;\">\n",
       "      <th></th>\n",
       "      <th>electricity_consumption</th>\n",
       "      <th>0</th>\n",
       "    </tr>\n",
       "  </thead>\n",
       "  <tbody>\n",
       "    <tr>\n",
       "      <th>0</th>\n",
       "      <td>210.0</td>\n",
       "      <td>223.191177</td>\n",
       "    </tr>\n",
       "    <tr>\n",
       "      <th>1</th>\n",
       "      <td>273.0</td>\n",
       "      <td>264.551117</td>\n",
       "    </tr>\n",
       "    <tr>\n",
       "      <th>2</th>\n",
       "      <td>258.0</td>\n",
       "      <td>241.027130</td>\n",
       "    </tr>\n",
       "    <tr>\n",
       "      <th>3</th>\n",
       "      <td>246.0</td>\n",
       "      <td>238.930878</td>\n",
       "    </tr>\n",
       "    <tr>\n",
       "      <th>4</th>\n",
       "      <td>432.0</td>\n",
       "      <td>419.158661</td>\n",
       "    </tr>\n",
       "    <tr>\n",
       "      <th>...</th>\n",
       "      <td>...</td>\n",
       "      <td>...</td>\n",
       "    </tr>\n",
       "    <tr>\n",
       "      <th>4150</th>\n",
       "      <td>237.0</td>\n",
       "      <td>240.878952</td>\n",
       "    </tr>\n",
       "    <tr>\n",
       "      <th>4151</th>\n",
       "      <td>267.0</td>\n",
       "      <td>273.540375</td>\n",
       "    </tr>\n",
       "    <tr>\n",
       "      <th>4152</th>\n",
       "      <td>228.0</td>\n",
       "      <td>230.917084</td>\n",
       "    </tr>\n",
       "    <tr>\n",
       "      <th>4153</th>\n",
       "      <td>357.0</td>\n",
       "      <td>346.574646</td>\n",
       "    </tr>\n",
       "    <tr>\n",
       "      <th>4154</th>\n",
       "      <td>432.0</td>\n",
       "      <td>429.218964</td>\n",
       "    </tr>\n",
       "  </tbody>\n",
       "</table>\n",
       "<p>4155 rows × 2 columns</p>\n",
       "</div>"
      ],
      "text/plain": [
       "      electricity_consumption           0\n",
       "0                       210.0  223.191177\n",
       "1                       273.0  264.551117\n",
       "2                       258.0  241.027130\n",
       "3                       246.0  238.930878\n",
       "4                       432.0  419.158661\n",
       "...                       ...         ...\n",
       "4150                    237.0  240.878952\n",
       "4151                    267.0  273.540375\n",
       "4152                    228.0  230.917084\n",
       "4153                    357.0  346.574646\n",
       "4154                    432.0  429.218964\n",
       "\n",
       "[4155 rows x 2 columns]"
      ]
     },
     "execution_count": 310,
     "metadata": {},
     "output_type": "execute_result"
    }
   ],
   "source": [
    "predict_df"
   ]
  },
  {
   "cell_type": "code",
   "execution_count": 311,
   "metadata": {},
   "outputs": [
    {
     "name": "stdout",
     "output_type": "stream",
     "text": [
      "4.65\n"
     ]
    },
    {
     "data": {
      "text/plain": [
       "<matplotlib.axes._subplots.AxesSubplot at 0x7f5d5d268490>"
      ]
     },
     "execution_count": 311,
     "metadata": {},
     "output_type": "execute_result"
    },
    {
     "data": {
      "image/png": "[encoded data removed]",
      "text/plain": [
       "<Figure size 432x288 with 1 Axes>"
      ]
     },
     "metadata": {
      "needs_background": "light"
     },
     "output_type": "display_data"
    }
   ],
   "source": [
    "mean_absolute_percentage_error(y_valid, f_predictions)\n",
    "\n",
    "predict_df = pd.concat([y_valid.reset_index(drop=True), pd.Series(f_predictions)], axis=1)\n",
    "\n",
    "sns.scatterplot(data=predict_df, x='electricity_consumption', y=0)"
   ]
  },
  {
   "cell_type": "code",
   "execution_count": 313,
   "metadata": {},
   "outputs": [
    {
     "name": "stderr",
     "output_type": "stream",
     "text": [
      "WARNING:sagemaker.deprecations:The endpoint attribute has been renamed in sagemaker>=2.\n",
      "See: https://sagemaker.readthedocs.io/en/stable/v2.html for details.\n",
      "INFO:sagemaker:Deleting endpoint with name: demo-xgboost-customer-churn-2021-07-30-16-26-22-426\n"
     ]
    }
   ],
   "source": [
    "sess.delete_endpoint(xgb_predictor.endpoint)"
   ]
  },
  {
   "cell_type": "markdown",
   "metadata": {},
   "source": [
    "## Clean Up\n",
    "\n",
    "Limpa todos os objetos criados"
   ]
  },
  {
   "cell_type": "code",
   "execution_count": null,
   "metadata": {},
   "outputs": [],
   "source": [
    "try:\n",
    "    sess.delete_monitoring_schedule(mon_schedule_name)\n",
    "except:\n",
    "    pass\n",
    "while True:\n",
    "    try:\n",
    "        print(\"Waiting for schedule to be deleted\")\n",
    "        sess.describe_monitoring_schedule(mon_schedule_name)\n",
    "        sleep(15)\n",
    "    except:\n",
    "        print(\"Schedule deleted\")\n",
    "        break\n",
    "\n",
    "# sess.delete_endpoint(xgb_predictor.endpoint)\n",
    "\n",
    "\n",
    "def cleanup(experiment):\n",
    "    \"\"\"Clean up everything in the given experiment object\"\"\"\n",
    "    for trial_summary in experiment.list_trials():\n",
    "        trial = Trial.load(trial_name=trial_summary.trial_name)\n",
    "\n",
    "        for trial_comp_summary in trial.list_trial_components():\n",
    "            trial_step = TrialComponent.load(\n",
    "                trial_component_name=trial_comp_summary.trial_component_name\n",
    "            )\n",
    "            print(\"Starting to delete TrialComponent..\" + trial_step.trial_component_name)\n",
    "            sm.disassociate_trial_component(\n",
    "                TrialComponentName=trial_step.trial_component_name, TrialName=trial.trial_name\n",
    "            )\n",
    "            trial_step.delete()\n",
    "            time.sleep(1)\n",
    "\n",
    "        trial.delete()\n",
    "\n",
    "#     experiment.delete()\n",
    "\n",
    "\n",
    "cleanup(elet_demand_experiment)"
   ]
  },
  {
   "cell_type": "code",
   "execution_count": null,
   "metadata": {},
   "outputs": [],
   "source": [
    "2"
   ]
  },
  {
   "cell_type": "code",
   "execution_count": null,
   "metadata": {},
   "outputs": [],
   "source": []
  }
 ],
 "metadata": {
  "instance_type": "ml.t3.medium",
  "kernelspec": {
   "display_name": "Python 3 (Data Science)",
   "language": "python",
   "name": "python3__SAGEMAKER_INTERNAL__arn:aws:sagemaker:us-east-2:429704687514:image/datascience-1.0"
  },
  "language_info": {
   "codemirror_mode": {
    "name": "ipython",
    "version": 3
   },
   "file_extension": ".py",
   "mimetype": "text/x-python",
   "name": "python",
   "nbconvert_exporter": "python",
   "pygments_lexer": "ipython3",
   "version": "3.7.10"
  }
 },
 "nbformat": 4,
 "nbformat_minor": 4
}
