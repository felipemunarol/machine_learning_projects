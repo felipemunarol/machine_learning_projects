{
 "cells": [
  {
   "attachments": {},
   "cell_type": "markdown",
   "metadata": {},
   "source": [
    "Redes neurais convolucionais são um caso especial do perceptron de multicamadas, e são bem adequadas para problemas de classificação de padrões. A ideia por tras das redes neurais multicamas é motivada pela neurobiologia, indo ao encontro dos trabalhos de Hubel e Wiesel (1962, 1977) com sentividade local e orientação seletiva de neuronios do cortex de um gato. Um rede neural convolucional é uma classe específica de redes neurais para reconhecimento de duas dimensoes com um alto grau de invariancia a tranlacao, escala, enviesamento e outras  formas de distorção. Essa tarefa dificil é aprendida em uma forma supervisionada por  meio de uma rede neural em que sua estrutura inclui as seguintes formas e limitantes (LeCun and Bengio, 2003):\n",
    "\n",
    "- Extracao de Caracteristicas.\n",
    "- Mapeamento de caracteristicas.\n",
    "- Sobreamostragem:"
   ]
  },
  {
   "cell_type": "code",
   "execution_count": 2,
   "metadata": {},
   "outputs": [
    {
     "name": "stdout",
     "output_type": "stream",
     "text": [
      "Requirement already satisfied: tensorflow in /home/felipe/miniconda3/lib/python3.10/site-packages (2.12.0)\n",
      "Requirement already satisfied: keras<2.13,>=2.12.0 in /home/felipe/miniconda3/lib/python3.10/site-packages (from tensorflow) (2.12.0)\n",
      "Requirement already satisfied: opt-einsum>=2.3.2 in /home/felipe/miniconda3/lib/python3.10/site-packages (from tensorflow) (3.3.0)\n",
      "Requirement already satisfied: termcolor>=1.1.0 in /home/felipe/miniconda3/lib/python3.10/site-packages (from tensorflow) (2.3.0)\n",
      "Requirement already satisfied: grpcio<2.0,>=1.24.3 in /home/felipe/miniconda3/lib/python3.10/site-packages (from tensorflow) (1.54.2)\n",
      "Requirement already satisfied: tensorboard<2.13,>=2.12 in /home/felipe/miniconda3/lib/python3.10/site-packages (from tensorflow) (2.12.3)\n",
      "Requirement already satisfied: gast<=0.4.0,>=0.2.1 in /home/felipe/miniconda3/lib/python3.10/site-packages (from tensorflow) (0.4.0)\n",
      "Requirement already satisfied: h5py>=2.9.0 in /home/felipe/miniconda3/lib/python3.10/site-packages (from tensorflow) (3.8.0)\n",
      "Requirement already satisfied: typing-extensions>=3.6.6 in /home/felipe/miniconda3/lib/python3.10/site-packages (from tensorflow) (4.6.2)\n",
      "Requirement already satisfied: setuptools in /home/felipe/miniconda3/lib/python3.10/site-packages (from tensorflow) (65.6.3)\n",
      "Requirement already satisfied: tensorflow-estimator<2.13,>=2.12.0 in /home/felipe/miniconda3/lib/python3.10/site-packages (from tensorflow) (2.12.0)\n",
      "Requirement already satisfied: six>=1.12.0 in /home/felipe/miniconda3/lib/python3.10/site-packages (from tensorflow) (1.16.0)\n",
      "Requirement already satisfied: tensorflow-io-gcs-filesystem>=0.23.1 in /home/felipe/miniconda3/lib/python3.10/site-packages (from tensorflow) (0.32.0)\n",
      "Requirement already satisfied: absl-py>=1.0.0 in /home/felipe/miniconda3/lib/python3.10/site-packages (from tensorflow) (1.4.0)\n",
      "Requirement already satisfied: astunparse>=1.6.0 in /home/felipe/miniconda3/lib/python3.10/site-packages (from tensorflow) (1.6.3)\n",
      "Requirement already satisfied: jax>=0.3.15 in /home/felipe/miniconda3/lib/python3.10/site-packages (from tensorflow) (0.4.11)\n",
      "Requirement already satisfied: libclang>=13.0.0 in /home/felipe/miniconda3/lib/python3.10/site-packages (from tensorflow) (16.0.0)\n",
      "Requirement already satisfied: packaging in /home/felipe/miniconda3/lib/python3.10/site-packages (from tensorflow) (23.0)\n",
      "Requirement already satisfied: wrapt<1.15,>=1.11.0 in /home/felipe/miniconda3/lib/python3.10/site-packages (from tensorflow) (1.14.1)\n",
      "Requirement already satisfied: flatbuffers>=2.0 in /home/felipe/miniconda3/lib/python3.10/site-packages (from tensorflow) (23.5.26)\n",
      "Requirement already satisfied: google-pasta>=0.1.1 in /home/felipe/miniconda3/lib/python3.10/site-packages (from tensorflow) (0.2.0)\n",
      "Requirement already satisfied: protobuf!=4.21.0,!=4.21.1,!=4.21.2,!=4.21.3,!=4.21.4,!=4.21.5,<5.0.0dev,>=3.20.3 in /home/felipe/miniconda3/lib/python3.10/site-packages (from tensorflow) (4.23.2)\n",
      "Requirement already satisfied: numpy<1.24,>=1.22 in /home/felipe/miniconda3/lib/python3.10/site-packages (from tensorflow) (1.23.5)\n",
      "Requirement already satisfied: wheel<1.0,>=0.23.0 in /home/felipe/miniconda3/lib/python3.10/site-packages (from astunparse>=1.6.0->tensorflow) (0.38.4)\n",
      "Requirement already satisfied: ml-dtypes>=0.1.0 in /home/felipe/miniconda3/lib/python3.10/site-packages (from jax>=0.3.15->tensorflow) (0.1.0)\n",
      "Requirement already satisfied: scipy>=1.7 in /home/felipe/miniconda3/lib/python3.10/site-packages (from jax>=0.3.15->tensorflow) (1.10.1)\n",
      "Requirement already satisfied: markdown>=2.6.8 in /home/felipe/miniconda3/lib/python3.10/site-packages (from tensorboard<2.13,>=2.12->tensorflow) (3.4.3)\n",
      "Requirement already satisfied: requests<3,>=2.21.0 in /home/felipe/miniconda3/lib/python3.10/site-packages (from tensorboard<2.13,>=2.12->tensorflow) (2.28.1)\n",
      "Requirement already satisfied: werkzeug>=1.0.1 in /home/felipe/miniconda3/lib/python3.10/site-packages (from tensorboard<2.13,>=2.12->tensorflow) (2.3.4)\n",
      "Requirement already satisfied: tensorboard-data-server<0.8.0,>=0.7.0 in /home/felipe/miniconda3/lib/python3.10/site-packages (from tensorboard<2.13,>=2.12->tensorflow) (0.7.0)\n",
      "Requirement already satisfied: google-auth<3,>=1.6.3 in /home/felipe/miniconda3/lib/python3.10/site-packages (from tensorboard<2.13,>=2.12->tensorflow) (2.19.0)\n",
      "Requirement already satisfied: google-auth-oauthlib<1.1,>=0.5 in /home/felipe/miniconda3/lib/python3.10/site-packages (from tensorboard<2.13,>=2.12->tensorflow) (1.0.0)\n",
      "Requirement already satisfied: cachetools<6.0,>=2.0.0 in /home/felipe/miniconda3/lib/python3.10/site-packages (from google-auth<3,>=1.6.3->tensorboard<2.13,>=2.12->tensorflow) (5.3.0)\n",
      "Requirement already satisfied: rsa<5,>=3.1.4 in /home/felipe/miniconda3/lib/python3.10/site-packages (from google-auth<3,>=1.6.3->tensorboard<2.13,>=2.12->tensorflow) (4.9)\n",
      "Requirement already satisfied: urllib3<2.0 in /home/felipe/miniconda3/lib/python3.10/site-packages (from google-auth<3,>=1.6.3->tensorboard<2.13,>=2.12->tensorflow) (1.26.15)\n",
      "Requirement already satisfied: pyasn1-modules>=0.2.1 in /home/felipe/miniconda3/lib/python3.10/site-packages (from google-auth<3,>=1.6.3->tensorboard<2.13,>=2.12->tensorflow) (0.2.7)\n",
      "Requirement already satisfied: requests-oauthlib>=0.7.0 in /home/felipe/miniconda3/lib/python3.10/site-packages (from google-auth-oauthlib<1.1,>=0.5->tensorboard<2.13,>=2.12->tensorflow) (1.3.1)\n",
      "Requirement already satisfied: charset-normalizer<3,>=2 in /home/felipe/miniconda3/lib/python3.10/site-packages (from requests<3,>=2.21.0->tensorboard<2.13,>=2.12->tensorflow) (2.0.4)\n",
      "Requirement already satisfied: certifi>=2017.4.17 in /home/felipe/miniconda3/lib/python3.10/site-packages (from requests<3,>=2.21.0->tensorboard<2.13,>=2.12->tensorflow) (2023.5.7)\n",
      "Requirement already satisfied: idna<4,>=2.5 in /home/felipe/miniconda3/lib/python3.10/site-packages (from requests<3,>=2.21.0->tensorboard<2.13,>=2.12->tensorflow) (3.4)\n",
      "Requirement already satisfied: MarkupSafe>=2.1.1 in /home/felipe/miniconda3/lib/python3.10/site-packages (from werkzeug>=1.0.1->tensorboard<2.13,>=2.12->tensorflow) (2.1.1)\n",
      "Requirement already satisfied: pyasn1<0.5.0,>=0.4.6 in /home/felipe/miniconda3/lib/python3.10/site-packages (from pyasn1-modules>=0.2.1->google-auth<3,>=1.6.3->tensorboard<2.13,>=2.12->tensorflow) (0.4.8)\n",
      "Requirement already satisfied: oauthlib>=3.0.0 in /home/felipe/miniconda3/lib/python3.10/site-packages (from requests-oauthlib>=0.7.0->google-auth-oauthlib<1.1,>=0.5->tensorboard<2.13,>=2.12->tensorflow) (3.2.2)\n"
     ]
    }
   ],
   "source": [
    "# Install libraries\n",
    "! pip install tensorflow"
   ]
  },
  {
   "cell_type": "code",
   "execution_count": 3,
   "metadata": {},
   "outputs": [
    {
     "name": "stderr",
     "output_type": "stream",
     "text": [
      "2023-06-05 17:04:22.405334: I tensorflow/tsl/cuda/cudart_stub.cc:28] Could not find cuda drivers on your machine, GPU will not be used.\n",
      "2023-06-05 17:04:22.487162: I tensorflow/tsl/cuda/cudart_stub.cc:28] Could not find cuda drivers on your machine, GPU will not be used.\n",
      "2023-06-05 17:04:22.489087: I tensorflow/core/platform/cpu_feature_guard.cc:182] This TensorFlow binary is optimized to use available CPU instructions in performance-critical operations.\n",
      "To enable the following instructions: AVX2 FMA, in other operations, rebuild TensorFlow with the appropriate compiler flags.\n",
      "2023-06-05 17:04:24.313665: W tensorflow/compiler/tf2tensorrt/utils/py_utils.cc:38] TF-TRT Warning: Could not find TensorRT\n"
     ]
    }
   ],
   "source": [
    "import tensorflow as tf"
   ]
  },
  {
   "attachments": {},
   "cell_type": "markdown",
   "metadata": {},
   "source": [
    "Utilizando uma rede neural convolucional para realizar o reconhecimento de imagens. O problema que iremos abordar é a deteccao de defeito em comutadores.\n",
    "\n",
    "Ref. https://www.vicos.si/resources/kolektorsdd/"
   ]
  },
  {
   "cell_type": "code",
   "execution_count": 12,
   "metadata": {},
   "outputs": [
    {
     "name": "stdout",
     "output_type": "stream",
     "text": [
      "pandas                    1.5.3           py310h1128e8f_0  \n"
     ]
    }
   ],
   "source": [
    "! conda list | grep pandas"
   ]
  },
  {
   "attachments": {},
   "cell_type": "markdown",
   "metadata": {},
   "source": [
    "References:\n",
    "\n",
    "[1] Deep CNN-based visual defect detection: Survey of current literature - https://www-sciencedirect.ez24.periodicos.capes.gov.br/science/article/pii/S0166361523000611?via%3Dihub\n",
    "[2] "
   ]
  }
 ],
 "metadata": {
  "kernelspec": {
   "display_name": "base",
   "language": "python",
   "name": "python3"
  },
  "language_info": {
   "codemirror_mode": {
    "name": "ipython",
    "version": 3
   },
   "file_extension": ".py",
   "mimetype": "text/x-python",
   "name": "python",
   "nbconvert_exporter": "python",
   "pygments_lexer": "ipython3",
   "version": "3.10.10"
  },
  "orig_nbformat": 4
 },
 "nbformat": 4,
 "nbformat_minor": 2
}
