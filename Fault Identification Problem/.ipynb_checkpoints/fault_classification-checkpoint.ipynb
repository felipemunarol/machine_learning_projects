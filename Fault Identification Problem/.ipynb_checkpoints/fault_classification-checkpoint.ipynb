{
 "cells": [
  {
   "cell_type": "code",
   "execution_count": 301,
   "metadata": {},
   "outputs": [],
   "source": [
    "import pandas as pd\n",
    "import numpy as np\n",
    "\n",
    "from matplotlib import pyplot as plt\n",
    "import seaborn as sns\n",
    "import plotly.express as px\n",
    "\n",
    "from sklearn.svm import SVC\n",
    "from sklearn import metrics\n",
    "from sklearn.model_selection import train_test_split, cross_val_score\n",
    "from sklearn.preprocessing import MinMaxScaler, StandardScaler\n",
    "from sklearn.ensemble import RandomForestClassifier\n",
    "from sklearn.neighbors import KNeighborsClassifier\n",
    "from sklearn.tree import DecisionTreeClassifier\n",
    "from sklearn.model_selection import train_test_split\n",
    "# from xgboost import XGBClassifier\n",
    "\n",
    "rcParams = {'figure.figsize': (15 ,8)}\n",
    "\n",
    "sns.set(rc=rcParams)"
   ]
  },
  {
   "cell_type": "markdown",
   "metadata": {},
   "source": [
    "**1- Business Problem**\n",
    "\n",
    "O problema de negócio consise na classificação de tipo de faltas pelo seu padrao de ocorrência\n",
    "\n",
    "Geralmente em um sistema de energia eletrica a falta ocorre de duas maneiras, simetrica ou assimetrica. Dessa forma,\n",
    "podemos ter faltas, nas três fases A, B, C e para a terra.\n",
    "\n",
    "- Faltas Simétricas: Tipo de falta que ocorre quando há uma falta - L-L-L ou L-L-L-G;\n",
    "- Faltas Assimétricas: Tipo L-G, L-L, L-L-G"
   ]
  },
  {
   "cell_type": "markdown",
   "metadata": {},
   "source": [
    "**Hipoteses**: \n",
    "\n",
    "- **1- Correntes muito altas tendem a ter tido uma falta**\n",
    "- **2- Em uma falta há um afundamento de tensão**"
   ]
  },
  {
   "cell_type": "markdown",
   "metadata": {},
   "source": [
    "**2-Coleta**"
   ]
  },
  {
   "cell_type": "code",
   "execution_count": 302,
   "metadata": {},
   "outputs": [],
   "source": [
    "train_df = pd.read_csv(\"detect_dataset.csv\")\n",
    "class_df = pd.read_csv(\"classData.csv\")"
   ]
  },
  {
   "cell_type": "code",
   "execution_count": 303,
   "metadata": {
    "scrolled": true
   },
   "outputs": [
    {
     "data": {
      "text/html": [
       "<div>\n",
       "<style scoped>\n",
       "    .dataframe tbody tr th:only-of-type {\n",
       "        vertical-align: middle;\n",
       "    }\n",
       "\n",
       "    .dataframe tbody tr th {\n",
       "        vertical-align: top;\n",
       "    }\n",
       "\n",
       "    .dataframe thead th {\n",
       "        text-align: right;\n",
       "    }\n",
       "</style>\n",
       "<table border=\"1\" class=\"dataframe\">\n",
       "  <thead>\n",
       "    <tr style=\"text-align: right;\">\n",
       "      <th></th>\n",
       "      <th>Output (S)</th>\n",
       "      <th>Ia</th>\n",
       "      <th>Ib</th>\n",
       "      <th>Ic</th>\n",
       "      <th>Va</th>\n",
       "      <th>Vb</th>\n",
       "      <th>Vc</th>\n",
       "      <th>Unnamed: 7</th>\n",
       "      <th>Unnamed: 8</th>\n",
       "    </tr>\n",
       "  </thead>\n",
       "  <tbody>\n",
       "    <tr>\n",
       "      <th>0</th>\n",
       "      <td>0</td>\n",
       "      <td>-170.472196</td>\n",
       "      <td>9.219613</td>\n",
       "      <td>161.252583</td>\n",
       "      <td>0.054490</td>\n",
       "      <td>-0.659921</td>\n",
       "      <td>0.605431</td>\n",
       "      <td>NaN</td>\n",
       "      <td>NaN</td>\n",
       "    </tr>\n",
       "    <tr>\n",
       "      <th>1</th>\n",
       "      <td>0</td>\n",
       "      <td>-122.235754</td>\n",
       "      <td>6.168667</td>\n",
       "      <td>116.067087</td>\n",
       "      <td>0.102000</td>\n",
       "      <td>-0.628612</td>\n",
       "      <td>0.526202</td>\n",
       "      <td>NaN</td>\n",
       "      <td>NaN</td>\n",
       "    </tr>\n",
       "    <tr>\n",
       "      <th>2</th>\n",
       "      <td>0</td>\n",
       "      <td>-90.161474</td>\n",
       "      <td>3.813632</td>\n",
       "      <td>86.347841</td>\n",
       "      <td>0.141026</td>\n",
       "      <td>-0.605277</td>\n",
       "      <td>0.464251</td>\n",
       "      <td>NaN</td>\n",
       "      <td>NaN</td>\n",
       "    </tr>\n",
       "    <tr>\n",
       "      <th>3</th>\n",
       "      <td>0</td>\n",
       "      <td>-79.904916</td>\n",
       "      <td>2.398803</td>\n",
       "      <td>77.506112</td>\n",
       "      <td>0.156272</td>\n",
       "      <td>-0.602235</td>\n",
       "      <td>0.445963</td>\n",
       "      <td>NaN</td>\n",
       "      <td>NaN</td>\n",
       "    </tr>\n",
       "    <tr>\n",
       "      <th>4</th>\n",
       "      <td>0</td>\n",
       "      <td>-63.885255</td>\n",
       "      <td>0.590667</td>\n",
       "      <td>63.294587</td>\n",
       "      <td>0.180451</td>\n",
       "      <td>-0.591501</td>\n",
       "      <td>0.411050</td>\n",
       "      <td>NaN</td>\n",
       "      <td>NaN</td>\n",
       "    </tr>\n",
       "  </tbody>\n",
       "</table>\n",
       "</div>"
      ],
      "text/plain": [
       "   Output (S)          Ia        Ib          Ic        Va        Vb        Vc  \\\n",
       "0           0 -170.472196  9.219613  161.252583  0.054490 -0.659921  0.605431   \n",
       "1           0 -122.235754  6.168667  116.067087  0.102000 -0.628612  0.526202   \n",
       "2           0  -90.161474  3.813632   86.347841  0.141026 -0.605277  0.464251   \n",
       "3           0  -79.904916  2.398803   77.506112  0.156272 -0.602235  0.445963   \n",
       "4           0  -63.885255  0.590667   63.294587  0.180451 -0.591501  0.411050   \n",
       "\n",
       "   Unnamed: 7  Unnamed: 8  \n",
       "0         NaN         NaN  \n",
       "1         NaN         NaN  \n",
       "2         NaN         NaN  \n",
       "3         NaN         NaN  \n",
       "4         NaN         NaN  "
      ]
     },
     "execution_count": 303,
     "metadata": {},
     "output_type": "execute_result"
    }
   ],
   "source": [
    "train_df.head()"
   ]
  },
  {
   "cell_type": "markdown",
   "metadata": {},
   "source": [
    "**Conjunto de Dados**:\n",
    "    - IA/IB/IC-Va/Vb/Vc - Correntes tensoes em cada fase (linha)\n",
    "    - Output (S): faz a marcacao se houve falta."
   ]
  },
  {
   "cell_type": "markdown",
   "metadata": {},
   "source": [
    "**3-Preprocess**"
   ]
  },
  {
   "cell_type": "code",
   "execution_count": 403,
   "metadata": {},
   "outputs": [
    {
     "data": {
      "text/plain": [
       "Output (S)    0\n",
       "Ia            0\n",
       "Ib            0\n",
       "Ic            0\n",
       "Va            0\n",
       "Vb            0\n",
       "Vc            0\n",
       "dtype: int64"
      ]
     },
     "execution_count": 403,
     "metadata": {},
     "output_type": "execute_result"
    }
   ],
   "source": [
    "# Nulos\n",
    "train_df.isnull().sum()"
   ]
  },
  {
   "cell_type": "markdown",
   "metadata": {},
   "source": [
    "Sem valores nulos nas colunas de corrente e tensao. Colunas 7 e 8 muitos contem todos valores nulos."
   ]
  },
  {
   "cell_type": "code",
   "execution_count": 306,
   "metadata": {},
   "outputs": [],
   "source": [
    "# drop colunas sem identificacao\n",
    "train_df = train_df.drop(columns=[\"Unnamed: 7\", \"Unnamed: 8\"])"
   ]
  },
  {
   "cell_type": "code",
   "execution_count": 307,
   "metadata": {},
   "outputs": [
    {
     "data": {
      "text/html": [
       "<div>\n",
       "<style scoped>\n",
       "    .dataframe tbody tr th:only-of-type {\n",
       "        vertical-align: middle;\n",
       "    }\n",
       "\n",
       "    .dataframe tbody tr th {\n",
       "        vertical-align: top;\n",
       "    }\n",
       "\n",
       "    .dataframe thead th {\n",
       "        text-align: right;\n",
       "    }\n",
       "</style>\n",
       "<table border=\"1\" class=\"dataframe\">\n",
       "  <thead>\n",
       "    <tr style=\"text-align: right;\">\n",
       "      <th></th>\n",
       "      <th>Output (S)</th>\n",
       "      <th>Ia</th>\n",
       "      <th>Ib</th>\n",
       "      <th>Ic</th>\n",
       "      <th>Va</th>\n",
       "      <th>Vb</th>\n",
       "      <th>Vc</th>\n",
       "    </tr>\n",
       "  </thead>\n",
       "  <tbody>\n",
       "    <tr>\n",
       "      <th>count</th>\n",
       "      <td>12001.000000</td>\n",
       "      <td>12001.000000</td>\n",
       "      <td>12001.000000</td>\n",
       "      <td>12001.000000</td>\n",
       "      <td>12001.000000</td>\n",
       "      <td>12001.000000</td>\n",
       "      <td>12001.000000</td>\n",
       "    </tr>\n",
       "    <tr>\n",
       "      <th>mean</th>\n",
       "      <td>0.457962</td>\n",
       "      <td>6.709369</td>\n",
       "      <td>-26.557793</td>\n",
       "      <td>22.353043</td>\n",
       "      <td>0.010517</td>\n",
       "      <td>-0.015498</td>\n",
       "      <td>0.004980</td>\n",
       "    </tr>\n",
       "    <tr>\n",
       "      <th>std</th>\n",
       "      <td>0.498250</td>\n",
       "      <td>377.158470</td>\n",
       "      <td>357.458613</td>\n",
       "      <td>302.052809</td>\n",
       "      <td>0.346221</td>\n",
       "      <td>0.357644</td>\n",
       "      <td>0.349272</td>\n",
       "    </tr>\n",
       "    <tr>\n",
       "      <th>min</th>\n",
       "      <td>0.000000</td>\n",
       "      <td>-883.542316</td>\n",
       "      <td>-900.526951</td>\n",
       "      <td>-883.357762</td>\n",
       "      <td>-0.620748</td>\n",
       "      <td>-0.659921</td>\n",
       "      <td>-0.612709</td>\n",
       "    </tr>\n",
       "    <tr>\n",
       "      <th>25%</th>\n",
       "      <td>0.000000</td>\n",
       "      <td>-64.348986</td>\n",
       "      <td>-51.421937</td>\n",
       "      <td>-54.562257</td>\n",
       "      <td>-0.237610</td>\n",
       "      <td>-0.313721</td>\n",
       "      <td>-0.278951</td>\n",
       "    </tr>\n",
       "    <tr>\n",
       "      <th>50%</th>\n",
       "      <td>0.000000</td>\n",
       "      <td>-3.239788</td>\n",
       "      <td>4.711283</td>\n",
       "      <td>-0.399419</td>\n",
       "      <td>0.002465</td>\n",
       "      <td>-0.007192</td>\n",
       "      <td>0.008381</td>\n",
       "    </tr>\n",
       "    <tr>\n",
       "      <th>75%</th>\n",
       "      <td>1.000000</td>\n",
       "      <td>53.823453</td>\n",
       "      <td>69.637787</td>\n",
       "      <td>45.274542</td>\n",
       "      <td>0.285078</td>\n",
       "      <td>0.248681</td>\n",
       "      <td>0.289681</td>\n",
       "    </tr>\n",
       "    <tr>\n",
       "      <th>max</th>\n",
       "      <td>1.000000</td>\n",
       "      <td>885.738571</td>\n",
       "      <td>889.868884</td>\n",
       "      <td>901.274261</td>\n",
       "      <td>0.609864</td>\n",
       "      <td>0.627875</td>\n",
       "      <td>0.608243</td>\n",
       "    </tr>\n",
       "  </tbody>\n",
       "</table>\n",
       "</div>"
      ],
      "text/plain": [
       "         Output (S)            Ia            Ib            Ic            Va  \\\n",
       "count  12001.000000  12001.000000  12001.000000  12001.000000  12001.000000   \n",
       "mean       0.457962      6.709369    -26.557793     22.353043      0.010517   \n",
       "std        0.498250    377.158470    357.458613    302.052809      0.346221   \n",
       "min        0.000000   -883.542316   -900.526951   -883.357762     -0.620748   \n",
       "25%        0.000000    -64.348986    -51.421937    -54.562257     -0.237610   \n",
       "50%        0.000000     -3.239788      4.711283     -0.399419      0.002465   \n",
       "75%        1.000000     53.823453     69.637787     45.274542      0.285078   \n",
       "max        1.000000    885.738571    889.868884    901.274261      0.609864   \n",
       "\n",
       "                 Vb            Vc  \n",
       "count  12001.000000  12001.000000  \n",
       "mean      -0.015498      0.004980  \n",
       "std        0.357644      0.349272  \n",
       "min       -0.659921     -0.612709  \n",
       "25%       -0.313721     -0.278951  \n",
       "50%       -0.007192      0.008381  \n",
       "75%        0.248681      0.289681  \n",
       "max        0.627875      0.608243  "
      ]
     },
     "execution_count": 307,
     "metadata": {},
     "output_type": "execute_result"
    }
   ],
   "source": [
    "# Metricas Gerais\n",
    "train_df.describe()"
   ]
  },
  {
   "cell_type": "markdown",
   "metadata": {},
   "source": [
    "Minimo e maximo de corrente parecem estar muito longe da media ou da mediana o que pode indicar falta"
   ]
  },
  {
   "cell_type": "code",
   "execution_count": 425,
   "metadata": {},
   "outputs": [
    {
     "data": {
      "text/plain": [
       "<matplotlib.axes._subplots.AxesSubplot at 0x1eb78a64108>"
      ]
     },
     "execution_count": 425,
     "metadata": {},
     "output_type": "execute_result"
    },
    {
     "data": {
      "image/png": "[encoded data removed]",
      "text/plain": [
       "<Figure size 1080x576 with 1 Axes>"
      ]
     },
     "metadata": {},
     "output_type": "display_data"
    }
   ],
   "source": [
    "fault_class = train_df[\"Output (S)\"].value_counts().reset_index(\n",
    "                ).rename(columns={\"index\":\"class\", \"Output (S)\": \"qnt\"})\n",
    "\n",
    "\n",
    "sns.barplot(data = fault_class, x=\"class\", y=\"qnt\")"
   ]
  },
  {
   "cell_type": "markdown",
   "metadata": {},
   "source": [
    "**Correlacao com a Corrente**"
   ]
  },
  {
   "cell_type": "code",
   "execution_count": 407,
   "metadata": {},
   "outputs": [
    {
     "data": {
      "image/png": "[encoded data removed]",
      "text/plain": [
       "<Figure size 1072.42x504 with 1 Axes>"
      ]
     },
     "metadata": {},
     "output_type": "display_data"
    },
    {
     "data": {
      "image/png": "[encoded data removed]",
      "text/plain": [
       "<Figure size 1072.42x504 with 1 Axes>"
      ]
     },
     "metadata": {},
     "output_type": "display_data"
    },
    {
     "data": {
      "image/png": "[encoded data removed]",
      "text/plain": [
       "<Figure size 1072.42x504 with 1 Axes>"
      ]
     },
     "metadata": {},
     "output_type": "display_data"
    }
   ],
   "source": [
    "# Destribuicao de Corrente no conjunto de dados:\n",
    "    \n",
    "current_cols = [i for i in train_df.columns if \"I\" in i]\n",
    "\n",
    "for current_col in current_cols:\n",
    "    sns.displot(data=train_df, x=current_col, hue=\"Output (S)\", height=7, aspect=2)"
   ]
  },
  {
   "cell_type": "code",
   "execution_count": 412,
   "metadata": {},
   "outputs": [
    {
     "name": "stdout",
     "output_type": "stream",
     "text": [
      "O maximo de corrente sem falta, que existe nos dados, em cada linha, foi:\n",
      "Ia 104.0979446\n",
      "Ib 100.2471406\n",
      "Ic 161.2525827\n"
     ]
    }
   ],
   "source": [
    "print(\"O maximo de corrente sem falta, que existe nos dados, em cada linha, foi:\")\n",
    "\n",
    "for current_col in current_cols:\n",
    "    print(current_col, train_df.loc[train_df[\"Output (S)\"] == 0 ,current_col].max())"
   ]
  },
  {
   "cell_type": "markdown",
   "metadata": {},
   "source": [
    "**Hipotese 1** - Claramente vemos que nossa hipotese 1 se mostra verdadeira para uma zona de altas correntes.\n",
    "Porem para baixas correntes isso nao eh verdade. Algumas faltas ocorrem mesmo com baixas correntes em algumas linhas.\n",
    "Isso pode ser, por uma falta em uma linha não afetar o funcionamento da corrente na outra que nao sofreu a falta."
   ]
  },
  {
   "cell_type": "code",
   "execution_count": 310,
   "metadata": {},
   "outputs": [
    {
     "data": {
      "text/plain": [
       "Ia            0.039408\n",
       "Ib           -0.134028\n",
       "Ic            0.120044\n",
       "Output (S)    1.000000\n",
       "Name: Output (S), dtype: float64"
      ]
     },
     "execution_count": 310,
     "metadata": {},
     "output_type": "execute_result"
    }
   ],
   "source": [
    "curr_cols = [i for i in train_df.columns if \"I\" in i]\n",
    "train_df[curr_cols + [\"Output (S)\"]].corr()[\"Output (S)\"]"
   ]
  },
  {
   "cell_type": "markdown",
   "metadata": {},
   "source": [
    "Vemos que claramente conseguimos traçar zonas de subdivisao, porem como a correlacao nao eh linear o indice de correlacao sera\n",
    "baixo"
   ]
  },
  {
   "cell_type": "markdown",
   "metadata": {},
   "source": [
    "Vamos ver se a correlacao com o modulo da corrente aumenta um pouco mais. E incluir essa variavel no nosso dataset"
   ]
  },
  {
   "cell_type": "code",
   "execution_count": 313,
   "metadata": {
    "scrolled": false
   },
   "outputs": [],
   "source": [
    "# Deprecated: O modelo se mostrou ... TODO: Resultado\n",
    "# Criacao de variaveis modulares de corrente\n",
    "\n",
    "# curr_cols = [i for i in train_df.columns if \"I\" in i]\n",
    "# print(curr_cols)\n",
    "# train_df[curr_cols + [\"Output (S)\"]].corr()[\"Output (S)\"]\n",
    "\n",
    "# for curr_col in curr_cols:\n",
    "#     train_df[curr_col + \"_MOD\"] = train_df[curr_col].abs()\n",
    "    \n",
    "# for curr_col in curr_cols:\n",
    "#     sns.displot(data=train_df, x=curr_col, hue=\"Output (S)\", height=7, aspect=2)\n",
    "    \n",
    "# print(train_df[curr_cols + [\"Output (S)\"]].corr()[\"Output (S)\"])"
   ]
  },
  {
   "cell_type": "markdown",
   "metadata": {},
   "source": [
    "Ok, parece que agora, conseguimos ver que a corrente tem correlacao com a falta pelo indice de correlacao.\n",
    "\n",
    "Neste ponto ja conseguimos criar uma regra de separacao e testar uma modelagem em cima desses dados e criar outras features.\n",
    "\n",
    "Porem, ainda temos algumns pontos de falta que nao conseguimos classificar muito bem.\n",
    "Vamos verificar se pela tensao conseguimos utilizar esses pontos para classificao.\n",
    "\n",
    "**Consideramos a hipotese 1 validada para correntes altas, temos faltas. Porem precisamos entender se conseguimos explicar os casos de correntes baixas**"
   ]
  },
  {
   "cell_type": "markdown",
   "metadata": {},
   "source": [
    "Qual a corrente de carga do circuito?"
   ]
  },
  {
   "cell_type": "markdown",
   "metadata": {},
   "source": [
    "**Correlacao com a Tensao**"
   ]
  },
  {
   "cell_type": "code",
   "execution_count": 314,
   "metadata": {},
   "outputs": [
    {
     "data": {
      "image/png": "[encoded data removed]",
      "text/plain": [
       "<Figure size 1072.42x504 with 1 Axes>"
      ]
     },
     "metadata": {},
     "output_type": "display_data"
    },
    {
     "data": {
      "image/png": "[encoded data removed]",
      "text/plain": [
       "<Figure size 1072.42x504 with 1 Axes>"
      ]
     },
     "metadata": {},
     "output_type": "display_data"
    },
    {
     "data": {
      "image/png": "[encoded data removed]",
      "text/plain": [
       "<Figure size 1072.42x504 with 1 Axes>"
      ]
     },
     "metadata": {},
     "output_type": "display_data"
    }
   ],
   "source": [
    "# Destribuicao de Corrente no conjunto de dados:\n",
    "    \n",
    "curr_cols = [i for i in train_df.columns if \"V\" in i]\n",
    "\n",
    "for curr_col in curr_cols:\n",
    "    sns.displot(data=train_df, x=curr_col, hue=\"Output (S)\", height=7, aspect=2)"
   ]
  },
  {
   "cell_type": "markdown",
   "metadata": {},
   "source": [
    "Para a tensao **a hipotese 2 parece tambem estar confirmada, como esperavamos, em casos de falta, temos \"afundamentos\" de tensao.** Isso acontece porque em uma falta de energia, geralmente tendemos a esperar que algo tenha entrado em contato com a linha, como uma arvore encostando na linha de transmissao ou um ganho caindo.\n",
    "\n",
    "Dessa forma ao entrar em contato com um ponto de tensao 0 V, há um afundamento de tensão."
   ]
  },
  {
   "cell_type": "markdown",
   "metadata": {},
   "source": [
    "**Classificao de Padroes e Faltas**\n",
    "\n",
    "Para a classificao, vamos usar 3 metodos distintos:\n",
    "\n",
    "- 1- Máquina de Aprendizes Keras\n",
    "- 2- Treiná-las utilizando funções de perda do tipo regressão (como MSE por exemplo)\n",
    "- 3- Treiná-las utilizando funções de perda probabilísticas (Cross-entropy, KLD ou KL);\n",
    "- 4- Construir modelos autônomos bayesianos;\n",
    "- 5- Comparar as máquinas com respeito ao desempenho;"
   ]
  },
  {
   "cell_type": "code",
   "execution_count": 315,
   "metadata": {},
   "outputs": [
    {
     "data": {
      "text/plain": [
       "array([1, 1, 1, ..., 1, 1, 1])"
      ]
     },
     "execution_count": 315,
     "metadata": {},
     "output_type": "execute_result"
    }
   ],
   "source": [
    "np.where((train_df.Ia.abs() + train_df.Ib.abs() + train_df.Ic.abs())/3, 1, 0)"
   ]
  },
  {
   "cell_type": "code",
   "execution_count": 316,
   "metadata": {},
   "outputs": [
    {
     "data": {
      "text/plain": [
       "Ia    58.060938\n",
       "Ib    81.515539\n",
       "Ic    53.707382\n",
       "Name: 0.8, dtype: float64"
      ]
     },
     "execution_count": 316,
     "metadata": {},
     "output_type": "execute_result"
    }
   ],
   "source": [
    "train_df[[\"Ia\", \"Ib\", \"Ic\"]].quantile(0.8)"
   ]
  },
  {
   "cell_type": "code",
   "execution_count": 318,
   "metadata": {},
   "outputs": [
    {
     "name": "stdout",
     "output_type": "stream",
     "text": [
      "fault detection baseline current: 142.49883996\n",
      " 0    11517\n",
      "-1      484\n",
      "dtype: int64\n"
     ]
    }
   ],
   "source": [
    "# Modelo baseline. A partir de uma corrente maior que o terceiro quartil clasificamos como falta\n",
    "\n",
    "base = train_df[[\"Ia\", \"Ib\", \"Ic\"]].abs().quantile(0.4).sum()\n",
    "print(\"fault detection baseline current:\", base)\n",
    "train_df[\"predict\"] = np.where((train_df.Ia.abs() + train_df.Ib.abs() + train_df.Ic.abs())/3 > base, 1, 0)\n",
    "print((train_df[\"predict\"] - train_df[\"Output (S)\"]).value_counts())\n",
    "train_df = train_df.drop(columns=\"predict\")"
   ]
  },
  {
   "cell_type": "code",
   "execution_count": 319,
   "metadata": {},
   "outputs": [
    {
     "data": {
      "text/html": [
       "<div>\n",
       "<style scoped>\n",
       "    .dataframe tbody tr th:only-of-type {\n",
       "        vertical-align: middle;\n",
       "    }\n",
       "\n",
       "    .dataframe tbody tr th {\n",
       "        vertical-align: top;\n",
       "    }\n",
       "\n",
       "    .dataframe thead th {\n",
       "        text-align: right;\n",
       "    }\n",
       "</style>\n",
       "<table border=\"1\" class=\"dataframe\">\n",
       "  <thead>\n",
       "    <tr style=\"text-align: right;\">\n",
       "      <th></th>\n",
       "      <th>Output (S)</th>\n",
       "      <th>Ia</th>\n",
       "      <th>Ib</th>\n",
       "      <th>Ic</th>\n",
       "      <th>Va</th>\n",
       "      <th>Vb</th>\n",
       "      <th>Vc</th>\n",
       "    </tr>\n",
       "  </thead>\n",
       "  <tbody>\n",
       "    <tr>\n",
       "      <th>3719</th>\n",
       "      <td>0</td>\n",
       "      <td>45.660299</td>\n",
       "      <td>-54.171309</td>\n",
       "      <td>16.948555</td>\n",
       "      <td>0.516901</td>\n",
       "      <td>0.012025</td>\n",
       "      <td>-0.528926</td>\n",
       "    </tr>\n",
       "    <tr>\n",
       "      <th>3383</th>\n",
       "      <td>1</td>\n",
       "      <td>-678.077505</td>\n",
       "      <td>-127.244972</td>\n",
       "      <td>-45.730356</td>\n",
       "      <td>-0.038861</td>\n",
       "      <td>0.376540</td>\n",
       "      <td>-0.337679</td>\n",
       "    </tr>\n",
       "    <tr>\n",
       "      <th>11250</th>\n",
       "      <td>0</td>\n",
       "      <td>-28.779803</td>\n",
       "      <td>-9.294548</td>\n",
       "      <td>34.992499</td>\n",
       "      <td>0.504864</td>\n",
       "      <td>-0.512207</td>\n",
       "      <td>0.007343</td>\n",
       "    </tr>\n",
       "    <tr>\n",
       "      <th>10137</th>\n",
       "      <td>0</td>\n",
       "      <td>45.463479</td>\n",
       "      <td>-19.276112</td>\n",
       "      <td>-29.616915</td>\n",
       "      <td>0.398549</td>\n",
       "      <td>0.198716</td>\n",
       "      <td>-0.597265</td>\n",
       "    </tr>\n",
       "    <tr>\n",
       "      <th>5264</th>\n",
       "      <td>1</td>\n",
       "      <td>-13.532899</td>\n",
       "      <td>718.442580</td>\n",
       "      <td>-702.339783</td>\n",
       "      <td>0.335867</td>\n",
       "      <td>0.014117</td>\n",
       "      <td>-0.349985</td>\n",
       "    </tr>\n",
       "    <tr>\n",
       "      <th>2714</th>\n",
       "      <td>1</td>\n",
       "      <td>803.259300</td>\n",
       "      <td>-723.006163</td>\n",
       "      <td>-9.823158</td>\n",
       "      <td>0.003517</td>\n",
       "      <td>-0.177951</td>\n",
       "      <td>0.174433</td>\n",
       "    </tr>\n",
       "    <tr>\n",
       "      <th>11788</th>\n",
       "      <td>0</td>\n",
       "      <td>53.426324</td>\n",
       "      <td>14.581409</td>\n",
       "      <td>-70.934292</td>\n",
       "      <td>-0.043292</td>\n",
       "      <td>0.557695</td>\n",
       "      <td>-0.514403</td>\n",
       "    </tr>\n",
       "    <tr>\n",
       "      <th>10593</th>\n",
       "      <td>0</td>\n",
       "      <td>50.983647</td>\n",
       "      <td>23.181394</td>\n",
       "      <td>-77.447755</td>\n",
       "      <td>-0.092177</td>\n",
       "      <td>0.579879</td>\n",
       "      <td>-0.487701</td>\n",
       "    </tr>\n",
       "    <tr>\n",
       "      <th>4580</th>\n",
       "      <td>1</td>\n",
       "      <td>55.842343</td>\n",
       "      <td>-541.441496</td>\n",
       "      <td>488.332398</td>\n",
       "      <td>0.278205</td>\n",
       "      <td>0.027068</td>\n",
       "      <td>-0.305273</td>\n",
       "    </tr>\n",
       "    <tr>\n",
       "      <th>1888</th>\n",
       "      <td>0</td>\n",
       "      <td>-20.392695</td>\n",
       "      <td>61.344715</td>\n",
       "      <td>-44.649548</td>\n",
       "      <td>-0.606349</td>\n",
       "      <td>0.275773</td>\n",
       "      <td>0.330576</td>\n",
       "    </tr>\n",
       "    <tr>\n",
       "      <th>6060</th>\n",
       "      <td>0</td>\n",
       "      <td>-16.910154</td>\n",
       "      <td>-29.993304</td>\n",
       "      <td>49.190008</td>\n",
       "      <td>0.552816</td>\n",
       "      <td>-0.469928</td>\n",
       "      <td>-0.082889</td>\n",
       "    </tr>\n",
       "    <tr>\n",
       "      <th>6274</th>\n",
       "      <td>0</td>\n",
       "      <td>-8.761662</td>\n",
       "      <td>74.591656</td>\n",
       "      <td>-63.589990</td>\n",
       "      <td>-0.605031</td>\n",
       "      <td>0.395951</td>\n",
       "      <td>0.209079</td>\n",
       "    </tr>\n",
       "    <tr>\n",
       "      <th>4301</th>\n",
       "      <td>0</td>\n",
       "      <td>-35.791962</td>\n",
       "      <td>73.090895</td>\n",
       "      <td>-34.591449</td>\n",
       "      <td>-0.591671</td>\n",
       "      <td>0.163764</td>\n",
       "      <td>0.427907</td>\n",
       "    </tr>\n",
       "    <tr>\n",
       "      <th>3035</th>\n",
       "      <td>1</td>\n",
       "      <td>-65.377843</td>\n",
       "      <td>-729.162592</td>\n",
       "      <td>-57.052505</td>\n",
       "      <td>-0.038891</td>\n",
       "      <td>0.256436</td>\n",
       "      <td>-0.217544</td>\n",
       "    </tr>\n",
       "    <tr>\n",
       "      <th>2904</th>\n",
       "      <td>1</td>\n",
       "      <td>-737.167035</td>\n",
       "      <td>791.987110</td>\n",
       "      <td>18.603211</td>\n",
       "      <td>0.003360</td>\n",
       "      <td>0.123689</td>\n",
       "      <td>-0.127049</td>\n",
       "    </tr>\n",
       "    <tr>\n",
       "      <th>10332</th>\n",
       "      <td>0</td>\n",
       "      <td>-60.798412</td>\n",
       "      <td>92.899767</td>\n",
       "      <td>-35.467450</td>\n",
       "      <td>-0.460751</td>\n",
       "      <td>-0.110518</td>\n",
       "      <td>0.571269</td>\n",
       "    </tr>\n",
       "    <tr>\n",
       "      <th>2197</th>\n",
       "      <td>0</td>\n",
       "      <td>54.536662</td>\n",
       "      <td>-7.347588</td>\n",
       "      <td>-50.891231</td>\n",
       "      <td>-0.117076</td>\n",
       "      <td>0.572997</td>\n",
       "      <td>-0.455921</td>\n",
       "    </tr>\n",
       "    <tr>\n",
       "      <th>2379</th>\n",
       "      <td>0</td>\n",
       "      <td>-66.569780</td>\n",
       "      <td>24.628862</td>\n",
       "      <td>38.302891</td>\n",
       "      <td>-0.055802</td>\n",
       "      <td>-0.495283</td>\n",
       "      <td>0.551085</td>\n",
       "    </tr>\n",
       "    <tr>\n",
       "      <th>6279</th>\n",
       "      <td>0</td>\n",
       "      <td>-13.721103</td>\n",
       "      <td>76.695600</td>\n",
       "      <td>-60.735570</td>\n",
       "      <td>-0.611174</td>\n",
       "      <td>0.358163</td>\n",
       "      <td>0.253010</td>\n",
       "    </tr>\n",
       "    <tr>\n",
       "      <th>810</th>\n",
       "      <td>1</td>\n",
       "      <td>405.789387</td>\n",
       "      <td>-18.018644</td>\n",
       "      <td>45.074226</td>\n",
       "      <td>0.308212</td>\n",
       "      <td>-0.601041</td>\n",
       "      <td>0.292828</td>\n",
       "    </tr>\n",
       "    <tr>\n",
       "      <th>4723</th>\n",
       "      <td>1</td>\n",
       "      <td>-52.796038</td>\n",
       "      <td>-173.920258</td>\n",
       "      <td>229.147968</td>\n",
       "      <td>-0.506452</td>\n",
       "      <td>-0.040556</td>\n",
       "      <td>0.547009</td>\n",
       "    </tr>\n",
       "    <tr>\n",
       "      <th>6799</th>\n",
       "      <td>1</td>\n",
       "      <td>529.122468</td>\n",
       "      <td>349.540183</td>\n",
       "      <td>-876.532914</td>\n",
       "      <td>0.041843</td>\n",
       "      <td>-0.026684</td>\n",
       "      <td>-0.015159</td>\n",
       "    </tr>\n",
       "    <tr>\n",
       "      <th>5505</th>\n",
       "      <td>1</td>\n",
       "      <td>-38.355476</td>\n",
       "      <td>-377.284200</td>\n",
       "      <td>417.888934</td>\n",
       "      <td>-0.499365</td>\n",
       "      <td>-0.035241</td>\n",
       "      <td>0.534606</td>\n",
       "    </tr>\n",
       "    <tr>\n",
       "      <th>1365</th>\n",
       "      <td>1</td>\n",
       "      <td>-813.988588</td>\n",
       "      <td>-30.756389</td>\n",
       "      <td>-20.321872</td>\n",
       "      <td>-0.086952</td>\n",
       "      <td>0.407214</td>\n",
       "      <td>-0.320263</td>\n",
       "    </tr>\n",
       "    <tr>\n",
       "      <th>7846</th>\n",
       "      <td>0</td>\n",
       "      <td>18.390635</td>\n",
       "      <td>67.857918</td>\n",
       "      <td>-84.323687</td>\n",
       "      <td>-0.508475</td>\n",
       "      <td>0.564896</td>\n",
       "      <td>-0.056421</td>\n",
       "    </tr>\n",
       "    <tr>\n",
       "      <th>11595</th>\n",
       "      <td>0</td>\n",
       "      <td>-66.910224</td>\n",
       "      <td>40.626506</td>\n",
       "      <td>23.302370</td>\n",
       "      <td>0.084563</td>\n",
       "      <td>-0.548014</td>\n",
       "      <td>0.463450</td>\n",
       "    </tr>\n",
       "    <tr>\n",
       "      <th>8295</th>\n",
       "      <td>0</td>\n",
       "      <td>-29.072852</td>\n",
       "      <td>90.892558</td>\n",
       "      <td>-59.976176</td>\n",
       "      <td>-0.608966</td>\n",
       "      <td>0.230529</td>\n",
       "      <td>0.378437</td>\n",
       "    </tr>\n",
       "    <tr>\n",
       "      <th>3396</th>\n",
       "      <td>1</td>\n",
       "      <td>-553.051403</td>\n",
       "      <td>-303.208590</td>\n",
       "      <td>-51.942853</td>\n",
       "      <td>-0.041472</td>\n",
       "      <td>0.368348</td>\n",
       "      <td>-0.326876</td>\n",
       "    </tr>\n",
       "    <tr>\n",
       "      <th>1401</th>\n",
       "      <td>1</td>\n",
       "      <td>-511.155975</td>\n",
       "      <td>8.195217</td>\n",
       "      <td>-41.595884</td>\n",
       "      <td>-0.273140</td>\n",
       "      <td>0.584236</td>\n",
       "      <td>-0.311096</td>\n",
       "    </tr>\n",
       "    <tr>\n",
       "      <th>5207</th>\n",
       "      <td>1</td>\n",
       "      <td>-59.994066</td>\n",
       "      <td>697.156247</td>\n",
       "      <td>-634.719626</td>\n",
       "      <td>-0.083223</td>\n",
       "      <td>-0.022336</td>\n",
       "      <td>0.105560</td>\n",
       "    </tr>\n",
       "    <tr>\n",
       "      <th>1887</th>\n",
       "      <td>0</td>\n",
       "      <td>-19.427255</td>\n",
       "      <td>61.083674</td>\n",
       "      <td>-45.351409</td>\n",
       "      <td>-0.606760</td>\n",
       "      <td>0.284213</td>\n",
       "      <td>0.322547</td>\n",
       "    </tr>\n",
       "    <tr>\n",
       "      <th>4110</th>\n",
       "      <td>0</td>\n",
       "      <td>29.251560</td>\n",
       "      <td>-53.250968</td>\n",
       "      <td>26.757459</td>\n",
       "      <td>0.553382</td>\n",
       "      <td>-0.073525</td>\n",
       "      <td>-0.479857</td>\n",
       "    </tr>\n",
       "    <tr>\n",
       "      <th>2230</th>\n",
       "      <td>0</td>\n",
       "      <td>34.442397</td>\n",
       "      <td>24.832504</td>\n",
       "      <td>-62.965370</td>\n",
       "      <td>-0.396512</td>\n",
       "      <td>0.595329</td>\n",
       "      <td>-0.198817</td>\n",
       "    </tr>\n",
       "    <tr>\n",
       "      <th>11569</th>\n",
       "      <td>0</td>\n",
       "      <td>-71.330780</td>\n",
       "      <td>64.855513</td>\n",
       "      <td>3.486460</td>\n",
       "      <td>-0.160984</td>\n",
       "      <td>-0.416025</td>\n",
       "      <td>0.577009</td>\n",
       "    </tr>\n",
       "    <tr>\n",
       "      <th>4075</th>\n",
       "      <td>0</td>\n",
       "      <td>-3.271448</td>\n",
       "      <td>-46.824137</td>\n",
       "      <td>52.863483</td>\n",
       "      <td>0.593317</td>\n",
       "      <td>-0.376253</td>\n",
       "      <td>-0.217064</td>\n",
       "    </tr>\n",
       "    <tr>\n",
       "      <th>137</th>\n",
       "      <td>0</td>\n",
       "      <td>54.563479</td>\n",
       "      <td>-55.295955</td>\n",
       "      <td>0.732476</td>\n",
       "      <td>0.413099</td>\n",
       "      <td>0.177480</td>\n",
       "      <td>-0.590579</td>\n",
       "    </tr>\n",
       "    <tr>\n",
       "      <th>160</th>\n",
       "      <td>0</td>\n",
       "      <td>62.485154</td>\n",
       "      <td>-40.733610</td>\n",
       "      <td>-21.751544</td>\n",
       "      <td>0.229600</td>\n",
       "      <td>0.370705</td>\n",
       "      <td>-0.600305</td>\n",
       "    </tr>\n",
       "    <tr>\n",
       "      <th>6726</th>\n",
       "      <td>1</td>\n",
       "      <td>865.700757</td>\n",
       "      <td>-598.184764</td>\n",
       "      <td>-265.371262</td>\n",
       "      <td>0.011322</td>\n",
       "      <td>-0.041089</td>\n",
       "      <td>0.029767</td>\n",
       "    </tr>\n",
       "    <tr>\n",
       "      <th>5242</th>\n",
       "      <td>1</td>\n",
       "      <td>-34.433507</td>\n",
       "      <td>783.137922</td>\n",
       "      <td>-746.179774</td>\n",
       "      <td>0.189104</td>\n",
       "      <td>-0.000245</td>\n",
       "      <td>-0.188859</td>\n",
       "    </tr>\n",
       "    <tr>\n",
       "      <th>9370</th>\n",
       "      <td>1</td>\n",
       "      <td>-785.821136</td>\n",
       "      <td>42.889215</td>\n",
       "      <td>742.929658</td>\n",
       "      <td>-0.034658</td>\n",
       "      <td>0.038478</td>\n",
       "      <td>-0.003821</td>\n",
       "    </tr>\n",
       "    <tr>\n",
       "      <th>8839</th>\n",
       "      <td>1</td>\n",
       "      <td>10.930618</td>\n",
       "      <td>759.322752</td>\n",
       "      <td>-770.255007</td>\n",
       "      <td>0.037743</td>\n",
       "      <td>-0.002222</td>\n",
       "      <td>-0.035521</td>\n",
       "    </tr>\n",
       "    <tr>\n",
       "      <th>10854</th>\n",
       "      <td>0</td>\n",
       "      <td>-25.289467</td>\n",
       "      <td>-10.961355</td>\n",
       "      <td>33.049424</td>\n",
       "      <td>0.523088</td>\n",
       "      <td>-0.492131</td>\n",
       "      <td>-0.030958</td>\n",
       "    </tr>\n",
       "    <tr>\n",
       "      <th>9345</th>\n",
       "      <td>1</td>\n",
       "      <td>-880.573612</td>\n",
       "      <td>377.335059</td>\n",
       "      <td>503.236289</td>\n",
       "      <td>-0.022689</td>\n",
       "      <td>0.042364</td>\n",
       "      <td>-0.019674</td>\n",
       "    </tr>\n",
       "    <tr>\n",
       "      <th>2546</th>\n",
       "      <td>1</td>\n",
       "      <td>-708.757812</td>\n",
       "      <td>137.960452</td>\n",
       "      <td>-18.072002</td>\n",
       "      <td>0.037928</td>\n",
       "      <td>0.280663</td>\n",
       "      <td>-0.318591</td>\n",
       "    </tr>\n",
       "    <tr>\n",
       "      <th>2939</th>\n",
       "      <td>1</td>\n",
       "      <td>-871.161217</td>\n",
       "      <td>463.344366</td>\n",
       "      <td>-12.721707</td>\n",
       "      <td>-0.019198</td>\n",
       "      <td>0.291288</td>\n",
       "      <td>-0.272090</td>\n",
       "    </tr>\n",
       "    <tr>\n",
       "      <th>5858</th>\n",
       "      <td>0</td>\n",
       "      <td>6.850203</td>\n",
       "      <td>66.305577</td>\n",
       "      <td>-70.824416</td>\n",
       "      <td>-0.561260</td>\n",
       "      <td>0.500153</td>\n",
       "      <td>0.061108</td>\n",
       "    </tr>\n",
       "    <tr>\n",
       "      <th>10858</th>\n",
       "      <td>0</td>\n",
       "      <td>-21.412394</td>\n",
       "      <td>-13.719695</td>\n",
       "      <td>31.931921</td>\n",
       "      <td>0.539704</td>\n",
       "      <td>-0.470783</td>\n",
       "      <td>-0.068921</td>\n",
       "    </tr>\n",
       "    <tr>\n",
       "      <th>3970</th>\n",
       "      <td>0</td>\n",
       "      <td>-70.680884</td>\n",
       "      <td>42.686730</td>\n",
       "      <td>30.801701</td>\n",
       "      <td>-0.144683</td>\n",
       "      <td>-0.437931</td>\n",
       "      <td>0.582615</td>\n",
       "    </tr>\n",
       "    <tr>\n",
       "      <th>10706</th>\n",
       "      <td>0</td>\n",
       "      <td>-41.714774</td>\n",
       "      <td>97.505182</td>\n",
       "      <td>-59.037666</td>\n",
       "      <td>-0.586179</td>\n",
       "      <td>0.134463</td>\n",
       "      <td>0.451715</td>\n",
       "    </tr>\n",
       "    <tr>\n",
       "      <th>8896</th>\n",
       "      <td>1</td>\n",
       "      <td>-682.726308</td>\n",
       "      <td>826.779368</td>\n",
       "      <td>-144.055150</td>\n",
       "      <td>0.008603</td>\n",
       "      <td>0.031639</td>\n",
       "      <td>-0.040243</td>\n",
       "    </tr>\n",
       "  </tbody>\n",
       "</table>\n",
       "</div>"
      ],
      "text/plain": [
       "       Output (S)          Ia          Ib          Ic        Va        Vb  \\\n",
       "3719            0   45.660299  -54.171309   16.948555  0.516901  0.012025   \n",
       "3383            1 -678.077505 -127.244972  -45.730356 -0.038861  0.376540   \n",
       "11250           0  -28.779803   -9.294548   34.992499  0.504864 -0.512207   \n",
       "10137           0   45.463479  -19.276112  -29.616915  0.398549  0.198716   \n",
       "5264            1  -13.532899  718.442580 -702.339783  0.335867  0.014117   \n",
       "2714            1  803.259300 -723.006163   -9.823158  0.003517 -0.177951   \n",
       "11788           0   53.426324   14.581409  -70.934292 -0.043292  0.557695   \n",
       "10593           0   50.983647   23.181394  -77.447755 -0.092177  0.579879   \n",
       "4580            1   55.842343 -541.441496  488.332398  0.278205  0.027068   \n",
       "1888            0  -20.392695   61.344715  -44.649548 -0.606349  0.275773   \n",
       "6060            0  -16.910154  -29.993304   49.190008  0.552816 -0.469928   \n",
       "6274            0   -8.761662   74.591656  -63.589990 -0.605031  0.395951   \n",
       "4301            0  -35.791962   73.090895  -34.591449 -0.591671  0.163764   \n",
       "3035            1  -65.377843 -729.162592  -57.052505 -0.038891  0.256436   \n",
       "2904            1 -737.167035  791.987110   18.603211  0.003360  0.123689   \n",
       "10332           0  -60.798412   92.899767  -35.467450 -0.460751 -0.110518   \n",
       "2197            0   54.536662   -7.347588  -50.891231 -0.117076  0.572997   \n",
       "2379            0  -66.569780   24.628862   38.302891 -0.055802 -0.495283   \n",
       "6279            0  -13.721103   76.695600  -60.735570 -0.611174  0.358163   \n",
       "810             1  405.789387  -18.018644   45.074226  0.308212 -0.601041   \n",
       "4723            1  -52.796038 -173.920258  229.147968 -0.506452 -0.040556   \n",
       "6799            1  529.122468  349.540183 -876.532914  0.041843 -0.026684   \n",
       "5505            1  -38.355476 -377.284200  417.888934 -0.499365 -0.035241   \n",
       "1365            1 -813.988588  -30.756389  -20.321872 -0.086952  0.407214   \n",
       "7846            0   18.390635   67.857918  -84.323687 -0.508475  0.564896   \n",
       "11595           0  -66.910224   40.626506   23.302370  0.084563 -0.548014   \n",
       "8295            0  -29.072852   90.892558  -59.976176 -0.608966  0.230529   \n",
       "3396            1 -553.051403 -303.208590  -51.942853 -0.041472  0.368348   \n",
       "1401            1 -511.155975    8.195217  -41.595884 -0.273140  0.584236   \n",
       "5207            1  -59.994066  697.156247 -634.719626 -0.083223 -0.022336   \n",
       "1887            0  -19.427255   61.083674  -45.351409 -0.606760  0.284213   \n",
       "4110            0   29.251560  -53.250968   26.757459  0.553382 -0.073525   \n",
       "2230            0   34.442397   24.832504  -62.965370 -0.396512  0.595329   \n",
       "11569           0  -71.330780   64.855513    3.486460 -0.160984 -0.416025   \n",
       "4075            0   -3.271448  -46.824137   52.863483  0.593317 -0.376253   \n",
       "137             0   54.563479  -55.295955    0.732476  0.413099  0.177480   \n",
       "160             0   62.485154  -40.733610  -21.751544  0.229600  0.370705   \n",
       "6726            1  865.700757 -598.184764 -265.371262  0.011322 -0.041089   \n",
       "5242            1  -34.433507  783.137922 -746.179774  0.189104 -0.000245   \n",
       "9370            1 -785.821136   42.889215  742.929658 -0.034658  0.038478   \n",
       "8839            1   10.930618  759.322752 -770.255007  0.037743 -0.002222   \n",
       "10854           0  -25.289467  -10.961355   33.049424  0.523088 -0.492131   \n",
       "9345            1 -880.573612  377.335059  503.236289 -0.022689  0.042364   \n",
       "2546            1 -708.757812  137.960452  -18.072002  0.037928  0.280663   \n",
       "2939            1 -871.161217  463.344366  -12.721707 -0.019198  0.291288   \n",
       "5858            0    6.850203   66.305577  -70.824416 -0.561260  0.500153   \n",
       "10858           0  -21.412394  -13.719695   31.931921  0.539704 -0.470783   \n",
       "3970            0  -70.680884   42.686730   30.801701 -0.144683 -0.437931   \n",
       "10706           0  -41.714774   97.505182  -59.037666 -0.586179  0.134463   \n",
       "8896            1 -682.726308  826.779368 -144.055150  0.008603  0.031639   \n",
       "\n",
       "             Vc  \n",
       "3719  -0.528926  \n",
       "3383  -0.337679  \n",
       "11250  0.007343  \n",
       "10137 -0.597265  \n",
       "5264  -0.349985  \n",
       "2714   0.174433  \n",
       "11788 -0.514403  \n",
       "10593 -0.487701  \n",
       "4580  -0.305273  \n",
       "1888   0.330576  \n",
       "6060  -0.082889  \n",
       "6274   0.209079  \n",
       "4301   0.427907  \n",
       "3035  -0.217544  \n",
       "2904  -0.127049  \n",
       "10332  0.571269  \n",
       "2197  -0.455921  \n",
       "2379   0.551085  \n",
       "6279   0.253010  \n",
       "810    0.292828  \n",
       "4723   0.547009  \n",
       "6799  -0.015159  \n",
       "5505   0.534606  \n",
       "1365  -0.320263  \n",
       "7846  -0.056421  \n",
       "11595  0.463450  \n",
       "8295   0.378437  \n",
       "3396  -0.326876  \n",
       "1401  -0.311096  \n",
       "5207   0.105560  \n",
       "1887   0.322547  \n",
       "4110  -0.479857  \n",
       "2230  -0.198817  \n",
       "11569  0.577009  \n",
       "4075  -0.217064  \n",
       "137   -0.590579  \n",
       "160   -0.600305  \n",
       "6726   0.029767  \n",
       "5242  -0.188859  \n",
       "9370  -0.003821  \n",
       "8839  -0.035521  \n",
       "10854 -0.030958  \n",
       "9345  -0.019674  \n",
       "2546  -0.318591  \n",
       "2939  -0.272090  \n",
       "5858   0.061108  \n",
       "10858 -0.068921  \n",
       "3970   0.582615  \n",
       "10706  0.451715  \n",
       "8896  -0.040243  "
      ]
     },
     "execution_count": 319,
     "metadata": {},
     "output_type": "execute_result"
    }
   ],
   "source": [
    "train_df.sample(50)"
   ]
  },
  {
   "cell_type": "markdown",
   "metadata": {},
   "source": [
    "## Prepara o conjunto para os algoritmos"
   ]
  },
  {
   "cell_type": "code",
   "execution_count": 438,
   "metadata": {},
   "outputs": [
    {
     "name": "stdout",
     "output_type": "stream",
     "text": [
      "Number of traning samples 9600\n",
      "Number of validation samples 2401\n",
      "Number of features 6 Index(['Ia', 'Ib', 'Ic', 'Va', 'Vb', 'Vc'], dtype='object')\n"
     ]
    }
   ],
   "source": [
    "# Separe Dataset\n",
    "test_size=0.2\n",
    "\n",
    "features = train_df.drop(columns=\"Output (S)\")\n",
    "target = train_df[\"Output (S)\"]\n",
    "\n",
    "# Train and Validation set\n",
    "\n",
    "# Deprecates: Using train_test_split\n",
    "# num_val_samples = int(len(features) * 0.2)\n",
    "# train_features = features[:-num_val_samples]\n",
    "# train_target = target[:-num_val_samples]\n",
    "# val_features = features[-num_val_samples:]\n",
    "# val_target = target[-num_val_samples:]\n",
    "\n",
    "\n",
    "train_features, val_features, train_target, val_target = train_test_split(features, target, test_size=test_size)\n",
    "\n",
    "print(\"Number of traning samples\", len(train_features))\n",
    "print(\"Number of validation samples\", len(val_features))\n",
    "print(\"Number of features\", train_features.shape[1], train_features.columns)"
   ]
  },
  {
   "cell_type": "markdown",
   "metadata": {},
   "source": [
    "## Modelagem"
   ]
  },
  {
   "cell_type": "markdown",
   "metadata": {},
   "source": [
    "**Tensor Flow**"
   ]
  },
  {
   "cell_type": "code",
   "execution_count": 466,
   "metadata": {},
   "outputs": [],
   "source": [
    "# Installing Tensorflow\n",
    "# import sys\n",
    "# !{sys.executable} -m pip install tensorflow\n",
    "from tensorflow import keras\n",
    "from keras.callbacks import History "
   ]
  },
  {
   "cell_type": "code",
   "execution_count": 440,
   "metadata": {},
   "outputs": [],
   "source": [
    "# Prepare train and validation set - Tensorflow needs arrays\n",
    "train_features, val_features = train_features.values, val_features.values\n",
    "train_target, val_target = train_target.values.reshape(-1, 1), val_target.values.reshape(-1, 1)"
   ]
  },
  {
   "cell_type": "code",
   "execution_count": 441,
   "metadata": {},
   "outputs": [
    {
     "name": "stdout",
     "output_type": "stream",
     "text": [
      "1\n",
      "[4140 5461]\n",
      "Quantidade de faltas no dataset de treino 4383\n",
      "45.7 %\n",
      "Quantidade de faltas no dataset de validacao 1113\n",
      "46.4 %\n"
     ]
    }
   ],
   "source": [
    "# analyze class imbalance\n",
    "class_train_count = np.bincount(train_target[:, 0])\n",
    "class_valid_count = np.bincount(val_target[:, 0])\n",
    "\n",
    "print(train_target[0, 0])\n",
    "print(counts)\n",
    "print(\"Quantidade de faltas no dataset de treino\", class_train_count[1])\n",
    "print( round(class_train_count[1] / (class_train_count[0] + class_train_count[1])*100, 1 ), \"%\" )\n",
    "print(\"Quantidade de faltas no dataset de validacao\", class_valid_count[1])\n",
    "print( round(class_valid_count[1] / (class_valid_count[0] + class_valid_count[1])*100, 1 ), \"%\" )"
   ]
  },
  {
   "cell_type": "code",
   "execution_count": 442,
   "metadata": {},
   "outputs": [
    {
     "name": "stdout",
     "output_type": "stream",
     "text": [
      "train_features [[ 0.05182922 -2.096769    2.43973889 -0.50803538  0.05083699  0.45275605]\n",
      " [ 0.14838273 -0.01204281 -0.18589589  0.31466274  1.30690512 -1.65659168]\n",
      " [-0.19184304  1.71241761 -1.80362534 -0.61824548 -0.04249607  0.65828104]\n",
      " ...\n",
      " [-0.03293528  0.32408702 -0.36456171 -1.76182435  1.27699497  0.43835676]\n",
      " [ 0.12854187  0.05907495 -0.23049783 -0.16066641  1.5657746  -1.45025246]\n",
      " [ 1.33856374 -2.43258599 -0.20504798 -0.08259733  0.10254258 -0.02332833]]\n",
      "val_features [[-0.15397627  0.06156307  0.1203221   0.84725366 -1.62726609  0.83095718]\n",
      " [ 0.35108654 -2.28054637 -0.25688914 -0.12233085  0.56920082 -0.46365948]\n",
      " [-0.03467773  0.23278174 -0.25428896 -1.75673875  1.09933351  0.61597714]\n",
      " ...\n",
      " [ 0.12719083  0.12971361 -0.33033488 -0.13328201  1.59418964 -1.50669179]\n",
      " [ 0.08263036 -0.0084189  -0.07845015  1.62176061 -0.29080876 -1.31314281]\n",
      " [-0.04923045 -1.67040601  2.05687591 -1.22732133 -0.01987776  1.24049439]]\n",
      "train_target [[1]\n",
      " [0]\n",
      " [1]\n",
      " ...\n",
      " [0]\n",
      " [0]\n",
      " [1]]\n",
      "val_target [[0]\n",
      " [1]\n",
      " [0]\n",
      " ...\n",
      " [0]\n",
      " [0]\n",
      " [1]]\n"
     ]
    }
   ],
   "source": [
    "# Normalize the data using traning set statistics\n",
    "\n",
    "mean = np.mean(train_features, axis=0)\n",
    "train_features -= mean\n",
    "val_features -= mean\n",
    "std = np.std(train_features, axis=0)\n",
    "train_features /= std\n",
    "val_features /= std\n",
    "\n",
    "print(\"train_features\", train_features)\n",
    "print(\"val_features\", val_features)\n",
    "print(\"train_target\", train_target)\n",
    "print(\"val_target\", val_target)"
   ]
  },
  {
   "cell_type": "code",
   "execution_count": 443,
   "metadata": {},
   "outputs": [
    {
     "name": "stdout",
     "output_type": "stream",
     "text": [
      "Model: \"sequential_11\"\n",
      "_________________________________________________________________\n",
      " Layer (type)                Output Shape              Param #   \n",
      "=================================================================\n",
      " dense_50 (Dense)            (None, 256)               1792      \n",
      "                                                                 \n",
      " dense_51 (Dense)            (None, 256)               65792     \n",
      "                                                                 \n",
      " dropout_22 (Dropout)        (None, 256)               0         \n",
      "                                                                 \n",
      " dense_52 (Dense)            (None, 256)               65792     \n",
      "                                                                 \n",
      " dropout_23 (Dropout)        (None, 256)               0         \n",
      "                                                                 \n",
      " dense_53 (Dense)            (None, 1)                 257       \n",
      "                                                                 \n",
      "=================================================================\n",
      "Total params: 133,633\n",
      "Trainable params: 133,633\n",
      "Non-trainable params: 0\n",
      "_________________________________________________________________\n"
     ]
    }
   ],
   "source": [
    "# Criacao do modelo no Keras\n",
    "# Camada Densa: foram criadas camadas densas. As camadas densas sao camadas totalmente conectadas. Ou seja, todos os neuronios\n",
    "# de uma camada se conectam com todos os neuronios das camadas seguintes\n",
    "# Dropout: o dropout eh uma tecnica de regularizacao utilizada para reduzir o sobreajuste em redes neurais\n",
    "model = keras.Sequential(\n",
    "\n",
    "    [\n",
    "        keras.layers.Dense(\n",
    "            256, activation=\"relu\", input_shape=(train_features.shape[-1] ,)\n",
    "        ),\n",
    "        keras.layers.Dense(256, activation=\"relu\"),\n",
    "        keras.layers.Dropout(0.3),\n",
    "        keras.layers.Dense(256, activation=\"relu\"),\n",
    "        keras.layers.Dropout(0.3),\n",
    "        keras.layers.Dense(1, activation=\"sigmoid\")\n",
    "    ]\n",
    ")\n",
    "\n",
    "model.summary()"
   ]
  },
  {
   "cell_type": "code",
   "execution_count": 444,
   "metadata": {},
   "outputs": [
    {
     "name": "stdout",
     "output_type": "stream",
     "text": [
      "Epoch 1/30\n",
      "5/5 - 2s - loss: 0.1207 - fn: 1048.0000 - fp: 483.0000 - tn: 4734.0000 - tp: 3335.0000 - precision: 0.8735 - recall: 0.7609 - val_loss: 0.0334 - val_fn: 91.0000 - val_fp: 0.0000e+00 - val_tn: 1288.0000 - val_tp: 1022.0000 - val_precision: 1.0000 - val_recall: 0.9182 - 2s/epoch - 357ms/step\n",
      "Epoch 2/30\n",
      "5/5 - 0s - loss: 0.0250 - fn: 271.0000 - fp: 6.0000 - tn: 5211.0000 - tp: 4112.0000 - precision: 0.9985 - recall: 0.9382 - val_loss: 0.0174 - val_fn: 49.0000 - val_fp: 1.0000 - val_tn: 1287.0000 - val_tp: 1064.0000 - val_precision: 0.9991 - val_recall: 0.9560 - 193ms/epoch - 39ms/step\n",
      "Epoch 3/30\n",
      "5/5 - 0s - loss: 0.0135 - fn: 123.0000 - fp: 21.0000 - tn: 5196.0000 - tp: 4260.0000 - precision: 0.9951 - recall: 0.9719 - val_loss: 0.0126 - val_fn: 33.0000 - val_fp: 1.0000 - val_tn: 1287.0000 - val_tp: 1080.0000 - val_precision: 0.9991 - val_recall: 0.9704 - 172ms/epoch - 34ms/step\n",
      "Epoch 4/30\n",
      "5/5 - 0s - loss: 0.0103 - fn: 97.0000 - fp: 14.0000 - tn: 5203.0000 - tp: 4286.0000 - precision: 0.9967 - recall: 0.9779 - val_loss: 0.0112 - val_fn: 29.0000 - val_fp: 2.0000 - val_tn: 1286.0000 - val_tp: 1084.0000 - val_precision: 0.9982 - val_recall: 0.9739 - 186ms/epoch - 37ms/step\n",
      "Epoch 5/30\n",
      "5/5 - 0s - loss: 0.0083 - fn: 64.0000 - fp: 27.0000 - tn: 5190.0000 - tp: 4319.0000 - precision: 0.9938 - recall: 0.9854 - val_loss: 0.0117 - val_fn: 24.0000 - val_fp: 7.0000 - val_tn: 1281.0000 - val_tp: 1089.0000 - val_precision: 0.9936 - val_recall: 0.9784 - 195ms/epoch - 39ms/step\n",
      "Epoch 6/30\n",
      "5/5 - 0s - loss: 0.0104 - fn: 87.0000 - fp: 23.0000 - tn: 5194.0000 - tp: 4296.0000 - precision: 0.9947 - recall: 0.9802 - val_loss: 0.0134 - val_fn: 32.0000 - val_fp: 2.0000 - val_tn: 1286.0000 - val_tp: 1081.0000 - val_precision: 0.9982 - val_recall: 0.9712 - 209ms/epoch - 42ms/step\n",
      "Epoch 7/30\n",
      "5/5 - 0s - loss: 0.0107 - fn: 93.0000 - fp: 19.0000 - tn: 5198.0000 - tp: 4290.0000 - precision: 0.9956 - recall: 0.9788 - val_loss: 0.0093 - val_fn: 25.0000 - val_fp: 1.0000 - val_tn: 1287.0000 - val_tp: 1088.0000 - val_precision: 0.9991 - val_recall: 0.9775 - 199ms/epoch - 40ms/step\n",
      "Epoch 8/30\n",
      "5/5 - 0s - loss: 0.0082 - fn: 70.0000 - fp: 17.0000 - tn: 5200.0000 - tp: 4313.0000 - precision: 0.9961 - recall: 0.9840 - val_loss: 0.0094 - val_fn: 23.0000 - val_fp: 2.0000 - val_tn: 1286.0000 - val_tp: 1090.0000 - val_precision: 0.9982 - val_recall: 0.9793 - 169ms/epoch - 34ms/step\n",
      "Epoch 9/30\n",
      "5/5 - 0s - loss: 0.0083 - fn: 72.0000 - fp: 17.0000 - tn: 5200.0000 - tp: 4311.0000 - precision: 0.9961 - recall: 0.9836 - val_loss: 0.0092 - val_fn: 21.0000 - val_fp: 4.0000 - val_tn: 1284.0000 - val_tp: 1092.0000 - val_precision: 0.9964 - val_recall: 0.9811 - 172ms/epoch - 34ms/step\n",
      "Epoch 10/30\n",
      "5/5 - 0s - loss: 0.0083 - fn: 60.0000 - fp: 29.0000 - tn: 5188.0000 - tp: 4323.0000 - precision: 0.9933 - recall: 0.9863 - val_loss: 0.0105 - val_fn: 24.0000 - val_fp: 6.0000 - val_tn: 1282.0000 - val_tp: 1089.0000 - val_precision: 0.9945 - val_recall: 0.9784 - 178ms/epoch - 36ms/step\n",
      "Epoch 11/30\n",
      "5/5 - 0s - loss: 0.0075 - fn: 56.0000 - fp: 21.0000 - tn: 5196.0000 - tp: 4327.0000 - precision: 0.9952 - recall: 0.9872 - val_loss: 0.0100 - val_fn: 22.0000 - val_fp: 4.0000 - val_tn: 1284.0000 - val_tp: 1091.0000 - val_precision: 0.9963 - val_recall: 0.9802 - 189ms/epoch - 38ms/step\n",
      "Epoch 12/30\n",
      "5/5 - 0s - loss: 0.0071 - fn: 60.0000 - fp: 18.0000 - tn: 5199.0000 - tp: 4323.0000 - precision: 0.9959 - recall: 0.9863 - val_loss: 0.0093 - val_fn: 23.0000 - val_fp: 1.0000 - val_tn: 1287.0000 - val_tp: 1090.0000 - val_precision: 0.9991 - val_recall: 0.9793 - 208ms/epoch - 42ms/step\n",
      "Epoch 13/30\n",
      "5/5 - 0s - loss: 0.0075 - fn: 69.0000 - fp: 14.0000 - tn: 5203.0000 - tp: 4314.0000 - precision: 0.9968 - recall: 0.9843 - val_loss: 0.0099 - val_fn: 26.0000 - val_fp: 1.0000 - val_tn: 1287.0000 - val_tp: 1087.0000 - val_precision: 0.9991 - val_recall: 0.9766 - 190ms/epoch - 38ms/step\n",
      "Epoch 14/30\n",
      "5/5 - 0s - loss: 0.0073 - fn: 59.0000 - fp: 20.0000 - tn: 5197.0000 - tp: 4324.0000 - precision: 0.9954 - recall: 0.9865 - val_loss: 0.0092 - val_fn: 23.0000 - val_fp: 2.0000 - val_tn: 1286.0000 - val_tp: 1090.0000 - val_precision: 0.9982 - val_recall: 0.9793 - 165ms/epoch - 33ms/step\n",
      "Epoch 15/30\n",
      "5/5 - 0s - loss: 0.0083 - fn: 71.0000 - fp: 18.0000 - tn: 5199.0000 - tp: 4312.0000 - precision: 0.9958 - recall: 0.9838 - val_loss: 0.0104 - val_fn: 27.0000 - val_fp: 2.0000 - val_tn: 1286.0000 - val_tp: 1086.0000 - val_precision: 0.9982 - val_recall: 0.9757 - 185ms/epoch - 37ms/step\n",
      "Epoch 16/30\n",
      "5/5 - 0s - loss: 0.0080 - fn: 75.0000 - fp: 14.0000 - tn: 5203.0000 - tp: 4308.0000 - precision: 0.9968 - recall: 0.9829 - val_loss: 0.0097 - val_fn: 23.0000 - val_fp: 2.0000 - val_tn: 1286.0000 - val_tp: 1090.0000 - val_precision: 0.9982 - val_recall: 0.9793 - 180ms/epoch - 36ms/step\n",
      "Epoch 17/30\n",
      "5/5 - 0s - loss: 0.0080 - fn: 73.0000 - fp: 16.0000 - tn: 5201.0000 - tp: 4310.0000 - precision: 0.9963 - recall: 0.9833 - val_loss: 0.0092 - val_fn: 23.0000 - val_fp: 3.0000 - val_tn: 1285.0000 - val_tp: 1090.0000 - val_precision: 0.9973 - val_recall: 0.9793 - 213ms/epoch - 43ms/step\n",
      "Epoch 18/30\n",
      "5/5 - 0s - loss: 0.0071 - fn: 60.0000 - fp: 15.0000 - tn: 5202.0000 - tp: 4323.0000 - precision: 0.9965 - recall: 0.9863 - val_loss: 0.0078 - val_fn: 19.0000 - val_fp: 5.0000 - val_tn: 1283.0000 - val_tp: 1094.0000 - val_precision: 0.9955 - val_recall: 0.9829 - 210ms/epoch - 42ms/step\n",
      "Epoch 19/30\n",
      "5/5 - 0s - loss: 0.0057 - fn: 44.0000 - fp: 19.0000 - tn: 5198.0000 - tp: 4339.0000 - precision: 0.9956 - recall: 0.9900 - val_loss: 0.0070 - val_fn: 16.0000 - val_fp: 5.0000 - val_tn: 1283.0000 - val_tp: 1097.0000 - val_precision: 0.9955 - val_recall: 0.9856 - 173ms/epoch - 35ms/step\n",
      "Epoch 20/30\n",
      "5/5 - 0s - loss: 0.0056 - fn: 46.0000 - fp: 17.0000 - tn: 5200.0000 - tp: 4337.0000 - precision: 0.9961 - recall: 0.9895 - val_loss: 0.0045 - val_fn: 12.0000 - val_fp: 2.0000 - val_tn: 1286.0000 - val_tp: 1101.0000 - val_precision: 0.9982 - val_recall: 0.9892 - 169ms/epoch - 34ms/step\n",
      "Epoch 21/30\n",
      "5/5 - 0s - loss: 0.0051 - fn: 33.0000 - fp: 27.0000 - tn: 5190.0000 - tp: 4350.0000 - precision: 0.9938 - recall: 0.9925 - val_loss: 0.0049 - val_fn: 13.0000 - val_fp: 2.0000 - val_tn: 1286.0000 - val_tp: 1100.0000 - val_precision: 0.9982 - val_recall: 0.9883 - 175ms/epoch - 35ms/step\n",
      "Epoch 22/30\n",
      "5/5 - 0s - loss: 0.0057 - fn: 41.0000 - fp: 26.0000 - tn: 5191.0000 - tp: 4342.0000 - precision: 0.9940 - recall: 0.9906 - val_loss: 0.0104 - val_fn: 24.0000 - val_fp: 5.0000 - val_tn: 1283.0000 - val_tp: 1089.0000 - val_precision: 0.9954 - val_recall: 0.9784 - 172ms/epoch - 34ms/step\n",
      "Epoch 23/30\n",
      "5/5 - 0s - loss: 0.0075 - fn: 67.0000 - fp: 16.0000 - tn: 5201.0000 - tp: 4316.0000 - precision: 0.9963 - recall: 0.9847 - val_loss: 0.0105 - val_fn: 24.0000 - val_fp: 5.0000 - val_tn: 1283.0000 - val_tp: 1089.0000 - val_precision: 0.9954 - val_recall: 0.9784 - 182ms/epoch - 36ms/step\n",
      "Epoch 24/30\n",
      "5/5 - 0s - loss: 0.0060 - fn: 45.0000 - fp: 26.0000 - tn: 5191.0000 - tp: 4338.0000 - precision: 0.9940 - recall: 0.9897 - val_loss: 0.0063 - val_fn: 15.0000 - val_fp: 4.0000 - val_tn: 1284.0000 - val_tp: 1098.0000 - val_precision: 0.9964 - val_recall: 0.9865 - 181ms/epoch - 36ms/step\n",
      "Epoch 25/30\n",
      "5/5 - 0s - loss: 0.0062 - fn: 56.0000 - fp: 17.0000 - tn: 5200.0000 - tp: 4327.0000 - precision: 0.9961 - recall: 0.9872 - val_loss: 0.0074 - val_fn: 12.0000 - val_fp: 8.0000 - val_tn: 1280.0000 - val_tp: 1101.0000 - val_precision: 0.9928 - val_recall: 0.9892 - 165ms/epoch - 33ms/step\n",
      "Epoch 26/30\n",
      "5/5 - 0s - loss: 0.0063 - fn: 50.0000 - fp: 25.0000 - tn: 5192.0000 - tp: 4333.0000 - precision: 0.9943 - recall: 0.9886 - val_loss: 0.0061 - val_fn: 15.0000 - val_fp: 2.0000 - val_tn: 1286.0000 - val_tp: 1098.0000 - val_precision: 0.9982 - val_recall: 0.9865 - 188ms/epoch - 38ms/step\n",
      "Epoch 27/30\n",
      "5/5 - 0s - loss: 0.0054 - fn: 38.0000 - fp: 27.0000 - tn: 5190.0000 - tp: 4345.0000 - precision: 0.9938 - recall: 0.9913 - val_loss: 0.0047 - val_fn: 8.0000 - val_fp: 6.0000 - val_tn: 1282.0000 - val_tp: 1105.0000 - val_precision: 0.9946 - val_recall: 0.9928 - 205ms/epoch - 41ms/step\n",
      "Epoch 28/30\n",
      "5/5 - 0s - loss: 0.0052 - fn: 35.0000 - fp: 25.0000 - tn: 5192.0000 - tp: 4348.0000 - precision: 0.9943 - recall: 0.9920 - val_loss: 0.0066 - val_fn: 16.0000 - val_fp: 3.0000 - val_tn: 1285.0000 - val_tp: 1097.0000 - val_precision: 0.9973 - val_recall: 0.9856 - 211ms/epoch - 42ms/step\n"
     ]
    },
    {
     "name": "stdout",
     "output_type": "stream",
     "text": [
      "Epoch 29/30\n",
      "5/5 - 0s - loss: 0.0048 - fn: 36.0000 - fp: 17.0000 - tn: 5200.0000 - tp: 4347.0000 - precision: 0.9961 - recall: 0.9918 - val_loss: 0.0060 - val_fn: 14.0000 - val_fp: 4.0000 - val_tn: 1284.0000 - val_tp: 1099.0000 - val_precision: 0.9964 - val_recall: 0.9874 - 195ms/epoch - 39ms/step\n",
      "Epoch 30/30\n",
      "5/5 - 0s - loss: 0.0048 - fn: 39.0000 - fp: 17.0000 - tn: 5200.0000 - tp: 4344.0000 - precision: 0.9961 - recall: 0.9911 - val_loss: 0.0059 - val_fn: 13.0000 - val_fp: 5.0000 - val_tn: 1283.0000 - val_tp: 1100.0000 - val_precision: 0.9955 - val_recall: 0.9883 - 165ms/epoch - 33ms/step\n"
     ]
    },
    {
     "data": {
      "text/plain": [
       "<keras.callbacks.History at 0x1eb7925f448>"
      ]
     },
     "execution_count": 444,
     "metadata": {},
     "output_type": "execute_result"
    }
   ],
   "source": [
    "metrics = [\n",
    "    keras.metrics.FalseNegatives(name=\"fn\"),\n",
    "    keras.metrics.FalsePositives(name=\"fp\"),\n",
    "    keras.metrics.TrueNegatives(name=\"tn\"),\n",
    "    keras.metrics.TruePositives(name=\"tp\"),\n",
    "    keras.metrics.Precision(name=\"precision\"),\n",
    "    keras.metrics.Recall(name=\"recall\"),\n",
    "]\n",
    "\n",
    "model.compile(optimizer=keras.optimizers.Adam(1e-2), loss=\"MeanSquaredError\", metrics=metrics)\n",
    "\n",
    "model.fit(\n",
    "    train_features,\n",
    "    train_target,\n",
    "    batch_size=2048,\n",
    "    epochs=30,\n",
    "    verbose=2,\n",
    "    validation_data=(val_features, val_target)\n",
    ")"
   ]
  },
  {
   "cell_type": "code",
   "execution_count": 473,
   "metadata": {},
   "outputs": [
    {
     "name": "stdout",
     "output_type": "stream",
     "text": [
      "final result 0.9955\n"
     ]
    }
   ],
   "source": [
    "print(\"final result\", 0.9955)\n"
   ]
  },
  {
   "cell_type": "code",
   "execution_count": 463,
   "metadata": {},
   "outputs": [
    {
     "name": "stdout",
     "output_type": "stream",
     "text": [
      "Epoch 1/30\n",
      "5/5 - 2s - loss: 0.2185 - fn: 83.0000 - fp: 420.0000 - tn: 4797.0000 - tp: 4300.0000 - precision: 0.9110 - recall: 0.9811 - val_loss: 0.1023 - val_fn: 51.0000 - val_fp: 3.0000 - val_tn: 1285.0000 - val_tp: 1062.0000 - val_precision: 0.9972 - val_recall: 0.9542 - 2s/epoch - 372ms/step\n",
      "Epoch 2/30\n",
      "5/5 - 0s - loss: 0.0740 - fn: 165.0000 - fp: 13.0000 - tn: 5204.0000 - tp: 4218.0000 - precision: 0.9969 - recall: 0.9624 - val_loss: 0.0636 - val_fn: 51.0000 - val_fp: 1.0000 - val_tn: 1287.0000 - val_tp: 1062.0000 - val_precision: 0.9991 - val_recall: 0.9542 - 161ms/epoch - 32ms/step\n",
      "Epoch 3/30\n",
      "5/5 - 0s - loss: 0.0504 - fn: 143.0000 - fp: 9.0000 - tn: 5208.0000 - tp: 4240.0000 - precision: 0.9979 - recall: 0.9674 - val_loss: 0.0422 - val_fn: 35.0000 - val_fp: 2.0000 - val_tn: 1286.0000 - val_tp: 1078.0000 - val_precision: 0.9981 - val_recall: 0.9686 - 171ms/epoch - 34ms/step\n",
      "Epoch 4/30\n",
      "5/5 - 0s - loss: 0.0360 - fn: 84.0000 - fp: 19.0000 - tn: 5198.0000 - tp: 4299.0000 - precision: 0.9956 - recall: 0.9808 - val_loss: 0.0438 - val_fn: 28.0000 - val_fp: 5.0000 - val_tn: 1283.0000 - val_tp: 1085.0000 - val_precision: 0.9954 - val_recall: 0.9748 - 177ms/epoch - 35ms/step\n",
      "Epoch 5/30\n",
      "5/5 - 0s - loss: 0.0308 - fn: 63.0000 - fp: 24.0000 - tn: 5193.0000 - tp: 4320.0000 - precision: 0.9945 - recall: 0.9856 - val_loss: 0.0420 - val_fn: 27.0000 - val_fp: 3.0000 - val_tn: 1285.0000 - val_tp: 1086.0000 - val_precision: 0.9972 - val_recall: 0.9757 - 164ms/epoch - 33ms/step\n",
      "Epoch 6/30\n",
      "5/5 - 0s - loss: 0.0266 - fn: 65.0000 - fp: 16.0000 - tn: 5201.0000 - tp: 4318.0000 - precision: 0.9963 - recall: 0.9852 - val_loss: 0.0276 - val_fn: 20.0000 - val_fp: 6.0000 - val_tn: 1282.0000 - val_tp: 1093.0000 - val_precision: 0.9945 - val_recall: 0.9820 - 241ms/epoch - 48ms/step\n",
      "Epoch 7/30\n",
      "5/5 - 0s - loss: 0.0224 - fn: 54.0000 - fp: 17.0000 - tn: 5200.0000 - tp: 4329.0000 - precision: 0.9961 - recall: 0.9877 - val_loss: 0.0201 - val_fn: 12.0000 - val_fp: 4.0000 - val_tn: 1284.0000 - val_tp: 1101.0000 - val_precision: 0.9964 - val_recall: 0.9892 - 187ms/epoch - 37ms/step\n",
      "Epoch 8/30\n",
      "5/5 - 0s - loss: 0.0201 - fn: 50.0000 - fp: 22.0000 - tn: 5195.0000 - tp: 4333.0000 - precision: 0.9949 - recall: 0.9886 - val_loss: 0.0225 - val_fn: 18.0000 - val_fp: 5.0000 - val_tn: 1283.0000 - val_tp: 1095.0000 - val_precision: 0.9955 - val_recall: 0.9838 - 233ms/epoch - 47ms/step\n",
      "Epoch 9/30\n",
      "5/5 - 0s - loss: 0.0182 - fn: 51.0000 - fp: 20.0000 - tn: 5197.0000 - tp: 4332.0000 - precision: 0.9954 - recall: 0.9884 - val_loss: 0.0193 - val_fn: 15.0000 - val_fp: 5.0000 - val_tn: 1283.0000 - val_tp: 1098.0000 - val_precision: 0.9955 - val_recall: 0.9865 - 241ms/epoch - 48ms/step\n",
      "Epoch 10/30\n",
      "5/5 - 0s - loss: 0.0175 - fn: 46.0000 - fp: 24.0000 - tn: 5193.0000 - tp: 4337.0000 - precision: 0.9945 - recall: 0.9895 - val_loss: 0.0173 - val_fn: 15.0000 - val_fp: 6.0000 - val_tn: 1282.0000 - val_tp: 1098.0000 - val_precision: 0.9946 - val_recall: 0.9865 - 197ms/epoch - 39ms/step\n",
      "Epoch 11/30\n",
      "5/5 - 0s - loss: 0.0156 - fn: 30.0000 - fp: 30.0000 - tn: 5187.0000 - tp: 4353.0000 - precision: 0.9932 - recall: 0.9932 - val_loss: 0.0195 - val_fn: 17.0000 - val_fp: 4.0000 - val_tn: 1284.0000 - val_tp: 1096.0000 - val_precision: 0.9964 - val_recall: 0.9847 - 267ms/epoch - 53ms/step\n",
      "Epoch 12/30\n",
      "5/5 - 0s - loss: 0.0157 - fn: 35.0000 - fp: 20.0000 - tn: 5197.0000 - tp: 4348.0000 - precision: 0.9954 - recall: 0.9920 - val_loss: 0.0134 - val_fn: 6.0000 - val_fp: 6.0000 - val_tn: 1282.0000 - val_tp: 1107.0000 - val_precision: 0.9946 - val_recall: 0.9946 - 189ms/epoch - 38ms/step\n",
      "Epoch 13/30\n",
      "5/5 - 0s - loss: 0.0139 - fn: 32.0000 - fp: 29.0000 - tn: 5188.0000 - tp: 4351.0000 - precision: 0.9934 - recall: 0.9927 - val_loss: 0.0140 - val_fn: 11.0000 - val_fp: 4.0000 - val_tn: 1284.0000 - val_tp: 1102.0000 - val_precision: 0.9964 - val_recall: 0.9901 - 222ms/epoch - 44ms/step\n",
      "Epoch 14/30\n",
      "5/5 - 0s - loss: 0.0129 - fn: 29.0000 - fp: 24.0000 - tn: 5193.0000 - tp: 4354.0000 - precision: 0.9945 - recall: 0.9934 - val_loss: 0.0137 - val_fn: 12.0000 - val_fp: 5.0000 - val_tn: 1283.0000 - val_tp: 1101.0000 - val_precision: 0.9955 - val_recall: 0.9892 - 213ms/epoch - 43ms/step\n",
      "Epoch 15/30\n",
      "5/5 - 0s - loss: 0.0149 - fn: 36.0000 - fp: 28.0000 - tn: 5189.0000 - tp: 4347.0000 - precision: 0.9936 - recall: 0.9918 - val_loss: 0.0124 - val_fn: 8.0000 - val_fp: 5.0000 - val_tn: 1283.0000 - val_tp: 1105.0000 - val_precision: 0.9955 - val_recall: 0.9928 - 197ms/epoch - 39ms/step\n",
      "Epoch 16/30\n",
      "5/5 - 0s - loss: 0.0134 - fn: 40.0000 - fp: 22.0000 - tn: 5195.0000 - tp: 4343.0000 - precision: 0.9950 - recall: 0.9909 - val_loss: 0.0113 - val_fn: 4.0000 - val_fp: 6.0000 - val_tn: 1282.0000 - val_tp: 1109.0000 - val_precision: 0.9946 - val_recall: 0.9964 - 204ms/epoch - 41ms/step\n",
      "Epoch 17/30\n",
      "5/5 - 0s - loss: 0.0122 - fn: 25.0000 - fp: 29.0000 - tn: 5188.0000 - tp: 4358.0000 - precision: 0.9934 - recall: 0.9943 - val_loss: 0.0106 - val_fn: 4.0000 - val_fp: 5.0000 - val_tn: 1283.0000 - val_tp: 1109.0000 - val_precision: 0.9955 - val_recall: 0.9964 - 165ms/epoch - 33ms/step\n",
      "Epoch 18/30\n",
      "5/5 - 0s - loss: 0.0112 - fn: 19.0000 - fp: 35.0000 - tn: 5182.0000 - tp: 4364.0000 - precision: 0.9920 - recall: 0.9957 - val_loss: 0.0112 - val_fn: 10.0000 - val_fp: 3.0000 - val_tn: 1285.0000 - val_tp: 1103.0000 - val_precision: 0.9973 - val_recall: 0.9910 - 185ms/epoch - 37ms/step\n",
      "Epoch 19/30\n",
      "5/5 - 0s - loss: 0.0119 - fn: 33.0000 - fp: 25.0000 - tn: 5192.0000 - tp: 4350.0000 - precision: 0.9943 - recall: 0.9925 - val_loss: 0.0113 - val_fn: 5.0000 - val_fp: 8.0000 - val_tn: 1280.0000 - val_tp: 1108.0000 - val_precision: 0.9928 - val_recall: 0.9955 - 219ms/epoch - 44ms/step\n",
      "Epoch 20/30\n",
      "5/5 - 0s - loss: 0.0128 - fn: 28.0000 - fp: 30.0000 - tn: 5187.0000 - tp: 4355.0000 - precision: 0.9932 - recall: 0.9936 - val_loss: 0.0115 - val_fn: 1.0000 - val_fp: 5.0000 - val_tn: 1283.0000 - val_tp: 1112.0000 - val_precision: 0.9955 - val_recall: 0.9991 - 179ms/epoch - 36ms/step\n",
      "Epoch 21/30\n",
      "5/5 - 0s - loss: 0.0128 - fn: 16.0000 - fp: 29.0000 - tn: 5188.0000 - tp: 4367.0000 - precision: 0.9934 - recall: 0.9963 - val_loss: 0.0159 - val_fn: 7.0000 - val_fp: 6.0000 - val_tn: 1282.0000 - val_tp: 1106.0000 - val_precision: 0.9946 - val_recall: 0.9937 - 200ms/epoch - 40ms/step\n",
      "Epoch 22/30\n",
      "5/5 - 0s - loss: 0.0121 - fn: 21.0000 - fp: 27.0000 - tn: 5190.0000 - tp: 4362.0000 - precision: 0.9938 - recall: 0.9952 - val_loss: 0.0096 - val_fn: 1.0000 - val_fp: 6.0000 - val_tn: 1282.0000 - val_tp: 1112.0000 - val_precision: 0.9946 - val_recall: 0.9991 - 192ms/epoch - 38ms/step\n",
      "Epoch 23/30\n",
      "5/5 - 0s - loss: 0.0116 - fn: 22.0000 - fp: 30.0000 - tn: 5187.0000 - tp: 4361.0000 - precision: 0.9932 - recall: 0.9950 - val_loss: 0.0123 - val_fn: 7.0000 - val_fp: 6.0000 - val_tn: 1282.0000 - val_tp: 1106.0000 - val_precision: 0.9946 - val_recall: 0.9937 - 212ms/epoch - 42ms/step\n",
      "Epoch 24/30\n",
      "5/5 - 0s - loss: 0.0106 - fn: 24.0000 - fp: 20.0000 - tn: 5197.0000 - tp: 4359.0000 - precision: 0.9954 - recall: 0.9945 - val_loss: 0.0088 - val_fn: 3.0000 - val_fp: 7.0000 - val_tn: 1281.0000 - val_tp: 1110.0000 - val_precision: 0.9937 - val_recall: 0.9973 - 223ms/epoch - 45ms/step\n",
      "Epoch 25/30\n",
      "5/5 - 0s - loss: 0.0096 - fn: 14.0000 - fp: 28.0000 - tn: 5189.0000 - tp: 4369.0000 - precision: 0.9936 - recall: 0.9968 - val_loss: 0.0111 - val_fn: 7.0000 - val_fp: 6.0000 - val_tn: 1282.0000 - val_tp: 1106.0000 - val_precision: 0.9946 - val_recall: 0.9937 - 230ms/epoch - 46ms/step\n",
      "Epoch 26/30\n",
      "5/5 - 0s - loss: 0.0094 - fn: 20.0000 - fp: 26.0000 - tn: 5191.0000 - tp: 4363.0000 - precision: 0.9941 - recall: 0.9954 - val_loss: 0.0106 - val_fn: 10.0000 - val_fp: 6.0000 - val_tn: 1282.0000 - val_tp: 1103.0000 - val_precision: 0.9946 - val_recall: 0.9910 - 207ms/epoch - 41ms/step\n",
      "Epoch 27/30\n",
      "5/5 - 0s - loss: 0.0121 - fn: 27.0000 - fp: 24.0000 - tn: 5193.0000 - tp: 4356.0000 - precision: 0.9945 - recall: 0.9938 - val_loss: 0.0107 - val_fn: 2.0000 - val_fp: 8.0000 - val_tn: 1280.0000 - val_tp: 1111.0000 - val_precision: 0.9929 - val_recall: 0.9982 - 176ms/epoch - 35ms/step\n",
      "Epoch 28/30\n",
      "5/5 - 0s - loss: 0.0110 - fn: 26.0000 - fp: 28.0000 - tn: 5189.0000 - tp: 4357.0000 - precision: 0.9936 - recall: 0.9941 - val_loss: 0.0156 - val_fn: 15.0000 - val_fp: 5.0000 - val_tn: 1283.0000 - val_tp: 1098.0000 - val_precision: 0.9955 - val_recall: 0.9865 - 187ms/epoch - 37ms/step\n"
     ]
    },
    {
     "name": "stdout",
     "output_type": "stream",
     "text": [
      "Epoch 29/30\n",
      "5/5 - 0s - loss: 0.0100 - fn: 27.0000 - fp: 22.0000 - tn: 5195.0000 - tp: 4356.0000 - precision: 0.9950 - recall: 0.9938 - val_loss: 0.0087 - val_fn: 2.0000 - val_fp: 4.0000 - val_tn: 1284.0000 - val_tp: 1111.0000 - val_precision: 0.9964 - val_recall: 0.9982 - 208ms/epoch - 42ms/step\n",
      "Epoch 30/30\n",
      "5/5 - 0s - loss: 0.0095 - fn: 23.0000 - fp: 22.0000 - tn: 5195.0000 - tp: 4360.0000 - precision: 0.9950 - recall: 0.9948 - val_loss: 0.0095 - val_fn: 5.0000 - val_fp: 6.0000 - val_tn: 1282.0000 - val_tp: 1108.0000 - val_precision: 0.9946 - val_recall: 0.9955 - 228ms/epoch - 46ms/step\n"
     ]
    },
    {
     "data": {
      "text/plain": [
       "<keras.callbacks.History at 0x1eb792e9c08>"
      ]
     },
     "execution_count": 463,
     "metadata": {},
     "output_type": "execute_result"
    }
   ],
   "source": [
    "# Treinando com uma funcao de loss de crossentropia\n",
    "metrics = [\n",
    "    keras.metrics.FalseNegatives(name=\"fn\"),\n",
    "    keras.metrics.FalsePositives(name=\"fp\"),\n",
    "    keras.metrics.TrueNegatives(name=\"tn\"),\n",
    "    keras.metrics.TruePositives(name=\"tp\"),\n",
    "    keras.metrics.Precision(name=\"precision\"),\n",
    "    keras.metrics.Recall(name=\"recall\"),\n",
    "]\n",
    "\n",
    "model.compile(optimizer=keras.optimizers.Adam(1e-2), loss=\"binary_crossentropy\", metrics=metrics)\n",
    "\n",
    "model.fit(\n",
    "    train_features,\n",
    "    train_target,\n",
    "    batch_size=2048,\n",
    "    epochs=30,\n",
    "    verbose=2,\n",
    "    validation_data=(val_features, val_target)\n",
    ")"
   ]
  },
  {
   "cell_type": "code",
   "execution_count": 474,
   "metadata": {},
   "outputs": [
    {
     "name": "stdout",
     "output_type": "stream",
     "text": [
      "final result 0.9946\n"
     ]
    }
   ],
   "source": [
    "print(\"final result\", 0.9946)"
   ]
  },
  {
   "cell_type": "markdown",
   "metadata": {},
   "source": [
    "## Arvore de Decisao - Random Forest"
   ]
  },
  {
   "cell_type": "code",
   "execution_count": 358,
   "metadata": {},
   "outputs": [
    {
     "data": {
      "text/html": [
       "<div>\n",
       "<style scoped>\n",
       "    .dataframe tbody tr th:only-of-type {\n",
       "        vertical-align: middle;\n",
       "    }\n",
       "\n",
       "    .dataframe tbody tr th {\n",
       "        vertical-align: top;\n",
       "    }\n",
       "\n",
       "    .dataframe thead th {\n",
       "        text-align: right;\n",
       "    }\n",
       "</style>\n",
       "<table border=\"1\" class=\"dataframe\">\n",
       "  <thead>\n",
       "    <tr style=\"text-align: right;\">\n",
       "      <th></th>\n",
       "      <th>Ia</th>\n",
       "      <th>Ib</th>\n",
       "      <th>Ic</th>\n",
       "      <th>Va</th>\n",
       "      <th>Vb</th>\n",
       "      <th>Vc</th>\n",
       "    </tr>\n",
       "  </thead>\n",
       "  <tbody>\n",
       "    <tr>\n",
       "      <th>0</th>\n",
       "      <td>-170.472196</td>\n",
       "      <td>9.219613</td>\n",
       "      <td>161.252583</td>\n",
       "      <td>0.054490</td>\n",
       "      <td>-0.659921</td>\n",
       "      <td>0.605431</td>\n",
       "    </tr>\n",
       "    <tr>\n",
       "      <th>1</th>\n",
       "      <td>-122.235754</td>\n",
       "      <td>6.168667</td>\n",
       "      <td>116.067087</td>\n",
       "      <td>0.102000</td>\n",
       "      <td>-0.628612</td>\n",
       "      <td>0.526202</td>\n",
       "    </tr>\n",
       "    <tr>\n",
       "      <th>2</th>\n",
       "      <td>-90.161474</td>\n",
       "      <td>3.813632</td>\n",
       "      <td>86.347841</td>\n",
       "      <td>0.141026</td>\n",
       "      <td>-0.605277</td>\n",
       "      <td>0.464251</td>\n",
       "    </tr>\n",
       "    <tr>\n",
       "      <th>3</th>\n",
       "      <td>-79.904916</td>\n",
       "      <td>2.398803</td>\n",
       "      <td>77.506112</td>\n",
       "      <td>0.156272</td>\n",
       "      <td>-0.602235</td>\n",
       "      <td>0.445963</td>\n",
       "    </tr>\n",
       "    <tr>\n",
       "      <th>4</th>\n",
       "      <td>-63.885255</td>\n",
       "      <td>0.590667</td>\n",
       "      <td>63.294587</td>\n",
       "      <td>0.180451</td>\n",
       "      <td>-0.591501</td>\n",
       "      <td>0.411050</td>\n",
       "    </tr>\n",
       "    <tr>\n",
       "      <th>...</th>\n",
       "      <td>...</td>\n",
       "      <td>...</td>\n",
       "      <td>...</td>\n",
       "      <td>...</td>\n",
       "      <td>...</td>\n",
       "      <td>...</td>\n",
       "    </tr>\n",
       "    <tr>\n",
       "      <th>11996</th>\n",
       "      <td>-66.237921</td>\n",
       "      <td>38.457041</td>\n",
       "      <td>24.912239</td>\n",
       "      <td>0.094421</td>\n",
       "      <td>-0.552019</td>\n",
       "      <td>0.457598</td>\n",
       "    </tr>\n",
       "    <tr>\n",
       "      <th>11997</th>\n",
       "      <td>-65.849493</td>\n",
       "      <td>37.465454</td>\n",
       "      <td>25.515675</td>\n",
       "      <td>0.103778</td>\n",
       "      <td>-0.555186</td>\n",
       "      <td>0.451407</td>\n",
       "    </tr>\n",
       "    <tr>\n",
       "      <th>11998</th>\n",
       "      <td>-65.446698</td>\n",
       "      <td>36.472055</td>\n",
       "      <td>26.106554</td>\n",
       "      <td>0.113107</td>\n",
       "      <td>-0.558211</td>\n",
       "      <td>0.445104</td>\n",
       "    </tr>\n",
       "    <tr>\n",
       "      <th>11999</th>\n",
       "      <td>-65.029633</td>\n",
       "      <td>35.477088</td>\n",
       "      <td>26.684731</td>\n",
       "      <td>0.122404</td>\n",
       "      <td>-0.561094</td>\n",
       "      <td>0.438690</td>\n",
       "    </tr>\n",
       "    <tr>\n",
       "      <th>12000</th>\n",
       "      <td>-64.598401</td>\n",
       "      <td>34.480799</td>\n",
       "      <td>27.250065</td>\n",
       "      <td>0.131669</td>\n",
       "      <td>-0.563835</td>\n",
       "      <td>0.432166</td>\n",
       "    </tr>\n",
       "  </tbody>\n",
       "</table>\n",
       "<p>12001 rows × 6 columns</p>\n",
       "</div>"
      ],
      "text/plain": [
       "               Ia         Ib          Ic        Va        Vb        Vc\n",
       "0     -170.472196   9.219613  161.252583  0.054490 -0.659921  0.605431\n",
       "1     -122.235754   6.168667  116.067087  0.102000 -0.628612  0.526202\n",
       "2      -90.161474   3.813632   86.347841  0.141026 -0.605277  0.464251\n",
       "3      -79.904916   2.398803   77.506112  0.156272 -0.602235  0.445963\n",
       "4      -63.885255   0.590667   63.294587  0.180451 -0.591501  0.411050\n",
       "...           ...        ...         ...       ...       ...       ...\n",
       "11996  -66.237921  38.457041   24.912239  0.094421 -0.552019  0.457598\n",
       "11997  -65.849493  37.465454   25.515675  0.103778 -0.555186  0.451407\n",
       "11998  -65.446698  36.472055   26.106554  0.113107 -0.558211  0.445104\n",
       "11999  -65.029633  35.477088   26.684731  0.122404 -0.561094  0.438690\n",
       "12000  -64.598401  34.480799   27.250065  0.131669 -0.563835  0.432166\n",
       "\n",
       "[12001 rows x 6 columns]"
      ]
     },
     "execution_count": 358,
     "metadata": {},
     "output_type": "execute_result"
    }
   ],
   "source": [
    "features"
   ]
  },
  {
   "cell_type": "code",
   "execution_count": 366,
   "metadata": {},
   "outputs": [
    {
     "name": "stdout",
     "output_type": "stream",
     "text": [
      "Number of traning samples 9600\n",
      "Number of validation samples 2401\n",
      "Number of features 6\n"
     ]
    }
   ],
   "source": [
    "# Decision Trees\n",
    "train_features, val_features, train_target, val_target = train_test_split(features, target, test_size=0.2)\n",
    "\n",
    "print(\"Number of traning samples\", len(train_features))\n",
    "print(\"Number of validation samples\", len(val_features))\n",
    "print(\"Number of features\", train_features.shape[1])"
   ]
  },
  {
   "cell_type": "code",
   "execution_count": 368,
   "metadata": {},
   "outputs": [],
   "source": [
    "model = RandomForestClassifier(max_depth=2, random_state=0)\n",
    "model.fit(train_features, train_target)\n",
    "predict = model.predict(val_features)"
   ]
  },
  {
   "cell_type": "code",
   "execution_count": 340,
   "metadata": {},
   "outputs": [],
   "source": [
    "val_features[\"target\"] = val_target\n",
    "val_features[\"predict\"] = predict"
   ]
  },
  {
   "cell_type": "code",
   "execution_count": 383,
   "metadata": {},
   "outputs": [],
   "source": [
    "def confusion_matrix(df: pd.DataFrame, col1: str, col2: str):\n",
    "    \"\"\"\n",
    "    Given a dataframe with at least\n",
    "    two categorical columns, create a \n",
    "    confusion matrix of the count of the columns\n",
    "    cross-counts\n",
    "    \n",
    "    use like:\n",
    "    \n",
    "    >>> confusion_matrix(test_df, 'actual_label', 'predicted_label')\n",
    "    \"\"\"\n",
    "    return (\n",
    "            df\n",
    "            .groupby([col1, col2])\n",
    "            .size()\n",
    "            .unstack(fill_value=0)\n",
    "            )"
   ]
  },
  {
   "cell_type": "code",
   "execution_count": 397,
   "metadata": {},
   "outputs": [
    {
     "data": {
      "text/plain": [
       "0.8962932111620159"
      ]
     },
     "execution_count": 397,
     "metadata": {},
     "output_type": "execute_result"
    }
   ],
   "source": [
    "(conf_df[0][0] + conf_df[1][1]) / conf_df.sum().sum()"
   ]
  },
  {
   "cell_type": "code",
   "execution_count": 399,
   "metadata": {},
   "outputs": [
    {
     "name": "stdout",
     "output_type": "stream",
     "text": [
      "acuracia 0.8962932111620159\n"
     ]
    },
    {
     "data": {
      "text/html": [
       "<div>\n",
       "<style scoped>\n",
       "    .dataframe tbody tr th:only-of-type {\n",
       "        vertical-align: middle;\n",
       "    }\n",
       "\n",
       "    .dataframe tbody tr th {\n",
       "        vertical-align: top;\n",
       "    }\n",
       "\n",
       "    .dataframe thead th {\n",
       "        text-align: right;\n",
       "    }\n",
       "</style>\n",
       "<table border=\"1\" class=\"dataframe\">\n",
       "  <thead>\n",
       "    <tr style=\"text-align: right;\">\n",
       "      <th>predict</th>\n",
       "      <th>0</th>\n",
       "      <th>1</th>\n",
       "    </tr>\n",
       "    <tr>\n",
       "      <th>target</th>\n",
       "      <th></th>\n",
       "      <th></th>\n",
       "    </tr>\n",
       "  </thead>\n",
       "  <tbody>\n",
       "    <tr>\n",
       "      <th>0</th>\n",
       "      <td>1320</td>\n",
       "      <td>2</td>\n",
       "    </tr>\n",
       "    <tr>\n",
       "      <th>1</th>\n",
       "      <td>247</td>\n",
       "      <td>832</td>\n",
       "    </tr>\n",
       "  </tbody>\n",
       "</table>\n",
       "</div>"
      ],
      "text/plain": [
       "predict     0    1\n",
       "target            \n",
       "0        1320    2\n",
       "1         247  832"
      ]
     },
     "execution_count": 399,
     "metadata": {},
     "output_type": "execute_result"
    }
   ],
   "source": [
    "# matriz de confusao\n",
    "conf_df = confusion_matrix(val_features, \"target\", \"predict\")\n",
    "acuracia = (conf_df[0][0] + conf_df[1][1]) / conf_df.sum().sum()\n",
    "print(\"acuracia\", acuracia)\n",
    "conf_df"
   ]
  },
  {
   "cell_type": "code",
   "execution_count": 380,
   "metadata": {
    "scrolled": false
   },
   "outputs": [
    {
     "data": {
      "image/png": "[encoded data removed]",
      "text/plain": [
       "<Figure size 1053.73x504 with 1 Axes>"
      ]
     },
     "metadata": {},
     "output_type": "display_data"
    },
    {
     "data": {
      "image/png": "[encoded data removed]",
      "text/plain": [
       "<Figure size 1053.73x504 with 1 Axes>"
      ]
     },
     "metadata": {},
     "output_type": "display_data"
    },
    {
     "data": {
      "image/png": "[encoded data removed]",
      "text/plain": [
       "<Figure size 1053.73x504 with 1 Axes>"
      ]
     },
     "metadata": {},
     "output_type": "display_data"
    },
    {
     "data": {
      "image/png": "[encoded data removed]",
      "text/plain": [
       "<Figure size 1053.73x504 with 1 Axes>"
      ]
     },
     "metadata": {},
     "output_type": "display_data"
    },
    {
     "data": {
      "image/png": "[encoded data removed]",
      "text/plain": [
       "<Figure size 1053.73x504 with 1 Axes>"
      ]
     },
     "metadata": {},
     "output_type": "display_data"
    },
    {
     "data": {
      "image/png": "[encoded data removed]",
      "text/plain": [
       "<Figure size 1053.73x504 with 1 Axes>"
      ]
     },
     "metadata": {},
     "output_type": "display_data"
    },
    {
     "data": {
      "image/png": "[encoded data removed]",
      "text/plain": [
       "<Figure size 1053.73x504 with 1 Axes>"
      ]
     },
     "metadata": {},
     "output_type": "display_data"
    },
    {
     "data": {
      "image/png": "[encoded data removed]",
      "text/plain": [
       "<Figure size 1053.73x504 with 1 Axes>"
      ]
     },
     "metadata": {},
     "output_type": "display_data"
    }
   ],
   "source": [
    "for f in val_features.columns:\n",
    "    sns.displot(val_features, x=f, hue=\"predict\", height=7, aspect=2)"
   ]
  },
  {
   "cell_type": "code",
   "execution_count": 400,
   "metadata": {
    "scrolled": false
   },
   "outputs": [
    {
     "data": {
      "image/png": "[encoded data removed]",
      "text/plain": [
       "<Figure size 1053.73x504 with 1 Axes>"
      ]
     },
     "metadata": {},
     "output_type": "display_data"
    },
    {
     "data": {
      "image/png": "[encoded data removed]",
      "text/plain": [
       "<Figure size 1053.73x504 with 1 Axes>"
      ]
     },
     "metadata": {},
     "output_type": "display_data"
    },
    {
     "data": {
      "image/png": "[encoded data removed]",
      "text/plain": [
       "<Figure size 1053.73x504 with 1 Axes>"
      ]
     },
     "metadata": {},
     "output_type": "display_data"
    },
    {
     "data": {
      "image/png": "[encoded data removed]",
      "text/plain": [
       "<Figure size 1053.73x504 with 1 Axes>"
      ]
     },
     "metadata": {},
     "output_type": "display_data"
    },
    {
     "data": {
      "image/png": "[encoded data removed]",
      "text/plain": [
       "<Figure size 1053.73x504 with 1 Axes>"
      ]
     },
     "metadata": {},
     "output_type": "display_data"
    },
    {
     "data": {
      "image/png": "[encoded data removed]",
      "text/plain": [
       "<Figure size 1053.73x504 with 1 Axes>"
      ]
     },
     "metadata": {},
     "output_type": "display_data"
    },
    {
     "data": {
      "image/png": "[encoded data removed]",
      "text/plain": [
       "<Figure size 1053.73x504 with 1 Axes>"
      ]
     },
     "metadata": {},
     "output_type": "display_data"
    },
    {
     "data": {
      "image/png": "[encoded data removed]",
      "text/plain": [
       "<Figure size 1053.73x504 with 1 Axes>"
      ]
     },
     "metadata": {},
     "output_type": "display_data"
    }
   ],
   "source": [
    "# Wrong predicitions\n",
    "mistakes_df = val_features[val_features[\"target\"] != val_features[\"predict\"]]# Wrong predicitions\n",
    "mistakes_df = val_features[val_features[\"target\"] != val_features[\"predict\"]]\n",
    "\n",
    "for f in val_features.columns:\n",
    "    sns.displot(mistakes_df, x=f, hue=\"predict\", height=7, aspect=2)"
   ]
  },
  {
   "cell_type": "code",
   "execution_count": 401,
   "metadata": {},
   "outputs": [
    {
     "data": {
      "text/plain": [
       "(array([0.2237942 , 0.43614828, 0.20067834, 0.08375234, 0.02640914,\n",
       "        0.02921771]),\n",
       " Index(['Ia', 'Ib', 'Ic', 'Va', 'Vb', 'Vc', 'target', 'predict'], dtype='object'))"
      ]
     },
     "execution_count": 401,
     "metadata": {},
     "output_type": "execute_result"
    }
   ],
   "source": [
    "model.feature_importances_, val_features.columns"
   ]
  },
  {
   "cell_type": "markdown",
   "metadata": {},
   "source": [
    "## Logistic Regression"
   ]
  },
  {
   "cell_type": "code",
   "execution_count": 163,
   "metadata": {},
   "outputs": [
    {
     "data": {
      "text/plain": [
       "Index(['Output (S)', 'Ia', 'Ib', 'Ic', 'Va', 'Vb', 'Vc'], dtype='object')"
      ]
     },
     "execution_count": 163,
     "metadata": {},
     "output_type": "execute_result"
    }
   ],
   "source": [
    "train_df.columns"
   ]
  },
  {
   "cell_type": "code",
   "execution_count": 164,
   "metadata": {},
   "outputs": [],
   "source": [
    "X = train_df.drop(columns='Output (S)')\n",
    "y = train_df[\"Output (S)\"]"
   ]
  },
  {
   "cell_type": "code",
   "execution_count": 167,
   "metadata": {},
   "outputs": [],
   "source": [
    "X_train, X_test, y_train, y_test = train_test_split(X, y, test_size=0.2)"
   ]
  },
  {
   "cell_type": "code",
   "execution_count": 168,
   "metadata": {},
   "outputs": [
    {
     "data": {
      "text/plain": [
       "((9600, 6), (9600,), (2401, 6), (2401,))"
      ]
     },
     "execution_count": 168,
     "metadata": {},
     "output_type": "execute_result"
    }
   ],
   "source": [
    "X_train.shape,  y_train.shape, X_test.shape, y_test.shape"
   ]
  },
  {
   "cell_type": "code",
   "execution_count": 179,
   "metadata": {},
   "outputs": [],
   "source": [
    "model = LogisticRegression(random_state=0).fit(X_train, y_train)"
   ]
  },
  {
   "cell_type": "code",
   "execution_count": 172,
   "metadata": {},
   "outputs": [],
   "source": [
    "y_pred = model.predict(X_test)"
   ]
  },
  {
   "cell_type": "code",
   "execution_count": 178,
   "metadata": {},
   "outputs": [
    {
     "data": {
      "text/plain": [
       "0.6221198156682027"
      ]
     },
     "execution_count": 178,
     "metadata": {},
     "output_type": "execute_result"
    }
   ],
   "source": [
    "rmse(y_test, y_pred)"
   ]
  },
  {
   "cell_type": "code",
   "execution_count": null,
   "metadata": {},
   "outputs": [],
   "source": []
  },
  {
   "cell_type": "code",
   "execution_count": null,
   "metadata": {},
   "outputs": [],
   "source": [
    "model.feature_selection("
   ]
  },
  {
   "cell_type": "markdown",
   "metadata": {},
   "source": [
    "## Support Vector Machine"
   ]
  },
  {
   "cell_type": "code",
   "execution_count": 185,
   "metadata": {},
   "outputs": [],
   "source": [
    "model = SVC(gamma='auto')"
   ]
  },
  {
   "cell_type": "code",
   "execution_count": null,
   "metadata": {},
   "outputs": [],
   "source": []
  }
 ],
 "metadata": {
  "kernelspec": {
   "display_name": "fault_project",
   "language": "python",
   "name": "fault_project"
  },
  "language_info": {
   "codemirror_mode": {
    "name": "ipython",
    "version": 3
   },
   "file_extension": ".py",
   "mimetype": "text/x-python",
   "name": "python",
   "nbconvert_exporter": "python",
   "pygments_lexer": "ipython3",
   "version": "3.7.4"
  }
 },
 "nbformat": 4,
 "nbformat_minor": 4
}
