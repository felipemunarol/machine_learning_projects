{
 "cells": [
  {
   "cell_type": "markdown",
   "metadata": {},
   "source": [
    "# import pandas as pd\n",
    "import numpy as np\n",
    "import hdf5storage\n",
    "\n",
    "from matplotlib import pyplot as plt\n",
    "import seaborn as sns\n",
    "import plotly.express as px\n",
    "\n",
    "from sklearn.svm import SVC\n",
    "from sklearn import metrics\n",
    "from sklearn.model_selection import train_test_split, cross_val_score\n",
    "from sklearn.preprocessing import MinMaxScaler, StandardScaler\n",
    "from sklearn.ensemble import RandomForestClassifier\n",
    "from sklearn.neighbors import KNeighborsClassifier\n",
    "from sklearn.tree import DecisionTreeClassifier\n",
    "from sklearn.model_selection import train_test_split\n",
    "# from xgboost import XGBClassifier\n",
    "\n",
    "rcParams = {'figure.figsize': (15 ,8)}\n",
    "\n",
    "sns.set(rc=rcParams)"
   ]
  },
  {
   "cell_type": "markdown",
   "metadata": {},
   "source": [
    "**1- Business Problem**\n",
    "\n",
    "O problema de negócio consise na classificação de tipo de faltas pelo seu padrao de ocorrência\n",
    "\n",
    "Geralmente em um sistema de energia eletrica a falta ocorre de duas maneiras, simetrica ou assimetrica. Dessa forma,\n",
    "podemos ter faltas, nas três fases A, B, C e para a terra.\n",
    "\n",
    "- Faltas Simétricas: Tipo de falta que ocorre quando há uma falta - L-L-L ou L-L-L-G;\n",
    "- Faltas Assimétricas: Tipo L-G, L-L, L-L-G"
   ]
  },
  {
   "cell_type": "markdown",
   "metadata": {},
   "source": [
    "**Hipoteses**: \n",
    "\n",
    "- **1- Correntes muito altas tendem a ter tido uma falta**\n",
    "- **2- Em uma falta há um afundamento de tensão**"
   ]
  },
  {
   "cell_type": "markdown",
   "metadata": {},
   "source": [
    "**2-Coleta**"
   ]
  },
  {
   "cell_type": "code",
   "execution_count": null,
   "metadata": {},
   "outputs": [],
   "source": [
    "files = [\n",
    "    \"ia_a_g.mat\", \"ib_a_g.mat\", \"ic_a_g.mat\", \"va_a_g.mat\", \"vb_a_g.mat\", \"vc_a_g.mat\",\n",
    "    \"ia_b_g.mat\", \"ib_b_g.mat\", \"ic_b_g.mat\", \"va_b_g.mat\", \"vb_b_g.mat\", \"vc_b_g.mat\",\n",
    "    \"ia_c_g.mat\", \"ib_c_g.mat\", \"ic_c_g.mat\", \"va_c_g.mat\", \"vb_c_g.mat\", \"vc_c_g.mat\",\n",
    "    \"ia_tri_g.mat\", \"ib_tri_g.mat\", \"ic_tri_g.mat\", \"va_tri_g.mat\", \"vb_tri_g.mat\", \"vc_tri_g.mat\"\n",
    "]"
   ]
  },
  {
   "cell_type": "code",
   "execution_count": null,
   "metadata": {},
   "outputs": [],
   "source": [
    "import hdf5storage\n",
    "mat = hdf5storage.loadmat('test.mat')"
   ]
  },
  {
   "cell_type": "code",
   "execution_count": null,
   "metadata": {
    "scrolled": true
   },
   "outputs": [],
   "source": [
    "print(\"reading data\")\n",
    "for i, file in enumerate(files):\n",
    "    mat = hdf5storage.loadmat('test.mat')[\"ans\"]\n",
    "    if i == 0:\n",
    "        time = mat[0]\n",
    "        value = mat[1]\n",
    "        train_df = pd.DataFrame({\"time\": time, file: value})\n",
    "    else:\n",
    "        train_df[file] = value\n",
    "\n",
    "print(\"finished\")\n",
    "df"
   ]
  },
  {
   "cell_type": "code",
   "execution_count": null,
   "metadata": {},
   "outputs": [],
   "source": [
    "print(\"Cria a label\")\n",
    "time_fault = 0.1\n",
    "\n",
    "train_df[\"is_fault\"] = 0\n",
    "train_df.loc[df.time >= 0.1, \"is_fault\"] = 1\n",
    "train_df[\"is_fault\"]"
   ]
  },
  {
   "cell_type": "markdown",
   "metadata": {},
   "source": [
    "**Conjunto de Dados**:\n",
    "    - IA/IB/IC-Va/Vb/Vc - Correntes tensoes em cada fase (linha)\n",
    "    - Output (S): faz a marcacao se houve falta."
   ]
  },
  {
   "cell_type": "markdown",
   "metadata": {},
   "source": [
    "**3-Preprocess**"
   ]
  },
  {
   "cell_type": "code",
   "execution_count": null,
   "metadata": {},
   "outputs": [],
   "source": [
    "# Nulos\n",
    "train_df.isnull().sum()"
   ]
  },
  {
   "cell_type": "markdown",
   "metadata": {},
   "source": [
    "Sem valores nulos nas colunas de corrente e tensao. Colunas 7 e 8 muitos contem todos valores nulos."
   ]
  },
  {
   "cell_type": "code",
   "execution_count": null,
   "metadata": {},
   "outputs": [],
   "source": [
    "# Metricas Gerais\n",
    "train_df.describe()"
   ]
  },
  {
   "cell_type": "markdown",
   "metadata": {},
   "source": [
    "Minimo e maximo de corrente parecem estar muito longe da media ou da mediana o que pode indicar falta"
   ]
  },
  {
   "cell_type": "code",
   "execution_count": null,
   "metadata": {},
   "outputs": [],
   "source": [
    "fault_class = train_df[\"is_fault\"].value_counts().reset_index(\n",
    "                ).rename(columns={\"index\":\"class\", \"is_fault\": \"qnt\"})\n",
    "\n",
    "\n",
    "sns.barplot(data = fault_class, x=\"class\", y=\"qnt\")"
   ]
  },
  {
   "cell_type": "markdown",
   "metadata": {},
   "source": [
    "**Correlacao com a Corrente**"
   ]
  },
  {
   "cell_type": "code",
   "execution_count": null,
   "metadata": {
    "scrolled": true
   },
   "outputs": [],
   "source": [
    "# Destribuicao de Corrente no conjunto de dados:\n",
    "    \n",
    "current_cols = [i for i in train_df.columns if \"i\" in i]\n",
    "\n",
    "for current_col in current_cols:\n",
    "    sns.displot(data=train_df, x=current_col, hue=\"is_fault\", height=7, aspect=2)"
   ]
  },
  {
   "cell_type": "code",
   "execution_count": null,
   "metadata": {},
   "outputs": [],
   "source": [
    "print(\"O maximo de corrente sem falta, que existe nos dados, em cada linha, foi:\")\n",
    "\n",
    "for current_col in current_cols:\n",
    "    print(current_col, train_df.loc[train_df[\"is_fault\"] == 0 ,current_col].max())"
   ]
  },
  {
   "cell_type": "markdown",
   "metadata": {},
   "source": [
    "**Hipotese 1** - Claramente vemos que nossa hipotese 1 se mostra verdadeira para uma zona de altas correntes.\n",
    "Porem para baixas correntes isso nao eh verdade. Algumas faltas ocorrem mesmo com baixas correntes em algumas linhas.\n",
    "Isso pode ser, por uma falta em uma linha não afetar o funcionamento da corrente na outra que nao sofreu a falta."
   ]
  },
  {
   "cell_type": "code",
   "execution_count": null,
   "metadata": {},
   "outputs": [],
   "source": [
    "curr_cols = [i for i in train_df.columns if \"i\" in i]\n",
    "train_df[curr_cols + [\"fault\"]].corr()[\"fault\"]"
   ]
  },
  {
   "cell_type": "markdown",
   "metadata": {},
   "source": [
    "Vemos que claramente conseguimos traçar zonas de subdivisao, porem como a correlacao nao eh linear o indice de correlacao sera\n",
    "baixo"
   ]
  },
  {
   "cell_type": "markdown",
   "metadata": {},
   "source": [
    "Utilizando a correlacao com os valores modulares, vamos conseguir ver melhor essa correlacao"
   ]
  },
  {
   "cell_type": "code",
   "execution_count": null,
   "metadata": {
    "scrolled": false
   },
   "outputs": [],
   "source": [
    "# Deprecated: O modelo se mostrou ... TODO: Resultado\n",
    "# Criacao de variaveis modulares de corrente\n",
    "\n",
    "# curr_cols = [i for i in train_df.columns if \"I\" in i]\n",
    "# print(curr_cols)\n",
    "# train_df[curr_cols + [\"Output (S)\"]].corr()[\"Output (S)\"]\n",
    "\n",
    "# for curr_col in curr_cols:\n",
    "#     train_df[curr_col + \"_MOD\"] = train_df[curr_col].abs()\n",
    "    \n",
    "# for curr_col in curr_cols:\n",
    "#     sns.displot(data=train_df, x=curr_col, hue=\"Output (S)\", height=7, aspect=2)\n",
    "    \n",
    "# print(train_df[curr_cols + [\"Output (S)\"]].corr()[\"Output (S)\"])"
   ]
  },
  {
   "cell_type": "markdown",
   "metadata": {},
   "source": [
    "Ok, parece que agora, conseguimos ver que a corrente tem correlacao com a falta pelo indice de correlacao.\n",
    "\n",
    "Neste ponto ja conseguimos criar uma regra de separacao e testar uma modelagem em cima desses dados e criar outras features.\n",
    "\n",
    "Porem, ainda temos algumns pontos de falta que nao conseguimos classificar muito bem.\n",
    "Vamos verificar se pela tensao conseguimos utilizar esses pontos para classificao.\n",
    "\n",
    "**Consideramos a hipotese 1 validada para correntes altas, temos faltas. Porem precisamos entender se conseguimos explicar os casos de correntes baixas**"
   ]
  },
  {
   "cell_type": "markdown",
   "metadata": {},
   "source": [
    "Qual a corrente de carga do circuito?"
   ]
  },
  {
   "cell_type": "markdown",
   "metadata": {},
   "source": [
    "**Correlacao com a Tensao**"
   ]
  },
  {
   "cell_type": "code",
   "execution_count": null,
   "metadata": {},
   "outputs": [],
   "source": [
    "# Destribuicao de Corrente no conjunto de dados:\n",
    "    \n",
    "curr_cols = [i for i in train_df.columns if \"v\" in i]\n",
    "\n",
    "for curr_col in curr_cols:\n",
    "    sns.displot(data=train_df, x=curr_col, hue=\"fault\", height=7, aspect=2)"
   ]
  },
  {
   "cell_type": "markdown",
   "metadata": {},
   "source": [
    "Para a tensao **a hipotese 2 parece tambem estar confirmada, como esperavamos, em casos de falta, temos \"afundamentos\" de tensao.** Isso acontece porque em uma falta de energia, geralmente tendemos a esperar que algo tenha entrado em contato com a linha, como uma arvore encostando na linha de transmissao ou um ganho caindo.\n",
    "\n",
    "Dessa forma ao entrar em contato com um ponto de tensao 0 V, há um afundamento de tensão."
   ]
  },
  {
   "cell_type": "markdown",
   "metadata": {},
   "source": [
    "**Classificao de Padroes e Faltas**\n",
    "\n",
    "Para a classificao, vamos usar 3 metodos distintos:\n",
    "\n",
    "- 1- Máquina de Aprendizes Keras\n",
    "- 2- Treiná-las utilizando funções de perda do tipo regressão (como MSE por exemplo)\n",
    "- 3- Treiná-las utilizando funções de perda probabilísticas (Cross-entropy, KLD ou KL);\n",
    "- 4- Construir modelos autônomos bayesianos;\n",
    "- 5- Comparar as máquinas com respeito ao desempenho;"
   ]
  },
  {
   "cell_type": "code",
   "execution_count": null,
   "metadata": {},
   "outputs": [],
   "source": [
    "train_df[[\"ia\", \"ib\", \"ic\"]].quantile(0.8)"
   ]
  },
  {
   "cell_type": "code",
   "execution_count": null,
   "metadata": {},
   "outputs": [],
   "source": [
    "# Modelo baseline. A partir de uma corrente maior que o terceiro quartil clasificamos como falta\n",
    "\n",
    "base = train_df[[\"ia\", \"ib\", \"ic\"]].abs().quantile(0.4).sum()\n",
    "print(\"fault detection baseline current:\", base)\n",
    "train_df[\"predict\"] = np.where((train_df.ia.abs() + train_df.ib.abs() + train_df.ic.abs())/3 > base, 1, 0)\n",
    "print((train_df[\"predict\"] - train_df[\"fault\"]).value_counts())\n",
    "train_df = train_df.drop(columns=\"predict\")"
   ]
  },
  {
   "cell_type": "code",
   "execution_count": null,
   "metadata": {},
   "outputs": [],
   "source": [
    "train_df.sample()"
   ]
  },
  {
   "cell_type": "markdown",
   "metadata": {},
   "source": [
    "## Prepara o conjunto para os algoritmos"
   ]
  },
  {
   "cell_type": "code",
   "execution_count": null,
   "metadata": {},
   "outputs": [],
   "source": [
    "# Separe Dataset\n",
    "test_size=0.2\n",
    "\n",
    "features = train_df.drop(columns=\"fault\")\n",
    "target = train_df[\"fault\"]\n",
    "\n",
    "# Train and Validation set\n",
    "\n",
    "# Deprecates: Using train_test_split\n",
    "# num_val_samples = int(len(features) * 0.2)\n",
    "# train_features = features[:-num_val_samples]\n",
    "# train_target = target[:-num_val_samples]\n",
    "# val_features = features[-num_val_samples:]\n",
    "# val_target = target[-num_val_samples:]\n",
    "\n",
    "\n",
    "train_features, val_features, train_target, val_target = train_test_split(features, target, test_size=test_size)\n",
    "\n",
    "print(\"Number of traning samples\", len(train_features))\n",
    "print(\"Number of validation samples\", len(val_features))\n",
    "print(\"Number of features\", train_features.shape[1], train_features.columns)"
   ]
  },
  {
   "cell_type": "markdown",
   "metadata": {},
   "source": [
    "## Modelagem"
   ]
  },
  {
   "cell_type": "markdown",
   "metadata": {},
   "source": [
    "**Tensor Flow**"
   ]
  },
  {
   "cell_type": "code",
   "execution_count": null,
   "metadata": {},
   "outputs": [],
   "source": [
    "# Installing Tensorflow\n",
    "# import sys\n",
    "# !{sys.executable} -m pip install tensorflow\n",
    "from tensorflow import keras\n",
    "from keras.callbacks import History "
   ]
  },
  {
   "cell_type": "code",
   "execution_count": null,
   "metadata": {},
   "outputs": [],
   "source": [
    "# Prepare train and validation set - Tensorflow needs arrays\n",
    "train_features, val_features = train_features.values, val_features.values\n",
    "train_target, val_target = train_target.values.reshape(-1, 1), val_target.values.reshape(-1, 1)"
   ]
  },
  {
   "cell_type": "code",
   "execution_count": null,
   "metadata": {},
   "outputs": [],
   "source": [
    "# analyze class imbalance\n",
    "class_train_count = np.bincount(train_target[:, 0])\n",
    "class_valid_count = np.bincount(val_target[:, 0])\n",
    "\n",
    "print(train_target[0, 0])\n",
    "print(counts)\n",
    "print(\"Quantidade de faltas no dataset de treino\", class_train_count[1])\n",
    "print( round(class_train_count[1] / (class_train_count[0] + class_train_count[1])*100, 1 ), \"%\" )\n",
    "print(\"Quantidade de faltas no dataset de validacao\", class_valid_count[1])\n",
    "print( round(class_valid_count[1] / (class_valid_count[0] + class_valid_count[1])*100, 1 ), \"%\" )"
   ]
  },
  {
   "cell_type": "code",
   "execution_count": null,
   "metadata": {},
   "outputs": [],
   "source": [
    "# Normalize the data using traning set statistics\n",
    "\n",
    "mean = np.mean(train_features, axis=0)\n",
    "train_features -= mean\n",
    "val_features -= mean\n",
    "std = np.std(train_features, axis=0)\n",
    "train_features /= std\n",
    "val_features /= std\n",
    "\n",
    "print(\"train_features\", train_features)\n",
    "print(\"val_features\", val_features)\n",
    "print(\"train_target\", train_target)\n",
    "print(\"val_target\", val_target)"
   ]
  },
  {
   "cell_type": "code",
   "execution_count": null,
   "metadata": {},
   "outputs": [],
   "source": [
    "# Criacao do modelo no Keras\n",
    "# Camada Densa: foram criadas camadas densas. As camadas densas sao camadas totalmente conectadas. Ou seja, todos os neuronios\n",
    "# de uma camada se conectam com todos os neuronios das camadas seguintes\n",
    "# Dropout: o dropout eh uma tecnica de regularizacao utilizada para reduzir o sobreajuste em redes neurais\n",
    "model = keras.Sequential(\n",
    "\n",
    "    [\n",
    "        keras.layers.Dense(\n",
    "            256, activation=\"relu\", input_shape=(train_features.shape[-1] ,)\n",
    "        ),\n",
    "        keras.layers.Dense(256, activation=\"relu\"),\n",
    "        keras.layers.Dropout(0.3),\n",
    "        keras.layers.Dense(256, activation=\"relu\"),\n",
    "        keras.layers.Dropout(0.3),\n",
    "        keras.layers.Dense(1, activation=\"sigmoid\")\n",
    "    ]\n",
    ")\n",
    "\n",
    "model.summary()"
   ]
  },
  {
   "cell_type": "code",
   "execution_count": null,
   "metadata": {},
   "outputs": [],
   "source": [
    "metrics = [\n",
    "    keras.metrics.FalseNegatives(name=\"fn\"),\n",
    "    keras.metrics.FalsePositives(name=\"fp\"),\n",
    "    keras.metrics.TrueNegatives(name=\"tn\"),\n",
    "    keras.metrics.TruePositives(name=\"tp\"),\n",
    "    keras.metrics.Precision(name=\"precision\"),\n",
    "    keras.metrics.Recall(name=\"recall\"),\n",
    "]\n",
    "\n",
    "model.compile(optimizer=keras.optimizers.Adam(1e-2), loss=\"MeanSquaredError\", metrics=metrics)\n",
    "\n",
    "model.fit(\n",
    "    train_features,\n",
    "    train_target,\n",
    "    batch_size=2048,\n",
    "    epochs=30,\n",
    "    verbose=2,\n",
    "    validation_data=(val_features, val_target)\n",
    ")"
   ]
  },
  {
   "cell_type": "markdown",
   "metadata": {},
   "source": [
    "**Treinando com uma funcao de loss de crossentropia**\n",
    "\n",
    "Na teoria da informacao a entropia cruzada se refere à diferença entre duas distribuições de probabilidade p (verdadeira) e q (estimada) sobre o mesmo conjunto de eventos. Na prática a entropia cruzada mede o número de bits necessários para identificar um evento.\n"
   ]
  },
  {
   "cell_type": "code",
   "execution_count": null,
   "metadata": {},
   "outputs": [],
   "source": [
    "# Treinando com uma funcao de loss de crossentropia\n",
    "metrics = [\n",
    "    keras.metrics.FalseNegatives(name=\"fn\"),\n",
    "    keras.metrics.FalsePositives(name=\"fp\"),\n",
    "    keras.metrics.TrueNegatives(name=\"tn\"),\n",
    "    keras.metrics.TruePositives(name=\"tp\"),\n",
    "    keras.metrics.Precision(name=\"precision\"),\n",
    "    keras.metrics.Recall(name=\"recall\"),\n",
    "]\n",
    "\n",
    "model.compile(optimizer=keras.optimizers.Adam(1e-2), loss=\"binary_crossentropy\", metrics=metrics)\n",
    "\n",
    "model.fit(\n",
    "    train_features,\n",
    "    train_target,\n",
    "    batch_size=2048,\n",
    "    epochs=30,\n",
    "    verbose=2,\n",
    "    validation_data=(val_features, val_target)\n",
    ")"
   ]
  },
  {
   "cell_type": "code",
   "execution_count": null,
   "metadata": {},
   "outputs": [],
   "source": [
    "metrics = [\n",
    "    keras.metrics.FalseNegatives(name=\"fn\"),\n",
    "    keras.metrics.FalsePositives(name=\"fp\"),\n",
    "    keras.metrics.TrueNegatives(name=\"tn\"),\n",
    "    keras.metrics.TruePositives(name=\"tp\"),\n",
    "    keras.metrics.Precision(name=\"precision\"),\n",
    "    keras.metrics.Recall(name=\"recall\"),\n",
    "]\n",
    "\n",
    "model.compile(optimizer=keras.optimizers.Adam(1e-2), loss=keras.losses.KLDivergence(), metrics=metrics)\n",
    "\n",
    "model.fit(\n",
    "    train_features,\n",
    "    train_target,\n",
    "    batch_size=2048,\n",
    "    epochs=30,\n",
    "    verbose=2,\n",
    "    validation_data=(val_features, val_target)\n",
    ")"
   ]
  },
  {
   "cell_type": "code",
   "execution_count": null,
   "metadata": {},
   "outputs": [],
   "source": [
    "metrics = [\n",
    "    keras.metrics.FalseNegatives(name=\"fn\"),\n",
    "    keras.metrics.FalsePositives(name=\"fp\"),\n",
    "    keras.metrics.TrueNegatives(name=\"tn\"),\n",
    "    keras.metrics.TruePositives(name=\"tp\"),\n",
    "    keras.metrics.Precision(name=\"precision\"),\n",
    "    keras.metrics.Recall(name=\"recall\"),\n",
    "]\n",
    "\n",
    "model.compile(optimizer=keras.optimizers.Adam(1e-2), loss=keras.losses.BinaryCrossentropy(), metrics=metrics)\n",
    "\n",
    "model.fit(\n",
    "    train_features,\n",
    "    train_target,\n",
    "    batch_size=2048,\n",
    "    epochs=30,\n",
    "    verbose=2,\n",
    "    validation_data=(val_features, val_target)\n",
    ")"
   ]
  },
  {
   "cell_type": "code",
   "execution_count": null,
   "metadata": {},
   "outputs": [],
   "source": [
    "# Cross validation and final results\n",
    "scores = cross_val_score(model, X, y, cv=5)\n",
    "print(\"scores\", scores, \"mean\", scores.mean(), \"std\", scores.std() )"
   ]
  },
  {
   "cell_type": "markdown",
   "metadata": {},
   "source": [
    "## Arvore de Decisao - Random Forest"
   ]
  },
  {
   "cell_type": "code",
   "execution_count": 37,
   "metadata": {},
   "outputs": [
    {
     "data": {
      "text/html": [
       "<div>\n",
       "<style scoped>\n",
       "    .dataframe tbody tr th:only-of-type {\n",
       "        vertical-align: middle;\n",
       "    }\n",
       "\n",
       "    .dataframe tbody tr th {\n",
       "        vertical-align: top;\n",
       "    }\n",
       "\n",
       "    .dataframe thead th {\n",
       "        text-align: right;\n",
       "    }\n",
       "</style>\n",
       "<table border=\"1\" class=\"dataframe\">\n",
       "  <thead>\n",
       "    <tr style=\"text-align: right;\">\n",
       "      <th></th>\n",
       "      <th>Unnamed: 0</th>\n",
       "      <th>ia</th>\n",
       "      <th>ib</th>\n",
       "      <th>ic</th>\n",
       "      <th>va</th>\n",
       "      <th>vc</th>\n",
       "    </tr>\n",
       "  </thead>\n",
       "  <tbody>\n",
       "    <tr>\n",
       "      <th>0</th>\n",
       "      <td>0.000</td>\n",
       "      <td>-4.635397e+03</td>\n",
       "      <td>-8308.281514</td>\n",
       "      <td>12943.678793</td>\n",
       "      <td>2222.100398</td>\n",
       "      <td>10635.330235</td>\n",
       "    </tr>\n",
       "    <tr>\n",
       "      <th>1</th>\n",
       "      <td>0.001</td>\n",
       "      <td>-6.169404e+02</td>\n",
       "      <td>-11037.946589</td>\n",
       "      <td>11654.886955</td>\n",
       "      <td>6304.711055</td>\n",
       "      <td>7424.445254</td>\n",
       "    </tr>\n",
       "    <tr>\n",
       "      <th>2</th>\n",
       "      <td>0.002</td>\n",
       "      <td>3.461907e+03</td>\n",
       "      <td>-12687.140559</td>\n",
       "      <td>9225.233580</td>\n",
       "      <td>9770.172680</td>\n",
       "      <td>3486.803837</td>\n",
       "    </tr>\n",
       "    <tr>\n",
       "      <th>3</th>\n",
       "      <td>0.003</td>\n",
       "      <td>7.201879e+03</td>\n",
       "      <td>-13094.428821</td>\n",
       "      <td>5892.550067</td>\n",
       "      <td>12279.261737</td>\n",
       "      <td>-792.150235</td>\n",
       "    </tr>\n",
       "    <tr>\n",
       "      <th>4</th>\n",
       "      <td>0.004</td>\n",
       "      <td>1.023688e+04</td>\n",
       "      <td>-12219.943157</td>\n",
       "      <td>1983.062698</td>\n",
       "      <td>13586.371102</td>\n",
       "      <td>-4993.563124</td>\n",
       "    </tr>\n",
       "    <tr>\n",
       "      <th>...</th>\n",
       "      <td>...</td>\n",
       "      <td>...</td>\n",
       "      <td>...</td>\n",
       "      <td>...</td>\n",
       "      <td>...</td>\n",
       "      <td>...</td>\n",
       "    </tr>\n",
       "    <tr>\n",
       "      <th>196</th>\n",
       "      <td>0.196</td>\n",
       "      <td>-8.541877e-03</td>\n",
       "      <td>0.001867</td>\n",
       "      <td>0.006675</td>\n",
       "      <td>-0.001147</td>\n",
       "      <td>0.004055</td>\n",
       "    </tr>\n",
       "    <tr>\n",
       "      <th>197</th>\n",
       "      <td>0.197</td>\n",
       "      <td>-7.266155e-03</td>\n",
       "      <td>-0.000939</td>\n",
       "      <td>0.008205</td>\n",
       "      <td>0.000553</td>\n",
       "      <td>0.004978</td>\n",
       "    </tr>\n",
       "    <tr>\n",
       "      <th>198</th>\n",
       "      <td>0.198</td>\n",
       "      <td>-5.279172e-03</td>\n",
       "      <td>-0.003653</td>\n",
       "      <td>0.008932</td>\n",
       "      <td>0.002199</td>\n",
       "      <td>0.005414</td>\n",
       "    </tr>\n",
       "    <tr>\n",
       "      <th>199</th>\n",
       "      <td>0.199</td>\n",
       "      <td>-2.775426e-03</td>\n",
       "      <td>-0.006010</td>\n",
       "      <td>0.008785</td>\n",
       "      <td>0.003630</td>\n",
       "      <td>0.005320</td>\n",
       "    </tr>\n",
       "    <tr>\n",
       "      <th>200</th>\n",
       "      <td>0.200</td>\n",
       "      <td>-2.173513e-09</td>\n",
       "      <td>-0.007778</td>\n",
       "      <td>0.007778</td>\n",
       "      <td>0.004705</td>\n",
       "      <td>0.004706</td>\n",
       "    </tr>\n",
       "  </tbody>\n",
       "</table>\n",
       "<p>201 rows × 6 columns</p>\n",
       "</div>"
      ],
      "text/plain": [
       "     Unnamed: 0            ia            ib            ic            va  \\\n",
       "0         0.000 -4.635397e+03  -8308.281514  12943.678793   2222.100398   \n",
       "1         0.001 -6.169404e+02 -11037.946589  11654.886955   6304.711055   \n",
       "2         0.002  3.461907e+03 -12687.140559   9225.233580   9770.172680   \n",
       "3         0.003  7.201879e+03 -13094.428821   5892.550067  12279.261737   \n",
       "4         0.004  1.023688e+04 -12219.943157   1983.062698  13586.371102   \n",
       "..          ...           ...           ...           ...           ...   \n",
       "196       0.196 -8.541877e-03      0.001867      0.006675     -0.001147   \n",
       "197       0.197 -7.266155e-03     -0.000939      0.008205      0.000553   \n",
       "198       0.198 -5.279172e-03     -0.003653      0.008932      0.002199   \n",
       "199       0.199 -2.775426e-03     -0.006010      0.008785      0.003630   \n",
       "200       0.200 -2.173513e-09     -0.007778      0.007778      0.004705   \n",
       "\n",
       "               vc  \n",
       "0    10635.330235  \n",
       "1     7424.445254  \n",
       "2     3486.803837  \n",
       "3     -792.150235  \n",
       "4    -4993.563124  \n",
       "..            ...  \n",
       "196      0.004055  \n",
       "197      0.004978  \n",
       "198      0.005414  \n",
       "199      0.005320  \n",
       "200      0.004706  \n",
       "\n",
       "[201 rows x 6 columns]"
      ]
     },
     "execution_count": 37,
     "metadata": {},
     "output_type": "execute_result"
    }
   ],
   "source": [
    "features"
   ]
  },
  {
   "cell_type": "code",
   "execution_count": 38,
   "metadata": {},
   "outputs": [
    {
     "name": "stdout",
     "output_type": "stream",
     "text": [
      "Number of traning samples 160\n",
      "Number of validation samples 41\n",
      "Number of features 6\n"
     ]
    }
   ],
   "source": [
    "# Decision Trees\n",
    "train_features, val_features, train_target, val_target = train_test_split(features, target, test_size=0.2)\n",
    "\n",
    "print(\"Number of traning samples\", len(train_features))\n",
    "print(\"Number of validation samples\", len(val_features))\n",
    "print(\"Number of features\", train_features.shape[1])"
   ]
  },
  {
   "cell_type": "code",
   "execution_count": 39,
   "metadata": {},
   "outputs": [],
   "source": [
    "model = RandomForestClassifier(max_depth=2, random_state=0)\n",
    "model.fit(train_features, train_target)\n",
    "predict = model.predict(val_features)"
   ]
  },
  {
   "cell_type": "code",
   "execution_count": 40,
   "metadata": {},
   "outputs": [
    {
     "name": "stderr",
     "output_type": "stream",
     "text": [
      "C:\\Users\\felip\\AppData\\Roaming\\Python\\Python37\\site-packages\\ipykernel_launcher.py:1: SettingWithCopyWarning:\n",
      "\n",
      "\n",
      "A value is trying to be set on a copy of a slice from a DataFrame.\n",
      "Try using .loc[row_indexer,col_indexer] = value instead\n",
      "\n",
      "See the caveats in the documentation: https://pandas.pydata.org/pandas-docs/stable/user_guide/indexing.html#returning-a-view-versus-a-copy\n",
      "\n",
      "C:\\Users\\felip\\AppData\\Roaming\\Python\\Python37\\site-packages\\ipykernel_launcher.py:2: SettingWithCopyWarning:\n",
      "\n",
      "\n",
      "A value is trying to be set on a copy of a slice from a DataFrame.\n",
      "Try using .loc[row_indexer,col_indexer] = value instead\n",
      "\n",
      "See the caveats in the documentation: https://pandas.pydata.org/pandas-docs/stable/user_guide/indexing.html#returning-a-view-versus-a-copy\n",
      "\n"
     ]
    }
   ],
   "source": [
    "val_features[\"target\"] = val_target\n",
    "val_features[\"predict\"] = predict"
   ]
  },
  {
   "cell_type": "code",
   "execution_count": 41,
   "metadata": {},
   "outputs": [],
   "source": [
    "def confusion_matrix(df: pd.DataFrame, col1: str, col2: str):\n",
    "    \"\"\"\n",
    "    Given a dataframe with at least\n",
    "    two categorical columns, create a \n",
    "    confusion matrix of the count of the columns\n",
    "    cross-counts\n",
    "    \n",
    "    use like:\n",
    "    \n",
    "    >>> confusion_matrix(test_df, 'actual_label', 'predicted_label')\n",
    "    \"\"\"\n",
    "    return (\n",
    "            df\n",
    "            .groupby([col1, col2])\n",
    "            .size()\n",
    "            .unstack(fill_value=0)\n",
    "            )"
   ]
  },
  {
   "cell_type": "code",
   "execution_count": 43,
   "metadata": {},
   "outputs": [
    {
     "name": "stdout",
     "output_type": "stream",
     "text": [
      "acuracia 0.975609756097561\n"
     ]
    },
    {
     "data": {
      "text/html": [
       "<div>\n",
       "<style scoped>\n",
       "    .dataframe tbody tr th:only-of-type {\n",
       "        vertical-align: middle;\n",
       "    }\n",
       "\n",
       "    .dataframe tbody tr th {\n",
       "        vertical-align: top;\n",
       "    }\n",
       "\n",
       "    .dataframe thead th {\n",
       "        text-align: right;\n",
       "    }\n",
       "</style>\n",
       "<table border=\"1\" class=\"dataframe\">\n",
       "  <thead>\n",
       "    <tr style=\"text-align: right;\">\n",
       "      <th>predict</th>\n",
       "      <th>0</th>\n",
       "      <th>1</th>\n",
       "    </tr>\n",
       "    <tr>\n",
       "      <th>target</th>\n",
       "      <th></th>\n",
       "      <th></th>\n",
       "    </tr>\n",
       "  </thead>\n",
       "  <tbody>\n",
       "    <tr>\n",
       "      <th>0</th>\n",
       "      <td>21</td>\n",
       "      <td>0</td>\n",
       "    </tr>\n",
       "    <tr>\n",
       "      <th>1</th>\n",
       "      <td>1</td>\n",
       "      <td>19</td>\n",
       "    </tr>\n",
       "  </tbody>\n",
       "</table>\n",
       "</div>"
      ],
      "text/plain": [
       "predict   0   1\n",
       "target         \n",
       "0        21   0\n",
       "1         1  19"
      ]
     },
     "execution_count": 43,
     "metadata": {},
     "output_type": "execute_result"
    }
   ],
   "source": [
    "# matriz de confusao\n",
    "conf_df = confusion_matrix(val_features, \"target\", \"predict\")\n",
    "acuracia = (conf_df[0][0] + conf_df[1][1]) / conf_df.sum().sum()\n",
    "print(\"acuracia\", acuracia)\n",
    "conf_df"
   ]
  },
  {
   "cell_type": "code",
   "execution_count": 44,
   "metadata": {
    "scrolled": false
   },
   "outputs": [
    {
     "data": {
      "image/png": "[encoded data removed]",
      "text/plain": [
       "<Figure size 1053.73x504 with 1 Axes>"
      ]
     },
     "metadata": {},
     "output_type": "display_data"
    },
    {
     "data": {
      "image/png": "[encoded data removed]",
      "text/plain": [
       "<Figure size 1053.73x504 with 1 Axes>"
      ]
     },
     "metadata": {},
     "output_type": "display_data"
    },
    {
     "data": {
      "image/png": "[encoded data removed]",
      "text/plain": [
       "<Figure size 1053.73x504 with 1 Axes>"
      ]
     },
     "metadata": {},
     "output_type": "display_data"
    },
    {
     "data": {
      "image/png": "[encoded data removed]",
      "text/plain": [
       "<Figure size 1053.73x504 with 1 Axes>"
      ]
     },
     "metadata": {},
     "output_type": "display_data"
    },
    {
     "data": {
      "image/png": "[encoded data removed]",
      "text/plain": [
       "<Figure size 1053.73x504 with 1 Axes>"
      ]
     },
     "metadata": {},
     "output_type": "display_data"
    },
    {
     "data": {
      "image/png": "[encoded data removed]",
      "text/plain": [
       "<Figure size 1053.73x504 with 1 Axes>"
      ]
     },
     "metadata": {},
     "output_type": "display_data"
    },
    {
     "data": {
      "image/png": "[encoded data removed]",
      "text/plain": [
       "<Figure size 1053.73x504 with 1 Axes>"
      ]
     },
     "metadata": {},
     "output_type": "display_data"
    },
    {
     "data": {
      "image/png": "[encoded data removed]",
      "text/plain": [
       "<Figure size 1053.73x504 with 1 Axes>"
      ]
     },
     "metadata": {},
     "output_type": "display_data"
    }
   ],
   "source": [
    "for f in val_features.columns:\n",
    "    sns.displot(val_features, x=f, hue=\"predict\", height=7, aspect=2)"
   ]
  },
  {
   "cell_type": "code",
   "execution_count": 400,
   "metadata": {
    "scrolled": false
   },
   "outputs": [
    {
     "data": {
      "image/png": "[encoded data removed]",
      "text/plain": [
       "<Figure size 1053.73x504 with 1 Axes>"
      ]
     },
     "metadata": {},
     "output_type": "display_data"
    },
    {
     "data": {
      "image/png": "[encoded data removed]",
      "text/plain": [
       "<Figure size 1053.73x504 with 1 Axes>"
      ]
     },
     "metadata": {},
     "output_type": "display_data"
    },
    {
     "data": {
      "image/png": "[encoded data removed]",
      "text/plain": [
       "<Figure size 1053.73x504 with 1 Axes>"
      ]
     },
     "metadata": {},
     "output_type": "display_data"
    },
    {
     "data": {
      "image/png": "[encoded data removed]",
      "text/plain": [
       "<Figure size 1053.73x504 with 1 Axes>"
      ]
     },
     "metadata": {},
     "output_type": "display_data"
    },
    {
     "data": {
      "image/png": "[encoded data removed]",
      "text/plain": [
       "<Figure size 1053.73x504 with 1 Axes>"
      ]
     },
     "metadata": {},
     "output_type": "display_data"
    },
    {
     "data": {
      "image/png": "[encoded data removed]",
      "text/plain": [
       "<Figure size 1053.73x504 with 1 Axes>"
      ]
     },
     "metadata": {},
     "output_type": "display_data"
    },
    {
     "data": {
      "image/png": "[encoded data removed]",
      "text/plain": [
       "<Figure size 1053.73x504 with 1 Axes>"
      ]
     },
     "metadata": {},
     "output_type": "display_data"
    },
    {
     "data": {
      "image/png": "[encoded data removed]",
      "text/plain": [
       "<Figure size 1053.73x504 with 1 Axes>"
      ]
     },
     "metadata": {},
     "output_type": "display_data"
    }
   ],
   "source": [
    "# Wrong predicitions\n",
    "mistakes_df = val_features[val_features[\"target\"] != val_features[\"predict\"]]# Wrong predicitions\n",
    "mistakes_df = val_features[val_features[\"target\"] != val_features[\"predict\"]]\n",
    "\n",
    "for f in val_features.columns:\n",
    "    sns.displot(mistakes_df, x=f, hue=\"predict\", height=7, aspect=2)"
   ]
  },
  {
   "cell_type": "code",
   "execution_count": 401,
   "metadata": {},
   "outputs": [
    {
     "data": {
      "text/plain": [
       "(array([0.2237942 , 0.43614828, 0.20067834, 0.08375234, 0.02640914,\n",
       "        0.02921771]),\n",
       " Index(['Ia', 'Ib', 'Ic', 'Va', 'Vb', 'Vc', 'target', 'predict'], dtype='object'))"
      ]
     },
     "execution_count": 401,
     "metadata": {},
     "output_type": "execute_result"
    }
   ],
   "source": [
    "model.feature_importances_, val_features.columns"
   ]
  },
  {
   "cell_type": "markdown",
   "metadata": {},
   "source": [
    "## Logistic Regression"
   ]
  },
  {
   "cell_type": "code",
   "execution_count": 163,
   "metadata": {},
   "outputs": [
    {
     "data": {
      "text/plain": [
       "Index(['Output (S)', 'Ia', 'Ib', 'Ic', 'Va', 'Vb', 'Vc'], dtype='object')"
      ]
     },
     "execution_count": 163,
     "metadata": {},
     "output_type": "execute_result"
    }
   ],
   "source": [
    "train_df.columns"
   ]
  },
  {
   "cell_type": "code",
   "execution_count": 164,
   "metadata": {},
   "outputs": [],
   "source": [
    "X = train_df.drop(columns='Output (S)')\n",
    "y = train_df[\"Output (S)\"]"
   ]
  },
  {
   "cell_type": "code",
   "execution_count": 167,
   "metadata": {},
   "outputs": [],
   "source": [
    "X_train, X_test, y_train, y_test = train_test_split(X, y, test_size=0.2)"
   ]
  },
  {
   "cell_type": "code",
   "execution_count": 168,
   "metadata": {},
   "outputs": [
    {
     "data": {
      "text/plain": [
       "((9600, 6), (9600,), (2401, 6), (2401,))"
      ]
     },
     "execution_count": 168,
     "metadata": {},
     "output_type": "execute_result"
    }
   ],
   "source": [
    "X_train.shape,  y_train.shape, X_test.shape, y_test.shape"
   ]
  },
  {
   "cell_type": "code",
   "execution_count": 179,
   "metadata": {},
   "outputs": [],
   "source": [
    "model = LogisticRegression(random_state=0).fit(X_train, y_train)"
   ]
  },
  {
   "cell_type": "code",
   "execution_count": 172,
   "metadata": {},
   "outputs": [],
   "source": [
    "y_pred = model.predict(X_test)"
   ]
  },
  {
   "cell_type": "code",
   "execution_count": 178,
   "metadata": {},
   "outputs": [
    {
     "data": {
      "text/plain": [
       "0.6221198156682027"
      ]
     },
     "execution_count": 178,
     "metadata": {},
     "output_type": "execute_result"
    }
   ],
   "source": [
    "rmse(y_test, y_pred)"
   ]
  },
  {
   "cell_type": "code",
   "execution_count": null,
   "metadata": {},
   "outputs": [],
   "source": []
  },
  {
   "cell_type": "code",
   "execution_count": null,
   "metadata": {},
   "outputs": [],
   "source": [
    "model.feature_selection("
   ]
  },
  {
   "cell_type": "markdown",
   "metadata": {},
   "source": [
    "## Support Vector Machine"
   ]
  },
  {
   "cell_type": "code",
   "execution_count": 185,
   "metadata": {},
   "outputs": [],
   "source": [
    "model = SVC(gamma='auto')"
   ]
  },
  {
   "cell_type": "code",
   "execution_count": null,
   "metadata": {},
   "outputs": [],
   "source": []
  }
 ],
 "metadata": {
  "kernelspec": {
   "display_name": "fault_project",
   "language": "python",
   "name": "fault_project"
  },
  "language_info": {
   "codemirror_mode": {
    "name": "ipython",
    "version": 3
   },
   "file_extension": ".py",
   "mimetype": "text/x-python",
   "name": "python",
   "nbconvert_exporter": "python",
   "pygments_lexer": "ipython3",
   "version": "3.7.4"
  }
 },
 "nbformat": 4,
 "nbformat_minor": 4
}
