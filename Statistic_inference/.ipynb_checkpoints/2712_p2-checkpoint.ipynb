{
 "cells": [
  {
   "cell_type": "code",
   "execution_count": 3,
   "id": "79609e88-6585-42c9-bf9f-1fab0d90c268",
   "metadata": {},
   "outputs": [],
   "source": [
    "import random\n",
    "import numpy as np"
   ]
  },
  {
   "cell_type": "markdown",
   "id": "01b54d4c-e404-4312-a35b-8bb0812b3d2e",
   "metadata": {},
   "source": [
    "Problema 3"
   ]
  },
  {
   "cell_type": "code",
   "execution_count": 44,
   "id": "aa822550-985b-4689-bb92-a507260e87c3",
   "metadata": {},
   "outputs": [],
   "source": [
    "dists = [] \n",
    "for i in range(0, 200):\n",
    "    dists.append(np.random.uniform(low=0, high=23, size=(100,)))"
   ]
  },
  {
   "cell_type": "code",
   "execution_count": 50,
   "id": "182fd1c8-4c64-4f92-bfbd-bc7b13c57407",
   "metadata": {},
   "outputs": [],
   "source": [
    "# Calculate the real theta\n",
    "m, n = np.array(dists).shape\n",
    "θ = sum(sum(dists)) / (m*n)"
   ]
  },
  {
   "cell_type": "code",
   "execution_count": 100,
   "id": "39e83bcd-bb75-45ac-a431-2fbc767799b3",
   "metadata": {},
   "outputs": [],
   "source": [
    "# Calculate the theta estimated\n",
    "vies_results = []\n",
    "mat_vies = []\n",
    "for i in range(1, 101):\n",
    "    for j in range(1, 201):\n",
    "        m = np.array(dists)[i, 0:j].shape[0]\n",
    "        vies_emp = np.array(dists)[i, 0:j].sum() / m\n",
    "        vies_results.append(sum_vals)\n",
    "    mat_vies.append(vies_results)"
   ]
  },
  {
   "cell_type": "code",
   "execution_count": null,
   "id": "f692e20d-973f-4a61-9916-ecff34d5f1d3",
   "metadata": {},
   "outputs": [],
   "source": [
    "vies_j = []\n",
    "\n",
    "for i in range(1, 101):\n",
    "    m, n = np.array(mat_vies)[0:i, :].shape\n",
    "    vies_j.append( np.array(mat_vies)[0:i, :].sum() / (m, n) ) "
   ]
  },
  {
   "cell_type": "code",
   "execution_count": 96,
   "id": "033da103-3639-4fc9-842b-0c07e2d35351",
   "metadata": {},
   "outputs": [
    {
     "data": {
      "text/plain": [
       "20000"
      ]
     },
     "execution_count": 96,
     "metadata": {},
     "output_type": "execute_result"
    }
   ],
   "source": [
    "len(vies_results)"
   ]
  },
  {
   "cell_type": "code",
   "execution_count": 101,
   "id": "395072af-c58d-46f2-b9ee-99616c959972",
   "metadata": {},
   "outputs": [
    {
     "data": {
      "text/plain": [
       "(100, 20000)"
      ]
     },
     "execution_count": 101,
     "metadata": {},
     "output_type": "execute_result"
    }
   ],
   "source": [
    "np.shape(mat_vies)"
   ]
  },
  {
   "cell_type": "code",
   "execution_count": 112,
   "id": "d7b12a20-1858-4c3b-aac1-3ae0ae5819bb",
   "metadata": {},
   "outputs": [
    {
     "data": {
      "text/plain": [
       "(3, 20000)"
      ]
     },
     "execution_count": 112,
     "metadata": {},
     "output_type": "execute_result"
    }
   ],
   "source": [
    "np.array(mat_vies)[0:3, :].shape"
   ]
  },
  {
   "cell_type": "code",
   "execution_count": null,
   "id": "7cd88b53-05df-4c53-ab4f-48eb3c20d061",
   "metadata": {},
   "outputs": [],
   "source": []
  }
 ],
 "metadata": {
  "kernelspec": {
   "display_name": "Python 3 (ipykernel)",
   "language": "python",
   "name": "python3"
  },
  "language_info": {
   "codemirror_mode": {
    "name": "ipython",
    "version": 3
   },
   "file_extension": ".py",
   "mimetype": "text/x-python",
   "name": "python",
   "nbconvert_exporter": "python",
   "pygments_lexer": "ipython3",
   "version": "3.10.12"
  }
 },
 "nbformat": 4,
 "nbformat_minor": 5
}
