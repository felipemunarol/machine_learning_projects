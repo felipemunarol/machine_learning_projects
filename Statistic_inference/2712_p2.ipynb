{
 "cells": [
  {
   "cell_type": "code",
   "execution_count": 328,
   "id": "79609e88-6585-42c9-bf9f-1fab0d90c268",
   "metadata": {},
   "outputs": [],
   "source": [
    "import random\n",
    "import numpy as np\n",
    "import matplotlib.pyplot as plt"
   ]
  },
  {
   "cell_type": "markdown",
   "id": "01b54d4c-e404-4312-a35b-8bb0812b3d2e",
   "metadata": {},
   "source": [
    "Problema 3"
   ]
  },
  {
   "cell_type": "markdown",
   "id": "9c1399fb-ea12-4a95-b665-17875067daf1",
   "metadata": {},
   "source": [
    "(a) Viés."
   ]
  },
  {
   "cell_type": "code",
   "execution_count": 329,
   "id": "fdc545e4-15c1-4f13-995f-f818c15bfb30",
   "metadata": {},
   "outputs": [
    {
     "data": {
      "text/plain": [
       "array([5.48195405, 3.91869656, 5.69369509, 3.78029363, 4.48758671,\n",
       "       2.93245515, 3.99688479, 3.28551853, 4.70805625, 5.71844933,\n",
       "       4.9637013 , 4.40021361, 4.40468792, 5.64490176, 4.81757795,\n",
       "       5.90990234, 6.33397848, 4.26816364, 6.03459717, 6.52258902,\n",
       "       5.89850997, 4.92576957, 5.26195219, 5.16861501, 3.50198889,\n",
       "       6.58222034, 5.66140496, 1.75806357, 4.24836119, 5.30671064,\n",
       "       6.16800671, 5.56030788, 4.92359723, 4.77031923, 2.99549895,\n",
       "       5.60427661, 6.87633094, 7.46243589, 4.68735563, 5.06780082,\n",
       "       4.70055452, 3.271857  , 6.6034062 , 3.68157638, 3.56263959,\n",
       "       5.87401904, 5.4081788 , 3.00110059, 4.89228643, 7.1865259 ,\n",
       "       6.02160297, 3.67426867, 6.82042202, 4.42087797, 5.85138114,\n",
       "       4.9700103 , 5.3425331 , 4.68250208, 7.05543688, 3.28902907,\n",
       "       4.03028215, 3.82498578, 4.13771341, 7.15224809, 5.56279071,\n",
       "       6.11632371, 4.68450506, 5.67535929, 3.57693121, 5.83419986,\n",
       "       6.62761784, 2.85141419, 6.77056938, 5.27848966, 5.35979741,\n",
       "       6.80820552, 5.42872266, 6.16373205, 5.99766912, 4.74317037,\n",
       "       5.01977992, 4.82435132, 7.42989367, 4.91145535, 5.09238113,\n",
       "       4.57194542, 5.16897948, 5.36097308, 4.47054475, 8.2719042 ,\n",
       "       4.00853497, 4.10322186, 4.68579893, 4.87709538, 5.50317856,\n",
       "       5.16164337, 5.27516933, 5.25923506, 6.97057784, 4.85137519])"
      ]
     },
     "execution_count": 329,
     "metadata": {},
     "output_type": "execute_result"
    }
   ],
   "source": [
    "np.random.normal(loc=5, size=100)"
   ]
  },
  {
   "cell_type": "code",
   "execution_count": 330,
   "id": "aa822550-985b-4689-bb92-a507260e87c3",
   "metadata": {},
   "outputs": [],
   "source": [
    "dists = [] \n",
    "for i in range(0, 200):\n",
    "    dists.append(np.random.normal(size=100))"
   ]
  },
  {
   "cell_type": "code",
   "execution_count": 331,
   "id": "182fd1c8-4c64-4f92-bfbd-bc7b13c57407",
   "metadata": {},
   "outputs": [],
   "source": [
    "# Calculate the real theta\n",
    "m, n = np.array(dists).shape\n",
    "θ = sum(sum(dists)) / (m*n)"
   ]
  },
  {
   "cell_type": "code",
   "execution_count": 333,
   "id": "39e83bcd-bb75-45ac-a431-2fbc767799b3",
   "metadata": {},
   "outputs": [
    {
     "ename": "IndexError",
     "evalue": "index 100 is out of bounds for axis 0 with size 100",
     "output_type": "error",
     "traceback": [
      "\u001b[0;31m---------------------------------------------------------------------------\u001b[0m",
      "\u001b[0;31mIndexError\u001b[0m                                Traceback (most recent call last)",
      "Cell \u001b[0;32mIn[333], line 6\u001b[0m\n\u001b[1;32m      4\u001b[0m vies_results \u001b[38;5;241m=\u001b[39m []\n\u001b[1;32m      5\u001b[0m \u001b[38;5;28;01mfor\u001b[39;00m j \u001b[38;5;129;01min\u001b[39;00m \u001b[38;5;28mrange\u001b[39m(\u001b[38;5;241m1\u001b[39m, \u001b[38;5;241m101\u001b[39m):\n\u001b[0;32m----> 6\u001b[0m     m \u001b[38;5;241m=\u001b[39m \u001b[43mnp\u001b[49m\u001b[38;5;241;43m.\u001b[39;49m\u001b[43marray\u001b[49m\u001b[43m(\u001b[49m\u001b[43mdists\u001b[49m\u001b[43m)\u001b[49m\u001b[43m[\u001b[49m\u001b[43mi\u001b[49m\u001b[43m,\u001b[49m\u001b[43m \u001b[49m\u001b[38;5;241;43m0\u001b[39;49m\u001b[43m:\u001b[49m\u001b[43mj\u001b[49m\u001b[43m]\u001b[49m\u001b[38;5;241m.\u001b[39mshape[\u001b[38;5;241m0\u001b[39m]\n\u001b[1;32m      7\u001b[0m     vies_emp \u001b[38;5;241m=\u001b[39m np\u001b[38;5;241m.\u001b[39marray(dists)[i, \u001b[38;5;241m0\u001b[39m:j]\u001b[38;5;241m.\u001b[39msum() \u001b[38;5;241m/\u001b[39m m\n\u001b[1;32m      8\u001b[0m     vies_results\u001b[38;5;241m.\u001b[39mappend(vies_emp)\n",
      "\u001b[0;31mIndexError\u001b[0m: index 100 is out of bounds for axis 0 with size 100"
     ]
    }
   ],
   "source": [
    "# Calculate the theta estimated\n",
    "mat_vies = []\n",
    "for i in range(1, 101):\n",
    "    vies_results = []\n",
    "    for j in range(1, 201):\n",
    "        m = np.array(dists)[i, 0:j].shape[0]\n",
    "        vies_emp = np.array(dists)[i, 0:j].sum() / m\n",
    "        vies_results.append(vies_emp)\n",
    "    mat_vies.append(vies_results)"
   ]
  },
  {
   "cell_type": "code",
   "execution_count": 304,
   "id": "f692e20d-973f-4a61-9916-ecff34d5f1d3",
   "metadata": {},
   "outputs": [],
   "source": [
    "vies_j = []\n",
    "\n",
    "for i in range(0, 200):\n",
    "    vies = 0\n",
    "    m = np.array(mat_vies)[:, i].shape[0]\n",
    "    for j in range (0, 100):\n",
    "        vies_i = np.array(mat_vies)[j, i] - θ\n",
    "        vies = vies + vies_i\n",
    "    \n",
    "    vies = vies/m\n",
    "    vies_j.append(vies)"
   ]
  },
  {
   "cell_type": "code",
   "execution_count": 305,
   "id": "033da103-3639-4fc9-842b-0c07e2d35351",
   "metadata": {},
   "outputs": [
    {
     "data": {
      "text/plain": [
       "[<matplotlib.lines.Line2D at 0x7f2e24c563b0>]"
      ]
     },
     "execution_count": 305,
     "metadata": {},
     "output_type": "execute_result"
    },
    {
     "data": {
      "image/png": "[encoded data removed]",
      "text/plain": [
       "<Figure size 432x288 with 1 Axes>"
      ]
     },
     "metadata": {
      "needs_background": "light"
     },
     "output_type": "display_data"
    }
   ],
   "source": [
    "plt.plot(range(0,200), vies_j)"
   ]
  },
  {
   "cell_type": "markdown",
   "id": "decf6838-12a0-4b04-9a75-73f49869b2e9",
   "metadata": {},
   "source": [
    "(a) MSE."
   ]
  },
  {
   "cell_type": "code",
   "execution_count": 306,
   "id": "ab33181a-e1c1-41e2-815f-79af219efa1d",
   "metadata": {},
   "outputs": [],
   "source": [
    "mse_j = []\n",
    "\n",
    "for i in range(0, 200):\n",
    "    mse = 0\n",
    "    m = np.array(mat_vies)[:, i].shape[0]\n",
    "    for j in range (0, 100):\n",
    "        mse_i = (np.array(mat_vies)[j, i] - θ)**2\n",
    "        mse = mse + mse_i\n",
    "    \n",
    "    mse = mse/m\n",
    "    mse_j.append(mse)"
   ]
  },
  {
   "cell_type": "code",
   "execution_count": 307,
   "id": "19672e32-f8fe-4457-bbbc-7256938c0dc0",
   "metadata": {},
   "outputs": [
    {
     "data": {
      "text/plain": [
       "[<matplotlib.lines.Line2D at 0x7f2e24cde9b0>]"
      ]
     },
     "execution_count": 307,
     "metadata": {},
     "output_type": "execute_result"
    },
    {
     "data": {
      "image/png": "[encoded data removed]",
      "text/plain": [
       "<Figure size 432x288 with 1 Axes>"
      ]
     },
     "metadata": {
      "needs_background": "light"
     },
     "output_type": "display_data"
    }
   ],
   "source": [
    "plt.plot(range(0,200), mse_j)"
   ]
  },
  {
   "cell_type": "markdown",
   "id": "9860ea14-a83c-4615-ab69-3f9adbd30cb9",
   "metadata": {},
   "source": [
    "c)"
   ]
  },
  {
   "cell_type": "markdown",
   "id": "4c8af07a-59d6-4af7-bf8f-6b77e2ea95b1",
   "metadata": {},
   "source": [
    "A convergencia de um estimador pode ser definida como:"
   ]
  },
  {
   "cell_type": "markdown",
   "id": "ebf4437b-d64b-4c7c-99c3-cafa29e53a64",
   "metadata": {},
   "source": [
    "$lim_{n->\\infty} \\quad P\\{\\hat{\\theta_n} - \\theta\\} < \\epsilon = 1$\n",
    "\n",
    "Calcula-se então a diferença, $\\hat{\\theta_n} - \\theta$ para cada valor de n e para cada amostra."
   ]
  },
  {
   "cell_type": "code",
   "execution_count": 308,
   "id": "f55796ae-5f19-4b1b-b400-825d85acc3e7",
   "metadata": {},
   "outputs": [
    {
     "data": {
      "text/plain": [
       "array([ 0.92194617,  1.83112072, -0.14391429,  0.56149923,  0.54006861,\n",
       "        0.67859823,  0.64204907, -0.34774968,  0.12337423,  0.19594065,\n",
       "       -1.14742114, -1.49795076, -0.02020001, -0.14912534,  0.34831046,\n",
       "        0.29598048, -0.43902882, -1.44512817,  1.51071298,  1.88793589,\n",
       "        0.66398338,  0.07035384, -0.09269493,  0.40296193, -0.21166513,\n",
       "        1.09640679,  0.57523165,  0.18611631,  0.378983  ,  0.10053326,\n",
       "        0.65256003, -1.3344803 , -1.47274024,  1.33040696,  0.27361175,\n",
       "       -0.46821102,  0.88396299,  0.10301185, -0.14797926, -1.02869514,\n",
       "       -0.4151826 ,  0.06243387, -0.84271436, -1.10599055, -0.55989953,\n",
       "        1.61066209,  1.08095468, -0.97398214,  0.43248201,  1.06506678,\n",
       "       -0.43451641, -0.57033973, -0.08925731,  1.4013729 ,  1.24405337,\n",
       "       -0.41690518, -3.07054608, -1.25922332, -0.97878072, -0.97275365,\n",
       "        0.24282345, -1.25497351,  0.7690091 ,  0.65316046,  1.39761591,\n",
       "       -0.5378628 , -1.04846192, -1.58843814,  0.67259415,  0.09006798,\n",
       "        2.46392218,  0.4921057 , -1.48012782,  0.59623736, -0.91423526,\n",
       "       -0.77488439,  0.78430826,  1.21700829,  1.20560956, -0.87519365,\n",
       "        2.56061193, -1.12371468,  0.00869408,  2.21850016,  0.32467532,\n",
       "        0.25926743, -0.84307297, -1.30366994, -0.34984492, -0.80181287,\n",
       "        0.18902698,  0.05453349, -0.84937119,  0.89037325, -1.30646663,\n",
       "       -0.31102525, -1.23113676, -1.10703755,  1.44647699,  0.24506704])"
      ]
     },
     "execution_count": 308,
     "metadata": {},
     "output_type": "execute_result"
    }
   ],
   "source": [
    "np.array(dists)[0, 0:i]"
   ]
  },
  {
   "cell_type": "code",
   "execution_count": 309,
   "id": "ecf006bd-804c-4720-9731-0afbc2e9580b",
   "metadata": {},
   "outputs": [],
   "source": [
    "convergence_results = []\n",
    "for i in range(1, len(dists[0])):\n",
    "    θ_n = np.sum(np.array(dists)[0, 0:i])/ len(np.array(dists)[0, 0:i])\n",
    "    convergence_results.append(θ_n - θ)"
   ]
  },
  {
   "cell_type": "code",
   "execution_count": 310,
   "id": "9350cd6c-43be-4a6d-bee7-862279bb5f4a",
   "metadata": {},
   "outputs": [
    {
     "data": {
      "text/plain": [
       "[<matplotlib.lines.Line2D at 0x7f2e24b64e50>]"
      ]
     },
     "execution_count": 310,
     "metadata": {},
     "output_type": "execute_result"
    },
    {
     "data": {
      "image/png": "[encoded data removed]",
      "text/plain": [
       "<Figure size 432x288 with 1 Axes>"
      ]
     },
     "metadata": {
      "needs_background": "light"
     },
     "output_type": "display_data"
    }
   ],
   "source": [
    "plt.plot(convergence_results)"
   ]
  },
  {
   "cell_type": "markdown",
   "id": "7774f419-cf40-4a5f-a74d-028d9f176046",
   "metadata": {},
   "source": [
    "d)"
   ]
  },
  {
   "cell_type": "markdown",
   "id": "7a0e4dd4-00d8-4f3e-ae62-ab4e0d3b970a",
   "metadata": {},
   "source": [
    "Intervalo de confianca - Considerando-se que a todas as subamostras se comportam como distribuições normais\n",
    "pode-se ser definido um intervalo de confiança para cada amostra e avaliado quantas vezes os valores caem dentro\n",
    "do intervalo"
   ]
  },
  {
   "cell_type": "code",
   "execution_count": 311,
   "id": "3a1643b8-d014-414c-adc3-ce0357009e4a",
   "metadata": {},
   "outputs": [],
   "source": [
    "# Calcula-se primeiramento o desvio padrao (sigma^2)\n",
    "σ = np.std(dists)"
   ]
  },
  {
   "cell_type": "code",
   "execution_count": 312,
   "id": "c32bf16e-2473-484f-9594-49f2efb8abda",
   "metadata": {},
   "outputs": [
    {
     "data": {
      "text/plain": [
       "1.972591705282622"
      ]
     },
     "execution_count": 312,
     "metadata": {},
     "output_type": "execute_result"
    }
   ],
   "source": [
    "1.96* np.std(dists)"
   ]
  },
  {
   "cell_type": "code",
   "execution_count": 313,
   "id": "c38a07aa-8740-4348-a3a5-1a778c2bbbc6",
   "metadata": {},
   "outputs": [],
   "source": [
    "condidence_intervals_U = []\n",
    "condidence_intervals_L = []\n",
    "for x in dists:\n",
    "    U = sum(x)/len(x) + (1.96*σ/np.sqrt(len(x)))\n",
    "    L = sum(x)/len(x) - (1.96*σ/np.sqrt(len(x)))\n",
    "    condidence_intervals_U.append(U)\n",
    "    condidence_intervals_L.append(L)"
   ]
  },
  {
   "cell_type": "code",
   "execution_count": 318,
   "id": "14ffe3e3-d60f-4983-8c2e-5c3a440f8d3f",
   "metadata": {},
   "outputs": [
    {
     "name": "stdout",
     "output_type": "stream",
     "text": [
      "0.84095\n"
     ]
    }
   ],
   "source": [
    "k = 0\n",
    "for i, x in enumerate(dists):\n",
    "    for j in range(0, len(x)):\n",
    "        if x[j] > condidence_intervals_U[i] or x[j] < condidence_intervals_L[i]:\n",
    "            k += 1\n",
    "print(k/20000)"
   ]
  },
  {
   "cell_type": "code",
   "execution_count": 327,
   "id": "0268aaa6-c713-4249-9c45-95a5a01500b9",
   "metadata": {},
   "outputs": [
    {
     "data": {
      "text/plain": [
       "(200, 100)"
      ]
     },
     "execution_count": 327,
     "metadata": {},
     "output_type": "execute_result"
    }
   ],
   "source": [
    "np.shape(dists)"
   ]
  },
  {
   "cell_type": "markdown",
   "id": "532187f8-d3b4-4169-8f21-54173956f1e8",
   "metadata": {},
   "source": [
    "Problema 4"
   ]
  },
  {
   "cell_type": "markdown",
   "id": "a24971a1-ebb2-4725-873c-b5012b9b0cad",
   "metadata": {},
   "source": [
    "a)"
   ]
  },
  {
   "cell_type": "code",
   "execution_count": 323,
   "id": "b468a507-1f6e-4160-8153-78ae5fe472c7",
   "metadata": {},
   "outputs": [
    {
     "data": {
      "text/plain": [
       "10.0"
      ]
     },
     "execution_count": 323,
     "metadata": {},
     "output_type": "execute_result"
    }
   ],
   "source": [
    "dists = [] \n",
    "for i in range(0, 200):\n",
    "    dists.append(np.random.normal(size=100))"
   ]
  },
  {
   "cell_type": "code",
   "execution_count": null,
   "id": "fecb7e3a-fa89-44b3-b759-346c7a17e425",
   "metadata": {},
   "outputs": [],
   "source": [
    "np.random.normal"
   ]
  }
 ],
 "metadata": {
  "kernelspec": {
   "display_name": "Python 3 (ipykernel)",
   "language": "python",
   "name": "python3"
  },
  "language_info": {
   "codemirror_mode": {
    "name": "ipython",
    "version": 3
   },
   "file_extension": ".py",
   "mimetype": "text/x-python",
   "name": "python",
   "nbconvert_exporter": "python",
   "pygments_lexer": "ipython3",
   "version": "3.10.12"
  }
 },
 "nbformat": 4,
 "nbformat_minor": 5
}
