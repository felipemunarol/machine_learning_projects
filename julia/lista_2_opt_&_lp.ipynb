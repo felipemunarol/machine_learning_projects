{
 "cells": [
  {
   "cell_type": "markdown",
   "id": "cbbf3e81-495c-4392-a24a-aa39833fdbd1",
   "metadata": {},
   "source": [
    "Objetivo: Resolução lista 1 de otimização e programação linear"
   ]
  },
  {
   "cell_type": "code",
   "execution_count": 1,
   "id": "ad9e90c8-11bf-4a02-92e1-da31c8e6bea5",
   "metadata": {},
   "outputs": [],
   "source": [
    "import Pkg"
   ]
  },
  {
   "cell_type": "code",
   "execution_count": 2,
   "id": "b70d2e20-f4b8-47ec-bebb-14b99280f969",
   "metadata": {},
   "outputs": [],
   "source": [
    "# Pkg.add(\"Plots\")    # Adding plots package\n",
    "# Pkg.add(\"JuMP\")    # Adding plots package\n",
    "# Pkg.add(\"GLPK\")    # Adding plots package\n",
    "# Pkg.add(\"CSV\")    # Adding plots package\n",
    "# Pkg.add(\"DataFrames\")    # Adding plots package\n",
    "# Pkg.add(\"GLM\")    # Linear Regression package\n",
    "# HiGHS need to explicity pass the version. Otherwise its installing the older version\n",
    "# Pkg.add(Pkg.PackageSpec(;name=\"HiGHS\", version=\"1.9.0\"))\n",
    "# Pkg.add(\"QuantReg\")\n",
    "# Pkg.add(\"MosekTools\")\n",
    "# Pkg.add(\"Ipopt\")\n",
    "# Pkg.add(\"Random\")"
   ]
  },
  {
   "cell_type": "code",
   "execution_count": 3,
   "id": "0acfcf30-db56-4c73-84f9-97abf56bdd5f",
   "metadata": {},
   "outputs": [
    {
     "data": {
      "text/plain": [
       "Plots.GRBackend()"
      ]
     },
     "execution_count": 3,
     "metadata": {},
     "output_type": "execute_result"
    }
   ],
   "source": [
    "using Plots\n",
    "using JuMP\n",
    "using GLPK\n",
    "using CSV\n",
    "using DataFrames\n",
    "using GLM\n",
    "using HiGHS\n",
    "# using QuantReg\n",
    "# Different optimizer to use in quadratic optimization problemns\n",
    "# using MosekTools\n",
    "using Ipopt\n",
    "using Random\n",
    "using SparseArrays\n",
    "\n",
    "# Inicializa o backend dos plots\n",
    "gr()"
   ]
  },
  {
   "cell_type": "markdown",
   "id": "49afb2d9-eca9-42dd-8cd6-8ad4bece106b",
   "metadata": {},
   "source": [
    "## Summary:\n"
   ]
  },
  {
   "cell_type": "markdown",
   "id": "62a867a6-e3f9-42e2-90dc-bce12ea894d2",
   "metadata": {},
   "source": [
    "### Problema 1 -"
   ]
  },
  {
   "cell_type": "code",
   "execution_count": 4,
   "id": "c75c349e-f67b-4ebb-8bb5-5358a8b13c98",
   "metadata": {},
   "outputs": [
    {
     "data": {
      "text/plain": [
       "1×4 Matrix{Int64}:\n",
       " 4  3  0  0"
      ]
     },
     "execution_count": 4,
     "metadata": {},
     "output_type": "execute_result"
    }
   ],
   "source": [
    "A = [\n",
    "2 1 1 0;\n",
    "1 2 0 1\n",
    "]\n",
    "b = [\n",
    "4; 4\n",
    "]\n",
    "c = [4 3 0 0]"
   ]
  },
  {
   "cell_type": "code",
   "execution_count": 5,
   "id": "b5e89dad-2c52-495d-b4c2-1a38cdc3d5c7",
   "metadata": {},
   "outputs": [
    {
     "data": {
      "text/plain": [
       "1×2 Matrix{Float64}:\n",
       " -1.66667  -0.666667"
      ]
     },
     "execution_count": 5,
     "metadata": {},
     "output_type": "execute_result"
    }
   ],
   "source": [
    "# Dicionario 3 -\n",
    "Nbase = [3, 4] \n",
    "base = [1, 2]\n",
    "\n",
    "N = A[:,Nbase]\n",
    "B = A[:,base]\n",
    "cn = c[:,Nbase]\n",
    "cb = c[:,base]\n",
    "cn - cb*inv(B)*N"
   ]
  },
  {
   "cell_type": "code",
   "execution_count": 6,
   "id": "4c2226e3-6cd6-4b36-8e94-f0b5ab71286d",
   "metadata": {},
   "outputs": [
    {
     "name": "stdout",
     "output_type": "stream",
     "text": [
      "Testando o algoritmo para o: Problema dual da produção\n",
      "iter:1\n",
      "B:[1.0 0.0; 0.0 1.0]\n",
      "N:[-2.0 -1.0; -1.0 -2.0]\n",
      "Nbase:[1, 2]\n",
      "Bbase:[3, 4]\n",
      "xb[-4.0, -3.0]\n",
      "x[0.0, 0.0, -4.0, -3.0]\n",
      "solução inicial inviável encontrada\n"
     ]
    },
    {
     "ename": "LoadError",
     "evalue": "BoundsError: attempt to access Tuple{Float64, Vector{Any}, Int64, Int64} at index [5]",
     "output_type": "error",
     "traceback": [
      "BoundsError: attempt to access Tuple{Float64, Vector{Any}, Int64, Int64} at index [5]",
      "",
      "Stacktrace:",
      " [1] indexed_iterate",
      "   @ ./tuple.jl:92 [inlined]",
      " [2] tests_main()",
      "   @ Main ./In[6]:110",
      " [3] top-level scope",
      "   @ In[6]:115"
     ]
    }
   ],
   "source": [
    "import Pkg\n",
    "\n",
    "# Pkg.add(\"Random\")\n",
    "\n",
    "using Random\n",
    "using SparseArrays\n",
    "\n",
    "# Simplex fase 2\n",
    "function simplex_fase2(A,b,c,Nbase,Bbase,max_iter, tolerance)\n",
    "    m, n = size(A)\n",
    "    k = n - m # número de variáveis não básicas (igual ao número de variáveis menos o número de restrições, \n",
    "    # sendo que cada restrição é uma variável básica)\n",
    "    \n",
    "    iter = 0\n",
    "    status = -1    # não iniciado\n",
    "    # Começo do loop\n",
    "    while(iter<=max_iter)\n",
    "        iter+=1\n",
    "        println(\"iter:\",iter)\n",
    "        #B = view(A,:,Bbase)\n",
    "        #N = view(A,:,Nbase)\n",
    "        \n",
    "        B = 1.0*A[:,Bbase]\n",
    "        N = 1.0*A[:,Nbase]\n",
    "        # Colocar os views, view evita a criação de uma nova matriz em outro bloco de memoria\n",
    "        #apenas faz referencia aos endereco de memoria da matriz original\n",
    "        cB = 1.0*c[Bbase]\n",
    "        cN = 1.0*c[Nbase]\n",
    "    \n",
    "        println(\"B:\",B)\n",
    "        println(\"N:\",N)\n",
    "        println(\"Nbase:\",Nbase)\n",
    "        println(\"Bbase:\",Bbase)\n",
    "\n",
    "        x = zeros(n)\n",
    "        \n",
    "        xB = inv(B)*b\n",
    "        println(\"xb\", xB)\n",
    "        x[Bbase] = xB\n",
    "        println(\"x\", x)\n",
    "        if minimum(xB) < 0\n",
    "            println(\"solução inicial inviável encontrada\")\n",
    "            return NaN,[],status,iter\n",
    "        end\n",
    "        # Calcular o custo reduzido\n",
    "        y = (cB')*inv(B)\n",
    "        cred = cN' - y*N\n",
    "        println(\"Custo Reduzido:\", cred)\n",
    "        z = y*b\n",
    "        v,j = findmax(cred') #j é a variavel não básica que candidata a entrada na base\n",
    "        if v <= 0\n",
    "            println(\"Ótimo Encontrado\")\n",
    "            status = 1\n",
    "            println(\"Melhor custo:\", z)\n",
    "            x = zeros(n)\n",
    "            x[Bbase] = xB\n",
    "            return z,x,status,iter,Bbase,Nbase\n",
    "        end\n",
    "        #troca de base\n",
    "        dB = B\\N[:,j]\n",
    "        r = Inf\n",
    "        i = 0\n",
    "\n",
    "        for ii in 1:m\n",
    "            if dB[ii] > 0 && xB[ii]/dB[ii] < r\n",
    "                r = xB[ii]/dB[ii]\n",
    "                i = ii\n",
    "            end\n",
    "        end\n",
    "\n",
    "        #verificar se o problema é ilimitado\n",
    "        if i == 0\n",
    "            status = 0 # problema ilimitado\n",
    "            println(\"ilimitado\")\n",
    "            return Inf,[], status,iter, Bbase, Nbase\n",
    "        end\n",
    "\n",
    "        # Atualizar a base\n",
    "\n",
    "        aux = Bbase[i]\n",
    "        Bbase[i] = Nbase[j]\n",
    "        Nbase[j] = aux\n",
    "\n",
    "        # fim do loop\n",
    "    end\n",
    "    return NaN,[],status,iter\n",
    "end\n",
    "\n",
    "# Testes\n",
    "function tests_main()\n",
    "\n",
    "    max_iter =1000\n",
    "    # Problema da produção original\n",
    "    print(\"Testando o algoritmo para o: Problema dual da produção\\n\")\n",
    "    A = 1.0*[\n",
    "        -2 -1 1 0; \n",
    "        -1 -2 0 1\n",
    "    ]\n",
    "    c = 1.0*[\n",
    "        -4; -4 ; 0; 0\n",
    "    ]\n",
    "    b= 1.0*[\n",
    "        -4;\n",
    "        -3\n",
    "    ]\n",
    "    m, n = size(A)\n",
    "    k = n - m\n",
    "    Nbase = collect(1:k)\n",
    "    Bbase = collect(k+1:n)\n",
    "    z, x, status, iter, Bbase, Nbase = simplex_fase2(A,b,c,Nbase,Bbase,max_iter, 1)\n",
    "    print(repeat(\"-\", 200), \"\\n\")\n",
    "\n",
    "end\n",
    "\n",
    "tests_main()"
   ]
  },
  {
   "cell_type": "markdown",
   "id": "97531fdb-4ed6-4adf-8543-448323966e41",
   "metadata": {},
   "source": [
    "# Problema 2 - "
   ]
  },
  {
   "cell_type": "code",
   "execution_count": 23,
   "id": "f1e66471-2c5b-4390-a3cf-50a3946abeb3",
   "metadata": {},
   "outputs": [
    {
     "data": {
      "text/plain": [
       "3×2 Matrix{Float64}:\n",
       " -1.0   0.0\n",
       "  0.0  -1.0\n",
       " -1.0  -1.0"
      ]
     },
     "execution_count": 23,
     "metadata": {},
     "output_type": "execute_result"
    }
   ],
   "source": [
    "# Solução básica 1\n",
    "A = [\n",
    "1 1 -1 0 0;\n",
    "1 0 0 1 0;\n",
    "0 1 0 0 1;\n",
    "]\n",
    "b = [1, 2, 3] \n",
    "Nb = [4, 5] \n",
    "\n",
    "B = A[:, b]\n",
    "N = A[:, Nb]\n",
    "\n",
    "\n",
    "-inv(B)*N"
   ]
  },
  {
   "cell_type": "code",
   "execution_count": 24,
   "id": "e43579e0-31bc-4c8f-90c7-e7cc471962b9",
   "metadata": {},
   "outputs": [
    {
     "data": {
      "text/plain": [
       "3×2 Matrix{Float64}:\n",
       "  0.0  -1.0\n",
       "  1.0   1.0\n",
       " -1.0  -1.0"
      ]
     },
     "execution_count": 24,
     "metadata": {},
     "output_type": "execute_result"
    }
   ],
   "source": [
    "# Solução básica 2\n",
    "A = [\n",
    "1 1 -1 0 0;\n",
    "1 0 0 1 0;\n",
    "0 1 0 0 1;\n",
    "]\n",
    "b = [1, 2, 5] \n",
    "Nb = [3, 4] \n",
    "\n",
    "B = A[:, b]\n",
    "N = A[:, Nb]\n",
    "\n",
    "-inv(B)*N"
   ]
  },
  {
   "cell_type": "code",
   "execution_count": 25,
   "id": "3fd7eab5-edb4-4ba0-b15c-674c332b0b9e",
   "metadata": {},
   "outputs": [
    {
     "data": {
      "text/plain": [
       "3×2 Matrix{Float64}:\n",
       "  1.0   1.0\n",
       "  0.0  -1.0\n",
       " -1.0  -1.0"
      ]
     },
     "execution_count": 25,
     "metadata": {},
     "output_type": "execute_result"
    }
   ],
   "source": [
    "# Solução básica 3\n",
    "A = [\n",
    "1 1 -1 0 0;\n",
    "1 0 0 1 0;\n",
    "0 1 0 0 1;\n",
    "]\n",
    "b = [1, 2, 4] \n",
    "Nb = [3, 5] \n",
    "\n",
    "B = A[:, b]\n",
    "N = A[:, Nb]\n",
    "\n",
    "-inv(B)*N"
   ]
  },
  {
   "cell_type": "markdown",
   "id": "2670299d-e9bc-4c7f-b74b-f5911fa6e5c4",
   "metadata": {},
   "source": [
    "Letra c"
   ]
  },
  {
   "cell_type": "code",
   "execution_count": null,
   "id": "a9453d30-3339-4898-964b-0a3856e48b93",
   "metadata": {},
   "outputs": [],
   "source": [
    "#\n",
    "A = [\n",
    "1 1 1\n",
    "    ]"
   ]
  },
  {
   "cell_type": "markdown",
   "id": "77e7e347-031f-4478-99de-19ec7b099b62",
   "metadata": {},
   "source": [
    "# Problema 4"
   ]
  },
  {
   "cell_type": "code",
   "execution_count": 14,
   "id": "3f95274a-8de3-4160-b771-8013a2a6fa22",
   "metadata": {},
   "outputs": [
    {
     "data": {
      "text/plain": [
       "2-element Vector{Int64}:\n",
       " 4\n",
       " 4"
      ]
     },
     "execution_count": 14,
     "metadata": {},
     "output_type": "execute_result"
    }
   ],
   "source": [
    "A = [2 1 1 0;\n",
    "    1 2 0 1\n",
    "]\n",
    "b = [4;\n",
    "    4]\n",
    "c = [4 3 0 0]"
   ]
  },
  {
   "cell_type": "code",
   "execution_count": 73,
   "id": "bee2ff6c-8c1d-471e-8c6e-68da06c03c6b",
   "metadata": {},
   "outputs": [
    {
     "data": {
      "text/plain": [
       "1×2 Matrix{Int64}:\n",
       " 0  0"
      ]
     },
     "execution_count": 73,
     "metadata": {},
     "output_type": "execute_result"
    }
   ],
   "source": [
    "# Base no ponto otimo\n",
    "Nbase = [3, 4]\n",
    "base = [1, 2]\n",
    "B = A[:, base]\n",
    "N = A[:, Nbase]\n",
    "cb = c[:,base]\n",
    "cn = c[:,Nbase]"
   ]
  },
  {
   "cell_type": "code",
   "execution_count": 118,
   "id": "63de2c35-48e2-4472-b5f1-b3b28a9fcd35",
   "metadata": {},
   "outputs": [
    {
     "data": {
      "text/plain": [
       "2×2 Matrix{Float64}:\n",
       "  0.666667  -0.333333\n",
       " -0.333333   0.666667"
      ]
     },
     "execution_count": 118,
     "metadata": {},
     "output_type": "execute_result"
    }
   ],
   "source": [
    "inv(B)"
   ]
  },
  {
   "cell_type": "code",
   "execution_count": 75,
   "id": "92fa6b6a-fc9a-4d57-ac27-da89b1dfaf1e",
   "metadata": {},
   "outputs": [
    {
     "data": {
      "text/plain": [
       "true"
      ]
     },
     "execution_count": 75,
     "metadata": {},
     "output_type": "execute_result"
    }
   ],
   "source": [
    "4*0.666667 - 4*0.333333 >= 0\n",
    "\n",
    "4*-0.33333 + 4*0.666667 >= 0"
   ]
  },
  {
   "cell_type": "code",
   "execution_count": 76,
   "id": "89cf2aa4-ac3d-4e1f-b4bd-2359f2fca8ad",
   "metadata": {},
   "outputs": [
    {
     "data": {
      "text/plain": [
       "func_2 (generic function with 1 method)"
      ]
     },
     "execution_count": 76,
     "metadata": {},
     "output_type": "execute_result"
    }
   ],
   "source": [
    "function func_1(x)\n",
    "    y = (0.666667/0.33333333)*x\n",
    "end\n",
    "\n",
    "function func_2(x)\n",
    "    y = (0.33333333/0.666667)*x\n",
    "end"
   ]
  },
  {
   "cell_type": "code",
   "execution_count": 62,
   "id": "309352a2-e54d-4a52-9e06-7764885826dc",
   "metadata": {},
   "outputs": [
    {
     "data": {
      "text/plain": [
       "91-element Vector{Float64}:\n",
       " -4.0\n",
       " -3.9\n",
       " -3.8\n",
       " -3.7\n",
       " -3.6\n",
       " -3.5\n",
       " -3.4\n",
       " -3.3\n",
       " -3.2\n",
       " -3.1\n",
       " -3.0\n",
       " -2.9\n",
       " -2.8\n",
       "  ⋮\n",
       "  3.9\n",
       "  4.0\n",
       "  4.1\n",
       "  4.2\n",
       "  4.3\n",
       "  4.4\n",
       "  4.5\n",
       "  4.6\n",
       "  4.7\n",
       "  4.8\n",
       "  4.9\n",
       "  5.0"
      ]
     },
     "execution_count": 62,
     "metadata": {},
     "output_type": "execute_result"
    }
   ],
   "source": [
    "x = [-4:0.1:5;]"
   ]
  },
  {
   "cell_type": "code",
   "execution_count": 65,
   "id": "e7ed9eac-7dcb-4403-b80b-e227248ee533",
   "metadata": {},
   "outputs": [
    {
     "data": {
      "text/plain": [
       "91-element Vector{Float64}:\n",
       " -1.9999989800005098\n",
       " -1.949999005500497\n",
       " -1.8999990310004842\n",
       " -1.8499990565004716\n",
       " -1.7999990820004588\n",
       " -1.7499991075004462\n",
       " -1.6999991330004334\n",
       " -1.6499991585004206\n",
       " -1.599999184000408\n",
       " -1.5499992095003952\n",
       " -1.4999992350003823\n",
       " -1.4499992605003695\n",
       " -1.3999992860003567\n",
       "  ⋮\n",
       "  1.949999005500497\n",
       "  1.9999989800005098\n",
       "  2.049998954500522\n",
       "  2.0999989290005354\n",
       "  2.149998903500548\n",
       "  2.199998878000561\n",
       "  2.2499988525005734\n",
       "  2.299998827000586\n",
       "  2.349998801500599\n",
       "  2.399998776000612\n",
       "  2.4499987505006247\n",
       "  2.499998725000637"
      ]
     },
     "execution_count": 65,
     "metadata": {},
     "output_type": "execute_result"
    }
   ],
   "source": [
    "y_1 = func_1.(x)\n",
    "y_2 = func_2.(x)"
   ]
  },
  {
   "cell_type": "code",
   "execution_count": 71,
   "id": "cec5c1d9-3fa3-4e90-8a2e-89416eb3122a",
   "metadata": {},
   "outputs": [
    {
     "data": {
      "image/png": "[encoded data removed]",
      "image/svg+xml": [
       "<?xml version=\"1.0\" encoding=\"utf-8\"?>\n",
       "<svg xmlns=\"http://www.w3.org/2000/svg\" xmlns:xlink=\"http://www.w3.org/1999/xlink\" width=\"600\" height=\"400\" viewBox=\"0 0 2400 1600\">\n",
       "<defs>\n",
       "  <clipPath id=\"clip650\">\n",
       "    <rect x=\"0\" y=\"0\" width=\"2400\" height=\"1600\"/>\n",
       "  </clipPath>\n",
       "</defs>\n",
       "<path clip-path=\"url(#clip650)\" d=\"M0 1600 L2400 1600 L2400 0 L0 0  Z\" fill=\"#ffffff\" fill-rule=\"evenodd\" fill-opacity=\"1\"/>\n",
       "<defs>\n",
       "  <clipPath id=\"clip651\">\n",
       "    <rect x=\"480\" y=\"0\" width=\"1681\" height=\"1600\"/>\n",
       "  </clipPath>\n",
       "</defs>\n",
       "<path clip-path=\"url(#clip650)\" d=\"M175.445 1423.18 L2352.76 1423.18 L2352.76 47.2441 L175.445 47.2441  Z\" fill=\"#ffffff\" fill-rule=\"evenodd\" fill-opacity=\"1\"/>\n",
       "<defs>\n",
       "  <clipPath id=\"clip652\">\n",
       "    <rect x=\"175\" y=\"47\" width=\"2178\" height=\"1377\"/>\n",
       "  </clipPath>\n",
       "</defs>\n",
       "<polyline clip-path=\"url(#clip652)\" style=\"stroke:#000000; stroke-linecap:round; stroke-linejoin:round; stroke-width:2; stroke-opacity:0.1; fill:none\" points=\"175.445,1423.18 175.445,47.2441 \"/>\n",
       "<polyline clip-path=\"url(#clip652)\" style=\"stroke:#000000; stroke-linecap:round; stroke-linejoin:round; stroke-width:2; stroke-opacity:0.1; fill:none\" points=\"610.907,1423.18 610.907,47.2441 \"/>\n",
       "<polyline clip-path=\"url(#clip652)\" style=\"stroke:#000000; stroke-linecap:round; stroke-linejoin:round; stroke-width:2; stroke-opacity:0.1; fill:none\" points=\"1046.37,1423.18 1046.37,47.2441 \"/>\n",
       "<polyline clip-path=\"url(#clip652)\" style=\"stroke:#000000; stroke-linecap:round; stroke-linejoin:round; stroke-width:2; stroke-opacity:0.1; fill:none\" points=\"1481.83,1423.18 1481.83,47.2441 \"/>\n",
       "<polyline clip-path=\"url(#clip652)\" style=\"stroke:#000000; stroke-linecap:round; stroke-linejoin:round; stroke-width:2; stroke-opacity:0.1; fill:none\" points=\"1917.29,1423.18 1917.29,47.2441 \"/>\n",
       "<polyline clip-path=\"url(#clip652)\" style=\"stroke:#000000; stroke-linecap:round; stroke-linejoin:round; stroke-width:2; stroke-opacity:0.1; fill:none\" points=\"2352.76,1423.18 2352.76,47.2441 \"/>\n",
       "<polyline clip-path=\"url(#clip650)\" style=\"stroke:#000000; stroke-linecap:round; stroke-linejoin:round; stroke-width:4; stroke-opacity:1; fill:none\" points=\"175.445,1423.18 2352.76,1423.18 \"/>\n",
       "<polyline clip-path=\"url(#clip650)\" style=\"stroke:#000000; stroke-linecap:round; stroke-linejoin:round; stroke-width:4; stroke-opacity:1; fill:none\" points=\"175.445,1423.18 175.445,1404.28 \"/>\n",
       "<polyline clip-path=\"url(#clip650)\" style=\"stroke:#000000; stroke-linecap:round; stroke-linejoin:round; stroke-width:4; stroke-opacity:1; fill:none\" points=\"610.907,1423.18 610.907,1404.28 \"/>\n",
       "<polyline clip-path=\"url(#clip650)\" style=\"stroke:#000000; stroke-linecap:round; stroke-linejoin:round; stroke-width:4; stroke-opacity:1; fill:none\" points=\"1046.37,1423.18 1046.37,1404.28 \"/>\n",
       "<polyline clip-path=\"url(#clip650)\" style=\"stroke:#000000; stroke-linecap:round; stroke-linejoin:round; stroke-width:4; stroke-opacity:1; fill:none\" points=\"1481.83,1423.18 1481.83,1404.28 \"/>\n",
       "<polyline clip-path=\"url(#clip650)\" style=\"stroke:#000000; stroke-linecap:round; stroke-linejoin:round; stroke-width:4; stroke-opacity:1; fill:none\" points=\"1917.29,1423.18 1917.29,1404.28 \"/>\n",
       "<polyline clip-path=\"url(#clip650)\" style=\"stroke:#000000; stroke-linecap:round; stroke-linejoin:round; stroke-width:4; stroke-opacity:1; fill:none\" points=\"2352.76,1423.18 2352.76,1404.28 \"/>\n",
       "<path clip-path=\"url(#clip650)\" d=\"M175.445 1454.1 Q171.834 1454.1 170.005 1457.66 Q168.2 1461.2 168.2 1468.33 Q168.2 1475.44 170.005 1479.01 Q171.834 1482.55 175.445 1482.55 Q179.079 1482.55 180.885 1479.01 Q182.714 1475.44 182.714 1468.33 Q182.714 1461.2 180.885 1457.66 Q179.079 1454.1 175.445 1454.1 M175.445 1450.39 Q181.255 1450.39 184.311 1455 Q187.39 1459.58 187.39 1468.33 Q187.39 1477.06 184.311 1481.67 Q181.255 1486.25 175.445 1486.25 Q169.635 1486.25 166.556 1481.67 Q163.501 1477.06 163.501 1468.33 Q163.501 1459.58 166.556 1455 Q169.635 1450.39 175.445 1450.39 Z\" fill=\"#000000\" fill-rule=\"nonzero\" fill-opacity=\"1\" /><path clip-path=\"url(#clip650)\" d=\"M601.289 1481.64 L608.928 1481.64 L608.928 1455.28 L600.618 1456.95 L600.618 1452.69 L608.882 1451.02 L613.558 1451.02 L613.558 1481.64 L621.197 1481.64 L621.197 1485.58 L601.289 1485.58 L601.289 1481.64 Z\" fill=\"#000000\" fill-rule=\"nonzero\" fill-opacity=\"1\" /><path clip-path=\"url(#clip650)\" d=\"M1041.02 1481.64 L1057.34 1481.64 L1057.34 1485.58 L1035.4 1485.58 L1035.4 1481.64 Q1038.06 1478.89 1042.64 1474.26 Q1047.25 1469.61 1048.43 1468.27 Q1050.68 1465.74 1051.55 1464.01 Q1052.46 1462.25 1052.46 1460.56 Q1052.46 1457.8 1050.51 1456.07 Q1048.59 1454.33 1045.49 1454.33 Q1043.29 1454.33 1040.84 1455.09 Q1038.41 1455.86 1035.63 1457.41 L1035.63 1452.69 Q1038.45 1451.55 1040.91 1450.97 Q1043.36 1450.39 1045.4 1450.39 Q1050.77 1450.39 1053.96 1453.08 Q1057.16 1455.77 1057.16 1460.26 Q1057.16 1462.39 1056.35 1464.31 Q1055.56 1466.2 1053.45 1468.8 Q1052.87 1469.47 1049.77 1472.69 Q1046.67 1475.88 1041.02 1481.64 Z\" fill=\"#000000\" fill-rule=\"nonzero\" fill-opacity=\"1\" /><path clip-path=\"url(#clip650)\" d=\"M1486.08 1466.95 Q1489.44 1467.66 1491.31 1469.93 Q1493.21 1472.2 1493.21 1475.53 Q1493.21 1480.65 1489.69 1483.45 Q1486.17 1486.25 1479.69 1486.25 Q1477.51 1486.25 1475.2 1485.81 Q1472.91 1485.39 1470.45 1484.54 L1470.45 1480.02 Q1472.4 1481.16 1474.71 1481.74 Q1477.03 1482.32 1479.55 1482.32 Q1483.95 1482.32 1486.24 1480.58 Q1488.56 1478.84 1488.56 1475.53 Q1488.56 1472.48 1486.4 1470.77 Q1484.27 1469.03 1480.45 1469.03 L1476.43 1469.03 L1476.43 1465.19 L1480.64 1465.19 Q1484.09 1465.19 1485.92 1463.82 Q1487.75 1462.43 1487.75 1459.84 Q1487.75 1457.18 1485.85 1455.77 Q1483.97 1454.33 1480.45 1454.33 Q1478.53 1454.33 1476.33 1454.75 Q1474.13 1455.16 1471.5 1456.04 L1471.5 1451.88 Q1474.16 1451.14 1476.47 1450.77 Q1478.81 1450.39 1480.87 1450.39 Q1486.2 1450.39 1489.3 1452.83 Q1492.4 1455.23 1492.4 1459.35 Q1492.4 1462.22 1490.76 1464.21 Q1489.11 1466.18 1486.08 1466.95 Z\" fill=\"#000000\" fill-rule=\"nonzero\" fill-opacity=\"1\" /><path clip-path=\"url(#clip650)\" d=\"M1920.3 1455.09 L1908.5 1473.54 L1920.3 1473.54 L1920.3 1455.09 M1919.08 1451.02 L1924.96 1451.02 L1924.96 1473.54 L1929.89 1473.54 L1929.89 1477.43 L1924.96 1477.43 L1924.96 1485.58 L1920.3 1485.58 L1920.3 1477.43 L1904.7 1477.43 L1904.7 1472.92 L1919.08 1451.02 Z\" fill=\"#000000\" fill-rule=\"nonzero\" fill-opacity=\"1\" /><path clip-path=\"url(#clip650)\" d=\"M2343.03 1451.02 L2361.39 1451.02 L2361.39 1454.96 L2347.32 1454.96 L2347.32 1463.43 Q2348.33 1463.08 2349.35 1462.92 Q2350.37 1462.73 2351.39 1462.73 Q2357.18 1462.73 2360.56 1465.9 Q2363.94 1469.08 2363.94 1474.49 Q2363.94 1480.07 2360.46 1483.17 Q2356.99 1486.25 2350.67 1486.25 Q2348.5 1486.25 2346.23 1485.88 Q2343.98 1485.51 2341.58 1484.77 L2341.58 1480.07 Q2343.66 1481.2 2345.88 1481.76 Q2348.1 1482.32 2350.58 1482.32 Q2354.58 1482.32 2356.92 1480.21 Q2359.26 1478.1 2359.26 1474.49 Q2359.26 1470.88 2356.92 1468.77 Q2354.58 1466.67 2350.58 1466.67 Q2348.71 1466.67 2346.83 1467.08 Q2344.98 1467.5 2343.03 1468.38 L2343.03 1451.02 Z\" fill=\"#000000\" fill-rule=\"nonzero\" fill-opacity=\"1\" /><path clip-path=\"url(#clip650)\" d=\"M1253.49 1537.81 L1253.49 1518.52 L1259.34 1518.52 L1259.34 1568.04 L1253.49 1568.04 L1253.49 1562.7 Q1251.64 1565.88 1248.81 1567.44 Q1246.01 1568.97 1242.06 1568.97 Q1235.6 1568.97 1231.52 1563.81 Q1227.48 1558.65 1227.48 1550.25 Q1227.48 1541.85 1231.52 1536.69 Q1235.6 1531.54 1242.06 1531.54 Q1246.01 1531.54 1248.81 1533.1 Q1251.64 1534.62 1253.49 1537.81 M1233.53 1550.25 Q1233.53 1556.71 1236.17 1560.4 Q1238.84 1564.07 1243.49 1564.07 Q1248.14 1564.07 1250.81 1560.4 Q1253.49 1556.71 1253.49 1550.25 Q1253.49 1543.79 1250.81 1540.13 Q1248.14 1536.44 1243.49 1536.44 Q1238.84 1536.44 1236.17 1540.13 Q1233.53 1543.79 1233.53 1550.25 Z\" fill=\"#000000\" fill-rule=\"nonzero\" fill-opacity=\"1\" /><path clip-path=\"url(#clip650)\" d=\"M1273.35 1562.63 L1283.85 1562.63 L1283.85 1526.38 L1272.42 1528.67 L1272.42 1522.82 L1283.79 1520.52 L1290.22 1520.52 L1290.22 1562.63 L1300.72 1562.63 L1300.72 1568.04 L1273.35 1568.04 L1273.35 1562.63 Z\" fill=\"#000000\" fill-rule=\"nonzero\" fill-opacity=\"1\" /><polyline clip-path=\"url(#clip652)\" style=\"stroke:#000000; stroke-linecap:round; stroke-linejoin:round; stroke-width:2; stroke-opacity:0.1; fill:none\" points=\"175.445,1423.18 2352.76,1423.18 \"/>\n",
       "<polyline clip-path=\"url(#clip652)\" style=\"stroke:#000000; stroke-linecap:round; stroke-linejoin:round; stroke-width:2; stroke-opacity:0.1; fill:none\" points=\"175.445,1147.99 2352.76,1147.99 \"/>\n",
       "<polyline clip-path=\"url(#clip652)\" style=\"stroke:#000000; stroke-linecap:round; stroke-linejoin:round; stroke-width:2; stroke-opacity:0.1; fill:none\" points=\"175.445,872.806 2352.76,872.806 \"/>\n",
       "<polyline clip-path=\"url(#clip652)\" style=\"stroke:#000000; stroke-linecap:round; stroke-linejoin:round; stroke-width:2; stroke-opacity:0.1; fill:none\" points=\"175.445,597.618 2352.76,597.618 \"/>\n",
       "<polyline clip-path=\"url(#clip652)\" style=\"stroke:#000000; stroke-linecap:round; stroke-linejoin:round; stroke-width:2; stroke-opacity:0.1; fill:none\" points=\"175.445,322.431 2352.76,322.431 \"/>\n",
       "<polyline clip-path=\"url(#clip652)\" style=\"stroke:#000000; stroke-linecap:round; stroke-linejoin:round; stroke-width:2; stroke-opacity:0.1; fill:none\" points=\"175.445,47.2441 2352.76,47.2441 \"/>\n",
       "<polyline clip-path=\"url(#clip650)\" style=\"stroke:#000000; stroke-linecap:round; stroke-linejoin:round; stroke-width:4; stroke-opacity:1; fill:none\" points=\"175.445,1423.18 175.445,47.2441 \"/>\n",
       "<polyline clip-path=\"url(#clip650)\" style=\"stroke:#000000; stroke-linecap:round; stroke-linejoin:round; stroke-width:4; stroke-opacity:1; fill:none\" points=\"175.445,1423.18 194.343,1423.18 \"/>\n",
       "<polyline clip-path=\"url(#clip650)\" style=\"stroke:#000000; stroke-linecap:round; stroke-linejoin:round; stroke-width:4; stroke-opacity:1; fill:none\" points=\"175.445,1147.99 194.343,1147.99 \"/>\n",
       "<polyline clip-path=\"url(#clip650)\" style=\"stroke:#000000; stroke-linecap:round; stroke-linejoin:round; stroke-width:4; stroke-opacity:1; fill:none\" points=\"175.445,872.806 194.343,872.806 \"/>\n",
       "<polyline clip-path=\"url(#clip650)\" style=\"stroke:#000000; stroke-linecap:round; stroke-linejoin:round; stroke-width:4; stroke-opacity:1; fill:none\" points=\"175.445,597.618 194.343,597.618 \"/>\n",
       "<polyline clip-path=\"url(#clip650)\" style=\"stroke:#000000; stroke-linecap:round; stroke-linejoin:round; stroke-width:4; stroke-opacity:1; fill:none\" points=\"175.445,322.431 194.343,322.431 \"/>\n",
       "<polyline clip-path=\"url(#clip650)\" style=\"stroke:#000000; stroke-linecap:round; stroke-linejoin:round; stroke-width:4; stroke-opacity:1; fill:none\" points=\"175.445,47.2441 194.343,47.2441 \"/>\n",
       "<path clip-path=\"url(#clip650)\" d=\"M127.501 1408.98 Q123.89 1408.98 122.061 1412.54 Q120.255 1416.08 120.255 1423.21 Q120.255 1430.32 122.061 1433.89 Q123.89 1437.43 127.501 1437.43 Q131.135 1437.43 132.941 1433.89 Q134.769 1430.32 134.769 1423.21 Q134.769 1416.08 132.941 1412.54 Q131.135 1408.98 127.501 1408.98 M127.501 1405.27 Q133.311 1405.27 136.367 1409.88 Q139.445 1414.46 139.445 1423.21 Q139.445 1431.94 136.367 1436.55 Q133.311 1441.13 127.501 1441.13 Q121.691 1441.13 118.612 1436.55 Q115.556 1431.94 115.556 1423.21 Q115.556 1414.46 118.612 1409.88 Q121.691 1405.27 127.501 1405.27 Z\" fill=\"#000000\" fill-rule=\"nonzero\" fill-opacity=\"1\" /><path clip-path=\"url(#clip650)\" d=\"M119.538 1161.34 L127.177 1161.34 L127.177 1134.97 L118.867 1136.64 L118.867 1132.38 L127.13 1130.71 L131.806 1130.71 L131.806 1161.34 L139.445 1161.34 L139.445 1165.27 L119.538 1165.27 L119.538 1161.34 Z\" fill=\"#000000\" fill-rule=\"nonzero\" fill-opacity=\"1\" /><path clip-path=\"url(#clip650)\" d=\"M123.126 886.15 L139.445 886.15 L139.445 890.086 L117.501 890.086 L117.501 886.15 Q120.163 883.396 124.746 878.766 Q129.353 874.113 130.533 872.771 Q132.779 870.248 133.658 868.512 Q134.561 866.752 134.561 865.063 Q134.561 862.308 132.617 860.572 Q130.695 858.836 127.593 858.836 Q125.394 858.836 122.941 859.6 Q120.51 860.363 117.732 861.914 L117.732 857.192 Q120.556 856.058 123.01 855.479 Q125.464 854.901 127.501 854.901 Q132.871 854.901 136.066 857.586 Q139.26 860.271 139.26 864.762 Q139.26 866.891 138.45 868.813 Q137.663 870.711 135.556 873.303 Q134.978 873.975 131.876 877.192 Q128.774 880.387 123.126 886.15 Z\" fill=\"#000000\" fill-rule=\"nonzero\" fill-opacity=\"1\" /><path clip-path=\"url(#clip650)\" d=\"M132.316 596.264 Q135.672 596.982 137.547 599.25 Q139.445 601.519 139.445 604.852 Q139.445 609.968 135.927 612.769 Q132.408 615.57 125.927 615.57 Q123.751 615.57 121.436 615.13 Q119.144 614.713 116.691 613.857 L116.691 609.343 Q118.635 610.477 120.95 611.056 Q123.265 611.635 125.788 611.635 Q130.186 611.635 132.478 609.898 Q134.792 608.162 134.792 604.852 Q134.792 601.797 132.64 600.084 Q130.51 598.348 126.691 598.348 L122.663 598.348 L122.663 594.505 L126.876 594.505 Q130.325 594.505 132.154 593.139 Q133.982 591.75 133.982 589.158 Q133.982 586.496 132.084 585.084 Q130.209 583.649 126.691 583.649 Q124.769 583.649 122.57 584.065 Q120.371 584.482 117.732 585.362 L117.732 581.195 Q120.394 580.454 122.709 580.084 Q125.047 579.713 127.107 579.713 Q132.431 579.713 135.533 582.144 Q138.635 584.551 138.635 588.672 Q138.635 591.542 136.992 593.533 Q135.348 595.5 132.316 596.264 Z\" fill=\"#000000\" fill-rule=\"nonzero\" fill-opacity=\"1\" /><path clip-path=\"url(#clip650)\" d=\"M129.862 309.225 L118.056 327.674 L129.862 327.674 L129.862 309.225 M128.635 305.151 L134.515 305.151 L134.515 327.674 L139.445 327.674 L139.445 331.563 L134.515 331.563 L134.515 339.711 L129.862 339.711 L129.862 331.563 L114.26 331.563 L114.26 327.049 L128.635 305.151 Z\" fill=\"#000000\" fill-rule=\"nonzero\" fill-opacity=\"1\" /><path clip-path=\"url(#clip650)\" d=\"M118.543 29.9641 L136.899 29.9641 L136.899 33.8993 L122.825 33.8993 L122.825 42.3714 Q123.843 42.0242 124.862 41.8622 Q125.88 41.677 126.899 41.677 Q132.686 41.677 136.066 44.8483 Q139.445 48.0196 139.445 53.4362 Q139.445 59.0149 135.973 62.1167 Q132.501 65.1954 126.181 65.1954 Q124.005 65.1954 121.737 64.825 Q119.492 64.4547 117.084 63.7139 L117.084 59.0149 Q119.168 60.1491 121.39 60.7047 Q123.612 61.2602 126.089 61.2602 Q130.093 61.2602 132.431 59.1538 Q134.769 57.0473 134.769 53.4362 Q134.769 49.8251 132.431 47.7186 Q130.093 45.6122 126.089 45.6122 Q124.214 45.6122 122.339 46.0288 Q120.487 46.4455 118.543 47.3251 L118.543 29.9641 Z\" fill=\"#000000\" fill-rule=\"nonzero\" fill-opacity=\"1\" /><path clip-path=\"url(#clip650)\" d=\"M33.7671 745.572 L14.479 745.572 L14.479 739.716 L64.0042 739.716 L64.0042 745.572 L58.657 745.572 Q61.8398 747.418 63.3994 750.251 Q64.9272 753.052 64.9272 756.999 Q64.9272 763.46 59.771 767.534 Q54.6147 771.576 46.212 771.576 Q37.8093 771.576 32.6531 767.534 Q27.4968 763.46 27.4968 756.999 Q27.4968 753.052 29.0564 750.251 Q30.5842 747.418 33.7671 745.572 M46.212 765.529 Q52.6732 765.529 56.3653 762.887 Q60.0256 760.213 60.0256 755.566 Q60.0256 750.919 56.3653 748.246 Q52.6732 745.572 46.212 745.572 Q39.7508 745.572 36.0905 748.246 Q32.3984 750.919 32.3984 755.566 Q32.3984 760.213 36.0905 762.887 Q39.7508 765.529 46.212 765.529 Z\" fill=\"#000000\" fill-rule=\"nonzero\" fill-opacity=\"1\" /><path clip-path=\"url(#clip650)\" d=\"M58.5933 721.287 L58.5933 698.848 L64.0042 698.848 L64.0042 729.021 L58.5933 729.021 Q54.8057 725.361 48.44 719.059 Q42.0425 712.725 40.1964 711.102 Q36.7271 708.014 34.34 706.805 Q31.921 705.564 29.5975 705.564 Q25.8099 705.564 23.4228 708.237 Q21.0356 710.879 21.0356 715.144 Q21.0356 718.168 22.086 721.542 Q23.1363 724.884 25.2688 728.703 L18.7758 728.703 Q17.2162 724.82 16.4205 721.446 Q15.6248 718.072 15.6248 715.271 Q15.6248 707.887 19.3169 703.495 Q23.009 699.102 29.1837 699.102 Q32.112 699.102 34.7537 700.216 Q37.3637 701.299 40.9285 704.195 Q41.8515 704.991 46.2757 709.256 Q50.668 713.521 58.5933 721.287 Z\" fill=\"#000000\" fill-rule=\"nonzero\" fill-opacity=\"1\" /><polyline clip-path=\"url(#clip652)\" style=\"stroke:#009af9; stroke-linecap:round; stroke-linejoin:round; stroke-width:4; stroke-opacity:1; fill:none\" points=\"-1566.4,3624.68 -1522.86,3569.64 -1479.31,3514.6 -1435.76,3459.57 -1392.22,3404.53 -1348.67,3349.49 -1305.13,3294.45 -1261.58,3239.42 -1218.03,3184.38 -1174.49,3129.34 -1130.94,3074.3 -1087.39,3019.27 -1043.85,2964.23 -1000.3,2909.19 -956.756,2854.15 -913.21,2799.12 -869.664,2744.08 -826.118,2689.04 -782.571,2634 -739.025,2578.97 -695.479,2523.93 -651.933,2468.89 -608.387,2413.85 -564.84,2358.82 -521.294,2303.78 -477.748,2248.74 -434.202,2193.7 -390.656,2138.67 -347.109,2083.63 -303.563,2028.59 -260.017,1973.55 -216.471,1918.52 -172.925,1863.48 -129.378,1808.44 -85.8321,1753.4 -42.2859,1698.37 1.26035,1643.33 44.8066,1588.29 88.3528,1533.25 131.899,1478.22 175.445,1423.18 218.991,1368.14 262.538,1313.1 306.084,1258.07 349.63,1203.03 393.176,1147.99 436.722,1092.96 480.269,1037.92 523.815,982.88 567.361,927.843 610.907,872.805 654.454,817.768 698,762.73 741.546,707.693 785.092,652.655 828.638,597.618 872.185,542.581 915.731,487.543 959.277,432.506 1002.82,377.468 1046.37,322.431 1089.92,267.393 1133.46,212.356 1177.01,157.318 1220.55,102.281 1264.1,47.2434 1307.65,-7.79407 1351.19,-62.8315 1394.74,-117.869 1438.29,-172.906 1481.83,-227.944 1525.38,-282.981 1568.92,-338.019 1612.47,-393.056 1656.02,-448.094 1699.56,-503.131 1743.11,-558.169 1786.66,-613.206 1830.2,-668.244 1873.75,-723.281 1917.29,-778.318 1960.84,-833.356 2004.39,-888.393 2047.93,-943.431 2091.48,-998.468 2135.02,-1053.51 2178.57,-1108.54 2222.12,-1163.58 2265.66,-1218.62 2309.21,-1273.66 2352.76,-1328.69 \"/>\n",
       "<polyline clip-path=\"url(#clip652)\" style=\"stroke:#e26f46; stroke-linecap:round; stroke-linejoin:round; stroke-width:4; stroke-opacity:1; fill:none\" points=\"-1566.4,1973.55 -1522.86,1959.79 -1479.31,1946.04 -1435.76,1932.28 -1392.22,1918.52 -1348.67,1904.76 -1305.13,1891 -1261.58,1877.24 -1218.03,1863.48 -1174.49,1849.72 -1130.94,1835.96 -1087.39,1822.2 -1043.85,1808.44 -1000.3,1794.68 -956.756,1780.92 -913.21,1767.16 -869.664,1753.4 -826.118,1739.64 -782.571,1725.89 -739.025,1712.13 -695.479,1698.37 -651.933,1684.61 -608.387,1670.85 -564.84,1657.09 -521.294,1643.33 -477.748,1629.57 -434.202,1615.81 -390.656,1602.05 -347.109,1588.29 -303.563,1574.53 -260.017,1560.77 -216.471,1547.01 -172.925,1533.25 -129.378,1519.5 -85.8321,1505.74 -42.2859,1491.98 1.26035,1478.22 44.8066,1464.46 88.3528,1450.7 131.899,1436.94 175.445,1423.18 218.991,1409.42 262.538,1395.66 306.084,1381.9 349.63,1368.14 393.176,1354.38 436.722,1340.62 480.269,1326.86 523.815,1313.11 567.361,1299.35 610.907,1285.59 654.454,1271.83 698,1258.07 741.546,1244.31 785.092,1230.55 828.638,1216.79 872.185,1203.03 915.731,1189.27 959.277,1175.51 1002.82,1161.75 1046.37,1147.99 1089.92,1134.23 1133.46,1120.47 1177.01,1106.71 1220.55,1092.96 1264.1,1079.2 1307.65,1065.44 1351.19,1051.68 1394.74,1037.92 1438.29,1024.16 1481.83,1010.4 1525.38,996.64 1568.92,982.881 1612.47,969.121 1656.02,955.362 1699.56,941.603 1743.11,927.843 1786.66,914.084 1830.2,900.325 1873.75,886.565 1917.29,872.806 1960.84,859.046 2004.39,845.287 2047.93,831.528 2091.48,817.768 2135.02,804.009 2178.57,790.25 2222.12,776.49 2265.66,762.731 2309.21,748.972 2352.76,735.212 \"/>\n",
       "</svg>\n"
      ],
      "text/html": [
       "<?xml version=\"1.0\" encoding=\"utf-8\"?>\n",
       "<svg xmlns=\"http://www.w3.org/2000/svg\" xmlns:xlink=\"http://www.w3.org/1999/xlink\" width=\"600\" height=\"400\" viewBox=\"0 0 2400 1600\">\n",
       "<defs>\n",
       "  <clipPath id=\"clip700\">\n",
       "    <rect x=\"0\" y=\"0\" width=\"2400\" height=\"1600\"/>\n",
       "  </clipPath>\n",
       "</defs>\n",
       "<path clip-path=\"url(#clip700)\" d=\"M0 1600 L2400 1600 L2400 0 L0 0  Z\" fill=\"#ffffff\" fill-rule=\"evenodd\" fill-opacity=\"1\"/>\n",
       "<defs>\n",
       "  <clipPath id=\"clip701\">\n",
       "    <rect x=\"480\" y=\"0\" width=\"1681\" height=\"1600\"/>\n",
       "  </clipPath>\n",
       "</defs>\n",
       "<path clip-path=\"url(#clip700)\" d=\"M175.445 1423.18 L2352.76 1423.18 L2352.76 47.2441 L175.445 47.2441  Z\" fill=\"#ffffff\" fill-rule=\"evenodd\" fill-opacity=\"1\"/>\n",
       "<defs>\n",
       "  <clipPath id=\"clip702\">\n",
       "    <rect x=\"175\" y=\"47\" width=\"2178\" height=\"1377\"/>\n",
       "  </clipPath>\n",
       "</defs>\n",
       "<polyline clip-path=\"url(#clip702)\" style=\"stroke:#000000; stroke-linecap:round; stroke-linejoin:round; stroke-width:2; stroke-opacity:0.1; fill:none\" points=\"175.445,1423.18 175.445,47.2441 \"/>\n",
       "<polyline clip-path=\"url(#clip702)\" style=\"stroke:#000000; stroke-linecap:round; stroke-linejoin:round; stroke-width:2; stroke-opacity:0.1; fill:none\" points=\"610.907,1423.18 610.907,47.2441 \"/>\n",
       "<polyline clip-path=\"url(#clip702)\" style=\"stroke:#000000; stroke-linecap:round; stroke-linejoin:round; stroke-width:2; stroke-opacity:0.1; fill:none\" points=\"1046.37,1423.18 1046.37,47.2441 \"/>\n",
       "<polyline clip-path=\"url(#clip702)\" style=\"stroke:#000000; stroke-linecap:round; stroke-linejoin:round; stroke-width:2; stroke-opacity:0.1; fill:none\" points=\"1481.83,1423.18 1481.83,47.2441 \"/>\n",
       "<polyline clip-path=\"url(#clip702)\" style=\"stroke:#000000; stroke-linecap:round; stroke-linejoin:round; stroke-width:2; stroke-opacity:0.1; fill:none\" points=\"1917.29,1423.18 1917.29,47.2441 \"/>\n",
       "<polyline clip-path=\"url(#clip702)\" style=\"stroke:#000000; stroke-linecap:round; stroke-linejoin:round; stroke-width:2; stroke-opacity:0.1; fill:none\" points=\"2352.76,1423.18 2352.76,47.2441 \"/>\n",
       "<polyline clip-path=\"url(#clip700)\" style=\"stroke:#000000; stroke-linecap:round; stroke-linejoin:round; stroke-width:4; stroke-opacity:1; fill:none\" points=\"175.445,1423.18 2352.76,1423.18 \"/>\n",
       "<polyline clip-path=\"url(#clip700)\" style=\"stroke:#000000; stroke-linecap:round; stroke-linejoin:round; stroke-width:4; stroke-opacity:1; fill:none\" points=\"175.445,1423.18 175.445,1404.28 \"/>\n",
       "<polyline clip-path=\"url(#clip700)\" style=\"stroke:#000000; stroke-linecap:round; stroke-linejoin:round; stroke-width:4; stroke-opacity:1; fill:none\" points=\"610.907,1423.18 610.907,1404.28 \"/>\n",
       "<polyline clip-path=\"url(#clip700)\" style=\"stroke:#000000; stroke-linecap:round; stroke-linejoin:round; stroke-width:4; stroke-opacity:1; fill:none\" points=\"1046.37,1423.18 1046.37,1404.28 \"/>\n",
       "<polyline clip-path=\"url(#clip700)\" style=\"stroke:#000000; stroke-linecap:round; stroke-linejoin:round; stroke-width:4; stroke-opacity:1; fill:none\" points=\"1481.83,1423.18 1481.83,1404.28 \"/>\n",
       "<polyline clip-path=\"url(#clip700)\" style=\"stroke:#000000; stroke-linecap:round; stroke-linejoin:round; stroke-width:4; stroke-opacity:1; fill:none\" points=\"1917.29,1423.18 1917.29,1404.28 \"/>\n",
       "<polyline clip-path=\"url(#clip700)\" style=\"stroke:#000000; stroke-linecap:round; stroke-linejoin:round; stroke-width:4; stroke-opacity:1; fill:none\" points=\"2352.76,1423.18 2352.76,1404.28 \"/>\n",
       "<path clip-path=\"url(#clip700)\" d=\"M175.445 1454.1 Q171.834 1454.1 170.005 1457.66 Q168.2 1461.2 168.2 1468.33 Q168.2 1475.44 170.005 1479.01 Q171.834 1482.55 175.445 1482.55 Q179.079 1482.55 180.885 1479.01 Q182.714 1475.44 182.714 1468.33 Q182.714 1461.2 180.885 1457.66 Q179.079 1454.1 175.445 1454.1 M175.445 1450.39 Q181.255 1450.39 184.311 1455 Q187.39 1459.58 187.39 1468.33 Q187.39 1477.06 184.311 1481.67 Q181.255 1486.25 175.445 1486.25 Q169.635 1486.25 166.556 1481.67 Q163.501 1477.06 163.501 1468.33 Q163.501 1459.58 166.556 1455 Q169.635 1450.39 175.445 1450.39 Z\" fill=\"#000000\" fill-rule=\"nonzero\" fill-opacity=\"1\" /><path clip-path=\"url(#clip700)\" d=\"M601.289 1481.64 L608.928 1481.64 L608.928 1455.28 L600.618 1456.95 L600.618 1452.69 L608.882 1451.02 L613.558 1451.02 L613.558 1481.64 L621.197 1481.64 L621.197 1485.58 L601.289 1485.58 L601.289 1481.64 Z\" fill=\"#000000\" fill-rule=\"nonzero\" fill-opacity=\"1\" /><path clip-path=\"url(#clip700)\" d=\"M1041.02 1481.64 L1057.34 1481.64 L1057.34 1485.58 L1035.4 1485.58 L1035.4 1481.64 Q1038.06 1478.89 1042.64 1474.26 Q1047.25 1469.61 1048.43 1468.27 Q1050.68 1465.74 1051.55 1464.01 Q1052.46 1462.25 1052.46 1460.56 Q1052.46 1457.8 1050.51 1456.07 Q1048.59 1454.33 1045.49 1454.33 Q1043.29 1454.33 1040.84 1455.09 Q1038.41 1455.86 1035.63 1457.41 L1035.63 1452.69 Q1038.45 1451.55 1040.91 1450.97 Q1043.36 1450.39 1045.4 1450.39 Q1050.77 1450.39 1053.96 1453.08 Q1057.16 1455.77 1057.16 1460.26 Q1057.16 1462.39 1056.35 1464.31 Q1055.56 1466.2 1053.45 1468.8 Q1052.87 1469.47 1049.77 1472.69 Q1046.67 1475.88 1041.02 1481.64 Z\" fill=\"#000000\" fill-rule=\"nonzero\" fill-opacity=\"1\" /><path clip-path=\"url(#clip700)\" d=\"M1486.08 1466.95 Q1489.44 1467.66 1491.31 1469.93 Q1493.21 1472.2 1493.21 1475.53 Q1493.21 1480.65 1489.69 1483.45 Q1486.17 1486.25 1479.69 1486.25 Q1477.51 1486.25 1475.2 1485.81 Q1472.91 1485.39 1470.45 1484.54 L1470.45 1480.02 Q1472.4 1481.16 1474.71 1481.74 Q1477.03 1482.32 1479.55 1482.32 Q1483.95 1482.32 1486.24 1480.58 Q1488.56 1478.84 1488.56 1475.53 Q1488.56 1472.48 1486.4 1470.77 Q1484.27 1469.03 1480.45 1469.03 L1476.43 1469.03 L1476.43 1465.19 L1480.64 1465.19 Q1484.09 1465.19 1485.92 1463.82 Q1487.75 1462.43 1487.75 1459.84 Q1487.75 1457.18 1485.85 1455.77 Q1483.97 1454.33 1480.45 1454.33 Q1478.53 1454.33 1476.33 1454.75 Q1474.13 1455.16 1471.5 1456.04 L1471.5 1451.88 Q1474.16 1451.14 1476.47 1450.77 Q1478.81 1450.39 1480.87 1450.39 Q1486.2 1450.39 1489.3 1452.83 Q1492.4 1455.23 1492.4 1459.35 Q1492.4 1462.22 1490.76 1464.21 Q1489.11 1466.18 1486.08 1466.95 Z\" fill=\"#000000\" fill-rule=\"nonzero\" fill-opacity=\"1\" /><path clip-path=\"url(#clip700)\" d=\"M1920.3 1455.09 L1908.5 1473.54 L1920.3 1473.54 L1920.3 1455.09 M1919.08 1451.02 L1924.96 1451.02 L1924.96 1473.54 L1929.89 1473.54 L1929.89 1477.43 L1924.96 1477.43 L1924.96 1485.58 L1920.3 1485.58 L1920.3 1477.43 L1904.7 1477.43 L1904.7 1472.92 L1919.08 1451.02 Z\" fill=\"#000000\" fill-rule=\"nonzero\" fill-opacity=\"1\" /><path clip-path=\"url(#clip700)\" d=\"M2343.03 1451.02 L2361.39 1451.02 L2361.39 1454.96 L2347.32 1454.96 L2347.32 1463.43 Q2348.33 1463.08 2349.35 1462.92 Q2350.37 1462.73 2351.39 1462.73 Q2357.18 1462.73 2360.56 1465.9 Q2363.94 1469.08 2363.94 1474.49 Q2363.94 1480.07 2360.46 1483.17 Q2356.99 1486.25 2350.67 1486.25 Q2348.5 1486.25 2346.23 1485.88 Q2343.98 1485.51 2341.58 1484.77 L2341.58 1480.07 Q2343.66 1481.2 2345.88 1481.76 Q2348.1 1482.32 2350.58 1482.32 Q2354.58 1482.32 2356.92 1480.21 Q2359.26 1478.1 2359.26 1474.49 Q2359.26 1470.88 2356.92 1468.77 Q2354.58 1466.67 2350.58 1466.67 Q2348.71 1466.67 2346.83 1467.08 Q2344.98 1467.5 2343.03 1468.38 L2343.03 1451.02 Z\" fill=\"#000000\" fill-rule=\"nonzero\" fill-opacity=\"1\" /><path clip-path=\"url(#clip700)\" d=\"M1253.49 1537.81 L1253.49 1518.52 L1259.34 1518.52 L1259.34 1568.04 L1253.49 1568.04 L1253.49 1562.7 Q1251.64 1565.88 1248.81 1567.44 Q1246.01 1568.97 1242.06 1568.97 Q1235.6 1568.97 1231.52 1563.81 Q1227.48 1558.65 1227.48 1550.25 Q1227.48 1541.85 1231.52 1536.69 Q1235.6 1531.54 1242.06 1531.54 Q1246.01 1531.54 1248.81 1533.1 Q1251.64 1534.62 1253.49 1537.81 M1233.53 1550.25 Q1233.53 1556.71 1236.17 1560.4 Q1238.84 1564.07 1243.49 1564.07 Q1248.14 1564.07 1250.81 1560.4 Q1253.49 1556.71 1253.49 1550.25 Q1253.49 1543.79 1250.81 1540.13 Q1248.14 1536.44 1243.49 1536.44 Q1238.84 1536.44 1236.17 1540.13 Q1233.53 1543.79 1233.53 1550.25 Z\" fill=\"#000000\" fill-rule=\"nonzero\" fill-opacity=\"1\" /><path clip-path=\"url(#clip700)\" d=\"M1273.35 1562.63 L1283.85 1562.63 L1283.85 1526.38 L1272.42 1528.67 L1272.42 1522.82 L1283.79 1520.52 L1290.22 1520.52 L1290.22 1562.63 L1300.72 1562.63 L1300.72 1568.04 L1273.35 1568.04 L1273.35 1562.63 Z\" fill=\"#000000\" fill-rule=\"nonzero\" fill-opacity=\"1\" /><polyline clip-path=\"url(#clip702)\" style=\"stroke:#000000; stroke-linecap:round; stroke-linejoin:round; stroke-width:2; stroke-opacity:0.1; fill:none\" points=\"175.445,1423.18 2352.76,1423.18 \"/>\n",
       "<polyline clip-path=\"url(#clip702)\" style=\"stroke:#000000; stroke-linecap:round; stroke-linejoin:round; stroke-width:2; stroke-opacity:0.1; fill:none\" points=\"175.445,1147.99 2352.76,1147.99 \"/>\n",
       "<polyline clip-path=\"url(#clip702)\" style=\"stroke:#000000; stroke-linecap:round; stroke-linejoin:round; stroke-width:2; stroke-opacity:0.1; fill:none\" points=\"175.445,872.806 2352.76,872.806 \"/>\n",
       "<polyline clip-path=\"url(#clip702)\" style=\"stroke:#000000; stroke-linecap:round; stroke-linejoin:round; stroke-width:2; stroke-opacity:0.1; fill:none\" points=\"175.445,597.618 2352.76,597.618 \"/>\n",
       "<polyline clip-path=\"url(#clip702)\" style=\"stroke:#000000; stroke-linecap:round; stroke-linejoin:round; stroke-width:2; stroke-opacity:0.1; fill:none\" points=\"175.445,322.431 2352.76,322.431 \"/>\n",
       "<polyline clip-path=\"url(#clip702)\" style=\"stroke:#000000; stroke-linecap:round; stroke-linejoin:round; stroke-width:2; stroke-opacity:0.1; fill:none\" points=\"175.445,47.2441 2352.76,47.2441 \"/>\n",
       "<polyline clip-path=\"url(#clip700)\" style=\"stroke:#000000; stroke-linecap:round; stroke-linejoin:round; stroke-width:4; stroke-opacity:1; fill:none\" points=\"175.445,1423.18 175.445,47.2441 \"/>\n",
       "<polyline clip-path=\"url(#clip700)\" style=\"stroke:#000000; stroke-linecap:round; stroke-linejoin:round; stroke-width:4; stroke-opacity:1; fill:none\" points=\"175.445,1423.18 194.343,1423.18 \"/>\n",
       "<polyline clip-path=\"url(#clip700)\" style=\"stroke:#000000; stroke-linecap:round; stroke-linejoin:round; stroke-width:4; stroke-opacity:1; fill:none\" points=\"175.445,1147.99 194.343,1147.99 \"/>\n",
       "<polyline clip-path=\"url(#clip700)\" style=\"stroke:#000000; stroke-linecap:round; stroke-linejoin:round; stroke-width:4; stroke-opacity:1; fill:none\" points=\"175.445,872.806 194.343,872.806 \"/>\n",
       "<polyline clip-path=\"url(#clip700)\" style=\"stroke:#000000; stroke-linecap:round; stroke-linejoin:round; stroke-width:4; stroke-opacity:1; fill:none\" points=\"175.445,597.618 194.343,597.618 \"/>\n",
       "<polyline clip-path=\"url(#clip700)\" style=\"stroke:#000000; stroke-linecap:round; stroke-linejoin:round; stroke-width:4; stroke-opacity:1; fill:none\" points=\"175.445,322.431 194.343,322.431 \"/>\n",
       "<polyline clip-path=\"url(#clip700)\" style=\"stroke:#000000; stroke-linecap:round; stroke-linejoin:round; stroke-width:4; stroke-opacity:1; fill:none\" points=\"175.445,47.2441 194.343,47.2441 \"/>\n",
       "<path clip-path=\"url(#clip700)\" d=\"M127.501 1408.98 Q123.89 1408.98 122.061 1412.54 Q120.255 1416.08 120.255 1423.21 Q120.255 1430.32 122.061 1433.89 Q123.89 1437.43 127.501 1437.43 Q131.135 1437.43 132.941 1433.89 Q134.769 1430.32 134.769 1423.21 Q134.769 1416.08 132.941 1412.54 Q131.135 1408.98 127.501 1408.98 M127.501 1405.27 Q133.311 1405.27 136.367 1409.88 Q139.445 1414.46 139.445 1423.21 Q139.445 1431.94 136.367 1436.55 Q133.311 1441.13 127.501 1441.13 Q121.691 1441.13 118.612 1436.55 Q115.556 1431.94 115.556 1423.21 Q115.556 1414.46 118.612 1409.88 Q121.691 1405.27 127.501 1405.27 Z\" fill=\"#000000\" fill-rule=\"nonzero\" fill-opacity=\"1\" /><path clip-path=\"url(#clip700)\" d=\"M119.538 1161.34 L127.177 1161.34 L127.177 1134.97 L118.867 1136.64 L118.867 1132.38 L127.13 1130.71 L131.806 1130.71 L131.806 1161.34 L139.445 1161.34 L139.445 1165.27 L119.538 1165.27 L119.538 1161.34 Z\" fill=\"#000000\" fill-rule=\"nonzero\" fill-opacity=\"1\" /><path clip-path=\"url(#clip700)\" d=\"M123.126 886.15 L139.445 886.15 L139.445 890.086 L117.501 890.086 L117.501 886.15 Q120.163 883.396 124.746 878.766 Q129.353 874.113 130.533 872.771 Q132.779 870.248 133.658 868.512 Q134.561 866.752 134.561 865.063 Q134.561 862.308 132.617 860.572 Q130.695 858.836 127.593 858.836 Q125.394 858.836 122.941 859.6 Q120.51 860.363 117.732 861.914 L117.732 857.192 Q120.556 856.058 123.01 855.479 Q125.464 854.901 127.501 854.901 Q132.871 854.901 136.066 857.586 Q139.26 860.271 139.26 864.762 Q139.26 866.891 138.45 868.813 Q137.663 870.711 135.556 873.303 Q134.978 873.975 131.876 877.192 Q128.774 880.387 123.126 886.15 Z\" fill=\"#000000\" fill-rule=\"nonzero\" fill-opacity=\"1\" /><path clip-path=\"url(#clip700)\" d=\"M132.316 596.264 Q135.672 596.982 137.547 599.25 Q139.445 601.519 139.445 604.852 Q139.445 609.968 135.927 612.769 Q132.408 615.57 125.927 615.57 Q123.751 615.57 121.436 615.13 Q119.144 614.713 116.691 613.857 L116.691 609.343 Q118.635 610.477 120.95 611.056 Q123.265 611.635 125.788 611.635 Q130.186 611.635 132.478 609.898 Q134.792 608.162 134.792 604.852 Q134.792 601.797 132.64 600.084 Q130.51 598.348 126.691 598.348 L122.663 598.348 L122.663 594.505 L126.876 594.505 Q130.325 594.505 132.154 593.139 Q133.982 591.75 133.982 589.158 Q133.982 586.496 132.084 585.084 Q130.209 583.649 126.691 583.649 Q124.769 583.649 122.57 584.065 Q120.371 584.482 117.732 585.362 L117.732 581.195 Q120.394 580.454 122.709 580.084 Q125.047 579.713 127.107 579.713 Q132.431 579.713 135.533 582.144 Q138.635 584.551 138.635 588.672 Q138.635 591.542 136.992 593.533 Q135.348 595.5 132.316 596.264 Z\" fill=\"#000000\" fill-rule=\"nonzero\" fill-opacity=\"1\" /><path clip-path=\"url(#clip700)\" d=\"M129.862 309.225 L118.056 327.674 L129.862 327.674 L129.862 309.225 M128.635 305.151 L134.515 305.151 L134.515 327.674 L139.445 327.674 L139.445 331.563 L134.515 331.563 L134.515 339.711 L129.862 339.711 L129.862 331.563 L114.26 331.563 L114.26 327.049 L128.635 305.151 Z\" fill=\"#000000\" fill-rule=\"nonzero\" fill-opacity=\"1\" /><path clip-path=\"url(#clip700)\" d=\"M118.543 29.9641 L136.899 29.9641 L136.899 33.8993 L122.825 33.8993 L122.825 42.3714 Q123.843 42.0242 124.862 41.8622 Q125.88 41.677 126.899 41.677 Q132.686 41.677 136.066 44.8483 Q139.445 48.0196 139.445 53.4362 Q139.445 59.0149 135.973 62.1167 Q132.501 65.1954 126.181 65.1954 Q124.005 65.1954 121.737 64.825 Q119.492 64.4547 117.084 63.7139 L117.084 59.0149 Q119.168 60.1491 121.39 60.7047 Q123.612 61.2602 126.089 61.2602 Q130.093 61.2602 132.431 59.1538 Q134.769 57.0473 134.769 53.4362 Q134.769 49.8251 132.431 47.7186 Q130.093 45.6122 126.089 45.6122 Q124.214 45.6122 122.339 46.0288 Q120.487 46.4455 118.543 47.3251 L118.543 29.9641 Z\" fill=\"#000000\" fill-rule=\"nonzero\" fill-opacity=\"1\" /><path clip-path=\"url(#clip700)\" d=\"M33.7671 745.572 L14.479 745.572 L14.479 739.716 L64.0042 739.716 L64.0042 745.572 L58.657 745.572 Q61.8398 747.418 63.3994 750.251 Q64.9272 753.052 64.9272 756.999 Q64.9272 763.46 59.771 767.534 Q54.6147 771.576 46.212 771.576 Q37.8093 771.576 32.6531 767.534 Q27.4968 763.46 27.4968 756.999 Q27.4968 753.052 29.0564 750.251 Q30.5842 747.418 33.7671 745.572 M46.212 765.529 Q52.6732 765.529 56.3653 762.887 Q60.0256 760.213 60.0256 755.566 Q60.0256 750.919 56.3653 748.246 Q52.6732 745.572 46.212 745.572 Q39.7508 745.572 36.0905 748.246 Q32.3984 750.919 32.3984 755.566 Q32.3984 760.213 36.0905 762.887 Q39.7508 765.529 46.212 765.529 Z\" fill=\"#000000\" fill-rule=\"nonzero\" fill-opacity=\"1\" /><path clip-path=\"url(#clip700)\" d=\"M58.5933 721.287 L58.5933 698.848 L64.0042 698.848 L64.0042 729.021 L58.5933 729.021 Q54.8057 725.361 48.44 719.059 Q42.0425 712.725 40.1964 711.102 Q36.7271 708.014 34.34 706.805 Q31.921 705.564 29.5975 705.564 Q25.8099 705.564 23.4228 708.237 Q21.0356 710.879 21.0356 715.144 Q21.0356 718.168 22.086 721.542 Q23.1363 724.884 25.2688 728.703 L18.7758 728.703 Q17.2162 724.82 16.4205 721.446 Q15.6248 718.072 15.6248 715.271 Q15.6248 707.887 19.3169 703.495 Q23.009 699.102 29.1837 699.102 Q32.112 699.102 34.7537 700.216 Q37.3637 701.299 40.9285 704.195 Q41.8515 704.991 46.2757 709.256 Q50.668 713.521 58.5933 721.287 Z\" fill=\"#000000\" fill-rule=\"nonzero\" fill-opacity=\"1\" /><polyline clip-path=\"url(#clip702)\" style=\"stroke:#009af9; stroke-linecap:round; stroke-linejoin:round; stroke-width:4; stroke-opacity:1; fill:none\" points=\"-1566.4,3624.68 -1522.86,3569.64 -1479.31,3514.6 -1435.76,3459.57 -1392.22,3404.53 -1348.67,3349.49 -1305.13,3294.45 -1261.58,3239.42 -1218.03,3184.38 -1174.49,3129.34 -1130.94,3074.3 -1087.39,3019.27 -1043.85,2964.23 -1000.3,2909.19 -956.756,2854.15 -913.21,2799.12 -869.664,2744.08 -826.118,2689.04 -782.571,2634 -739.025,2578.97 -695.479,2523.93 -651.933,2468.89 -608.387,2413.85 -564.84,2358.82 -521.294,2303.78 -477.748,2248.74 -434.202,2193.7 -390.656,2138.67 -347.109,2083.63 -303.563,2028.59 -260.017,1973.55 -216.471,1918.52 -172.925,1863.48 -129.378,1808.44 -85.8321,1753.4 -42.2859,1698.37 1.26035,1643.33 44.8066,1588.29 88.3528,1533.25 131.899,1478.22 175.445,1423.18 218.991,1368.14 262.538,1313.1 306.084,1258.07 349.63,1203.03 393.176,1147.99 436.722,1092.96 480.269,1037.92 523.815,982.88 567.361,927.843 610.907,872.805 654.454,817.768 698,762.73 741.546,707.693 785.092,652.655 828.638,597.618 872.185,542.581 915.731,487.543 959.277,432.506 1002.82,377.468 1046.37,322.431 1089.92,267.393 1133.46,212.356 1177.01,157.318 1220.55,102.281 1264.1,47.2434 1307.65,-7.79407 1351.19,-62.8315 1394.74,-117.869 1438.29,-172.906 1481.83,-227.944 1525.38,-282.981 1568.92,-338.019 1612.47,-393.056 1656.02,-448.094 1699.56,-503.131 1743.11,-558.169 1786.66,-613.206 1830.2,-668.244 1873.75,-723.281 1917.29,-778.318 1960.84,-833.356 2004.39,-888.393 2047.93,-943.431 2091.48,-998.468 2135.02,-1053.51 2178.57,-1108.54 2222.12,-1163.58 2265.66,-1218.62 2309.21,-1273.66 2352.76,-1328.69 \"/>\n",
       "<polyline clip-path=\"url(#clip702)\" style=\"stroke:#e26f46; stroke-linecap:round; stroke-linejoin:round; stroke-width:4; stroke-opacity:1; fill:none\" points=\"-1566.4,1973.55 -1522.86,1959.79 -1479.31,1946.04 -1435.76,1932.28 -1392.22,1918.52 -1348.67,1904.76 -1305.13,1891 -1261.58,1877.24 -1218.03,1863.48 -1174.49,1849.72 -1130.94,1835.96 -1087.39,1822.2 -1043.85,1808.44 -1000.3,1794.68 -956.756,1780.92 -913.21,1767.16 -869.664,1753.4 -826.118,1739.64 -782.571,1725.89 -739.025,1712.13 -695.479,1698.37 -651.933,1684.61 -608.387,1670.85 -564.84,1657.09 -521.294,1643.33 -477.748,1629.57 -434.202,1615.81 -390.656,1602.05 -347.109,1588.29 -303.563,1574.53 -260.017,1560.77 -216.471,1547.01 -172.925,1533.25 -129.378,1519.5 -85.8321,1505.74 -42.2859,1491.98 1.26035,1478.22 44.8066,1464.46 88.3528,1450.7 131.899,1436.94 175.445,1423.18 218.991,1409.42 262.538,1395.66 306.084,1381.9 349.63,1368.14 393.176,1354.38 436.722,1340.62 480.269,1326.86 523.815,1313.11 567.361,1299.35 610.907,1285.59 654.454,1271.83 698,1258.07 741.546,1244.31 785.092,1230.55 828.638,1216.79 872.185,1203.03 915.731,1189.27 959.277,1175.51 1002.82,1161.75 1046.37,1147.99 1089.92,1134.23 1133.46,1120.47 1177.01,1106.71 1220.55,1092.96 1264.1,1079.2 1307.65,1065.44 1351.19,1051.68 1394.74,1037.92 1438.29,1024.16 1481.83,1010.4 1525.38,996.64 1568.92,982.881 1612.47,969.121 1656.02,955.362 1699.56,941.603 1743.11,927.843 1786.66,914.084 1830.2,900.325 1873.75,886.565 1917.29,872.806 1960.84,859.046 2004.39,845.287 2047.93,831.528 2091.48,817.768 2135.02,804.009 2178.57,790.25 2222.12,776.49 2265.66,762.731 2309.21,748.972 2352.76,735.212 \"/>\n",
       "</svg>\n"
      ]
     },
     "execution_count": 71,
     "metadata": {},
     "output_type": "execute_result"
    }
   ],
   "source": [
    "plot(x, y_1, ylimits=(0,5), label=\"\", xlimits=(0,5))\n",
    "plot!(x, y_2, ylimits=(0,5), label=\"\", xlimits=(0,5))\n",
    "plot!(xaxis=\"d1\", yaxis=\"d2\")"
   ]
  },
  {
   "cell_type": "markdown",
   "id": "e4a66215-e226-4e38-a345-2b1fbcb05d86",
   "metadata": {},
   "source": [
    "Um aumento no valor do acrescimo delta da segunda restribução, impacta a função objetivo da forma "
   ]
  },
  {
   "cell_type": "code",
   "execution_count": 96,
   "id": "4ec92bf2-9e40-43fa-ba24-2c9de392542b",
   "metadata": {},
   "outputs": [
    {
     "data": {
      "text/plain": [
       "func (generic function with 1 method)"
      ]
     },
     "execution_count": 96,
     "metadata": {},
     "output_type": "execute_result"
    }
   ],
   "source": [
    "b_2 = 4\n",
    "\n",
    "function func(b_2)\n",
    "    b = [4; b_2]\n",
    "    z = cb*inv(B)*b\n",
    "    z = z[1]\n",
    "end"
   ]
  },
  {
   "cell_type": "code",
   "execution_count": 113,
   "id": "4619c368-20b5-435b-bc11-e4808ab28a3c",
   "metadata": {},
   "outputs": [
    {
     "data": {
      "text/plain": [
       "301-element Vector{Float64}:\n",
       "  0.0\n",
       "  0.1\n",
       "  0.2\n",
       "  0.3\n",
       "  0.4\n",
       "  0.5\n",
       "  0.6\n",
       "  0.7\n",
       "  0.8\n",
       "  0.9\n",
       "  1.0\n",
       "  1.1\n",
       "  1.2\n",
       "  ⋮\n",
       " 28.9\n",
       " 29.0\n",
       " 29.1\n",
       " 29.2\n",
       " 29.3\n",
       " 29.4\n",
       " 29.5\n",
       " 29.6\n",
       " 29.7\n",
       " 29.8\n",
       " 29.9\n",
       " 30.0"
      ]
     },
     "execution_count": 113,
     "metadata": {},
     "output_type": "execute_result"
    }
   ],
   "source": [
    "b_2 = [0:0.1:30;]"
   ]
  },
  {
   "cell_type": "code",
   "execution_count": 114,
   "id": "61e5fcd5-3fa5-4a13-84f7-54b285095c14",
   "metadata": {},
   "outputs": [
    {
     "data": {
      "text/plain": [
       "301-element Vector{Float64}:\n",
       "  6.666666666666666\n",
       "  6.733333333333333\n",
       "  6.799999999999999\n",
       "  6.866666666666665\n",
       "  6.933333333333333\n",
       "  7.0\n",
       "  7.0666666666666655\n",
       "  7.133333333333333\n",
       "  7.199999999999999\n",
       "  7.2666666666666675\n",
       "  7.333333333333332\n",
       "  7.3999999999999995\n",
       "  7.466666666666667\n",
       "  ⋮\n",
       " 25.93333333333333\n",
       " 26.0\n",
       " 26.06666666666667\n",
       " 26.133333333333333\n",
       " 26.199999999999996\n",
       " 26.266666666666666\n",
       " 26.333333333333336\n",
       " 26.4\n",
       " 26.46666666666666\n",
       " 26.53333333333334\n",
       " 26.6\n",
       " 26.666666666666664"
      ]
     },
     "execution_count": 114,
     "metadata": {},
     "output_type": "execute_result"
    }
   ],
   "source": [
    "z = func.(b_2)"
   ]
  },
  {
   "cell_type": "code",
   "execution_count": 117,
   "id": "623bc648-95f8-4bb3-b2df-085339125d6b",
   "metadata": {},
   "outputs": [
    {
     "data": {
      "image/png": "[encoded data removed]",
      "image/svg+xml": [
       "<?xml version=\"1.0\" encoding=\"utf-8\"?>\n",
       "<svg xmlns=\"http://www.w3.org/2000/svg\" xmlns:xlink=\"http://www.w3.org/1999/xlink\" width=\"600\" height=\"400\" viewBox=\"0 0 2400 1600\">\n",
       "<defs>\n",
       "  <clipPath id=\"clip910\">\n",
       "    <rect x=\"0\" y=\"0\" width=\"2400\" height=\"1600\"/>\n",
       "  </clipPath>\n",
       "</defs>\n",
       "<path clip-path=\"url(#clip910)\" d=\"M0 1600 L2400 1600 L2400 0 L0 0  Z\" fill=\"#ffffff\" fill-rule=\"evenodd\" fill-opacity=\"1\"/>\n",
       "<defs>\n",
       "  <clipPath id=\"clip911\">\n",
       "    <rect x=\"480\" y=\"0\" width=\"1681\" height=\"1600\"/>\n",
       "  </clipPath>\n",
       "</defs>\n",
       "<path clip-path=\"url(#clip910)\" d=\"M203.964 1423.18 L2352.76 1423.18 L2352.76 47.2441 L203.964 47.2441  Z\" fill=\"#ffffff\" fill-rule=\"evenodd\" fill-opacity=\"1\"/>\n",
       "<defs>\n",
       "  <clipPath id=\"clip912\">\n",
       "    <rect x=\"203\" y=\"47\" width=\"2150\" height=\"1377\"/>\n",
       "  </clipPath>\n",
       "</defs>\n",
       "<polyline clip-path=\"url(#clip912)\" style=\"stroke:#000000; stroke-linecap:round; stroke-linejoin:round; stroke-width:2; stroke-opacity:0.1; fill:none\" points=\"203.964,1423.18 203.964,47.2441 \"/>\n",
       "<polyline clip-path=\"url(#clip912)\" style=\"stroke:#000000; stroke-linecap:round; stroke-linejoin:round; stroke-width:2; stroke-opacity:0.1; fill:none\" points=\"920.228,1423.18 920.228,47.2441 \"/>\n",
       "<polyline clip-path=\"url(#clip912)\" style=\"stroke:#000000; stroke-linecap:round; stroke-linejoin:round; stroke-width:2; stroke-opacity:0.1; fill:none\" points=\"1636.49,1423.18 1636.49,47.2441 \"/>\n",
       "<polyline clip-path=\"url(#clip912)\" style=\"stroke:#000000; stroke-linecap:round; stroke-linejoin:round; stroke-width:2; stroke-opacity:0.1; fill:none\" points=\"2352.76,1423.18 2352.76,47.2441 \"/>\n",
       "<polyline clip-path=\"url(#clip910)\" style=\"stroke:#000000; stroke-linecap:round; stroke-linejoin:round; stroke-width:4; stroke-opacity:1; fill:none\" points=\"203.964,1423.18 2352.76,1423.18 \"/>\n",
       "<polyline clip-path=\"url(#clip910)\" style=\"stroke:#000000; stroke-linecap:round; stroke-linejoin:round; stroke-width:4; stroke-opacity:1; fill:none\" points=\"203.964,1423.18 203.964,1404.28 \"/>\n",
       "<polyline clip-path=\"url(#clip910)\" style=\"stroke:#000000; stroke-linecap:round; stroke-linejoin:round; stroke-width:4; stroke-opacity:1; fill:none\" points=\"920.228,1423.18 920.228,1404.28 \"/>\n",
       "<polyline clip-path=\"url(#clip910)\" style=\"stroke:#000000; stroke-linecap:round; stroke-linejoin:round; stroke-width:4; stroke-opacity:1; fill:none\" points=\"1636.49,1423.18 1636.49,1404.28 \"/>\n",
       "<polyline clip-path=\"url(#clip910)\" style=\"stroke:#000000; stroke-linecap:round; stroke-linejoin:round; stroke-width:4; stroke-opacity:1; fill:none\" points=\"2352.76,1423.18 2352.76,1404.28 \"/>\n",
       "<path clip-path=\"url(#clip910)\" d=\"M203.964 1454.1 Q200.352 1454.1 198.524 1457.66 Q196.718 1461.2 196.718 1468.33 Q196.718 1475.44 198.524 1479.01 Q200.352 1482.55 203.964 1482.55 Q207.598 1482.55 209.403 1479.01 Q211.232 1475.44 211.232 1468.33 Q211.232 1461.2 209.403 1457.66 Q207.598 1454.1 203.964 1454.1 M203.964 1450.39 Q209.774 1450.39 212.829 1455 Q215.908 1459.58 215.908 1468.33 Q215.908 1477.06 212.829 1481.67 Q209.774 1486.25 203.964 1486.25 Q198.153 1486.25 195.075 1481.67 Q192.019 1477.06 192.019 1468.33 Q192.019 1459.58 195.075 1455 Q198.153 1450.39 203.964 1450.39 Z\" fill=\"#000000\" fill-rule=\"nonzero\" fill-opacity=\"1\" /><path clip-path=\"url(#clip910)\" d=\"M894.915 1481.64 L902.554 1481.64 L902.554 1455.28 L894.244 1456.95 L894.244 1452.69 L902.508 1451.02 L907.184 1451.02 L907.184 1481.64 L914.823 1481.64 L914.823 1485.58 L894.915 1485.58 L894.915 1481.64 Z\" fill=\"#000000\" fill-rule=\"nonzero\" fill-opacity=\"1\" /><path clip-path=\"url(#clip910)\" d=\"M934.267 1454.1 Q930.656 1454.1 928.827 1457.66 Q927.022 1461.2 927.022 1468.33 Q927.022 1475.44 928.827 1479.01 Q930.656 1482.55 934.267 1482.55 Q937.901 1482.55 939.707 1479.01 Q941.535 1475.44 941.535 1468.33 Q941.535 1461.2 939.707 1457.66 Q937.901 1454.1 934.267 1454.1 M934.267 1450.39 Q940.077 1450.39 943.133 1455 Q946.211 1459.58 946.211 1468.33 Q946.211 1477.06 943.133 1481.67 Q940.077 1486.25 934.267 1486.25 Q928.457 1486.25 925.378 1481.67 Q922.323 1477.06 922.323 1468.33 Q922.323 1459.58 925.378 1455 Q928.457 1450.39 934.267 1450.39 Z\" fill=\"#000000\" fill-rule=\"nonzero\" fill-opacity=\"1\" /><path clip-path=\"url(#clip910)\" d=\"M1615.27 1481.64 L1631.58 1481.64 L1631.58 1485.58 L1609.64 1485.58 L1609.64 1481.64 Q1612.3 1478.89 1616.89 1474.26 Q1621.49 1469.61 1622.67 1468.27 Q1624.92 1465.74 1625.8 1464.01 Q1626.7 1462.25 1626.7 1460.56 Q1626.7 1457.8 1624.76 1456.07 Q1622.83 1454.33 1619.73 1454.33 Q1617.53 1454.33 1615.08 1455.09 Q1612.65 1455.86 1609.87 1457.41 L1609.87 1452.69 Q1612.7 1451.55 1615.15 1450.97 Q1617.6 1450.39 1619.64 1450.39 Q1625.01 1450.39 1628.2 1453.08 Q1631.4 1455.77 1631.4 1460.26 Q1631.4 1462.39 1630.59 1464.31 Q1629.8 1466.2 1627.7 1468.8 Q1627.12 1469.47 1624.02 1472.69 Q1620.91 1475.88 1615.27 1481.64 Z\" fill=\"#000000\" fill-rule=\"nonzero\" fill-opacity=\"1\" /><path clip-path=\"url(#clip910)\" d=\"M1651.4 1454.1 Q1647.79 1454.1 1645.96 1457.66 Q1644.15 1461.2 1644.15 1468.33 Q1644.15 1475.44 1645.96 1479.01 Q1647.79 1482.55 1651.4 1482.55 Q1655.03 1482.55 1656.84 1479.01 Q1658.67 1475.44 1658.67 1468.33 Q1658.67 1461.2 1656.84 1457.66 Q1655.03 1454.1 1651.4 1454.1 M1651.4 1450.39 Q1657.21 1450.39 1660.26 1455 Q1663.34 1459.58 1663.34 1468.33 Q1663.34 1477.06 1660.26 1481.67 Q1657.21 1486.25 1651.4 1486.25 Q1645.59 1486.25 1642.51 1481.67 Q1639.45 1477.06 1639.45 1468.33 Q1639.45 1459.58 1642.51 1455 Q1645.59 1450.39 1651.4 1450.39 Z\" fill=\"#000000\" fill-rule=\"nonzero\" fill-opacity=\"1\" /><path clip-path=\"url(#clip910)\" d=\"M2341.6 1466.95 Q2344.96 1467.66 2346.83 1469.93 Q2348.73 1472.2 2348.73 1475.53 Q2348.73 1480.65 2345.21 1483.45 Q2341.69 1486.25 2335.21 1486.25 Q2333.03 1486.25 2330.72 1485.81 Q2328.43 1485.39 2325.97 1484.54 L2325.97 1480.02 Q2327.92 1481.16 2330.23 1481.74 Q2332.55 1482.32 2335.07 1482.32 Q2339.47 1482.32 2341.76 1480.58 Q2344.08 1478.84 2344.08 1475.53 Q2344.08 1472.48 2341.92 1470.77 Q2339.79 1469.03 2335.97 1469.03 L2331.95 1469.03 L2331.95 1465.19 L2336.16 1465.19 Q2339.61 1465.19 2341.44 1463.82 Q2343.27 1462.43 2343.27 1459.84 Q2343.27 1457.18 2341.37 1455.77 Q2339.49 1454.33 2335.97 1454.33 Q2334.05 1454.33 2331.85 1454.75 Q2329.65 1455.16 2327.02 1456.04 L2327.02 1451.88 Q2329.68 1451.14 2331.99 1450.77 Q2334.33 1450.39 2336.39 1450.39 Q2341.71 1450.39 2344.82 1452.83 Q2347.92 1455.23 2347.92 1459.35 Q2347.92 1462.22 2346.27 1464.21 Q2344.63 1466.18 2341.6 1466.95 Z\" fill=\"#000000\" fill-rule=\"nonzero\" fill-opacity=\"1\" /><path clip-path=\"url(#clip910)\" d=\"M2367.59 1454.1 Q2363.98 1454.1 2362.15 1457.66 Q2360.35 1461.2 2360.35 1468.33 Q2360.35 1475.44 2362.15 1479.01 Q2363.98 1482.55 2367.59 1482.55 Q2371.23 1482.55 2373.03 1479.01 Q2374.86 1475.44 2374.86 1468.33 Q2374.86 1461.2 2373.03 1457.66 Q2371.23 1454.1 2367.59 1454.1 M2367.59 1450.39 Q2373.4 1450.39 2376.46 1455 Q2379.54 1459.58 2379.54 1468.33 Q2379.54 1477.06 2376.46 1481.67 Q2373.4 1486.25 2367.59 1486.25 Q2361.78 1486.25 2358.7 1481.67 Q2355.65 1477.06 2355.65 1468.33 Q2355.65 1459.58 2358.7 1455 Q2361.78 1450.39 2367.59 1450.39 Z\" fill=\"#000000\" fill-rule=\"nonzero\" fill-opacity=\"1\" /><path clip-path=\"url(#clip910)\" d=\"M1268 1537.81 L1268 1518.52 L1273.86 1518.52 L1273.86 1568.04 L1268 1568.04 L1268 1562.7 Q1266.15 1565.88 1263.32 1567.44 Q1260.52 1568.97 1256.57 1568.97 Q1250.11 1568.97 1246.04 1563.81 Q1242 1558.65 1242 1550.25 Q1242 1541.85 1246.04 1536.69 Q1250.11 1531.54 1256.57 1531.54 Q1260.52 1531.54 1263.32 1533.1 Q1266.15 1534.62 1268 1537.81 M1248.04 1550.25 Q1248.04 1556.71 1250.68 1560.4 Q1253.36 1564.07 1258.01 1564.07 Q1262.65 1564.07 1265.33 1560.4 Q1268 1556.71 1268 1550.25 Q1268 1543.79 1265.33 1540.13 Q1262.65 1536.44 1258.01 1536.44 Q1253.36 1536.44 1250.68 1540.13 Q1248.04 1543.79 1248.04 1550.25 Z\" fill=\"#000000\" fill-rule=\"nonzero\" fill-opacity=\"1\" /><path clip-path=\"url(#clip910)\" d=\"M1292.28 1562.63 L1314.72 1562.63 L1314.72 1568.04 L1284.55 1568.04 L1284.55 1562.63 Q1288.21 1558.85 1294.51 1552.48 Q1300.85 1546.08 1302.47 1544.24 Q1305.56 1540.77 1306.77 1538.38 Q1308.01 1535.96 1308.01 1533.64 Q1308.01 1529.85 1305.33 1527.46 Q1302.69 1525.08 1298.43 1525.08 Q1295.4 1525.08 1292.03 1526.13 Q1288.69 1527.18 1284.87 1529.31 L1284.87 1522.82 Q1288.75 1521.26 1292.13 1520.46 Q1295.5 1519.66 1298.3 1519.66 Q1305.68 1519.66 1310.08 1523.36 Q1314.47 1527.05 1314.47 1533.22 Q1314.47 1536.15 1313.36 1538.79 Q1312.27 1541.4 1309.38 1544.97 Q1308.58 1545.89 1304.32 1550.32 Q1300.05 1554.71 1292.28 1562.63 Z\" fill=\"#000000\" fill-rule=\"nonzero\" fill-opacity=\"1\" /><polyline clip-path=\"url(#clip912)\" style=\"stroke:#000000; stroke-linecap:round; stroke-linejoin:round; stroke-width:2; stroke-opacity:0.1; fill:none\" points=\"203.964,1423.18 2352.76,1423.18 \"/>\n",
       "<polyline clip-path=\"url(#clip912)\" style=\"stroke:#000000; stroke-linecap:round; stroke-linejoin:round; stroke-width:2; stroke-opacity:0.1; fill:none\" points=\"203.964,964.535 2352.76,964.535 \"/>\n",
       "<polyline clip-path=\"url(#clip912)\" style=\"stroke:#000000; stroke-linecap:round; stroke-linejoin:round; stroke-width:2; stroke-opacity:0.1; fill:none\" points=\"203.964,505.889 2352.76,505.889 \"/>\n",
       "<polyline clip-path=\"url(#clip912)\" style=\"stroke:#000000; stroke-linecap:round; stroke-linejoin:round; stroke-width:2; stroke-opacity:0.1; fill:none\" points=\"203.964,47.2441 2352.76,47.2441 \"/>\n",
       "<polyline clip-path=\"url(#clip910)\" style=\"stroke:#000000; stroke-linecap:round; stroke-linejoin:round; stroke-width:4; stroke-opacity:1; fill:none\" points=\"203.964,1423.18 203.964,47.2441 \"/>\n",
       "<polyline clip-path=\"url(#clip910)\" style=\"stroke:#000000; stroke-linecap:round; stroke-linejoin:round; stroke-width:4; stroke-opacity:1; fill:none\" points=\"203.964,1423.18 222.861,1423.18 \"/>\n",
       "<polyline clip-path=\"url(#clip910)\" style=\"stroke:#000000; stroke-linecap:round; stroke-linejoin:round; stroke-width:4; stroke-opacity:1; fill:none\" points=\"203.964,964.535 222.861,964.535 \"/>\n",
       "<polyline clip-path=\"url(#clip910)\" style=\"stroke:#000000; stroke-linecap:round; stroke-linejoin:round; stroke-width:4; stroke-opacity:1; fill:none\" points=\"203.964,505.889 222.861,505.889 \"/>\n",
       "<polyline clip-path=\"url(#clip910)\" style=\"stroke:#000000; stroke-linecap:round; stroke-linejoin:round; stroke-width:4; stroke-opacity:1; fill:none\" points=\"203.964,47.2441 222.861,47.2441 \"/>\n",
       "<path clip-path=\"url(#clip910)\" d=\"M156.019 1408.98 Q152.408 1408.98 150.579 1412.54 Q148.774 1416.08 148.774 1423.21 Q148.774 1430.32 150.579 1433.89 Q152.408 1437.43 156.019 1437.43 Q159.653 1437.43 161.459 1433.89 Q163.288 1430.32 163.288 1423.21 Q163.288 1416.08 161.459 1412.54 Q159.653 1408.98 156.019 1408.98 M156.019 1405.27 Q161.829 1405.27 164.885 1409.88 Q167.964 1414.46 167.964 1423.21 Q167.964 1431.94 164.885 1436.55 Q161.829 1441.13 156.019 1441.13 Q150.209 1441.13 147.13 1436.55 Q144.075 1431.94 144.075 1423.21 Q144.075 1414.46 147.13 1409.88 Q150.209 1405.27 156.019 1405.27 Z\" fill=\"#000000\" fill-rule=\"nonzero\" fill-opacity=\"1\" /><path clip-path=\"url(#clip910)\" d=\"M116.668 977.879 L124.306 977.879 L124.306 951.514 L115.996 953.18 L115.996 948.921 L124.26 947.255 L128.936 947.255 L128.936 977.879 L136.575 977.879 L136.575 981.815 L116.668 981.815 L116.668 977.879 Z\" fill=\"#000000\" fill-rule=\"nonzero\" fill-opacity=\"1\" /><path clip-path=\"url(#clip910)\" d=\"M156.019 950.333 Q152.408 950.333 150.579 953.898 Q148.774 957.44 148.774 964.569 Q148.774 971.676 150.579 975.241 Q152.408 978.782 156.019 978.782 Q159.653 978.782 161.459 975.241 Q163.288 971.676 163.288 964.569 Q163.288 957.44 161.459 953.898 Q159.653 950.333 156.019 950.333 M156.019 946.63 Q161.829 946.63 164.885 951.236 Q167.964 955.819 167.964 964.569 Q167.964 973.296 164.885 977.903 Q161.829 982.486 156.019 982.486 Q150.209 982.486 147.13 977.903 Q144.075 973.296 144.075 964.569 Q144.075 955.819 147.13 951.236 Q150.209 946.63 156.019 946.63 Z\" fill=\"#000000\" fill-rule=\"nonzero\" fill-opacity=\"1\" /><path clip-path=\"url(#clip910)\" d=\"M119.885 519.234 L136.204 519.234 L136.204 523.169 L114.26 523.169 L114.26 519.234 Q116.922 516.48 121.505 511.85 Q126.112 507.197 127.292 505.855 Q129.538 503.331 130.417 501.595 Q131.32 499.836 131.32 498.146 Q131.32 495.392 129.376 493.656 Q127.455 491.92 124.353 491.92 Q122.154 491.92 119.7 492.683 Q117.269 493.447 114.492 494.998 L114.492 490.276 Q117.316 489.142 119.769 488.563 Q122.223 487.984 124.26 487.984 Q129.63 487.984 132.825 490.67 Q136.019 493.355 136.019 497.845 Q136.019 499.975 135.209 501.896 Q134.422 503.794 132.316 506.387 Q131.737 507.058 128.635 510.276 Q125.533 513.47 119.885 519.234 Z\" fill=\"#000000\" fill-rule=\"nonzero\" fill-opacity=\"1\" /><path clip-path=\"url(#clip910)\" d=\"M156.019 491.688 Q152.408 491.688 150.579 495.253 Q148.774 498.794 148.774 505.924 Q148.774 513.031 150.579 516.595 Q152.408 520.137 156.019 520.137 Q159.653 520.137 161.459 516.595 Q163.288 513.031 163.288 505.924 Q163.288 498.794 161.459 495.253 Q159.653 491.688 156.019 491.688 M156.019 487.984 Q161.829 487.984 164.885 492.591 Q167.964 497.174 167.964 505.924 Q167.964 514.651 164.885 519.257 Q161.829 523.841 156.019 523.841 Q150.209 523.841 147.13 519.257 Q144.075 514.651 144.075 505.924 Q144.075 497.174 147.13 492.591 Q150.209 487.984 156.019 487.984 Z\" fill=\"#000000\" fill-rule=\"nonzero\" fill-opacity=\"1\" /><path clip-path=\"url(#clip910)\" d=\"M130.024 45.8899 Q133.38 46.6075 135.255 48.876 Q137.154 51.1445 137.154 54.4779 Q137.154 59.5936 133.635 62.3945 Q130.117 65.1954 123.635 65.1954 Q121.459 65.1954 119.144 64.7556 Q116.853 64.3389 114.399 63.4824 L114.399 58.9686 Q116.343 60.1028 118.658 60.6815 Q120.973 61.2602 123.496 61.2602 Q127.894 61.2602 130.186 59.5241 Q132.501 57.788 132.501 54.4779 Q132.501 51.4223 130.348 49.7094 Q128.218 47.9733 124.399 47.9733 L120.371 47.9733 L120.371 44.1307 L124.584 44.1307 Q128.033 44.1307 129.862 42.765 Q131.691 41.3761 131.691 38.7835 Q131.691 36.1215 129.792 34.7094 Q127.917 33.2743 124.399 33.2743 Q122.478 33.2743 120.279 33.6909 Q118.08 34.1076 115.441 34.9872 L115.441 30.8206 Q118.103 30.0798 120.418 29.7095 Q122.755 29.3391 124.816 29.3391 Q130.14 29.3391 133.242 31.7696 Q136.343 34.177 136.343 38.2974 Q136.343 41.1677 134.7 43.1585 Q133.056 45.1261 130.024 45.8899 Z\" fill=\"#000000\" fill-rule=\"nonzero\" fill-opacity=\"1\" /><path clip-path=\"url(#clip910)\" d=\"M156.019 33.0428 Q152.408 33.0428 150.579 36.6076 Q148.774 40.1492 148.774 47.2788 Q148.774 54.3853 150.579 57.9501 Q152.408 61.4917 156.019 61.4917 Q159.653 61.4917 161.459 57.9501 Q163.288 54.3853 163.288 47.2788 Q163.288 40.1492 161.459 36.6076 Q159.653 33.0428 156.019 33.0428 M156.019 29.3391 Q161.829 29.3391 164.885 33.9456 Q167.964 38.5289 167.964 47.2788 Q167.964 56.0056 164.885 60.6121 Q161.829 65.1954 156.019 65.1954 Q150.209 65.1954 147.13 60.6121 Q144.075 56.0056 144.075 47.2788 Q144.075 38.5289 147.13 33.9456 Q150.209 29.3391 156.019 29.3391 Z\" fill=\"#000000\" fill-rule=\"nonzero\" fill-opacity=\"1\" /><path clip-path=\"url(#clip910)\" d=\"M28.3562 748.723 L28.3562 720.905 L33.7034 720.905 L59.3254 742.93 L59.3254 720.905 L64.0042 720.905 L64.0042 749.519 L58.657 749.519 L33.035 727.494 L33.035 748.723 L28.3562 748.723 Z\" fill=\"#000000\" fill-rule=\"nonzero\" fill-opacity=\"1\" /><polyline clip-path=\"url(#clip912)\" style=\"stroke:#009af9; stroke-linecap:round; stroke-linejoin:round; stroke-width:4; stroke-opacity:1; fill:none\" points=\"203.964,1117.42 211.126,1114.36 218.289,1111.3 225.451,1108.24 232.614,1105.19 239.777,1102.13 246.939,1099.07 254.102,1096.01 261.265,1092.96 268.427,1089.9 275.59,1086.84 282.753,1083.78 289.915,1080.72 297.078,1077.67 304.241,1074.61 311.403,1071.55 318.566,1068.49 325.728,1065.44 332.891,1062.38 340.054,1059.32 347.216,1056.26 354.379,1053.21 361.542,1050.15 368.704,1047.09 375.867,1044.03 383.03,1040.98 390.192,1037.92 397.355,1034.86 404.518,1031.8 411.68,1028.74 418.843,1025.69 426.005,1022.63 433.168,1019.57 440.331,1016.51 447.493,1013.46 454.656,1010.4 461.819,1007.34 468.981,1004.28 476.144,1001.23 483.307,998.169 490.469,995.111 497.632,992.053 504.794,988.996 511.957,985.938 519.12,982.88 526.282,979.823 533.445,976.765 540.608,973.707 547.77,970.65 554.933,967.592 562.096,964.535 569.258,961.477 576.421,958.419 583.584,955.362 590.746,952.304 597.909,949.246 605.071,946.189 612.234,943.131 619.397,940.074 626.559,937.016 633.722,933.958 640.885,930.901 648.047,927.843 655.21,924.785 662.373,921.728 669.535,918.67 676.698,915.612 683.861,912.555 691.023,909.497 698.186,906.44 705.348,903.382 712.511,900.324 719.674,897.267 726.836,894.209 733.999,891.151 741.162,888.094 748.324,885.036 755.487,881.978 762.65,878.921 769.812,875.863 776.975,872.806 784.138,869.748 791.3,866.69 798.463,863.633 805.625,860.575 812.788,857.517 819.951,854.46 827.113,851.402 834.276,848.344 841.439,845.287 848.601,842.229 855.764,839.172 862.927,836.114 870.089,833.056 877.252,829.999 884.414,826.941 891.577,823.883 898.74,820.826 905.902,817.768 913.065,814.71 920.228,811.653 927.39,808.595 934.553,805.538 941.716,802.48 948.878,799.422 956.041,796.365 963.204,793.307 970.366,790.249 977.529,787.192 984.691,784.134 991.854,781.076 999.017,778.019 1006.18,774.961 1013.34,771.904 1020.5,768.846 1027.67,765.788 1034.83,762.731 1041.99,759.673 1049.16,756.615 1056.32,753.558 1063.48,750.5 1070.64,747.443 1077.81,744.385 1084.97,741.327 1092.13,738.27 1099.29,735.212 1106.46,732.154 1113.62,729.097 1120.78,726.039 1127.94,722.981 1135.11,719.924 1142.27,716.866 1149.43,713.809 1156.59,710.751 1163.76,707.693 1170.92,704.636 1178.08,701.578 1185.25,698.52 1192.41,695.463 1199.57,692.405 1206.73,689.347 1213.9,686.29 1221.06,683.232 1228.22,680.175 1235.38,677.117 1242.55,674.059 1249.71,671.002 1256.87,667.944 1264.03,664.886 1271.2,661.829 1278.36,658.771 1285.52,655.713 1292.69,652.656 1299.85,649.598 1307.01,646.541 1314.17,643.483 1321.34,640.425 1328.5,637.368 1335.66,634.31 1342.82,631.252 1349.99,628.195 1357.15,625.137 1364.31,622.079 1371.47,619.022 1378.64,615.964 1385.8,612.907 1392.96,609.849 1400.12,606.791 1407.29,603.734 1414.45,600.676 1421.61,597.618 1428.78,594.561 1435.94,591.503 1443.1,588.445 1450.26,585.388 1457.43,582.33 1464.59,579.273 1471.75,576.215 1478.91,573.157 1486.08,570.1 1493.24,567.042 1500.4,563.984 1507.56,560.927 1514.73,557.869 1521.89,554.812 1529.05,551.754 1536.21,548.696 1543.38,545.639 1550.54,542.581 1557.7,539.523 1564.87,536.466 1572.03,533.408 1579.19,530.35 1586.35,527.293 1593.52,524.235 1600.68,521.178 1607.84,518.12 1615,515.062 1622.17,512.005 1629.33,508.947 1636.49,505.889 1643.65,502.832 1650.82,499.774 1657.98,496.716 1665.14,493.659 1672.31,490.601 1679.47,487.544 1686.63,484.486 1693.79,481.428 1700.96,478.371 1708.12,475.313 1715.28,472.255 1722.44,469.198 1729.61,466.14 1736.77,463.082 1743.93,460.025 1751.09,456.967 1758.26,453.91 1765.42,450.852 1772.58,447.794 1779.74,444.737 1786.91,441.679 1794.07,438.621 1801.23,435.564 1808.4,432.506 1815.56,429.448 1822.72,426.391 1829.88,423.333 1837.05,420.276 1844.21,417.218 1851.37,414.16 1858.53,411.103 1865.7,408.045 1872.86,404.987 1880.02,401.93 1887.18,398.872 1894.35,395.814 1901.51,392.757 1908.67,389.699 1915.83,386.642 1923,383.584 1930.16,380.526 1937.32,377.469 1944.49,374.411 1951.65,371.353 1958.81,368.296 1965.97,365.238 1973.14,362.18 1980.3,359.123 1987.46,356.065 1994.62,353.008 2001.79,349.95 2008.95,346.892 2016.11,343.835 2023.27,340.777 2030.44,337.719 2037.6,334.662 2044.76,331.604 2051.92,328.547 2059.09,325.489 2066.25,322.431 2073.41,319.374 2080.58,316.316 2087.74,313.258 2094.9,310.201 2102.06,307.143 2109.23,304.085 2116.39,301.028 2123.55,297.97 2130.71,294.913 2137.88,291.855 2145.04,288.797 2152.2,285.74 2159.36,282.682 2166.53,279.624 2173.69,276.567 2180.85,273.509 2188.02,270.451 2195.18,267.394 2202.34,264.336 2209.5,261.279 2216.67,258.221 2223.83,255.163 2230.99,252.106 2238.15,249.048 2245.32,245.99 2252.48,242.933 2259.64,239.875 2266.8,236.817 2273.97,233.76 2281.13,230.702 2288.29,227.645 2295.45,224.587 2302.62,221.529 2309.78,218.472 2316.94,215.414 2324.11,212.356 2331.27,209.299 2338.43,206.241 2345.59,203.183 2352.76,200.126 \"/>\n",
       "</svg>\n"
      ],
      "text/html": [
       "<?xml version=\"1.0\" encoding=\"utf-8\"?>\n",
       "<svg xmlns=\"http://www.w3.org/2000/svg\" xmlns:xlink=\"http://www.w3.org/1999/xlink\" width=\"600\" height=\"400\" viewBox=\"0 0 2400 1600\">\n",
       "<defs>\n",
       "  <clipPath id=\"clip960\">\n",
       "    <rect x=\"0\" y=\"0\" width=\"2400\" height=\"1600\"/>\n",
       "  </clipPath>\n",
       "</defs>\n",
       "<path clip-path=\"url(#clip960)\" d=\"M0 1600 L2400 1600 L2400 0 L0 0  Z\" fill=\"#ffffff\" fill-rule=\"evenodd\" fill-opacity=\"1\"/>\n",
       "<defs>\n",
       "  <clipPath id=\"clip961\">\n",
       "    <rect x=\"480\" y=\"0\" width=\"1681\" height=\"1600\"/>\n",
       "  </clipPath>\n",
       "</defs>\n",
       "<path clip-path=\"url(#clip960)\" d=\"M203.964 1423.18 L2352.76 1423.18 L2352.76 47.2441 L203.964 47.2441  Z\" fill=\"#ffffff\" fill-rule=\"evenodd\" fill-opacity=\"1\"/>\n",
       "<defs>\n",
       "  <clipPath id=\"clip962\">\n",
       "    <rect x=\"203\" y=\"47\" width=\"2150\" height=\"1377\"/>\n",
       "  </clipPath>\n",
       "</defs>\n",
       "<polyline clip-path=\"url(#clip962)\" style=\"stroke:#000000; stroke-linecap:round; stroke-linejoin:round; stroke-width:2; stroke-opacity:0.1; fill:none\" points=\"203.964,1423.18 203.964,47.2441 \"/>\n",
       "<polyline clip-path=\"url(#clip962)\" style=\"stroke:#000000; stroke-linecap:round; stroke-linejoin:round; stroke-width:2; stroke-opacity:0.1; fill:none\" points=\"920.228,1423.18 920.228,47.2441 \"/>\n",
       "<polyline clip-path=\"url(#clip962)\" style=\"stroke:#000000; stroke-linecap:round; stroke-linejoin:round; stroke-width:2; stroke-opacity:0.1; fill:none\" points=\"1636.49,1423.18 1636.49,47.2441 \"/>\n",
       "<polyline clip-path=\"url(#clip962)\" style=\"stroke:#000000; stroke-linecap:round; stroke-linejoin:round; stroke-width:2; stroke-opacity:0.1; fill:none\" points=\"2352.76,1423.18 2352.76,47.2441 \"/>\n",
       "<polyline clip-path=\"url(#clip960)\" style=\"stroke:#000000; stroke-linecap:round; stroke-linejoin:round; stroke-width:4; stroke-opacity:1; fill:none\" points=\"203.964,1423.18 2352.76,1423.18 \"/>\n",
       "<polyline clip-path=\"url(#clip960)\" style=\"stroke:#000000; stroke-linecap:round; stroke-linejoin:round; stroke-width:4; stroke-opacity:1; fill:none\" points=\"203.964,1423.18 203.964,1404.28 \"/>\n",
       "<polyline clip-path=\"url(#clip960)\" style=\"stroke:#000000; stroke-linecap:round; stroke-linejoin:round; stroke-width:4; stroke-opacity:1; fill:none\" points=\"920.228,1423.18 920.228,1404.28 \"/>\n",
       "<polyline clip-path=\"url(#clip960)\" style=\"stroke:#000000; stroke-linecap:round; stroke-linejoin:round; stroke-width:4; stroke-opacity:1; fill:none\" points=\"1636.49,1423.18 1636.49,1404.28 \"/>\n",
       "<polyline clip-path=\"url(#clip960)\" style=\"stroke:#000000; stroke-linecap:round; stroke-linejoin:round; stroke-width:4; stroke-opacity:1; fill:none\" points=\"2352.76,1423.18 2352.76,1404.28 \"/>\n",
       "<path clip-path=\"url(#clip960)\" d=\"M203.964 1454.1 Q200.352 1454.1 198.524 1457.66 Q196.718 1461.2 196.718 1468.33 Q196.718 1475.44 198.524 1479.01 Q200.352 1482.55 203.964 1482.55 Q207.598 1482.55 209.403 1479.01 Q211.232 1475.44 211.232 1468.33 Q211.232 1461.2 209.403 1457.66 Q207.598 1454.1 203.964 1454.1 M203.964 1450.39 Q209.774 1450.39 212.829 1455 Q215.908 1459.58 215.908 1468.33 Q215.908 1477.06 212.829 1481.67 Q209.774 1486.25 203.964 1486.25 Q198.153 1486.25 195.075 1481.67 Q192.019 1477.06 192.019 1468.33 Q192.019 1459.58 195.075 1455 Q198.153 1450.39 203.964 1450.39 Z\" fill=\"#000000\" fill-rule=\"nonzero\" fill-opacity=\"1\" /><path clip-path=\"url(#clip960)\" d=\"M894.915 1481.64 L902.554 1481.64 L902.554 1455.28 L894.244 1456.95 L894.244 1452.69 L902.508 1451.02 L907.184 1451.02 L907.184 1481.64 L914.823 1481.64 L914.823 1485.58 L894.915 1485.58 L894.915 1481.64 Z\" fill=\"#000000\" fill-rule=\"nonzero\" fill-opacity=\"1\" /><path clip-path=\"url(#clip960)\" d=\"M934.267 1454.1 Q930.656 1454.1 928.827 1457.66 Q927.022 1461.2 927.022 1468.33 Q927.022 1475.44 928.827 1479.01 Q930.656 1482.55 934.267 1482.55 Q937.901 1482.55 939.707 1479.01 Q941.535 1475.44 941.535 1468.33 Q941.535 1461.2 939.707 1457.66 Q937.901 1454.1 934.267 1454.1 M934.267 1450.39 Q940.077 1450.39 943.133 1455 Q946.211 1459.58 946.211 1468.33 Q946.211 1477.06 943.133 1481.67 Q940.077 1486.25 934.267 1486.25 Q928.457 1486.25 925.378 1481.67 Q922.323 1477.06 922.323 1468.33 Q922.323 1459.58 925.378 1455 Q928.457 1450.39 934.267 1450.39 Z\" fill=\"#000000\" fill-rule=\"nonzero\" fill-opacity=\"1\" /><path clip-path=\"url(#clip960)\" d=\"M1615.27 1481.64 L1631.58 1481.64 L1631.58 1485.58 L1609.64 1485.58 L1609.64 1481.64 Q1612.3 1478.89 1616.89 1474.26 Q1621.49 1469.61 1622.67 1468.27 Q1624.92 1465.74 1625.8 1464.01 Q1626.7 1462.25 1626.7 1460.56 Q1626.7 1457.8 1624.76 1456.07 Q1622.83 1454.33 1619.73 1454.33 Q1617.53 1454.33 1615.08 1455.09 Q1612.65 1455.86 1609.87 1457.41 L1609.87 1452.69 Q1612.7 1451.55 1615.15 1450.97 Q1617.6 1450.39 1619.64 1450.39 Q1625.01 1450.39 1628.2 1453.08 Q1631.4 1455.77 1631.4 1460.26 Q1631.4 1462.39 1630.59 1464.31 Q1629.8 1466.2 1627.7 1468.8 Q1627.12 1469.47 1624.02 1472.69 Q1620.91 1475.88 1615.27 1481.64 Z\" fill=\"#000000\" fill-rule=\"nonzero\" fill-opacity=\"1\" /><path clip-path=\"url(#clip960)\" d=\"M1651.4 1454.1 Q1647.79 1454.1 1645.96 1457.66 Q1644.15 1461.2 1644.15 1468.33 Q1644.15 1475.44 1645.96 1479.01 Q1647.79 1482.55 1651.4 1482.55 Q1655.03 1482.55 1656.84 1479.01 Q1658.67 1475.44 1658.67 1468.33 Q1658.67 1461.2 1656.84 1457.66 Q1655.03 1454.1 1651.4 1454.1 M1651.4 1450.39 Q1657.21 1450.39 1660.26 1455 Q1663.34 1459.58 1663.34 1468.33 Q1663.34 1477.06 1660.26 1481.67 Q1657.21 1486.25 1651.4 1486.25 Q1645.59 1486.25 1642.51 1481.67 Q1639.45 1477.06 1639.45 1468.33 Q1639.45 1459.58 1642.51 1455 Q1645.59 1450.39 1651.4 1450.39 Z\" fill=\"#000000\" fill-rule=\"nonzero\" fill-opacity=\"1\" /><path clip-path=\"url(#clip960)\" d=\"M2341.6 1466.95 Q2344.96 1467.66 2346.83 1469.93 Q2348.73 1472.2 2348.73 1475.53 Q2348.73 1480.65 2345.21 1483.45 Q2341.69 1486.25 2335.21 1486.25 Q2333.03 1486.25 2330.72 1485.81 Q2328.43 1485.39 2325.97 1484.54 L2325.97 1480.02 Q2327.92 1481.16 2330.23 1481.74 Q2332.55 1482.32 2335.07 1482.32 Q2339.47 1482.32 2341.76 1480.58 Q2344.08 1478.84 2344.08 1475.53 Q2344.08 1472.48 2341.92 1470.77 Q2339.79 1469.03 2335.97 1469.03 L2331.95 1469.03 L2331.95 1465.19 L2336.16 1465.19 Q2339.61 1465.19 2341.44 1463.82 Q2343.27 1462.43 2343.27 1459.84 Q2343.27 1457.18 2341.37 1455.77 Q2339.49 1454.33 2335.97 1454.33 Q2334.05 1454.33 2331.85 1454.75 Q2329.65 1455.16 2327.02 1456.04 L2327.02 1451.88 Q2329.68 1451.14 2331.99 1450.77 Q2334.33 1450.39 2336.39 1450.39 Q2341.71 1450.39 2344.82 1452.83 Q2347.92 1455.23 2347.92 1459.35 Q2347.92 1462.22 2346.27 1464.21 Q2344.63 1466.18 2341.6 1466.95 Z\" fill=\"#000000\" fill-rule=\"nonzero\" fill-opacity=\"1\" /><path clip-path=\"url(#clip960)\" d=\"M2367.59 1454.1 Q2363.98 1454.1 2362.15 1457.66 Q2360.35 1461.2 2360.35 1468.33 Q2360.35 1475.44 2362.15 1479.01 Q2363.98 1482.55 2367.59 1482.55 Q2371.23 1482.55 2373.03 1479.01 Q2374.86 1475.44 2374.86 1468.33 Q2374.86 1461.2 2373.03 1457.66 Q2371.23 1454.1 2367.59 1454.1 M2367.59 1450.39 Q2373.4 1450.39 2376.46 1455 Q2379.54 1459.58 2379.54 1468.33 Q2379.54 1477.06 2376.46 1481.67 Q2373.4 1486.25 2367.59 1486.25 Q2361.78 1486.25 2358.7 1481.67 Q2355.65 1477.06 2355.65 1468.33 Q2355.65 1459.58 2358.7 1455 Q2361.78 1450.39 2367.59 1450.39 Z\" fill=\"#000000\" fill-rule=\"nonzero\" fill-opacity=\"1\" /><path clip-path=\"url(#clip960)\" d=\"M1268 1537.81 L1268 1518.52 L1273.86 1518.52 L1273.86 1568.04 L1268 1568.04 L1268 1562.7 Q1266.15 1565.88 1263.32 1567.44 Q1260.52 1568.97 1256.57 1568.97 Q1250.11 1568.97 1246.04 1563.81 Q1242 1558.65 1242 1550.25 Q1242 1541.85 1246.04 1536.69 Q1250.11 1531.54 1256.57 1531.54 Q1260.52 1531.54 1263.32 1533.1 Q1266.15 1534.62 1268 1537.81 M1248.04 1550.25 Q1248.04 1556.71 1250.68 1560.4 Q1253.36 1564.07 1258.01 1564.07 Q1262.65 1564.07 1265.33 1560.4 Q1268 1556.71 1268 1550.25 Q1268 1543.79 1265.33 1540.13 Q1262.65 1536.44 1258.01 1536.44 Q1253.36 1536.44 1250.68 1540.13 Q1248.04 1543.79 1248.04 1550.25 Z\" fill=\"#000000\" fill-rule=\"nonzero\" fill-opacity=\"1\" /><path clip-path=\"url(#clip960)\" d=\"M1292.28 1562.63 L1314.72 1562.63 L1314.72 1568.04 L1284.55 1568.04 L1284.55 1562.63 Q1288.21 1558.85 1294.51 1552.48 Q1300.85 1546.08 1302.47 1544.24 Q1305.56 1540.77 1306.77 1538.38 Q1308.01 1535.96 1308.01 1533.64 Q1308.01 1529.85 1305.33 1527.46 Q1302.69 1525.08 1298.43 1525.08 Q1295.4 1525.08 1292.03 1526.13 Q1288.69 1527.18 1284.87 1529.31 L1284.87 1522.82 Q1288.75 1521.26 1292.13 1520.46 Q1295.5 1519.66 1298.3 1519.66 Q1305.68 1519.66 1310.08 1523.36 Q1314.47 1527.05 1314.47 1533.22 Q1314.47 1536.15 1313.36 1538.79 Q1312.27 1541.4 1309.38 1544.97 Q1308.58 1545.89 1304.32 1550.32 Q1300.05 1554.71 1292.28 1562.63 Z\" fill=\"#000000\" fill-rule=\"nonzero\" fill-opacity=\"1\" /><polyline clip-path=\"url(#clip962)\" style=\"stroke:#000000; stroke-linecap:round; stroke-linejoin:round; stroke-width:2; stroke-opacity:0.1; fill:none\" points=\"203.964,1423.18 2352.76,1423.18 \"/>\n",
       "<polyline clip-path=\"url(#clip962)\" style=\"stroke:#000000; stroke-linecap:round; stroke-linejoin:round; stroke-width:2; stroke-opacity:0.1; fill:none\" points=\"203.964,964.535 2352.76,964.535 \"/>\n",
       "<polyline clip-path=\"url(#clip962)\" style=\"stroke:#000000; stroke-linecap:round; stroke-linejoin:round; stroke-width:2; stroke-opacity:0.1; fill:none\" points=\"203.964,505.889 2352.76,505.889 \"/>\n",
       "<polyline clip-path=\"url(#clip962)\" style=\"stroke:#000000; stroke-linecap:round; stroke-linejoin:round; stroke-width:2; stroke-opacity:0.1; fill:none\" points=\"203.964,47.2441 2352.76,47.2441 \"/>\n",
       "<polyline clip-path=\"url(#clip960)\" style=\"stroke:#000000; stroke-linecap:round; stroke-linejoin:round; stroke-width:4; stroke-opacity:1; fill:none\" points=\"203.964,1423.18 203.964,47.2441 \"/>\n",
       "<polyline clip-path=\"url(#clip960)\" style=\"stroke:#000000; stroke-linecap:round; stroke-linejoin:round; stroke-width:4; stroke-opacity:1; fill:none\" points=\"203.964,1423.18 222.861,1423.18 \"/>\n",
       "<polyline clip-path=\"url(#clip960)\" style=\"stroke:#000000; stroke-linecap:round; stroke-linejoin:round; stroke-width:4; stroke-opacity:1; fill:none\" points=\"203.964,964.535 222.861,964.535 \"/>\n",
       "<polyline clip-path=\"url(#clip960)\" style=\"stroke:#000000; stroke-linecap:round; stroke-linejoin:round; stroke-width:4; stroke-opacity:1; fill:none\" points=\"203.964,505.889 222.861,505.889 \"/>\n",
       "<polyline clip-path=\"url(#clip960)\" style=\"stroke:#000000; stroke-linecap:round; stroke-linejoin:round; stroke-width:4; stroke-opacity:1; fill:none\" points=\"203.964,47.2441 222.861,47.2441 \"/>\n",
       "<path clip-path=\"url(#clip960)\" d=\"M156.019 1408.98 Q152.408 1408.98 150.579 1412.54 Q148.774 1416.08 148.774 1423.21 Q148.774 1430.32 150.579 1433.89 Q152.408 1437.43 156.019 1437.43 Q159.653 1437.43 161.459 1433.89 Q163.288 1430.32 163.288 1423.21 Q163.288 1416.08 161.459 1412.54 Q159.653 1408.98 156.019 1408.98 M156.019 1405.27 Q161.829 1405.27 164.885 1409.88 Q167.964 1414.46 167.964 1423.21 Q167.964 1431.94 164.885 1436.55 Q161.829 1441.13 156.019 1441.13 Q150.209 1441.13 147.13 1436.55 Q144.075 1431.94 144.075 1423.21 Q144.075 1414.46 147.13 1409.88 Q150.209 1405.27 156.019 1405.27 Z\" fill=\"#000000\" fill-rule=\"nonzero\" fill-opacity=\"1\" /><path clip-path=\"url(#clip960)\" d=\"M116.668 977.879 L124.306 977.879 L124.306 951.514 L115.996 953.18 L115.996 948.921 L124.26 947.255 L128.936 947.255 L128.936 977.879 L136.575 977.879 L136.575 981.815 L116.668 981.815 L116.668 977.879 Z\" fill=\"#000000\" fill-rule=\"nonzero\" fill-opacity=\"1\" /><path clip-path=\"url(#clip960)\" d=\"M156.019 950.333 Q152.408 950.333 150.579 953.898 Q148.774 957.44 148.774 964.569 Q148.774 971.676 150.579 975.241 Q152.408 978.782 156.019 978.782 Q159.653 978.782 161.459 975.241 Q163.288 971.676 163.288 964.569 Q163.288 957.44 161.459 953.898 Q159.653 950.333 156.019 950.333 M156.019 946.63 Q161.829 946.63 164.885 951.236 Q167.964 955.819 167.964 964.569 Q167.964 973.296 164.885 977.903 Q161.829 982.486 156.019 982.486 Q150.209 982.486 147.13 977.903 Q144.075 973.296 144.075 964.569 Q144.075 955.819 147.13 951.236 Q150.209 946.63 156.019 946.63 Z\" fill=\"#000000\" fill-rule=\"nonzero\" fill-opacity=\"1\" /><path clip-path=\"url(#clip960)\" d=\"M119.885 519.234 L136.204 519.234 L136.204 523.169 L114.26 523.169 L114.26 519.234 Q116.922 516.48 121.505 511.85 Q126.112 507.197 127.292 505.855 Q129.538 503.331 130.417 501.595 Q131.32 499.836 131.32 498.146 Q131.32 495.392 129.376 493.656 Q127.455 491.92 124.353 491.92 Q122.154 491.92 119.7 492.683 Q117.269 493.447 114.492 494.998 L114.492 490.276 Q117.316 489.142 119.769 488.563 Q122.223 487.984 124.26 487.984 Q129.63 487.984 132.825 490.67 Q136.019 493.355 136.019 497.845 Q136.019 499.975 135.209 501.896 Q134.422 503.794 132.316 506.387 Q131.737 507.058 128.635 510.276 Q125.533 513.47 119.885 519.234 Z\" fill=\"#000000\" fill-rule=\"nonzero\" fill-opacity=\"1\" /><path clip-path=\"url(#clip960)\" d=\"M156.019 491.688 Q152.408 491.688 150.579 495.253 Q148.774 498.794 148.774 505.924 Q148.774 513.031 150.579 516.595 Q152.408 520.137 156.019 520.137 Q159.653 520.137 161.459 516.595 Q163.288 513.031 163.288 505.924 Q163.288 498.794 161.459 495.253 Q159.653 491.688 156.019 491.688 M156.019 487.984 Q161.829 487.984 164.885 492.591 Q167.964 497.174 167.964 505.924 Q167.964 514.651 164.885 519.257 Q161.829 523.841 156.019 523.841 Q150.209 523.841 147.13 519.257 Q144.075 514.651 144.075 505.924 Q144.075 497.174 147.13 492.591 Q150.209 487.984 156.019 487.984 Z\" fill=\"#000000\" fill-rule=\"nonzero\" fill-opacity=\"1\" /><path clip-path=\"url(#clip960)\" d=\"M130.024 45.8899 Q133.38 46.6075 135.255 48.876 Q137.154 51.1445 137.154 54.4779 Q137.154 59.5936 133.635 62.3945 Q130.117 65.1954 123.635 65.1954 Q121.459 65.1954 119.144 64.7556 Q116.853 64.3389 114.399 63.4824 L114.399 58.9686 Q116.343 60.1028 118.658 60.6815 Q120.973 61.2602 123.496 61.2602 Q127.894 61.2602 130.186 59.5241 Q132.501 57.788 132.501 54.4779 Q132.501 51.4223 130.348 49.7094 Q128.218 47.9733 124.399 47.9733 L120.371 47.9733 L120.371 44.1307 L124.584 44.1307 Q128.033 44.1307 129.862 42.765 Q131.691 41.3761 131.691 38.7835 Q131.691 36.1215 129.792 34.7094 Q127.917 33.2743 124.399 33.2743 Q122.478 33.2743 120.279 33.6909 Q118.08 34.1076 115.441 34.9872 L115.441 30.8206 Q118.103 30.0798 120.418 29.7095 Q122.755 29.3391 124.816 29.3391 Q130.14 29.3391 133.242 31.7696 Q136.343 34.177 136.343 38.2974 Q136.343 41.1677 134.7 43.1585 Q133.056 45.1261 130.024 45.8899 Z\" fill=\"#000000\" fill-rule=\"nonzero\" fill-opacity=\"1\" /><path clip-path=\"url(#clip960)\" d=\"M156.019 33.0428 Q152.408 33.0428 150.579 36.6076 Q148.774 40.1492 148.774 47.2788 Q148.774 54.3853 150.579 57.9501 Q152.408 61.4917 156.019 61.4917 Q159.653 61.4917 161.459 57.9501 Q163.288 54.3853 163.288 47.2788 Q163.288 40.1492 161.459 36.6076 Q159.653 33.0428 156.019 33.0428 M156.019 29.3391 Q161.829 29.3391 164.885 33.9456 Q167.964 38.5289 167.964 47.2788 Q167.964 56.0056 164.885 60.6121 Q161.829 65.1954 156.019 65.1954 Q150.209 65.1954 147.13 60.6121 Q144.075 56.0056 144.075 47.2788 Q144.075 38.5289 147.13 33.9456 Q150.209 29.3391 156.019 29.3391 Z\" fill=\"#000000\" fill-rule=\"nonzero\" fill-opacity=\"1\" /><path clip-path=\"url(#clip960)\" d=\"M28.3562 748.723 L28.3562 720.905 L33.7034 720.905 L59.3254 742.93 L59.3254 720.905 L64.0042 720.905 L64.0042 749.519 L58.657 749.519 L33.035 727.494 L33.035 748.723 L28.3562 748.723 Z\" fill=\"#000000\" fill-rule=\"nonzero\" fill-opacity=\"1\" /><polyline clip-path=\"url(#clip962)\" style=\"stroke:#009af9; stroke-linecap:round; stroke-linejoin:round; stroke-width:4; stroke-opacity:1; fill:none\" points=\"203.964,1117.42 211.126,1114.36 218.289,1111.3 225.451,1108.24 232.614,1105.19 239.777,1102.13 246.939,1099.07 254.102,1096.01 261.265,1092.96 268.427,1089.9 275.59,1086.84 282.753,1083.78 289.915,1080.72 297.078,1077.67 304.241,1074.61 311.403,1071.55 318.566,1068.49 325.728,1065.44 332.891,1062.38 340.054,1059.32 347.216,1056.26 354.379,1053.21 361.542,1050.15 368.704,1047.09 375.867,1044.03 383.03,1040.98 390.192,1037.92 397.355,1034.86 404.518,1031.8 411.68,1028.74 418.843,1025.69 426.005,1022.63 433.168,1019.57 440.331,1016.51 447.493,1013.46 454.656,1010.4 461.819,1007.34 468.981,1004.28 476.144,1001.23 483.307,998.169 490.469,995.111 497.632,992.053 504.794,988.996 511.957,985.938 519.12,982.88 526.282,979.823 533.445,976.765 540.608,973.707 547.77,970.65 554.933,967.592 562.096,964.535 569.258,961.477 576.421,958.419 583.584,955.362 590.746,952.304 597.909,949.246 605.071,946.189 612.234,943.131 619.397,940.074 626.559,937.016 633.722,933.958 640.885,930.901 648.047,927.843 655.21,924.785 662.373,921.728 669.535,918.67 676.698,915.612 683.861,912.555 691.023,909.497 698.186,906.44 705.348,903.382 712.511,900.324 719.674,897.267 726.836,894.209 733.999,891.151 741.162,888.094 748.324,885.036 755.487,881.978 762.65,878.921 769.812,875.863 776.975,872.806 784.138,869.748 791.3,866.69 798.463,863.633 805.625,860.575 812.788,857.517 819.951,854.46 827.113,851.402 834.276,848.344 841.439,845.287 848.601,842.229 855.764,839.172 862.927,836.114 870.089,833.056 877.252,829.999 884.414,826.941 891.577,823.883 898.74,820.826 905.902,817.768 913.065,814.71 920.228,811.653 927.39,808.595 934.553,805.538 941.716,802.48 948.878,799.422 956.041,796.365 963.204,793.307 970.366,790.249 977.529,787.192 984.691,784.134 991.854,781.076 999.017,778.019 1006.18,774.961 1013.34,771.904 1020.5,768.846 1027.67,765.788 1034.83,762.731 1041.99,759.673 1049.16,756.615 1056.32,753.558 1063.48,750.5 1070.64,747.443 1077.81,744.385 1084.97,741.327 1092.13,738.27 1099.29,735.212 1106.46,732.154 1113.62,729.097 1120.78,726.039 1127.94,722.981 1135.11,719.924 1142.27,716.866 1149.43,713.809 1156.59,710.751 1163.76,707.693 1170.92,704.636 1178.08,701.578 1185.25,698.52 1192.41,695.463 1199.57,692.405 1206.73,689.347 1213.9,686.29 1221.06,683.232 1228.22,680.175 1235.38,677.117 1242.55,674.059 1249.71,671.002 1256.87,667.944 1264.03,664.886 1271.2,661.829 1278.36,658.771 1285.52,655.713 1292.69,652.656 1299.85,649.598 1307.01,646.541 1314.17,643.483 1321.34,640.425 1328.5,637.368 1335.66,634.31 1342.82,631.252 1349.99,628.195 1357.15,625.137 1364.31,622.079 1371.47,619.022 1378.64,615.964 1385.8,612.907 1392.96,609.849 1400.12,606.791 1407.29,603.734 1414.45,600.676 1421.61,597.618 1428.78,594.561 1435.94,591.503 1443.1,588.445 1450.26,585.388 1457.43,582.33 1464.59,579.273 1471.75,576.215 1478.91,573.157 1486.08,570.1 1493.24,567.042 1500.4,563.984 1507.56,560.927 1514.73,557.869 1521.89,554.812 1529.05,551.754 1536.21,548.696 1543.38,545.639 1550.54,542.581 1557.7,539.523 1564.87,536.466 1572.03,533.408 1579.19,530.35 1586.35,527.293 1593.52,524.235 1600.68,521.178 1607.84,518.12 1615,515.062 1622.17,512.005 1629.33,508.947 1636.49,505.889 1643.65,502.832 1650.82,499.774 1657.98,496.716 1665.14,493.659 1672.31,490.601 1679.47,487.544 1686.63,484.486 1693.79,481.428 1700.96,478.371 1708.12,475.313 1715.28,472.255 1722.44,469.198 1729.61,466.14 1736.77,463.082 1743.93,460.025 1751.09,456.967 1758.26,453.91 1765.42,450.852 1772.58,447.794 1779.74,444.737 1786.91,441.679 1794.07,438.621 1801.23,435.564 1808.4,432.506 1815.56,429.448 1822.72,426.391 1829.88,423.333 1837.05,420.276 1844.21,417.218 1851.37,414.16 1858.53,411.103 1865.7,408.045 1872.86,404.987 1880.02,401.93 1887.18,398.872 1894.35,395.814 1901.51,392.757 1908.67,389.699 1915.83,386.642 1923,383.584 1930.16,380.526 1937.32,377.469 1944.49,374.411 1951.65,371.353 1958.81,368.296 1965.97,365.238 1973.14,362.18 1980.3,359.123 1987.46,356.065 1994.62,353.008 2001.79,349.95 2008.95,346.892 2016.11,343.835 2023.27,340.777 2030.44,337.719 2037.6,334.662 2044.76,331.604 2051.92,328.547 2059.09,325.489 2066.25,322.431 2073.41,319.374 2080.58,316.316 2087.74,313.258 2094.9,310.201 2102.06,307.143 2109.23,304.085 2116.39,301.028 2123.55,297.97 2130.71,294.913 2137.88,291.855 2145.04,288.797 2152.2,285.74 2159.36,282.682 2166.53,279.624 2173.69,276.567 2180.85,273.509 2188.02,270.451 2195.18,267.394 2202.34,264.336 2209.5,261.279 2216.67,258.221 2223.83,255.163 2230.99,252.106 2238.15,249.048 2245.32,245.99 2252.48,242.933 2259.64,239.875 2266.8,236.817 2273.97,233.76 2281.13,230.702 2288.29,227.645 2295.45,224.587 2302.62,221.529 2309.78,218.472 2316.94,215.414 2324.11,212.356 2331.27,209.299 2338.43,206.241 2345.59,203.183 2352.76,200.126 \"/>\n",
       "</svg>\n"
      ]
     },
     "execution_count": 117,
     "metadata": {},
     "output_type": "execute_result"
    }
   ],
   "source": [
    "plot(b_2, z, ylimits=(0,30), label=\"\", xlimits=(0,30))\n",
    "plot!(xaxis=\"d2\", yaxis=\"z\")"
   ]
  },
  {
   "cell_type": "markdown",
   "id": "24e4af9a-8112-4826-b72e-a4464a3c461d",
   "metadata": {},
   "source": [
    "# Problema 5"
   ]
  },
  {
   "cell_type": "code",
   "execution_count": 160,
   "id": "cfc0e9db-30c8-4e90-becf-edfd749d81a1",
   "metadata": {},
   "outputs": [
    {
     "data": {
      "text/plain": [
       "5-element Vector{Float64}:\n",
       " 4.0\n",
       " 3.0\n",
       " 4.7\n",
       " 0.0\n",
       " 0.0"
      ]
     },
     "execution_count": 160,
     "metadata": {},
     "output_type": "execute_result"
    }
   ],
   "source": [
    "# Definindo\n",
    "\n",
    "A = [\n",
    "2 1 2 1 0;\n",
    "1 2 2 0 1\n",
    "]\n",
    "b = [\n",
    "4; 4\n",
    "]\n",
    "c = [4; 3; 4.7; 0; 0]"
   ]
  },
  {
   "cell_type": "code",
   "execution_count": 161,
   "id": "377e0405-d359-4c21-8094-7efbf00d3057",
   "metadata": {},
   "outputs": [
    {
     "data": {
      "text/plain": [
       "3-element Vector{Float64}:\n",
       " 4.7\n",
       " 0.0\n",
       " 0.0"
      ]
     },
     "execution_count": 161,
     "metadata": {},
     "output_type": "execute_result"
    }
   ],
   "source": [
    "# Base no ponto otimo\n",
    "Nbase = [3, 4, 5]\n",
    "base = [1, 2]\n",
    "B = A[:, base]\n",
    "N = A[:, Nbase]\n",
    "cb = c[base]\n",
    "cn = c[Nbase]"
   ]
  },
  {
   "cell_type": "code",
   "execution_count": 162,
   "id": "686bfad8-4557-448a-90d0-267d0c66ae59",
   "metadata": {},
   "outputs": [
    {
     "data": {
      "text/plain": [
       "1×3 adjoint(::Vector{Float64}) with eltype Float64:\n",
       " 4.66667  1.66667  0.666667"
      ]
     },
     "execution_count": 162,
     "metadata": {},
     "output_type": "execute_result"
    }
   ],
   "source": [
    "(cb')*inv(B)*N"
   ]
  },
  {
   "cell_type": "code",
   "execution_count": 165,
   "id": "34dcd6d0-85bc-4f0b-ae1c-35980e6a5dcc",
   "metadata": {},
   "outputs": [
    {
     "data": {
      "text/plain": [
       "1×3 adjoint(::Vector{Float64}) with eltype Float64:\n",
       " 4.66667  1.66667  0.666667"
      ]
     },
     "execution_count": 165,
     "metadata": {},
     "output_type": "execute_result"
    }
   ],
   "source": [
    "y*N"
   ]
  },
  {
   "cell_type": "code",
   "execution_count": 166,
   "id": "ddd0caac-2318-4d2e-86a0-194a45dc37df",
   "metadata": {},
   "outputs": [
    {
     "data": {
      "text/plain": [
       "1×3 adjoint(::Vector{Float64}) with eltype Float64:\n",
       " 0.0333333  -1.66667  -0.666667"
      ]
     },
     "execution_count": 166,
     "metadata": {},
     "output_type": "execute_result"
    }
   ],
   "source": [
    "y = (cb')*inv(B)\n",
    "cred = cn' - y*N"
   ]
  },
  {
   "cell_type": "code",
   "execution_count": null,
   "id": "c687b1e7-2b45-4aaa-a1d4-3e3b0ef56b44",
   "metadata": {},
   "outputs": [],
   "source": []
  }
 ],
 "metadata": {
  "kernelspec": {
   "display_name": "Julia 1.10.2",
   "language": "julia",
   "name": "julia-1.10"
  },
  "language_info": {
   "file_extension": ".jl",
   "mimetype": "application/julia",
   "name": "julia",
   "version": "1.10.2"
  }
 },
 "nbformat": 4,
 "nbformat_minor": 5
}
