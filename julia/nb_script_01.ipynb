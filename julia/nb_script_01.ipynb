{
 "cells": [
  {
   "cell_type": "markdown",
   "id": "4ec4e358-36ec-408a-a9d7-eb40b9f85bc5",
   "metadata": {},
   "source": [
    "Objective: First Julia code\n",
    "\n",
    "## Summary:\n",
    "\n",
    "1. Print first message.\n",
    "2. Checking some Julia Functions\n",
    "3. Creating a function\n",
    "4. Plotting"
   ]
  },
  {
   "cell_type": "code",
   "execution_count": 1,
   "id": "c4fdf426-9055-4cda-aaf5-c6efa5ec0c5e",
   "metadata": {},
   "outputs": [],
   "source": [
    "import Pkg   # Library to add Julia packages"
   ]
  },
  {
   "cell_type": "markdown",
   "id": "75084c25-54b8-4655-827a-6f96bd6c4001",
   "metadata": {},
   "source": [
    "### 1. Print first message"
   ]
  },
  {
   "cell_type": "code",
   "execution_count": 2,
   "id": "ddf6c225-04f0-4781-8f1e-7203c61928fb",
   "metadata": {},
   "outputs": [
    {
     "name": "stdout",
     "output_type": "stream",
     "text": [
      "Hello, i'm alive now!\n"
     ]
    }
   ],
   "source": [
    "println(\"Hello, i'm alive now!\")"
   ]
  },
  {
   "cell_type": "markdown",
   "id": "73b0062c-bba2-462e-9270-b64a5d62a2f7",
   "metadata": {},
   "source": [
    "### 2.Checking some Julia functions"
   ]
  },
  {
   "cell_type": "code",
   "execution_count": 3,
   "id": "ca1c6c09-899a-462c-971b-9e4fa75ac08a",
   "metadata": {},
   "outputs": [
    {
     "data": {
      "text/plain": [
       "Int64"
      ]
     },
     "execution_count": 3,
     "metadata": {},
     "output_type": "execute_result"
    }
   ],
   "source": [
    "x = 2\n",
    "typeof(x)"
   ]
  },
  {
   "cell_type": "markdown",
   "id": "3888399b-91b2-41b3-b510-8ac221d12261",
   "metadata": {},
   "source": [
    "### 3.Creating a function"
   ]
  },
  {
   "cell_type": "code",
   "execution_count": 4,
   "id": "67d3cc47-a9df-43d1-a86e-3b7d1b8a923d",
   "metadata": {},
   "outputs": [
    {
     "data": {
      "text/plain": [
       "func (generic function with 1 method)"
      ]
     },
     "execution_count": 4,
     "metadata": {},
     "output_type": "execute_result"
    }
   ],
   "source": [
    "function func(x)\n",
    "    y = x^2\n",
    "    println(y)\n",
    "end"
   ]
  },
  {
   "cell_type": "code",
   "execution_count": 5,
   "id": "0ae2df9f-c78d-4c93-8d7c-0fdabadec31e",
   "metadata": {},
   "outputs": [
    {
     "name": "stdout",
     "output_type": "stream",
     "text": [
      "4\n"
     ]
    }
   ],
   "source": [
    "# This is a comment in Julia. Test the function\n",
    "func(2)"
   ]
  },
  {
   "cell_type": "code",
   "execution_count": 6,
   "id": "11ce0fcd-445b-4066-9fcf-01c0fb35a20f",
   "metadata": {},
   "outputs": [
    {
     "data": {
      "text/plain": [
       "4"
      ]
     },
     "execution_count": 6,
     "metadata": {},
     "output_type": "execute_result"
    }
   ],
   "source": [
    "# You can declared a fucntion in a one line code\n",
    "func(x) = x^2\n",
    "func(2)"
   ]
  },
  {
   "cell_type": "code",
   "execution_count": 7,
   "id": "73418c7a-3ac4-4e91-9f5f-c94b5f1bd7f6",
   "metadata": {},
   "outputs": [
    {
     "name": "stdout",
     "output_type": "stream",
     "text": [
      "Matrix:[0.8556408759640806 0.2329323873689072; 0.9090973867537453 0.49049224077260367]\n"
     ]
    },
    {
     "data": {
      "text/plain": [
       "2×2 Matrix{Float64}:\n",
       " 0.94388  0.313558\n",
       " 1.22377  0.452341"
      ]
     },
     "execution_count": 7,
     "metadata": {},
     "output_type": "execute_result"
    }
   ],
   "source": [
    "# A funcao func pode receber tambem uma matriz\n",
    "matrix = rand(2,2)\n",
    "println(\"Matrix:\", matrix)\n",
    "\n",
    "func(matrix)"
   ]
  },
  {
   "cell_type": "code",
   "execution_count": 8,
   "id": "fc909079-97db-4ef9-9206-f39906a93bb4",
   "metadata": {},
   "outputs": [
    {
     "ename": "LoadError",
     "evalue": "MethodError: no method matching ^(::Vector{Int64}, ::Int64)\n\n\u001b[0mClosest candidates are:\n\u001b[0m  ^(\u001b[91m::BigInt\u001b[39m, ::Integer)\n\u001b[0m\u001b[90m   @\u001b[39m \u001b[90mBase\u001b[39m \u001b[90m\u001b[4mgmp.jl:654\u001b[24m\u001b[39m\n\u001b[0m  ^(\u001b[91m::Float32\u001b[39m, ::Integer)\n\u001b[0m\u001b[90m   @\u001b[39m \u001b[90mBase\u001b[39m \u001b[90m\u001b[4mmath.jl:1277\u001b[24m\u001b[39m\n\u001b[0m  ^(\u001b[91m::BigFloat\u001b[39m, ::Union{Int16, Int32, Int64, Int8})\n\u001b[0m\u001b[90m   @\u001b[39m \u001b[90mBase\u001b[39m \u001b[90m\u001b[4mmpfr.jl:658\u001b[24m\u001b[39m\n\u001b[0m  ...\n",
     "output_type": "error",
     "traceback": [
      "MethodError: no method matching ^(::Vector{Int64}, ::Int64)\n\n\u001b[0mClosest candidates are:\n\u001b[0m  ^(\u001b[91m::BigInt\u001b[39m, ::Integer)\n\u001b[0m\u001b[90m   @\u001b[39m \u001b[90mBase\u001b[39m \u001b[90m\u001b[4mgmp.jl:654\u001b[24m\u001b[39m\n\u001b[0m  ^(\u001b[91m::Float32\u001b[39m, ::Integer)\n\u001b[0m\u001b[90m   @\u001b[39m \u001b[90mBase\u001b[39m \u001b[90m\u001b[4mmath.jl:1277\u001b[24m\u001b[39m\n\u001b[0m  ^(\u001b[91m::BigFloat\u001b[39m, ::Union{Int16, Int32, Int64, Int8})\n\u001b[0m\u001b[90m   @\u001b[39m \u001b[90mBase\u001b[39m \u001b[90m\u001b[4mmpfr.jl:658\u001b[24m\u001b[39m\n\u001b[0m  ...\n",
      "",
      "Stacktrace:",
      " [1] literal_pow",
      "   @ ./intfuncs.jl:351 [inlined]",
      " [2] func(x::Vector{Int64})",
      "   @ Main ./In[6]:2",
      " [3] top-level scope",
      "   @ In[8]:4"
     ]
    }
   ],
   "source": [
    "# A funcao, porem, nao funciona no caso de um vetor. Porque o quadrado de um vetor nao eh uma operacao definida\n",
    "vector = [2, 1, 3]\n",
    "\n",
    "func(vector)"
   ]
  },
  {
   "cell_type": "markdown",
   "id": "b61f49e8-be9a-43bd-8af5-5ddd0c7562e1",
   "metadata": {},
   "source": [
    "Funcoes mutaveis e nao mutáveis"
   ]
  },
  {
   "cell_type": "code",
   "execution_count": 32,
   "id": "1d67866d-cc95-4881-a912-1bd9ffa1c365",
   "metadata": {},
   "outputs": [
    {
     "data": {
      "text/plain": [
       "3-element Vector{Int64}:\n",
       " 3\n",
       " 5\n",
       " 2"
      ]
     },
     "execution_count": 32,
     "metadata": {},
     "output_type": "execute_result"
    }
   ],
   "source": [
    "# Por definicao funcoes mutaveis sao seguidas por um ! e nao mutaveis nao o sao\n",
    "v = [3, 5, 2]"
   ]
  },
  {
   "cell_type": "code",
   "execution_count": 33,
   "id": "7369d4fe-32fb-4b62-8f66-05d7c4df7119",
   "metadata": {},
   "outputs": [
    {
     "data": {
      "text/plain": [
       "3-element Vector{Int64}:\n",
       " 2\n",
       " 3\n",
       " 5"
      ]
     },
     "execution_count": 33,
     "metadata": {},
     "output_type": "execute_result"
    }
   ],
   "source": [
    "sort(v)"
   ]
  },
  {
   "cell_type": "code",
   "execution_count": 34,
   "id": "a195f59f-1531-417f-ab30-bd569c5a93d8",
   "metadata": {},
   "outputs": [
    {
     "data": {
      "text/plain": [
       "3-element Vector{Int64}:\n",
       " 3\n",
       " 5\n",
       " 2"
      ]
     },
     "execution_count": 34,
     "metadata": {},
     "output_type": "execute_result"
    }
   ],
   "source": [
    "v"
   ]
  },
  {
   "cell_type": "code",
   "execution_count": 35,
   "id": "d70a5985-ed8f-4ac6-94b8-1d7d13000dda",
   "metadata": {},
   "outputs": [
    {
     "data": {
      "text/plain": [
       "3-element Vector{Int64}:\n",
       " 2\n",
       " 3\n",
       " 5"
      ]
     },
     "execution_count": 35,
     "metadata": {},
     "output_type": "execute_result"
    }
   ],
   "source": [
    "sort!(v)"
   ]
  },
  {
   "cell_type": "code",
   "execution_count": 36,
   "id": "c1b44521-b076-423a-b112-ad603f45a57a",
   "metadata": {},
   "outputs": [
    {
     "data": {
      "text/plain": [
       "3-element Vector{Int64}:\n",
       " 2\n",
       " 3\n",
       " 5"
      ]
     },
     "execution_count": 36,
     "metadata": {},
     "output_type": "execute_result"
    }
   ],
   "source": [
    "v"
   ]
  },
  {
   "cell_type": "markdown",
   "id": "2e1ddcae-45b7-493a-aa40-7a9909f6fa1a",
   "metadata": {},
   "source": [
    "Brodcasting elements in a function"
   ]
  },
  {
   "cell_type": "markdown",
   "id": "60bd1a2a-1db4-497e-9328-ad4cd471b3fc",
   "metadata": {},
   "source": [
    "Caso for chamada uma função com um . (e.g. f().), esta sera aplicada então a cada elemento do vetor ou matrix"
   ]
  },
  {
   "cell_type": "code",
   "execution_count": 39,
   "id": "4371c102-dfa3-45ae-b521-188af6b7b667",
   "metadata": {},
   "outputs": [
    {
     "data": {
      "text/plain": [
       "3×3 Matrix{Int64}:\n",
       " 0  1  2\n",
       " 3  4  5\n",
       " 6  7  8"
      ]
     },
     "execution_count": 39,
     "metadata": {},
     "output_type": "execute_result"
    }
   ],
   "source": [
    "A = [i+3j for j in 0:2, i in 0:2]"
   ]
  },
  {
   "cell_type": "code",
   "execution_count": 40,
   "id": "6b536020-b835-4597-b330-0036e6424ab7",
   "metadata": {},
   "outputs": [
    {
     "name": "stdout",
     "output_type": "stream",
     "text": [
      "[15 18 21; 42 54 66; 69 90 111]\n"
     ]
    }
   ],
   "source": [
    "func(A)"
   ]
  },
  {
   "cell_type": "code",
   "execution_count": 42,
   "id": "1fe387a0-2303-4dc7-a187-74f82a98ff02",
   "metadata": {},
   "outputs": [
    {
     "name": "stdout",
     "output_type": "stream",
     "text": [
      "0\n",
      "9\n",
      "36\n",
      "1\n",
      "16\n",
      "49\n",
      "4\n",
      "25\n",
      "64\n"
     ]
    },
    {
     "data": {
      "text/plain": [
       "3×3 Matrix{Nothing}:\n",
       " nothing  nothing  nothing\n",
       " nothing  nothing  nothing\n",
       " nothing  nothing  nothing"
      ]
     },
     "execution_count": 42,
     "metadata": {},
     "output_type": "execute_result"
    }
   ],
   "source": [
    "func.(A)"
   ]
  },
  {
   "cell_type": "markdown",
   "id": "bf5306d8-8349-4544-9bf9-8938903f256b",
   "metadata": {},
   "source": [
    "Note que no primeiro caso a funcao foi aplicada a Matrix A inteira (A^2). Já no segundo se aplicou a cada elemento de A."
   ]
  },
  {
   "cell_type": "markdown",
   "id": "c0e416a9-df33-4259-89a9-1beb1f431f41",
   "metadata": {},
   "source": [
    "### 4. Plotting"
   ]
  },
  {
   "cell_type": "markdown",
   "id": "8ec4886e-6816-4f2a-9725-5bca0f0dcb2b",
   "metadata": {},
   "source": [
    "Há diferentes maneiras de realizar plots em Julia. Neste notebook iremos utilizar a biblioteca Plots.jl."
   ]
  },
  {
   "cell_type": "code",
   "execution_count": 52,
   "id": "65f48ded-fd03-4fdb-8e1b-85fc779753c2",
   "metadata": {},
   "outputs": [],
   "source": [
    "# Pkg.add(\"Plots\")\n",
    "using Plots"
   ]
  },
  {
   "cell_type": "code",
   "execution_count": 53,
   "id": "353d7cf8-4400-448b-9f18-68acddbfcf5d",
   "metadata": {},
   "outputs": [
    {
     "data": {
      "text/plain": [
       "61-element Vector{Float64}:\n",
       " 9.0\n",
       " 8.41\n",
       " 7.839999999999999\n",
       " 7.290000000000001\n",
       " 6.760000000000001\n",
       " 6.25\n",
       " 5.76\n",
       " 5.289999999999999\n",
       " 4.840000000000001\n",
       " 4.41\n",
       " 4.0\n",
       " 3.61\n",
       " 3.24\n",
       " ⋮\n",
       " 3.61\n",
       " 4.0\n",
       " 4.41\n",
       " 4.840000000000001\n",
       " 5.289999999999999\n",
       " 5.76\n",
       " 6.25\n",
       " 6.760000000000001\n",
       " 7.290000000000001\n",
       " 7.839999999999999\n",
       " 8.41\n",
       " 9.0"
      ]
     },
     "execution_count": 53,
     "metadata": {},
     "output_type": "execute_result"
    }
   ],
   "source": [
    "x = -3:0.1:3\n",
    "f(x) = x^2\n",
    "\n",
    "y= f.(x)"
   ]
  },
  {
   "cell_type": "markdown",
   "id": "197f8491-d5a3-4f40-aaee-8fc021b5b6f2",
   "metadata": {},
   "source": [
    "Setting the backeng"
   ]
  },
  {
   "cell_type": "code",
   "execution_count": 54,
   "id": "fc5aebcb-0e3a-445f-9f6c-5c277e76cb04",
   "metadata": {},
   "outputs": [
    {
     "data": {
      "text/plain": [
       "Plots.GRBackend()"
      ]
     },
     "execution_count": 54,
     "metadata": {},
     "output_type": "execute_result"
    }
   ],
   "source": [
    "gr()"
   ]
  },
  {
   "cell_type": "code",
   "execution_count": 55,
   "id": "89f79b6c-2b10-48ef-b17e-4e3bf5ef778a",
   "metadata": {},
   "outputs": [
    {
     "ename": "LoadError",
     "evalue": "MethodError: no method matching plot(::StepRangeLen{Float64, Base.TwicePrecision{Float64}, Base.TwicePrecision{Float64}, Int64}, ::Vector{Float64}; label::String)\n\n\u001b[0mClosest candidates are:\n\u001b[0m  plot(::Any; kw...)\n\u001b[0m\u001b[90m   @\u001b[39m \u001b[35mPlotlyLight\u001b[39m \u001b[90m~/.julia/packages/PlotlyLight/iaRIX/src/\u001b[39m\u001b[90m\u001b[4mPlotlyLight.jl:77\u001b[24m\u001b[39m\n",
     "output_type": "error",
     "traceback": [
      "MethodError: no method matching plot(::StepRangeLen{Float64, Base.TwicePrecision{Float64}, Base.TwicePrecision{Float64}, Int64}, ::Vector{Float64}; label::String)\n\n\u001b[0mClosest candidates are:\n\u001b[0m  plot(::Any; kw...)\n\u001b[0m\u001b[90m   @\u001b[39m \u001b[35mPlotlyLight\u001b[39m \u001b[90m~/.julia/packages/PlotlyLight/iaRIX/src/\u001b[39m\u001b[90m\u001b[4mPlotlyLight.jl:77\u001b[24m\u001b[39m\n",
      "",
      "Stacktrace:",
      " [1] top-level scope",
      "   @ In[55]:1"
     ]
    }
   ],
   "source": [
    "plot(x, y, label=\"line\")\n",
    "scatter!(x, y, label=\"points\")"
   ]
  },
  {
   "cell_type": "markdown",
   "id": "c13c663c-9c5e-4418-ac28-5543672bb957",
   "metadata": {},
   "source": [
    "Changing the kernel to the next plot"
   ]
  },
  {
   "cell_type": "code",
   "execution_count": 29,
   "id": "a65af606-aa45-431b-a212-ec317502b70f",
   "metadata": {},
   "outputs": [],
   "source": [
    "# Pkg.add(\"PlotlyJS\")\n",
    "# using PlotlyJS\n",
    "# plotlyjs()\n",
    "# PlotJS not working well, so trying plotlight\n",
    "# Pkg.add(\"PlotlyLight\")\n",
    "using PlotlyLight"
   ]
  },
  {
   "cell_type": "code",
   "execution_count": 49,
   "id": "128093fd-5416-45fd-ac84-831b2acc9c00",
   "metadata": {},
   "outputs": [
    {
     "data": {
      "text/html": [
       "<iframe srcdoc=\"&lt;html&gt;&lt;head&gt;&lt;meta charset=&quot;utf-8&quot;&gt;&lt;meta name=&quot;viewport&quot; content=&quot;width=device-width, initial-scale=1&quot;&gt;&lt;meta name=&quot;description&quot; content=&quot;PlotlyLight.jl&quot;&gt;&lt;title&gt;PlotlyLight.jl&lt;/title&gt;&lt;style&gt;body { margin: 0px; } /* remove scrollbar in iframe */&lt;/style&gt;&lt;/head&gt;&lt;body&gt;&lt;div class=&quot;plotlylight-parent-div&quot;&gt;&lt;script src=&quot;https://cdn.plot.ly/plotly-2.29.1.min.js&quot; charset=&quot;utf-8&quot;&gt;&lt;/script&gt;&lt;div style=&quot;height:100vh;width:100vw;&quot; id=&quot;80CNIp4Ir3&quot; class=&quot;plotlylight-plot-div&quot;&gt;&lt;/div&gt;&lt;script&gt;Plotly.newPlot(&quot;80CNIp4Ir3&quot;, [{&quot;x&quot;:[-3.0,-2.9,-2.8,-2.7,-2.6,-2.5,-2.4,-2.3,-2.2,-2.1,-2.0,-1.9,-1.8,-1.7,-1.6,-1.5,-1.4,-1.3,-1.2,-1.1,-1.0,-0.9,-0.8,-0.7,-0.6,-0.5,-0.4,-0.3,-0.2,-0.1,0.0,0.1,0.2,0.3,0.4,0.5,0.6,0.7,0.8,0.9,1.0,1.1,1.2,1.3,1.4,1.5,1.6,1.7,1.8,1.9,2.0,2.1,2.2,2.3,2.4,2.5,2.6,2.7,2.8,2.9,3.0],&quot;y&quot;:[9.0,8.41,7.839999999999999,7.290000000000001,6.760000000000001,6.25,5.76,5.289999999999999,4.840000000000001,4.41,4.0,3.61,3.24,2.8899999999999997,2.5600000000000005,2.25,1.9599999999999997,1.6900000000000002,1.44,1.2100000000000002,1.0,0.81,0.6400000000000001,0.48999999999999994,0.36,0.25,0.16000000000000003,0.09,0.04000000000000001,0.010000000000000002,0.0,0.010000000000000002,0.04000000000000001,0.09,0.16000000000000003,0.25,0.36,0.48999999999999994,0.6400000000000001,0.81,1.0,1.2100000000000002,1.44,1.6900000000000002,1.9599999999999997,2.25,2.5600000000000005,2.8899999999999997,3.24,3.61,4.0,4.41,4.840000000000001,5.289999999999999,5.76,6.25,6.760000000000001,7.290000000000001,7.839999999999999,8.41,9.0],&quot;label&quot;:&quot;scatter&quot;,&quot;mode&quot;:&quot;lines+markers&quot;}], {}, {&quot;responsive&quot;:true})&lt;/script&gt;&lt;/div&gt;&lt;/body&gt;&lt;/html&gt;\" height=\"100%\" width=\"100%\" style=\"min-width:350px;display:block;border:none;min-height:350px\"></iframe>"
      ],
      "text/plain": [
       "Plot(Config[Config(:x => [-3.0, -2.9, -2.8, -2.7, -2.6, -2.5, -2.4, -2.3, -2.2, -2.1  …  2.1, 2.2, 2.3, 2.4, 2.5, 2.6, 2.7, 2.8, 2.9, 3.0], :y => [9.0, 8.41, 7.839999999999999, 7.290000000000001, 6.760000000000001, 6.25, 5.76, 5.289999999999999, 4.840000000000001, 4.41  …  4.41, 4.840000000000001, 5.289999999999999, 5.76, 6.25, 6.760000000000001, 7.290000000000001, 7.839999999999999, 8.41, 9.0], :label => \"scatter\", :mode => \"lines+markers\")], Config(), Config())"
      ]
     },
     "execution_count": 49,
     "metadata": {},
     "output_type": "execute_result"
    }
   ],
   "source": [
    "Plot(x=x, y=y, label=\"scatter\", mode=\"lines+markers\")"
   ]
  },
  {
   "cell_type": "code",
   "execution_count": 50,
   "id": "a2f34bcc-c431-4429-a241-ac87ef158791",
   "metadata": {},
   "outputs": [],
   "source": [
    "# The axis in plotlylightjs look very desproportional, what is a very weak visualization."
   ]
  },
  {
   "cell_type": "code",
   "execution_count": null,
   "id": "87ecebed-29c9-42b9-ac0c-f8622f98443e",
   "metadata": {},
   "outputs": [],
   "source": []
  }
 ],
 "metadata": {
  "kernelspec": {
   "display_name": "Julia 1.10.2",
   "language": "julia",
   "name": "julia-1.10"
  },
  "language_info": {
   "file_extension": ".jl",
   "mimetype": "application/julia",
   "name": "julia",
   "version": "1.10.2"
  }
 },
 "nbformat": 4,
 "nbformat_minor": 5
}
