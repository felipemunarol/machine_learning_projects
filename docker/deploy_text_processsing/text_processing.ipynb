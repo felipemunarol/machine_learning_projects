{
 "cells": [
  {
   "cell_type": "code",
   "execution_count": 29,
   "metadata": {},
   "outputs": [],
   "source": [
    "# pip install tensorflow"
   ]
  },
  {
   "cell_type": "code",
   "execution_count": 6,
   "metadata": {},
   "outputs": [],
   "source": [
    "# Libraries\n",
    "\n",
    "import os\n",
    "import tensorflow as tf\n",
    "from tensorflow.keras.preprocessing.text import Tokenizer\n",
    "import json"
   ]
  },
  {
   "attachments": {},
   "cell_type": "markdown",
   "metadata": {},
   "source": [
    "Quando falamos de aprendizado Processamento de Linguagem Natual (NLP) diversos tratamentos devem ser feitos para facilitar o entendimento do texto\n",
    "para um modelo de Machine Learning. Um desses tratamentos por exemplo é o Tokenalization, em que realizamos o encoding da Frase. Dessa forma, por exemplo:\n",
    "\n",
    "a frase,\n",
    "\n",
    "I love my dog -> pode ser processada como [001, 002, 003, 004]\n",
    "\n",
    "e a frase,\n",
    "\n",
    "I love my cat -> pode ser processada como [001, 002, 003, 005]\n",
    "\n",
    "Notem, que essas duas sequencias são muito parecidas, retirando a ultima palavra no final da frase. Dado esse método de realizar o ecoding de frases em numeros,\n",
    "vamos ver alguns codigos que podem atingir esse objetivo para nos.\n",
    "\n",
    "Este é um exemplo bem simples de um tratamento anterior ao modelo. Vamos tentar realizar um codigo que realize esse tratamento e fazer o deploy via docker."
   ]
  },
  {
   "cell_type": "code",
   "execution_count": 15,
   "metadata": {},
   "outputs": [],
   "source": [
    "phrases = [\"I love my dog\", \"I love my cat\", \"You love my dog\"]"
   ]
  },
  {
   "cell_type": "code",
   "execution_count": 16,
   "metadata": {},
   "outputs": [],
   "source": [
    "tokenizer = Tokenizer(num_words = 100)\n",
    "\n",
    "tokenizer.fit_on_texts(phrases)\n"
   ]
  },
  {
   "cell_type": "code",
   "execution_count": 20,
   "metadata": {},
   "outputs": [],
   "source": [
    "word_index = tokenizer.word_index"
   ]
  },
  {
   "cell_type": "code",
   "execution_count": 25,
   "metadata": {},
   "outputs": [],
   "source": [
    "# Save the result in the database system\n",
    "\n",
    "path = \"/home/felipe/machine_learning_projects/docker/NLP/test.json\"\n",
    "\n",
    "with open(path, 'w') as f:\n",
    "    json.dump(word_index, f)"
   ]
  },
  {
   "cell_type": "code",
   "execution_count": 27,
   "metadata": {},
   "outputs": [],
   "source": [
    "# remove file\n",
    "# os.remove(path)"
   ]
  },
  {
   "cell_type": "code",
   "execution_count": null,
   "metadata": {},
   "outputs": [],
   "source": []
  }
 ],
 "metadata": {
  "kernelspec": {
   "display_name": ".venv",
   "language": "python",
   "name": "python3"
  },
  "language_info": {
   "codemirror_mode": {
    "name": "ipython",
    "version": 3
   },
   "file_extension": ".py",
   "mimetype": "text/x-python",
   "name": "python",
   "nbconvert_exporter": "python",
   "pygments_lexer": "ipython3",
   "version": "3.10.10"
  },
  "orig_nbformat": 4
 },
 "nbformat": 4,
 "nbformat_minor": 2
}
