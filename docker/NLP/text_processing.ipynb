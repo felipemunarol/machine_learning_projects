{
 "cells": [
  {
   "cell_type": "code",
   "execution_count": null,
   "metadata": {
    "execution": {
     "iopub.execute_input": "2023-06-06T14:24:32.336093Z",
     "iopub.status.busy": "2023-06-06T14:24:32.335510Z",
     "iopub.status.idle": "2023-06-06T14:24:35.048361Z",
     "shell.execute_reply": "2023-06-06T14:24:35.047246Z"
    }
   },
   "outputs": [
    {
     "name": "stdout",
     "output_type": "stream",
     "text": [
      "Requirement already satisfied: tensorflow in /home/felipe/miniconda3/lib/python3.10/site-packages (2.12.0)\r\n",
      "Requirement already satisfied: tensorflow-estimator<2.13,>=2.12.0 in /home/felipe/miniconda3/lib/python3.10/site-packages (from tensorflow) (2.12.0)\r\n",
      "Requirement already satisfied: absl-py>=1.0.0 in /home/felipe/miniconda3/lib/python3.10/site-packages (from tensorflow) (1.4.0)\r\n",
      "Requirement already satisfied: gast<=0.4.0,>=0.2.1 in /home/felipe/miniconda3/lib/python3.10/site-packages (from tensorflow) (0.4.0)\r\n",
      "Requirement already satisfied: grpcio<2.0,>=1.24.3 in /home/felipe/miniconda3/lib/python3.10/site-packages (from tensorflow) (1.54.2)\r\n",
      "Requirement already satisfied: tensorboard<2.13,>=2.12 in /home/felipe/miniconda3/lib/python3.10/site-packages (from tensorflow) (2.12.3)\r\n",
      "Requirement already satisfied: keras<2.13,>=2.12.0 in /home/felipe/miniconda3/lib/python3.10/site-packages (from tensorflow) (2.12.0)\r\n",
      "Requirement already satisfied: protobuf!=4.21.0,!=4.21.1,!=4.21.2,!=4.21.3,!=4.21.4,!=4.21.5,<5.0.0dev,>=3.20.3 in /home/felipe/miniconda3/lib/python3.10/site-packages (from tensorflow) (4.23.2)\r\n",
      "Requirement already satisfied: six>=1.12.0 in /home/felipe/miniconda3/lib/python3.10/site-packages (from tensorflow) (1.16.0)\r\n",
      "Requirement already satisfied: wrapt<1.15,>=1.11.0 in /home/felipe/miniconda3/lib/python3.10/site-packages (from tensorflow) (1.14.1)\r\n",
      "Requirement already satisfied: typing-extensions>=3.6.6 in /home/felipe/miniconda3/lib/python3.10/site-packages (from tensorflow) (4.6.2)\r\n",
      "Requirement already satisfied: setuptools in /home/felipe/miniconda3/lib/python3.10/site-packages (from tensorflow) (65.6.3)\r\n",
      "Requirement already satisfied: flatbuffers>=2.0 in /home/felipe/miniconda3/lib/python3.10/site-packages (from tensorflow) (23.5.26)\r\n",
      "Requirement already satisfied: packaging in /home/felipe/miniconda3/lib/python3.10/site-packages (from tensorflow) (23.0)\r\n",
      "Requirement already satisfied: libclang>=13.0.0 in /home/felipe/miniconda3/lib/python3.10/site-packages (from tensorflow) (16.0.0)\r\n",
      "Requirement already satisfied: tensorflow-io-gcs-filesystem>=0.23.1 in /home/felipe/miniconda3/lib/python3.10/site-packages (from tensorflow) (0.32.0)\r\n",
      "Requirement already satisfied: google-pasta>=0.1.1 in /home/felipe/miniconda3/lib/python3.10/site-packages (from tensorflow) (0.2.0)\r\n",
      "Requirement already satisfied: termcolor>=1.1.0 in /home/felipe/miniconda3/lib/python3.10/site-packages (from tensorflow) (2.3.0)\r\n",
      "Requirement already satisfied: jax>=0.3.15 in /home/felipe/miniconda3/lib/python3.10/site-packages (from tensorflow) (0.4.11)\r\n",
      "Requirement already satisfied: numpy<1.24,>=1.22 in /home/felipe/miniconda3/lib/python3.10/site-packages (from tensorflow) (1.23.5)\r\n",
      "Requirement already satisfied: h5py>=2.9.0 in /home/felipe/miniconda3/lib/python3.10/site-packages (from tensorflow) (3.8.0)\r\n",
      "Requirement already satisfied: opt-einsum>=2.3.2 in /home/felipe/miniconda3/lib/python3.10/site-packages (from tensorflow) (3.3.0)\r\n",
      "Requirement already satisfied: astunparse>=1.6.0 in /home/felipe/miniconda3/lib/python3.10/site-packages (from tensorflow) (1.6.3)\r\n",
      "Requirement already satisfied: wheel<1.0,>=0.23.0 in /home/felipe/miniconda3/lib/python3.10/site-packages (from astunparse>=1.6.0->tensorflow) (0.38.4)\r\n",
      "Requirement already satisfied: ml-dtypes>=0.1.0 in /home/felipe/miniconda3/lib/python3.10/site-packages (from jax>=0.3.15->tensorflow) (0.1.0)\r\n",
      "Requirement already satisfied: scipy>=1.7 in /home/felipe/miniconda3/lib/python3.10/site-packages (from jax>=0.3.15->tensorflow) (1.10.1)\r\n",
      "Requirement already satisfied: google-auth-oauthlib<1.1,>=0.5 in /home/felipe/miniconda3/lib/python3.10/site-packages (from tensorboard<2.13,>=2.12->tensorflow) (1.0.0)\r\n",
      "Requirement already satisfied: markdown>=2.6.8 in /home/felipe/miniconda3/lib/python3.10/site-packages (from tensorboard<2.13,>=2.12->tensorflow) (3.4.3)\r\n",
      "Requirement already satisfied: google-auth<3,>=1.6.3 in /home/felipe/miniconda3/lib/python3.10/site-packages (from tensorboard<2.13,>=2.12->tensorflow) (2.19.0)\r\n",
      "Requirement already satisfied: requests<3,>=2.21.0 in /home/felipe/miniconda3/lib/python3.10/site-packages (from tensorboard<2.13,>=2.12->tensorflow) (2.28.1)\r\n",
      "Requirement already satisfied: werkzeug>=1.0.1 in /home/felipe/miniconda3/lib/python3.10/site-packages (from tensorboard<2.13,>=2.12->tensorflow) (2.3.4)\r\n",
      "Requirement already satisfied: tensorboard-data-server<0.8.0,>=0.7.0 in /home/felipe/miniconda3/lib/python3.10/site-packages (from tensorboard<2.13,>=2.12->tensorflow) (0.7.0)\r\n",
      "Requirement already satisfied: pyasn1-modules>=0.2.1 in /home/felipe/miniconda3/lib/python3.10/site-packages (from google-auth<3,>=1.6.3->tensorboard<2.13,>=2.12->tensorflow) (0.2.7)\r\n",
      "Requirement already satisfied: rsa<5,>=3.1.4 in /home/felipe/miniconda3/lib/python3.10/site-packages (from google-auth<3,>=1.6.3->tensorboard<2.13,>=2.12->tensorflow) (4.9)\r\n",
      "Requirement already satisfied: urllib3<2.0 in /home/felipe/miniconda3/lib/python3.10/site-packages (from google-auth<3,>=1.6.3->tensorboard<2.13,>=2.12->tensorflow) (1.26.15)\r\n",
      "Requirement already satisfied: cachetools<6.0,>=2.0.0 in /home/felipe/miniconda3/lib/python3.10/site-packages (from google-auth<3,>=1.6.3->tensorboard<2.13,>=2.12->tensorflow) (5.3.0)\r\n",
      "Requirement already satisfied: requests-oauthlib>=0.7.0 in /home/felipe/miniconda3/lib/python3.10/site-packages (from google-auth-oauthlib<1.1,>=0.5->tensorboard<2.13,>=2.12->tensorflow) (1.3.1)\r\n",
      "Requirement already satisfied: certifi>=2017.4.17 in /home/felipe/miniconda3/lib/python3.10/site-packages (from requests<3,>=2.21.0->tensorboard<2.13,>=2.12->tensorflow) (2023.5.7)\r\n",
      "Requirement already satisfied: idna<4,>=2.5 in /home/felipe/miniconda3/lib/python3.10/site-packages (from requests<3,>=2.21.0->tensorboard<2.13,>=2.12->tensorflow) (3.4)\r\n",
      "Requirement already satisfied: charset-normalizer<3,>=2 in /home/felipe/miniconda3/lib/python3.10/site-packages (from requests<3,>=2.21.0->tensorboard<2.13,>=2.12->tensorflow) (2.0.4)\r\n",
      "Requirement already satisfied: MarkupSafe>=2.1.1 in /home/felipe/miniconda3/lib/python3.10/site-packages (from werkzeug>=1.0.1->tensorboard<2.13,>=2.12->tensorflow) (2.1.1)\r\n",
      "Requirement already satisfied: pyasn1<0.5.0,>=0.4.6 in /home/felipe/miniconda3/lib/python3.10/site-packages (from pyasn1-modules>=0.2.1->google-auth<3,>=1.6.3->tensorboard<2.13,>=2.12->tensorflow) (0.4.8)\r\n",
      "Requirement already satisfied: oauthlib>=3.0.0 in /home/felipe/miniconda3/lib/python3.10/site-packages (from requests-oauthlib>=0.7.0->google-auth-oauthlib<1.1,>=0.5->tensorboard<2.13,>=2.12->tensorflow) (3.2.2)\r\n",
      "Note: you may need to restart the kernel to use updated packages.\n"
     ]
    }
   ],
   "source": [
    "# pip install tensorflow"
   ]
  },
  {
   "cell_type": "code",
   "execution_count": 1,
   "metadata": {
    "execution": {
     "iopub.execute_input": "2023-06-06T14:24:35.051818Z",
     "iopub.status.busy": "2023-06-06T14:24:35.051453Z",
     "iopub.status.idle": "2023-06-06T14:24:48.181360Z",
     "shell.execute_reply": "2023-06-06T14:24:48.180275Z"
    }
   },
   "outputs": [
    {
     "name": "stderr",
     "output_type": "stream",
     "text": [
      "2023-06-06 14:33:06.682818: I tensorflow/tsl/cuda/cudart_stub.cc:28] Could not find cuda drivers on your machine, GPU will not be used.\n",
      "2023-06-06 14:33:06.765806: I tensorflow/tsl/cuda/cudart_stub.cc:28] Could not find cuda drivers on your machine, GPU will not be used.\n",
      "2023-06-06 14:33:06.766728: I tensorflow/core/platform/cpu_feature_guard.cc:182] This TensorFlow binary is optimized to use available CPU instructions in performance-critical operations.\n",
      "To enable the following instructions: AVX2 FMA, in other operations, rebuild TensorFlow with the appropriate compiler flags.\n",
      "2023-06-06 14:33:08.711337: W tensorflow/compiler/tf2tensorrt/utils/py_utils.cc:38] TF-TRT Warning: Could not find TensorRT\n"
     ]
    }
   ],
   "source": [
    "# Libraries\n",
    "\n",
    "import os\n",
    "import tensorflow as tf\n",
    "from tensorflow.keras.preprocessing.text import Tokenizer\n",
    "import json"
   ]
  },
  {
   "attachments": {},
   "cell_type": "markdown",
   "metadata": {},
   "source": [
    "Quando falamos de aprendizado Processamento de Linguagem Natual (NLP) diversos tratamentos devem ser feitos para facilitar o entendimento do texto\n",
    "para um modelo de Machine Learning. Um desses tratamentos por exemplo é o Tokenalization, em que realizamos o encoding da Frase. Dessa forma, por exemplo:\n",
    "\n",
    "a frase,\n",
    "\n",
    "I love my dog -> pode ser processada como [001, 002, 003, 004]\n",
    "\n",
    "e a frase,\n",
    "\n",
    "I love my cat -> pode ser processada como [001, 002, 003, 005]\n",
    "\n",
    "Notem, que essas duas sequencias são muito parecidas, retirando a ultima palavra no final da frase. Dado esse método de realizar o ecoding de frases em numeros,\n",
    "vamos ver alguns codigos que podem atingir esse objetivo para nos.\n",
    "\n",
    "Este é um exemplo bem simples de um tratamento anterior ao modelo. Vamos tentar realizar um codigo que realize esse tratamento e fazer o deploy via docker."
   ]
  },
  {
   "cell_type": "code",
   "execution_count": 16,
   "metadata": {},
   "outputs": [],
   "source": [
    "phrases = [\"I love my dog\", \"I love my cat\", \"You love my dog\"]"
   ]
  },
  {
   "cell_type": "code",
   "execution_count": 35,
   "metadata": {},
   "outputs": [],
   "source": [
    "tokenizer = Tokenizer(num_words=100)\n",
    "\n",
    "tokenizer.fit_on_texts(phrases)\n",
    "\n",
    "word_index = tokenizer.word_index"
   ]
  },
  {
   "cell_type": "code",
   "execution_count": 41,
   "metadata": {},
   "outputs": [],
   "source": [
    "path = \"/home/felipe/machine_learning_projects/docker/NLP/test.json\"\n",
    "\n",
    "with open(path, \"w\") as f:\n",
    "    json.dump(word_index, f)"
   ]
  },
  {
   "cell_type": "code",
   "execution_count": 42,
   "metadata": {},
   "outputs": [],
   "source": [
    "os.remove(path)"
   ]
  },
  {
   "cell_type": "code",
   "execution_count": null,
   "metadata": {},
   "outputs": [],
   "source": []
  }
 ],
 "metadata": {
  "kernelspec": {
   "display_name": ".venv",
   "language": "python",
   "name": "python3"
  },
  "language_info": {
   "codemirror_mode": {
    "name": "ipython",
    "version": 3
   },
   "file_extension": ".py",
   "mimetype": "text/x-python",
   "name": "python",
   "nbconvert_exporter": "python",
   "pygments_lexer": "ipython3",
   "version": "3.10.10"
  }
 },
 "nbformat": 4,
 "nbformat_minor": 2
}
