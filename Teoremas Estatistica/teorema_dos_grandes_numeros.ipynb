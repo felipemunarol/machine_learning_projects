{
 "cells": [
  {
   "cell_type": "code",
   "execution_count": null,
   "metadata": {},
   "outputs": [],
   "source": [
    "## lei dos grandes números: Quanto maior o numero de amostras mais ela tende para o valor esperado E(x) ou seja para probabilidade teórica"
   ]
  },
  {
   "cell_type": "code",
   "execution_count": 21,
   "metadata": {},
   "outputs": [],
   "source": [
    "import pandas as pd\n",
    "import numpy as np\n",
    "import matplotlib.pyplot as plt\n",
    "\n",
    "import random"
   ]
  },
  {
   "cell_type": "code",
   "execution_count": 97,
   "metadata": {},
   "outputs": [],
   "source": [
    "def grandes_numero_absoluto_hist(x, n):\n",
    "    \"\"\"x variavel aleatoria, n numero de eventos\"\"\"\n",
    "    results = []\n",
    "\n",
    "    for i in range(1, n):\n",
    "        results.append(random.choice(x))\n",
    "\n",
    "    plt.hist(results)\n",
    "    plt.ylabel('absolute results')"
   ]
  },
  {
   "cell_type": "code",
   "execution_count": 105,
   "metadata": {},
   "outputs": [],
   "source": [
    "def grandes_numero_percentaem_bar(x, n):\n",
    "    \"\"\"x variavel aleatoria, n numero de eventos\"\"\"\n",
    "    results = []\n",
    "\n",
    "    for i in range(1, n):\n",
    "        results.append(random.choice(x))\n",
    "\n",
    "    unique, counts = np.unique(results, return_counts=True)\n",
    "\n",
    "    unique = np.array(unique)\n",
    "    unique = unique.astype('str')\n",
    "    counts = (counts/len(results)) * 100\n",
    "    \n",
    "    print(counts)\n",
    "    plt.bar(unique, counts)\n",
    "    plt.ylabel('percent results')"
   ]
  },
  {
   "cell_type": "code",
   "execution_count": 99,
   "metadata": {},
   "outputs": [],
   "source": [
    "x = np.concatenate((np.repeat(1, 4), np.repeat(0, 4)), axis=None) "
   ]
  },
  {
   "cell_type": "code",
   "execution_count": 100,
   "metadata": {},
   "outputs": [
    {
     "data": {
      "image/png": "[encoded data removed]",
      "text/plain": [
       "<Figure size 432x288 with 1 Axes>"
      ]
     },
     "metadata": {
      "needs_background": "light"
     },
     "output_type": "display_data"
    }
   ],
   "source": [
    "grandes_numero_absoluto_hist(x, 100)"
   ]
  },
  {
   "cell_type": "code",
   "execution_count": 108,
   "metadata": {},
   "outputs": [
    {
     "name": "stdout",
     "output_type": "stream",
     "text": [
      "[48.64864865 51.35135135]\n"
     ]
    },
    {
     "data": {
      "image/png": "[encoded data removed]",
      "text/plain": [
       "<Figure size 432x288 with 1 Axes>"
      ]
     },
     "metadata": {
      "needs_background": "light"
     },
     "output_type": "display_data"
    }
   ],
   "source": [
    "grandes_numero_percentaem_bar(x, 1000)"
   ]
  },
  {
   "cell_type": "code",
   "execution_count": null,
   "metadata": {},
   "outputs": [],
   "source": []
  }
 ],
 "metadata": {
  "kernelspec": {
   "display_name": "Python 3",
   "language": "python",
   "name": "python3"
  },
  "language_info": {
   "codemirror_mode": {
    "name": "ipython",
    "version": 3
   },
   "file_extension": ".py",
   "mimetype": "text/x-python",
   "name": "python",
   "nbconvert_exporter": "python",
   "pygments_lexer": "ipython3",
   "version": "3.7.4"
  }
 },
 "nbformat": 4,
 "nbformat_minor": 4
}
